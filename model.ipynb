{
 "cells": [
  {
   "cell_type": "code",
   "execution_count": 3,
   "metadata": {},
   "outputs": [],
   "source": [
    "import pandas as pd \n",
    "import numpy as np\n",
    "import matplotlib as plt\n"
   ]
  },
  {
   "cell_type": "code",
   "execution_count": 4,
   "metadata": {},
   "outputs": [
    {
     "data": {
      "text/html": [
       "<div>\n",
       "<style scoped>\n",
       "    .dataframe tbody tr th:only-of-type {\n",
       "        vertical-align: middle;\n",
       "    }\n",
       "\n",
       "    .dataframe tbody tr th {\n",
       "        vertical-align: top;\n",
       "    }\n",
       "\n",
       "    .dataframe thead th {\n",
       "        text-align: right;\n",
       "    }\n",
       "</style>\n",
       "<table border=\"1\" class=\"dataframe\">\n",
       "  <thead>\n",
       "    <tr style=\"text-align: right;\">\n",
       "      <th></th>\n",
       "      <th>address</th>\n",
       "      <th>categories</th>\n",
       "      <th>city</th>\n",
       "      <th>country</th>\n",
       "      <th>latitude</th>\n",
       "      <th>longitude</th>\n",
       "      <th>name</th>\n",
       "      <th>postalCode</th>\n",
       "      <th>province</th>\n",
       "      <th>reviews.date</th>\n",
       "      <th>reviews.dateAdded</th>\n",
       "      <th>reviews.doRecommend</th>\n",
       "      <th>reviews.id</th>\n",
       "      <th>reviews.rating</th>\n",
       "      <th>reviews.text</th>\n",
       "      <th>reviews.title</th>\n",
       "      <th>reviews.userCity</th>\n",
       "      <th>reviews.username</th>\n",
       "      <th>reviews.userProvince</th>\n",
       "    </tr>\n",
       "  </thead>\n",
       "  <tbody>\n",
       "    <tr>\n",
       "      <th>0</th>\n",
       "      <td>Riviera San Nicol 11/a</td>\n",
       "      <td>Hotels</td>\n",
       "      <td>Mableton</td>\n",
       "      <td>US</td>\n",
       "      <td>45.421611</td>\n",
       "      <td>12.376187</td>\n",
       "      <td>Hotel Russo Palace</td>\n",
       "      <td>30126</td>\n",
       "      <td>GA</td>\n",
       "      <td>2013-09-22T00:00:00Z</td>\n",
       "      <td>2016-10-24T00:00:25Z</td>\n",
       "      <td>NaN</td>\n",
       "      <td>NaN</td>\n",
       "      <td>4.0</td>\n",
       "      <td>Pleasant 10 min walk along the sea front to th...</td>\n",
       "      <td>Good location away from the crouds</td>\n",
       "      <td>NaN</td>\n",
       "      <td>Russ (kent)</td>\n",
       "      <td>NaN</td>\n",
       "    </tr>\n",
       "    <tr>\n",
       "      <th>1</th>\n",
       "      <td>Riviera San Nicol 11/a</td>\n",
       "      <td>Hotels</td>\n",
       "      <td>Mableton</td>\n",
       "      <td>US</td>\n",
       "      <td>45.421611</td>\n",
       "      <td>12.376187</td>\n",
       "      <td>Hotel Russo Palace</td>\n",
       "      <td>30126</td>\n",
       "      <td>GA</td>\n",
       "      <td>2015-04-03T00:00:00Z</td>\n",
       "      <td>2016-10-24T00:00:25Z</td>\n",
       "      <td>NaN</td>\n",
       "      <td>NaN</td>\n",
       "      <td>5.0</td>\n",
       "      <td>Really lovely hotel. Stayed on the very top fl...</td>\n",
       "      <td>Great hotel with Jacuzzi bath!</td>\n",
       "      <td>NaN</td>\n",
       "      <td>A Traveler</td>\n",
       "      <td>NaN</td>\n",
       "    </tr>\n",
       "    <tr>\n",
       "      <th>2</th>\n",
       "      <td>Riviera San Nicol 11/a</td>\n",
       "      <td>Hotels</td>\n",
       "      <td>Mableton</td>\n",
       "      <td>US</td>\n",
       "      <td>45.421611</td>\n",
       "      <td>12.376187</td>\n",
       "      <td>Hotel Russo Palace</td>\n",
       "      <td>30126</td>\n",
       "      <td>GA</td>\n",
       "      <td>2014-05-13T00:00:00Z</td>\n",
       "      <td>2016-10-24T00:00:25Z</td>\n",
       "      <td>NaN</td>\n",
       "      <td>NaN</td>\n",
       "      <td>5.0</td>\n",
       "      <td>Ett mycket bra hotell. Det som drog ner betyge...</td>\n",
       "      <td>Lugnt l��ge</td>\n",
       "      <td>NaN</td>\n",
       "      <td>Maud</td>\n",
       "      <td>NaN</td>\n",
       "    </tr>\n",
       "    <tr>\n",
       "      <th>3</th>\n",
       "      <td>Riviera San Nicol 11/a</td>\n",
       "      <td>Hotels</td>\n",
       "      <td>Mableton</td>\n",
       "      <td>US</td>\n",
       "      <td>45.421611</td>\n",
       "      <td>12.376187</td>\n",
       "      <td>Hotel Russo Palace</td>\n",
       "      <td>30126</td>\n",
       "      <td>GA</td>\n",
       "      <td>2013-10-27T00:00:00Z</td>\n",
       "      <td>2016-10-24T00:00:25Z</td>\n",
       "      <td>NaN</td>\n",
       "      <td>NaN</td>\n",
       "      <td>5.0</td>\n",
       "      <td>We stayed here for four nights in October. The...</td>\n",
       "      <td>Good location on the Lido.</td>\n",
       "      <td>NaN</td>\n",
       "      <td>Julie</td>\n",
       "      <td>NaN</td>\n",
       "    </tr>\n",
       "    <tr>\n",
       "      <th>4</th>\n",
       "      <td>Riviera San Nicol 11/a</td>\n",
       "      <td>Hotels</td>\n",
       "      <td>Mableton</td>\n",
       "      <td>US</td>\n",
       "      <td>45.421611</td>\n",
       "      <td>12.376187</td>\n",
       "      <td>Hotel Russo Palace</td>\n",
       "      <td>30126</td>\n",
       "      <td>GA</td>\n",
       "      <td>2015-03-05T00:00:00Z</td>\n",
       "      <td>2016-10-24T00:00:25Z</td>\n",
       "      <td>NaN</td>\n",
       "      <td>NaN</td>\n",
       "      <td>5.0</td>\n",
       "      <td>We stayed here for four nights in October. The...</td>\n",
       "      <td>������ ���������������</td>\n",
       "      <td>NaN</td>\n",
       "      <td>sungchul</td>\n",
       "      <td>NaN</td>\n",
       "    </tr>\n",
       "    <tr>\n",
       "      <th>...</th>\n",
       "      <td>...</td>\n",
       "      <td>...</td>\n",
       "      <td>...</td>\n",
       "      <td>...</td>\n",
       "      <td>...</td>\n",
       "      <td>...</td>\n",
       "      <td>...</td>\n",
       "      <td>...</td>\n",
       "      <td>...</td>\n",
       "      <td>...</td>\n",
       "      <td>...</td>\n",
       "      <td>...</td>\n",
       "      <td>...</td>\n",
       "      <td>...</td>\n",
       "      <td>...</td>\n",
       "      <td>...</td>\n",
       "      <td>...</td>\n",
       "      <td>...</td>\n",
       "      <td>...</td>\n",
       "    </tr>\n",
       "    <tr>\n",
       "      <th>35907</th>\n",
       "      <td>1088 Powdermill Rd</td>\n",
       "      <td>Cabins,Resorts &amp; Vacation Cottages,Wedding Cha...</td>\n",
       "      <td>Gatlinburg</td>\n",
       "      <td>US</td>\n",
       "      <td>35.754868</td>\n",
       "      <td>-83.457295</td>\n",
       "      <td>Elk Springs Resort</td>\n",
       "      <td>37738</td>\n",
       "      <td>TN</td>\n",
       "      <td>2012-03-20T00:00:00Z</td>\n",
       "      <td>2016-06-23T16:50:58Z</td>\n",
       "      <td>NaN</td>\n",
       "      <td>NaN</td>\n",
       "      <td>5.0</td>\n",
       "      <td>Best of the Best!!!! My family and I stayed in...</td>\n",
       "      <td>Amazing time (both times!!)</td>\n",
       "      <td>Charlotte</td>\n",
       "      <td>Chelsa K.</td>\n",
       "      <td>NC</td>\n",
       "    </tr>\n",
       "    <tr>\n",
       "      <th>35908</th>\n",
       "      <td>1088 Powdermill Rd</td>\n",
       "      <td>Cabins,Resorts &amp; Vacation Cottages,Wedding Cha...</td>\n",
       "      <td>Gatlinburg</td>\n",
       "      <td>US</td>\n",
       "      <td>35.754868</td>\n",
       "      <td>-83.457295</td>\n",
       "      <td>Elk Springs Resort</td>\n",
       "      <td>37738</td>\n",
       "      <td>TN</td>\n",
       "      <td>2012-03-12T00:00:00Z</td>\n",
       "      <td>2016-06-23T16:50:58Z</td>\n",
       "      <td>NaN</td>\n",
       "      <td>NaN</td>\n",
       "      <td>5.0</td>\n",
       "      <td>Amazing Vacation in Beautiful Cabin We stayed ...</td>\n",
       "      <td>Amazing time (both times!!)</td>\n",
       "      <td>Charlotte</td>\n",
       "      <td>Heather D.</td>\n",
       "      <td>NC</td>\n",
       "    </tr>\n",
       "    <tr>\n",
       "      <th>35909</th>\n",
       "      <td>1088 Powdermill Rd</td>\n",
       "      <td>Cabins,Resorts &amp; Vacation Cottages,Wedding Cha...</td>\n",
       "      <td>Gatlinburg</td>\n",
       "      <td>US</td>\n",
       "      <td>35.754868</td>\n",
       "      <td>-83.457295</td>\n",
       "      <td>Elk Springs Resort</td>\n",
       "      <td>37738</td>\n",
       "      <td>TN</td>\n",
       "      <td>2015-11-03T00:00:00Z</td>\n",
       "      <td>2016-06-23T16:50:58Z</td>\n",
       "      <td>NaN</td>\n",
       "      <td>NaN</td>\n",
       "      <td>5.0</td>\n",
       "      <td>My husband and I stayed at Tree Tops which is ...</td>\n",
       "      <td>Amazing time (both times!!)</td>\n",
       "      <td>Charlotte</td>\n",
       "      <td>Carol W.</td>\n",
       "      <td>NC</td>\n",
       "    </tr>\n",
       "    <tr>\n",
       "      <th>35910</th>\n",
       "      <td>3747 29th St S E</td>\n",
       "      <td>Hotels-Apartment,Corporate Lodging,Hotels,Lodging</td>\n",
       "      <td>Grand Rapids</td>\n",
       "      <td>US</td>\n",
       "      <td>42.909480</td>\n",
       "      <td>-85.573590</td>\n",
       "      <td>Extended Stay America Grand Rapids - Kentwood</td>\n",
       "      <td>49512</td>\n",
       "      <td>MI</td>\n",
       "      <td>NaN</td>\n",
       "      <td>2015-12-01T19:40:54Z</td>\n",
       "      <td>NaN</td>\n",
       "      <td>NaN</td>\n",
       "      <td>0.0</td>\n",
       "      <td>to share your opinion of this businesswith YP ...</td>\n",
       "      <td>NaN</td>\n",
       "      <td>NaN</td>\n",
       "      <td>write a review</td>\n",
       "      <td>NaN</td>\n",
       "    </tr>\n",
       "    <tr>\n",
       "      <th>35911</th>\n",
       "      <td>3747 29th St S E</td>\n",
       "      <td>Hotels-Apartment,Corporate Lodging,Hotels,Lodging</td>\n",
       "      <td>Grand Rapids</td>\n",
       "      <td>US</td>\n",
       "      <td>42.909480</td>\n",
       "      <td>-85.573590</td>\n",
       "      <td>Extended Stay America Grand Rapids - Kentwood</td>\n",
       "      <td>49512</td>\n",
       "      <td>MI</td>\n",
       "      <td>NaN</td>\n",
       "      <td>2015-12-01T19:40:54Z</td>\n",
       "      <td>NaN</td>\n",
       "      <td>NaN</td>\n",
       "      <td>0.0</td>\n",
       "      <td>xxxxxxxxxxxxxxxxxxxxxxxxxxxxxxxxxxxxxxxxxx</td>\n",
       "      <td>NaN</td>\n",
       "      <td>NaN</td>\n",
       "      <td>xxxxxxxxxxxxxx</td>\n",
       "      <td>NaN</td>\n",
       "    </tr>\n",
       "  </tbody>\n",
       "</table>\n",
       "<p>35912 rows × 19 columns</p>\n",
       "</div>"
      ],
      "text/plain": [
       "                      address  \\\n",
       "0      Riviera San Nicol 11/a   \n",
       "1      Riviera San Nicol 11/a   \n",
       "2      Riviera San Nicol 11/a   \n",
       "3      Riviera San Nicol 11/a   \n",
       "4      Riviera San Nicol 11/a   \n",
       "...                       ...   \n",
       "35907      1088 Powdermill Rd   \n",
       "35908      1088 Powdermill Rd   \n",
       "35909      1088 Powdermill Rd   \n",
       "35910        3747 29th St S E   \n",
       "35911        3747 29th St S E   \n",
       "\n",
       "                                              categories          city  \\\n",
       "0                                                 Hotels      Mableton   \n",
       "1                                                 Hotels      Mableton   \n",
       "2                                                 Hotels      Mableton   \n",
       "3                                                 Hotels      Mableton   \n",
       "4                                                 Hotels      Mableton   \n",
       "...                                                  ...           ...   \n",
       "35907  Cabins,Resorts & Vacation Cottages,Wedding Cha...    Gatlinburg   \n",
       "35908  Cabins,Resorts & Vacation Cottages,Wedding Cha...    Gatlinburg   \n",
       "35909  Cabins,Resorts & Vacation Cottages,Wedding Cha...    Gatlinburg   \n",
       "35910  Hotels-Apartment,Corporate Lodging,Hotels,Lodging  Grand Rapids   \n",
       "35911  Hotels-Apartment,Corporate Lodging,Hotels,Lodging  Grand Rapids   \n",
       "\n",
       "      country   latitude  longitude  \\\n",
       "0          US  45.421611  12.376187   \n",
       "1          US  45.421611  12.376187   \n",
       "2          US  45.421611  12.376187   \n",
       "3          US  45.421611  12.376187   \n",
       "4          US  45.421611  12.376187   \n",
       "...       ...        ...        ...   \n",
       "35907      US  35.754868 -83.457295   \n",
       "35908      US  35.754868 -83.457295   \n",
       "35909      US  35.754868 -83.457295   \n",
       "35910      US  42.909480 -85.573590   \n",
       "35911      US  42.909480 -85.573590   \n",
       "\n",
       "                                                name postalCode province  \\\n",
       "0                                 Hotel Russo Palace      30126       GA   \n",
       "1                                 Hotel Russo Palace      30126       GA   \n",
       "2                                 Hotel Russo Palace      30126       GA   \n",
       "3                                 Hotel Russo Palace      30126       GA   \n",
       "4                                 Hotel Russo Palace      30126       GA   \n",
       "...                                              ...        ...      ...   \n",
       "35907                             Elk Springs Resort      37738       TN   \n",
       "35908                             Elk Springs Resort      37738       TN   \n",
       "35909                             Elk Springs Resort      37738       TN   \n",
       "35910  Extended Stay America Grand Rapids - Kentwood      49512       MI   \n",
       "35911  Extended Stay America Grand Rapids - Kentwood      49512       MI   \n",
       "\n",
       "               reviews.date     reviews.dateAdded  reviews.doRecommend  \\\n",
       "0      2013-09-22T00:00:00Z  2016-10-24T00:00:25Z                  NaN   \n",
       "1      2015-04-03T00:00:00Z  2016-10-24T00:00:25Z                  NaN   \n",
       "2      2014-05-13T00:00:00Z  2016-10-24T00:00:25Z                  NaN   \n",
       "3      2013-10-27T00:00:00Z  2016-10-24T00:00:25Z                  NaN   \n",
       "4      2015-03-05T00:00:00Z  2016-10-24T00:00:25Z                  NaN   \n",
       "...                     ...                   ...                  ...   \n",
       "35907  2012-03-20T00:00:00Z  2016-06-23T16:50:58Z                  NaN   \n",
       "35908  2012-03-12T00:00:00Z  2016-06-23T16:50:58Z                  NaN   \n",
       "35909  2015-11-03T00:00:00Z  2016-06-23T16:50:58Z                  NaN   \n",
       "35910                   NaN  2015-12-01T19:40:54Z                  NaN   \n",
       "35911                   NaN  2015-12-01T19:40:54Z                  NaN   \n",
       "\n",
       "       reviews.id  reviews.rating  \\\n",
       "0             NaN             4.0   \n",
       "1             NaN             5.0   \n",
       "2             NaN             5.0   \n",
       "3             NaN             5.0   \n",
       "4             NaN             5.0   \n",
       "...           ...             ...   \n",
       "35907         NaN             5.0   \n",
       "35908         NaN             5.0   \n",
       "35909         NaN             5.0   \n",
       "35910         NaN             0.0   \n",
       "35911         NaN             0.0   \n",
       "\n",
       "                                            reviews.text  \\\n",
       "0      Pleasant 10 min walk along the sea front to th...   \n",
       "1      Really lovely hotel. Stayed on the very top fl...   \n",
       "2      Ett mycket bra hotell. Det som drog ner betyge...   \n",
       "3      We stayed here for four nights in October. The...   \n",
       "4      We stayed here for four nights in October. The...   \n",
       "...                                                  ...   \n",
       "35907  Best of the Best!!!! My family and I stayed in...   \n",
       "35908  Amazing Vacation in Beautiful Cabin We stayed ...   \n",
       "35909  My husband and I stayed at Tree Tops which is ...   \n",
       "35910  to share your opinion of this businesswith YP ...   \n",
       "35911         xxxxxxxxxxxxxxxxxxxxxxxxxxxxxxxxxxxxxxxxxx   \n",
       "\n",
       "                            reviews.title reviews.userCity reviews.username  \\\n",
       "0      Good location away from the crouds              NaN      Russ (kent)   \n",
       "1          Great hotel with Jacuzzi bath!              NaN       A Traveler   \n",
       "2                             Lugnt l��ge              NaN             Maud   \n",
       "3              Good location on the Lido.              NaN            Julie   \n",
       "4                  ������ ���������������              NaN         sungchul   \n",
       "...                                   ...              ...              ...   \n",
       "35907         Amazing time (both times!!)        Charlotte        Chelsa K.   \n",
       "35908         Amazing time (both times!!)        Charlotte       Heather D.   \n",
       "35909         Amazing time (both times!!)        Charlotte         Carol W.   \n",
       "35910                                 NaN              NaN   write a review   \n",
       "35911                                 NaN              NaN   xxxxxxxxxxxxxx   \n",
       "\n",
       "      reviews.userProvince  \n",
       "0                      NaN  \n",
       "1                      NaN  \n",
       "2                      NaN  \n",
       "3                      NaN  \n",
       "4                      NaN  \n",
       "...                    ...  \n",
       "35907                   NC  \n",
       "35908                   NC  \n",
       "35909                   NC  \n",
       "35910                  NaN  \n",
       "35911                  NaN  \n",
       "\n",
       "[35912 rows x 19 columns]"
      ]
     },
     "execution_count": 4,
     "metadata": {},
     "output_type": "execute_result"
    }
   ],
   "source": [
    "dataset = pd.read_csv('./dataset.csv')\n",
    "dataset"
   ]
  },
  {
   "cell_type": "code",
   "execution_count": 12,
   "metadata": {},
   "outputs": [
    {
     "data": {
      "text/plain": [
       "address                 35912\n",
       "categories              35912\n",
       "city                    35912\n",
       "country                 35912\n",
       "latitude                35826\n",
       "longitude               35826\n",
       "name                    35912\n",
       "postalCode              35857\n",
       "province                35912\n",
       "reviews.date            35653\n",
       "reviews.dateAdded       35912\n",
       "reviews.doRecommend         0\n",
       "reviews.id                  0\n",
       "reviews.rating          35050\n",
       "reviews.text            35890\n",
       "reviews.title           34290\n",
       "reviews.userCity        16263\n",
       "reviews.username        35869\n",
       "reviews.userProvince    17518\n",
       "dtype: int64"
      ]
     },
     "execution_count": 12,
     "metadata": {},
     "output_type": "execute_result"
    }
   ],
   "source": [
    "dataset.count()"
   ]
  },
  {
   "cell_type": "code",
   "execution_count": 5,
   "metadata": {},
   "outputs": [
    {
     "data": {
      "text/html": [
       "<div>\n",
       "<style scoped>\n",
       "    .dataframe tbody tr th:only-of-type {\n",
       "        vertical-align: middle;\n",
       "    }\n",
       "\n",
       "    .dataframe tbody tr th {\n",
       "        vertical-align: top;\n",
       "    }\n",
       "\n",
       "    .dataframe thead th {\n",
       "        text-align: right;\n",
       "    }\n",
       "</style>\n",
       "<table border=\"1\" class=\"dataframe\">\n",
       "  <thead>\n",
       "    <tr style=\"text-align: right;\">\n",
       "      <th></th>\n",
       "      <th>address</th>\n",
       "      <th>categories</th>\n",
       "      <th>city</th>\n",
       "      <th>country</th>\n",
       "      <th>latitude</th>\n",
       "      <th>longitude</th>\n",
       "      <th>name</th>\n",
       "      <th>postalCode</th>\n",
       "      <th>province</th>\n",
       "      <th>reviews.date</th>\n",
       "      <th>reviews.dateAdded</th>\n",
       "      <th>reviews.doRecommend</th>\n",
       "      <th>reviews.id</th>\n",
       "      <th>reviews.rating</th>\n",
       "      <th>reviews.text</th>\n",
       "      <th>reviews.title</th>\n",
       "      <th>reviews.userCity</th>\n",
       "      <th>reviews.username</th>\n",
       "      <th>reviews.userProvince</th>\n",
       "    </tr>\n",
       "  </thead>\n",
       "  <tbody>\n",
       "    <tr>\n",
       "      <th>0</th>\n",
       "      <td>Riviera San Nicol 11/a</td>\n",
       "      <td>Hotels</td>\n",
       "      <td>Mableton</td>\n",
       "      <td>US</td>\n",
       "      <td>45.421611</td>\n",
       "      <td>12.376187</td>\n",
       "      <td>Hotel Russo Palace</td>\n",
       "      <td>30126</td>\n",
       "      <td>GA</td>\n",
       "      <td>2013-09-22T00:00:00Z</td>\n",
       "      <td>2016-10-24T00:00:25Z</td>\n",
       "      <td>NaN</td>\n",
       "      <td>NaN</td>\n",
       "      <td>4.0</td>\n",
       "      <td>Pleasant 10 min walk along the sea front to th...</td>\n",
       "      <td>Good location away from the crouds</td>\n",
       "      <td>NaN</td>\n",
       "      <td>Russ (kent)</td>\n",
       "      <td>NaN</td>\n",
       "    </tr>\n",
       "    <tr>\n",
       "      <th>1</th>\n",
       "      <td>Riviera San Nicol 11/a</td>\n",
       "      <td>Hotels</td>\n",
       "      <td>Mableton</td>\n",
       "      <td>US</td>\n",
       "      <td>45.421611</td>\n",
       "      <td>12.376187</td>\n",
       "      <td>Hotel Russo Palace</td>\n",
       "      <td>30126</td>\n",
       "      <td>GA</td>\n",
       "      <td>2015-04-03T00:00:00Z</td>\n",
       "      <td>2016-10-24T00:00:25Z</td>\n",
       "      <td>NaN</td>\n",
       "      <td>NaN</td>\n",
       "      <td>5.0</td>\n",
       "      <td>Really lovely hotel. Stayed on the very top fl...</td>\n",
       "      <td>Great hotel with Jacuzzi bath!</td>\n",
       "      <td>NaN</td>\n",
       "      <td>A Traveler</td>\n",
       "      <td>NaN</td>\n",
       "    </tr>\n",
       "    <tr>\n",
       "      <th>2</th>\n",
       "      <td>Riviera San Nicol 11/a</td>\n",
       "      <td>Hotels</td>\n",
       "      <td>Mableton</td>\n",
       "      <td>US</td>\n",
       "      <td>45.421611</td>\n",
       "      <td>12.376187</td>\n",
       "      <td>Hotel Russo Palace</td>\n",
       "      <td>30126</td>\n",
       "      <td>GA</td>\n",
       "      <td>2014-05-13T00:00:00Z</td>\n",
       "      <td>2016-10-24T00:00:25Z</td>\n",
       "      <td>NaN</td>\n",
       "      <td>NaN</td>\n",
       "      <td>5.0</td>\n",
       "      <td>Ett mycket bra hotell. Det som drog ner betyge...</td>\n",
       "      <td>Lugnt l��ge</td>\n",
       "      <td>NaN</td>\n",
       "      <td>Maud</td>\n",
       "      <td>NaN</td>\n",
       "    </tr>\n",
       "    <tr>\n",
       "      <th>3</th>\n",
       "      <td>Riviera San Nicol 11/a</td>\n",
       "      <td>Hotels</td>\n",
       "      <td>Mableton</td>\n",
       "      <td>US</td>\n",
       "      <td>45.421611</td>\n",
       "      <td>12.376187</td>\n",
       "      <td>Hotel Russo Palace</td>\n",
       "      <td>30126</td>\n",
       "      <td>GA</td>\n",
       "      <td>2013-10-27T00:00:00Z</td>\n",
       "      <td>2016-10-24T00:00:25Z</td>\n",
       "      <td>NaN</td>\n",
       "      <td>NaN</td>\n",
       "      <td>5.0</td>\n",
       "      <td>We stayed here for four nights in October. The...</td>\n",
       "      <td>Good location on the Lido.</td>\n",
       "      <td>NaN</td>\n",
       "      <td>Julie</td>\n",
       "      <td>NaN</td>\n",
       "    </tr>\n",
       "    <tr>\n",
       "      <th>4</th>\n",
       "      <td>Riviera San Nicol 11/a</td>\n",
       "      <td>Hotels</td>\n",
       "      <td>Mableton</td>\n",
       "      <td>US</td>\n",
       "      <td>45.421611</td>\n",
       "      <td>12.376187</td>\n",
       "      <td>Hotel Russo Palace</td>\n",
       "      <td>30126</td>\n",
       "      <td>GA</td>\n",
       "      <td>2015-03-05T00:00:00Z</td>\n",
       "      <td>2016-10-24T00:00:25Z</td>\n",
       "      <td>NaN</td>\n",
       "      <td>NaN</td>\n",
       "      <td>5.0</td>\n",
       "      <td>We stayed here for four nights in October. The...</td>\n",
       "      <td>������ ���������������</td>\n",
       "      <td>NaN</td>\n",
       "      <td>sungchul</td>\n",
       "      <td>NaN</td>\n",
       "    </tr>\n",
       "  </tbody>\n",
       "</table>\n",
       "</div>"
      ],
      "text/plain": [
       "                  address categories      city country   latitude  longitude  \\\n",
       "0  Riviera San Nicol 11/a     Hotels  Mableton      US  45.421611  12.376187   \n",
       "1  Riviera San Nicol 11/a     Hotels  Mableton      US  45.421611  12.376187   \n",
       "2  Riviera San Nicol 11/a     Hotels  Mableton      US  45.421611  12.376187   \n",
       "3  Riviera San Nicol 11/a     Hotels  Mableton      US  45.421611  12.376187   \n",
       "4  Riviera San Nicol 11/a     Hotels  Mableton      US  45.421611  12.376187   \n",
       "\n",
       "                 name postalCode province          reviews.date  \\\n",
       "0  Hotel Russo Palace      30126       GA  2013-09-22T00:00:00Z   \n",
       "1  Hotel Russo Palace      30126       GA  2015-04-03T00:00:00Z   \n",
       "2  Hotel Russo Palace      30126       GA  2014-05-13T00:00:00Z   \n",
       "3  Hotel Russo Palace      30126       GA  2013-10-27T00:00:00Z   \n",
       "4  Hotel Russo Palace      30126       GA  2015-03-05T00:00:00Z   \n",
       "\n",
       "      reviews.dateAdded  reviews.doRecommend  reviews.id  reviews.rating  \\\n",
       "0  2016-10-24T00:00:25Z                  NaN         NaN             4.0   \n",
       "1  2016-10-24T00:00:25Z                  NaN         NaN             5.0   \n",
       "2  2016-10-24T00:00:25Z                  NaN         NaN             5.0   \n",
       "3  2016-10-24T00:00:25Z                  NaN         NaN             5.0   \n",
       "4  2016-10-24T00:00:25Z                  NaN         NaN             5.0   \n",
       "\n",
       "                                        reviews.text  \\\n",
       "0  Pleasant 10 min walk along the sea front to th...   \n",
       "1  Really lovely hotel. Stayed on the very top fl...   \n",
       "2  Ett mycket bra hotell. Det som drog ner betyge...   \n",
       "3  We stayed here for four nights in October. The...   \n",
       "4  We stayed here for four nights in October. The...   \n",
       "\n",
       "                        reviews.title reviews.userCity reviews.username  \\\n",
       "0  Good location away from the crouds              NaN      Russ (kent)   \n",
       "1      Great hotel with Jacuzzi bath!              NaN       A Traveler   \n",
       "2                         Lugnt l��ge              NaN             Maud   \n",
       "3          Good location on the Lido.              NaN            Julie   \n",
       "4              ������ ���������������              NaN         sungchul   \n",
       "\n",
       "  reviews.userProvince  \n",
       "0                  NaN  \n",
       "1                  NaN  \n",
       "2                  NaN  \n",
       "3                  NaN  \n",
       "4                  NaN  "
      ]
     },
     "execution_count": 5,
     "metadata": {},
     "output_type": "execute_result"
    }
   ],
   "source": [
    "dataset = dataset[dataset[\"categories\"] == \"Hotels\"]\n",
    "dataset.head(5)"
   ]
  },
  {
   "cell_type": "code",
   "execution_count": 18,
   "metadata": {},
   "outputs": [
    {
     "data": {
      "text/plain": [
       "address                 21420\n",
       "categories              21420\n",
       "city                    21420\n",
       "country                 21420\n",
       "latitude                21386\n",
       "longitude               21386\n",
       "name                    21420\n",
       "postalCode              21365\n",
       "province                21420\n",
       "reviews.date            21395\n",
       "reviews.dateAdded       21420\n",
       "reviews.doRecommend         0\n",
       "reviews.id                  0\n",
       "reviews.rating          21370\n",
       "reviews.text            21404\n",
       "reviews.title           21229\n",
       "reviews.userCity         7453\n",
       "reviews.username        21395\n",
       "reviews.userProvince     7883\n",
       "dtype: int64"
      ]
     },
     "execution_count": 18,
     "metadata": {},
     "output_type": "execute_result"
    }
   ],
   "source": [
    "dataset.count()"
   ]
  },
  {
   "cell_type": "code",
   "execution_count": 15,
   "metadata": {},
   "outputs": [],
   "source": [
    "from ibm_watson import NaturalLanguageUnderstandingV1\n",
    "from ibm_cloud_sdk_core.authenticators import IAMAuthenticator\n",
    "from ibm_watson.natural_language_understanding_v1 import Features, EntitiesOptions, KeywordsOptions, EmotionOptions\n",
    "from ibm_watson import LanguageTranslatorV3\n",
    "import json\n",
    "from tqdm import tqdm\n"
   ]
  },
  {
   "cell_type": "code",
   "execution_count": 16,
   "metadata": {},
   "outputs": [],
   "source": [
    "authenticator = IAMAuthenticator('-EezdXpsaemDCHBAoaYygFsk8UfRmoZnQmGbrRtC6lHB')\n",
    "\n",
    "language_translator = LanguageTranslatorV3(\n",
    "    version='2018-05-01',\n",
    "    authenticator=authenticator\n",
    ")\n",
    "\n",
    "language_translator.set_service_url('https://api.au-syd.language-translator.watson.cloud.ibm.com')\n",
    "\n",
    "\n",
    "\n",
    "authenticator = IAMAuthenticator('g0RZyycUPRAQfk2jML1n8scIQISOYIP6AfABlJYEb2JC')\n",
    "natural_language_understanding = NaturalLanguageUnderstandingV1(\n",
    "    version='2021-03-25',\n",
    "    authenticator=authenticator\n",
    ")\n",
    "\n",
    "natural_language_understanding.set_service_url('https://api.au-syd.natural-language-understanding.watson.cloud.ibm.com')\n",
    "# natural_language_understanding.set_disable_ssl_verification(True)"
   ]
  },
  {
   "cell_type": "code",
   "execution_count": 17,
   "metadata": {},
   "outputs": [],
   "source": [
    "def get_single_emotion(text):\n",
    "    response = natural_language_understanding.analyze(\n",
    "        text=text,\n",
    "        features=Features(emotion=EmotionOptions(document=True))).get_result()\n",
    "\n",
    "    emotion = response[\"emotion\"][\"document\"][\"emotion\"]\n",
    "    return emotion\n",
    "\n",
    "def get_transelation(text):\n",
    "    resposne = language_translator.translate(text= text, target='en').get_result()\n",
    "\n",
    "    translation = resposne[\"translations\"][0]['translation']\n",
    "    return translation"
   ]
  },
  {
   "cell_type": "code",
   "execution_count": 18,
   "metadata": {},
   "outputs": [
    {
     "name": "stderr",
     "output_type": "stream",
     "text": [
      "  0%|          | 0/299 [00:00<?, ?it/s]"
     ]
    },
    {
     "name": "stdout",
     "output_type": "stream",
     "text": [
      "error:  Error: unsupported text language: sv, Code: 400 , X-global-transaction-id: 7b800850-2120-4151-a0e5-6f42b5895db1\n",
      "try transelate\n",
      "error:  Error: unsupported text language: it, Code: 400 , X-global-transaction-id: 375ff300-24d3-45da-a38c-e54e5ff03e17\n",
      "try transelate\n",
      "error:  Error: unsupported text language: de, Code: 400 , X-global-transaction-id: c636e3ea-6746-4084-a66e-9cf5965f635d\n",
      "try transelate\n",
      "error:  Error: unsupported text language: da, Code: 400 , X-global-transaction-id: de438529-433b-4092-9496-eac06259f5bf\n",
      "try transelate\n",
      "error:  Error: unsupported text language: de, Code: 400 , X-global-transaction-id: afb3a8c7-184d-4ebc-9923-ceedf9452608\n",
      "try transelate\n",
      "error:  Error: unsupported text language: pl, Code: 400 , X-global-transaction-id: 7259a3bb-9251-432f-9b1b-cf8185c7814c\n",
      "try transelate\n",
      "error:  Error: unsupported text language: sv, Code: 400 , X-global-transaction-id: 0cee3821-25dc-4d04-9f20-d47b5291c5fe\n",
      "try transelate\n",
      "error:  Error: unsupported text language: de, Code: 400 , X-global-transaction-id: 749b2c49-e14e-46f7-aecb-a68596ccddfe\n",
      "try transelate\n",
      "error:  Error: not enough text for language id, Code: 422 , X-global-transaction-id: c7f50c99-f3c4-4dc4-a830-c317c7a82573\n",
      "try transelate\n",
      "failed to transelate:  Error: Unable to automatically detect the source language, confidence too low, Code: 404 , X-global-transaction-id: f36ac7de-75aa-45ac-83ae-800474a360c1\n",
      "skip this text:  . .\n",
      "error:  Error: unsupported text language: fi, Code: 400 , X-global-transaction-id: d0cd4689-96bb-4b70-b5d3-6a7d10cb5531\n",
      "try transelate\n",
      "error:  Error: unsupported text language: de, Code: 400 , X-global-transaction-id: a175c7f8-d59d-469f-85b9-36a520efc623\n",
      "try transelate\n",
      "error:  Error: unsupported text language: de, Code: 400 , X-global-transaction-id: bc394d8d-75f2-4563-8ec2-2fe6ace7c850\n",
      "try transelate\n",
      "error:  Error: unsupported text language: sv, Code: 400 , X-global-transaction-id: 543d5e47-fc42-4d66-ae91-d13a45d6181d\n",
      "try transelate\n",
      "error:  Error: unsupported text language: de, Code: 400 , X-global-transaction-id: 865b712f-d7de-4f35-bb94-0ca0fe35fd77\n",
      "try transelate\n",
      "error:  Error: unsupported text language: de, Code: 400 , X-global-transaction-id: a96c63d4-1fe3-4a5f-b956-c2134997c4d8\n",
      "try transelate\n",
      "error:  Error: unsupported text language: da, Code: 400 , X-global-transaction-id: e9362413-3dce-4921-8a1b-4dc96db5f659\n",
      "try transelate\n",
      "error:  Error: not enough text for language id, Code: 422 , X-global-transaction-id: 41415f33-6aeb-4e2b-9b14-33c66fd0485c\n",
      "try transelate\n",
      "failed to transelate:  Error: Unable to automatically detect the source language, confidence too low, Code: 404 , X-global-transaction-id: 27791f88-aadc-42cc-a990-e16561ccabc0\n",
      "skip this text:  . .\n",
      "error:  Error: unsupported text language: no, Code: 400 , X-global-transaction-id: 16356c76-cb35-4c1e-9666-cc0e7a4ce2a4\n",
      "try transelate\n",
      "error:  Error: unsupported text language: nl, Code: 400 , X-global-transaction-id: 53d17ba7-b2bc-464e-93ad-db3da1462f22\n",
      "try transelate\n",
      "error:  Error: unsupported text language: unknown, Code: 400 , X-global-transaction-id: 23180fb5-77af-4902-a105-d2784c397fa1\n",
      "try transelate\n",
      "failed to transelate:  Error: Unable to automatically detect the source language, confidence too low, Code: 404 , X-global-transaction-id: 786e5793-46a3-43ed-9542-241118721ec5\n",
      "skip this text:  , , , . , , 1 ! , .\n",
      "error:  Error: unsupported text language: de, Code: 400 , X-global-transaction-id: 2ba309c2-25e7-4ab7-a8be-d5d50b3cbb06\n",
      "try transelate\n"
     ]
    },
    {
     "name": "stderr",
     "output_type": "stream",
     "text": [
      "  0%|          | 1/299 [01:07<5:34:00, 67.25s/it]"
     ]
    },
    {
     "name": "stdout",
     "output_type": "stream",
     "text": [
      "error:  Error: unsupported text language: mt, Code: 400 , X-global-transaction-id: 61f21d6d-461e-4703-b380-5dff280f4caa\n",
      "try transelate\n",
      "failed to transelate:  Error: Unable to automatically detect the source language, confidence too low, Code: 404 , X-global-transaction-id: 593049b1-f807-420c-8d3f-0d88d5ecbba4\n",
      "skip this text:  xxxxxxxxxxxxxxxxxxxxxxxxxxxxxxxxxxxxxxxxxx\n"
     ]
    },
    {
     "name": "stderr",
     "output_type": "stream",
     "text": [
      "  1%|          | 3/299 [01:10<1:19:45, 16.17s/it]"
     ]
    },
    {
     "name": "stdout",
     "output_type": "stream",
     "text": [
      "error:  Error: not enough text for language id, Code: 422 , X-global-transaction-id: e0122029-cfa5-431b-a23c-7186c6917223\n",
      "try transelate\n",
      "failed to transelate:  Error: Automatically detected source language is the same as target, cannot translate. Try to set the source language explicitly if you think the source language was not correctly detected, Code: 404 , X-global-transaction-id: 8497f8d1-7f6d-49d1-885e-3c3b09b10403\n",
      "skip this text:  Great\n"
     ]
    },
    {
     "name": "stderr",
     "output_type": "stream",
     "text": [
      "  1%|▏         | 4/299 [01:57<2:20:26, 28.56s/it]"
     ]
    },
    {
     "name": "stdout",
     "output_type": "stream",
     "text": [
      "error:  Error: not enough text for language id, Code: 422 , X-global-transaction-id: e3e22342-8784-46cd-b6b8-4ac07e5e8f6b\n",
      "try transelate\n",
      "failed to transelate:  Error: Automatically detected source language is the same as target, cannot translate. Try to set the source language explicitly if you think the source language was not correctly detected, Code: 404 , X-global-transaction-id: 260456fc-1654-4889-b2ad-12089f3d7016\n",
      "skip this text:  all good.\n",
      "error:  Error: not enough text for language id, Code: 422 , X-global-transaction-id: 562168c8-3253-4c21-80d9-56681014af96\n",
      "try transelate\n",
      "failed to transelate:  Error: Automatically detected source language is the same as target, cannot translate. Try to set the source language explicitly if you think the source language was not correctly detected, Code: 404 , X-global-transaction-id: 68a704e9-dc46-424c-844d-2b70a06cd6c5\n",
      "skip this text:  very nice.\n"
     ]
    },
    {
     "name": "stderr",
     "output_type": "stream",
     "text": [
      "  2%|▏         | 6/299 [02:50<2:07:22, 26.08s/it]"
     ]
    },
    {
     "name": "stdout",
     "output_type": "stream",
     "text": [
      "error:  Error: not enough text for language id, Code: 422 , X-global-transaction-id: f338bb8b-baf1-43d0-bf4c-76fc89bb3fce\n",
      "try transelate\n",
      "failed to transelate:  Error: Automatically detected source language is the same as target, cannot translate. Try to set the source language explicitly if you think the source language was not correctly detected, Code: 404 , X-global-transaction-id: d643eea3-8a3f-4188-b503-607f64afdd94\n",
      "skip this text:  Good hotel.\n"
     ]
    },
    {
     "name": "stderr",
     "output_type": "stream",
     "text": [
      "  2%|▏         | 7/299 [03:31<2:30:58, 31.02s/it]"
     ]
    },
    {
     "name": "stdout",
     "output_type": "stream",
     "text": [
      "error:  Error: not enough text for language id, Code: 422 , X-global-transaction-id: c2ac2522-35f9-4531-bddf-4e9e6513f23c\n",
      "try transelate\n",
      "failed to transelate:  Error: Automatically detected source language is the same as target, cannot translate. Try to set the source language explicitly if you think the source language was not correctly detected, Code: 404 , X-global-transaction-id: 7f73cdf5-ef8f-4a2b-b024-972d7dc9124c\n",
      "skip this text:  Overall fine\n",
      "error:  Error: not enough text for language id, Code: 422 , X-global-transaction-id: 94c7f1dc-d65a-4502-8dfe-1ef7741f664e\n",
      "try transelate\n",
      "failed to transelate:  Error: Unable to automatically detect the source language, confidence too low, Code: 404 , X-global-transaction-id: 8fdc808e-ebd5-485e-87aa-f3d3ce79b286\n",
      "skip this text:  Excellent\n",
      "error:  Error: not enough text for language id, Code: 422 , X-global-transaction-id: 32a798e2-3f12-4505-b902-7ff7e8036e80\n",
      "try transelate\n",
      "failed to transelate:  Error: Unable to automatically detect the source language, confidence too low, Code: 404 , X-global-transaction-id: 883f60a0-167e-4b59-b1ea-164f0ab8f1b9\n",
      "skip this text:  Excellent\n"
     ]
    },
    {
     "name": "stderr",
     "output_type": "stream",
     "text": [
      "  3%|▎         | 9/299 [04:38<2:30:17, 31.09s/it]"
     ]
    },
    {
     "name": "stdout",
     "output_type": "stream",
     "text": [
      "error:  Error: not enough text for language id, Code: 422 , X-global-transaction-id: fc36c560-3321-473f-aba1-07687590a6d1\n",
      "try transelate\n",
      "failed to transelate:  Error: Automatically detected source language is the same as target, cannot translate. Try to set the source language explicitly if you think the source language was not correctly detected, Code: 404 , X-global-transaction-id: b22e229e-7387-4da8-a788-907dae512b7f\n",
      "skip this text:  First class.\n",
      "error:  Error: unsupported text language: es, Code: 400 , X-global-transaction-id: db475c0e-8b41-45be-b55c-fecdeec85e79\n",
      "try transelate\n",
      "error:  Error: unsupported text language: sv, Code: 400 , X-global-transaction-id: ac004216-3892-469c-8482-b96521a6d3f8\n",
      "try transelate\n"
     ]
    },
    {
     "name": "stderr",
     "output_type": "stream",
     "text": [
      "  3%|▎         | 10/299 [05:01<2:17:13, 28.49s/it]"
     ]
    },
    {
     "name": "stdout",
     "output_type": "stream",
     "text": [
      "error:  Error: not enough text for language id, Code: 422 , X-global-transaction-id: 8747083d-3cc1-4208-9e5f-f4eef421360e\n",
      "try transelate\n",
      "failed to transelate:  Error: Unable to automatically detect the source language, confidence too low, Code: 404 , X-global-transaction-id: 068ae85e-7ada-4b12-bbbf-047f0158879c\n",
      "skip this text:  none\n"
     ]
    },
    {
     "name": "stderr",
     "output_type": "stream",
     "text": [
      "  4%|▍         | 12/299 [06:13<2:33:53, 32.17s/it]"
     ]
    },
    {
     "name": "stdout",
     "output_type": "stream",
     "text": [
      "error:  Error: not enough text for language id, Code: 422 , X-global-transaction-id: b7e10bac-6fe5-40e3-9ae2-6cc8938b44b2\n",
      "try transelate\n",
      "failed to transelate:  Error: Unable to automatically detect the source language, confidence too low, Code: 404 , X-global-transaction-id: 8f8099ec-5afe-4a14-b59d-8df39dc22215\n",
      "skip this text:  Bring vodka!\n",
      "error:  Error: not enough text for language id, Code: 422 , X-global-transaction-id: e2ce93d3-94aa-4277-9899-8f68d343a02c\n",
      "try transelate\n",
      "failed to transelate:  Error: Automatically detected source language is the same as target, cannot translate. Try to set the source language explicitly if you think the source language was not correctly detected, Code: 404 , X-global-transaction-id: 1b24e6b1-7e37-4bc0-8462-a0a69b9669f1\n",
      "skip this text:  Allow pets!\n"
     ]
    },
    {
     "name": "stderr",
     "output_type": "stream",
     "text": [
      "  4%|▍         | 13/299 [07:25<3:30:53, 44.24s/it]"
     ]
    },
    {
     "name": "stdout",
     "output_type": "stream",
     "text": [
      "error:  Error: unsupported text language: de, Code: 400 , X-global-transaction-id: ff4d7552-594f-4552-abc1-49bff2eb5bec\n",
      "try transelate\n",
      "error:  Error: unsupported text language: de, Code: 400 , X-global-transaction-id: 1c817334-0f72-4999-9d92-ea1054d788f0\n",
      "try transelate\n",
      "error:  Error: unsupported text language: de, Code: 400 , X-global-transaction-id: ef5311a2-0751-4eca-bc8f-b9794723aec9\n",
      "try transelate\n",
      "error:  Error: unsupported text language: de, Code: 400 , X-global-transaction-id: 988b2675-ce06-4fff-aa9d-aff17a37d079\n",
      "try transelate\n",
      "error:  Error: not enough text for language id, Code: 422 , X-global-transaction-id: 06d8b482-7eee-4066-8070-13a8ea62ab20\n",
      "try transelate\n",
      "failed to transelate:  Error: Automatically detected source language is the same as target, cannot translate. Try to set the source language explicitly if you think the source language was not correctly detected, Code: 404 , X-global-transaction-id: d80120f1-0562-40d1-8118-2c9dd543f215\n",
      "skip this text:  Nice hotel\n",
      "error:  Error: unsupported text language: sv, Code: 400 , X-global-transaction-id: c25c6a0c-2d8d-4806-b030-75ab83490fee\n",
      "try transelate\n",
      "error:  Error: unsupported text language: de, Code: 400 , X-global-transaction-id: 66b64599-aeaa-417f-b31e-153e3682af74\n",
      "try transelate\n",
      "error:  Error: unsupported text language: de, Code: 400 , X-global-transaction-id: 27833d75-9cc0-4bcc-97bc-f924c4e1a449\n",
      "try transelate\n",
      "error:  Error: unsupported text language: de, Code: 400 , X-global-transaction-id: de87e3f4-3108-4bd4-9e68-fe446af0a1f3\n",
      "try transelate\n",
      "error:  Error: unsupported text language: nn, Code: 400 , X-global-transaction-id: b4d10f3c-872d-4eea-999f-9fe05ee5bfdb\n",
      "try transelate\n",
      "error:  Error: unsupported text language: da, Code: 400 , X-global-transaction-id: c654003a-fe70-4446-97c2-022c301a9867\n",
      "try transelate\n",
      "error:  Error: unsupported text language: de, Code: 400 , X-global-transaction-id: 89ace26a-8d88-493f-aaa6-2db604bce53d\n",
      "try transelate\n",
      "error:  Error: unsupported text language: de, Code: 400 , X-global-transaction-id: a5f6ce96-add6-4066-91ec-e637e3f977b6\n",
      "try transelate\n",
      "error:  Error: unsupported text language: nl, Code: 400 , X-global-transaction-id: e66a868e-4369-46b3-bb82-7e7a5c6b9804\n",
      "try transelate\n",
      "error:  Error: unsupported text language: de, Code: 400 , X-global-transaction-id: 5aacd513-398c-49fb-8484-97507524d2dd\n",
      "try transelate\n",
      "error:  Error: unsupported text language: de, Code: 400 , X-global-transaction-id: 9c0ca7f1-d801-441a-b57d-f8a616ae31bf\n",
      "try transelate\n",
      "error:  Error: unsupported text language: de, Code: 400 , X-global-transaction-id: 168100bf-4ddf-4d90-a326-a46a91d11d3f\n",
      "try transelate\n",
      "error:  Error: unsupported text language: de, Code: 400 , X-global-transaction-id: 5caa393f-d25e-4bd8-8322-de0a41e88d33\n",
      "try transelate\n",
      "error:  Error: unsupported text language: sv, Code: 400 , X-global-transaction-id: 1bf952cb-6ceb-4186-8743-2c4df62dcc02\n",
      "try transelate\n",
      "error:  Error: unsupported text language: no, Code: 400 , X-global-transaction-id: 220dfdb9-5a5a-4bf4-97b4-f4d02fb56dc5\n",
      "try transelate\n",
      "error:  Error: unsupported text language: de, Code: 400 , X-global-transaction-id: 63190618-5cfa-4106-986c-9d2eb7b4505a\n",
      "try transelate\n",
      "error:  Error: unsupported text language: fi, Code: 400 , X-global-transaction-id: 3376ee85-a20f-455a-83c7-04796397ceb7\n",
      "try transelate\n",
      "error:  Error: unsupported text language: pt, Code: 400 , X-global-transaction-id: 0333e182-f898-4f96-9ae1-6f61b6dbc26d\n",
      "try transelate\n",
      "error:  Error: unsupported text language: nl, Code: 400 , X-global-transaction-id: 36a38ce6-50c0-49eb-ac53-fcb22a2e0077\n",
      "try transelate\n",
      "error:  Error: unsupported text language: de, Code: 400 , X-global-transaction-id: 141cb403-37ca-49ae-9bc7-172ca3052db7\n",
      "try transelate\n",
      "error:  Error: unsupported text language: ca, Code: 400 , X-global-transaction-id: bdb87cd2-2783-4167-b56a-5f595de9ddf4\n",
      "try transelate\n",
      "error:  Error: unsupported text language: de, Code: 400 , X-global-transaction-id: ae462a7d-ae63-4336-9498-9cdfb6cef55e\n",
      "try transelate\n",
      "error:  Error: unsupported text language: de, Code: 400 , X-global-transaction-id: 344400c8-68c6-4bf9-b1b4-2003635d0790\n",
      "try transelate\n",
      "error:  Error: unsupported text language: de, Code: 400 , X-global-transaction-id: e3963fbe-36d3-4a44-812b-a159f8885a00\n",
      "try transelate\n",
      "error:  Error: unsupported text language: de, Code: 400 , X-global-transaction-id: 0ef4c0c4-5ba8-48d3-a26d-a14080112ad4\n",
      "try transelate\n",
      "error:  Error: unsupported text language: de, Code: 400 , X-global-transaction-id: f343ef9b-bd38-4e3c-860b-48b4c76bd76b\n",
      "try transelate\n"
     ]
    },
    {
     "name": "stderr",
     "output_type": "stream",
     "text": [
      "  5%|▌         | 15/299 [10:59<5:34:31, 70.67s/it]"
     ]
    },
    {
     "name": "stdout",
     "output_type": "stream",
     "text": [
      "error:  Error: not enough text for language id, Code: 422 , X-global-transaction-id: fd14eb8f-cb6f-43ca-be96-4ffd00a67166\n",
      "try transelate\n",
      "failed to transelate:  Error: Automatically detected source language is the same as target, cannot translate. Try to set the source language explicitly if you think the source language was not correctly detected, Code: 404 , X-global-transaction-id: 356b46b1-3a97-49ec-bbe5-c6e6ea84de77\n",
      "skip this text:  Good\n"
     ]
    },
    {
     "name": "stderr",
     "output_type": "stream",
     "text": [
      "  5%|▌         | 16/299 [11:28<4:33:48, 58.05s/it]"
     ]
    },
    {
     "name": "stdout",
     "output_type": "stream",
     "text": [
      "error:  Error: not enough text for language id, Code: 422 , X-global-transaction-id: 0ca2d315-5a4b-40fe-b46f-909572498a67\n",
      "try transelate\n",
      "failed to transelate:  Error: Automatically detected source language is the same as target, cannot translate. Try to set the source language explicitly if you think the source language was not correctly detected, Code: 404 , X-global-transaction-id: 474698d6-8b3b-462b-8ddb-63271a268954\n",
      "skip this text:  Nice facility\n",
      "error:  Error: not enough text for language id, Code: 422 , X-global-transaction-id: b7cdf9a8-b668-4324-8c6c-136927528897\n",
      "try transelate\n",
      "failed to transelate:  Error: Automatically detected source language is the same as target, cannot translate. Try to set the source language explicitly if you think the source language was not correctly detected, Code: 404 , X-global-transaction-id: f7ae1f75-9727-4679-b00b-f1511c79a0d0\n",
      "skip this text:  Wonderful.\n",
      "error:  Error: not enough text for language id, Code: 422 , X-global-transaction-id: 42da630d-64f3-4d35-b9dc-d63765a1538a\n",
      "try transelate\n",
      "failed to transelate:  Error: Automatically detected source language is the same as target, cannot translate. Try to set the source language explicitly if you think the source language was not correctly detected, Code: 404 , X-global-transaction-id: 8882514b-dda4-4363-9083-c23dbbf5b0b7\n",
      "skip this text:  Wonderful.\n"
     ]
    },
    {
     "name": "stderr",
     "output_type": "stream",
     "text": [
      "  6%|▌         | 18/299 [13:02<4:03:27, 51.99s/it]"
     ]
    },
    {
     "name": "stdout",
     "output_type": "stream",
     "text": [
      "error:  Error: not enough text for language id, Code: 422 , X-global-transaction-id: 0eceddeb-64e4-454e-b50b-4c41c8a30283\n",
      "try transelate\n",
      "failed to transelate:  Error: Automatically detected source language is the same as target, cannot translate. Try to set the source language explicitly if you think the source language was not correctly detected, Code: 404 , X-global-transaction-id: c006c9c2-d195-4acb-be5a-ab1e6e953b02\n",
      "skip this text:  Slept well\n",
      "error:  Error: not enough text for language id, Code: 422 , X-global-transaction-id: f90aeb74-1c1b-4cfa-a405-ef66b6b42178\n",
      "try transelate\n",
      "failed to transelate:  Error: Automatically detected source language is the same as target, cannot translate. Try to set the source language explicitly if you think the source language was not correctly detected, Code: 404 , X-global-transaction-id: 53835626-c312-4b71-bfd0-a798335297a6\n",
      "skip this text:  Slept well\n"
     ]
    },
    {
     "name": "stderr",
     "output_type": "stream",
     "text": [
      "  6%|▋         | 19/299 [13:16<3:08:30, 40.39s/it]"
     ]
    },
    {
     "name": "stdout",
     "output_type": "stream",
     "text": [
      "error:  Error: unsupported text language: de, Code: 400 , X-global-transaction-id: 7dcdaa85-50f6-46c8-8e14-79bf0187e1b1\n",
      "try transelate\n"
     ]
    },
    {
     "name": "stderr",
     "output_type": "stream",
     "text": [
      "  7%|▋         | 21/299 [13:41<1:57:11, 25.29s/it]"
     ]
    },
    {
     "name": "stdout",
     "output_type": "stream",
     "text": [
      "error:  Error: not enough text for language id, Code: 422 , X-global-transaction-id: f78c95b2-46f2-46c6-bb43-2c4d0d6dcf3c\n",
      "try transelate\n",
      "failed to transelate:  Error: Unable to automatically detect the source language, confidence too low, Code: 404 , X-global-transaction-id: 2e32275b-9c08-4ab3-a9e0-d6674c0b3c54\n",
      "skip this text:  nice\n",
      "error:  Error: not enough text for language id, Code: 422 , X-global-transaction-id: c7115aff-2534-4fe9-9278-93c9b14059b2\n",
      "try transelate\n"
     ]
    },
    {
     "name": "stderr",
     "output_type": "stream",
     "text": [
      "  7%|▋         | 22/299 [16:24<5:07:57, 66.70s/it]"
     ]
    },
    {
     "name": "stdout",
     "output_type": "stream",
     "text": [
      "failed to transelate:  Error: Unable to automatically detect the source language, confidence too low, Code: 404 , X-global-transaction-id: 37cd63f7-b904-4254-acd4-143f4dcf5595\n",
      "skip this text:  None\n",
      "error:  Error: not enough text for language id, Code: 422 , X-global-transaction-id: 36f42df4-6420-4383-a3dc-f471bb08ee89\n",
      "try transelate\n",
      "failed to transelate:  Error: Automatically detected source language is the same as target, cannot translate. Try to set the source language explicitly if you think the source language was not correctly detected, Code: 404 , X-global-transaction-id: 83543fd2-d2bf-4317-a4f2-a6ce6db55fad\n",
      "skip this text:  Overall GREAT\n",
      "error:  Error: not enough text for language id, Code: 422 , X-global-transaction-id: 2af2cd49-3868-4c92-9eec-0bd15c7d059a\n",
      "try transelate\n",
      "failed to transelate:  Error: Unable to automatically detect the source language, confidence too low, Code: 404 , X-global-transaction-id: 9e9280d4-7147-4555-a796-dfd05f0b6889\n",
      "skip this text:  Excellent\n"
     ]
    },
    {
     "name": "stderr",
     "output_type": "stream",
     "text": [
      "  8%|▊         | 23/299 [17:03<4:28:23, 58.35s/it]"
     ]
    },
    {
     "name": "stdout",
     "output_type": "stream",
     "text": [
      "error:  Error: upstream connect error or disconnect/reset before headers. reset reason: connection termination, Code: 503 , X-global-transaction-id: ec04bddd-7603-4c1c-8519-7d1d1a20207f\n",
      "try transelate\n",
      "failed to transelate:  Error: Automatically detected source language is the same as target, cannot translate. Try to set the source language explicitly if you think the source language was not correctly detected, Code: 404 , X-global-transaction-id: fe599268-08b7-4ac6-a154-666df63b05d2\n",
      "skip this text:  Ok hotel. I would have liked to have the outside doors require a room key although I'm told Brookings is a very safe city.\n"
     ]
    },
    {
     "name": "stderr",
     "output_type": "stream",
     "text": [
      "  9%|▊         | 26/299 [18:52<3:22:27, 44.50s/it]"
     ]
    },
    {
     "name": "stdout",
     "output_type": "stream",
     "text": [
      "error:  Error: unsupported text language: da, Code: 400 , X-global-transaction-id: ad97302c-2a9f-4b8e-b79f-dedc973fa80e\n",
      "try transelate\n",
      "error:  Error: unsupported text language: da, Code: 400 , X-global-transaction-id: 185f4ccb-57d1-4543-9836-d6cf7e6615da\n",
      "try transelate\n"
     ]
    },
    {
     "name": "stderr",
     "output_type": "stream",
     "text": [
      "  9%|▉         | 28/299 [20:13<3:16:35, 43.53s/it]"
     ]
    },
    {
     "name": "stdout",
     "output_type": "stream",
     "text": [
      "error:  Error: not enough text for language id, Code: 422 , X-global-transaction-id: 3658beac-28ed-41db-a51c-175909a53a45\n",
      "try transelate\n",
      "failed to transelate:  Error: Automatically detected source language is the same as target, cannot translate. Try to set the source language explicitly if you think the source language was not correctly detected, Code: 404 , X-global-transaction-id: 15066ae2-0f4a-426c-92b8-ad1ec6a57015\n",
      "skip this text:  very nice\n",
      "error:  Error: unsupported text language: de, Code: 400 , X-global-transaction-id: a8477bca-73f8-4eb2-820b-3d4731c6ad8b\n",
      "try transelate\n",
      "error:  Error: unsupported text language: unknown, Code: 400 , X-global-transaction-id: dc99f929-8e38-4b9d-9447-afe870b51f9b\n",
      "try transelate\n",
      "failed to transelate:  Error: Unable to automatically detect the source language, confidence too low, Code: 404 , X-global-transaction-id: a1ef9626-a1d3-4911-b498-1415cb9d6538\n",
      "skip this text:  .....................................................................................\n"
     ]
    },
    {
     "name": "stderr",
     "output_type": "stream",
     "text": [
      " 10%|█         | 31/299 [21:48<2:14:30, 30.11s/it]"
     ]
    },
    {
     "name": "stdout",
     "output_type": "stream",
     "text": [
      "error:  Error: unsupported text language: mt, Code: 400 , X-global-transaction-id: e19ea2ba-d59a-495f-bce4-0f70df50c6bb\n",
      "try transelate\n",
      "failed to transelate:  Error: Unable to automatically detect the source language, confidence too low, Code: 404 , X-global-transaction-id: e6b9959f-8067-4754-83d4-1aed41f5f796\n",
      "skip this text:  xxxxxxxxxxxxxxxxxxxxxxxxxxxxxxxxxxxxxxxxxx\n"
     ]
    },
    {
     "name": "stderr",
     "output_type": "stream",
     "text": [
      " 11%|█         | 32/299 [21:51<1:37:49, 21.98s/it]"
     ]
    },
    {
     "name": "stdout",
     "output_type": "stream",
     "text": [
      "error:  Error: not enough text for language id, Code: 422 , X-global-transaction-id: d39a6d2a-1536-4c5d-bcc6-1ff3a1b97f98\n",
      "try transelate\n",
      "failed to transelate:  Error: Unable to automatically detect the source language, confidence too low, Code: 404 , X-global-transaction-id: 9e1c1a6c-417f-43eb-99ec-a589858b10f6\n",
      "skip this text:  nice\n",
      "error:  Error: not enough text for language id, Code: 422 , X-global-transaction-id: 998150cb-1ab0-4468-9c4b-ed5356cdae51\n",
      "try transelate\n",
      "failed to transelate:  Error: Unable to automatically detect the source language, confidence too low, Code: 404 , X-global-transaction-id: 2b843a9b-9dd4-4993-b9b3-71525ee39e34\n",
      "skip this text:  Exellent\n",
      "error:  Error: not enough text for language id, Code: 422 , X-global-transaction-id: d46290c4-d85f-4026-ac2a-dbfbe76c4597\n",
      "try transelate\n",
      "failed to transelate:  Error: Automatically detected source language is the same as target, cannot translate. Try to set the source language explicitly if you think the source language was not correctly detected, Code: 404 , X-global-transaction-id: 82df7798-54da-49cc-b348-3ab9c3d8c647\n",
      "skip this text:  Great hotel.\n"
     ]
    },
    {
     "name": "stderr",
     "output_type": "stream",
     "text": [
      " 11%|█         | 33/299 [22:55<2:33:24, 34.60s/it]"
     ]
    },
    {
     "name": "stdout",
     "output_type": "stream",
     "text": [
      "error:  Error: upstream connect error or disconnect/reset before headers. reset reason: connection termination, Code: 503 , X-global-transaction-id: fd0c0b1a-7b1e-4e17-9eeb-aea53ed86165\n",
      "try transelate\n",
      "failed to transelate:  Error: Automatically detected source language is the same as target, cannot translate. Try to set the source language explicitly if you think the source language was not correctly detected, Code: 404 , X-global-transaction-id: f07520d9-918c-42f0-b92f-78ac5ff50031\n",
      "skip this text:  I just happened into this place, I was called on to travel at the last minute and didn't make reservations, so when I found this place I was please with the looks on the out side, and when I stayed 2 nights I was well pleased, the rooms were nicely remodeled, and larger than most, I had rooms with new... More\n",
      "error:  Error: not enough text for language id, Code: 422 , X-global-transaction-id: c0c4d5cb-6060-4e4d-8e99-74396b845019\n",
      "try transelate\n",
      "failed to transelate:  Error: not enough text for language id, Code: 422 , X-global-transaction-id: fbc50abc-f488-42cf-a0d3-45cb05dcb1aa\n",
      "skip this text:  muy bien\n"
     ]
    },
    {
     "name": "stderr",
     "output_type": "stream",
     "text": [
      " 12%|█▏        | 35/299 [23:23<1:44:36, 23.77s/it]"
     ]
    },
    {
     "name": "stdout",
     "output_type": "stream",
     "text": [
      "error:  Error: not enough text for language id, Code: 422 , X-global-transaction-id: 3243b4c4-7f4c-4c8b-8aa8-8093e2c763bf\n",
      "try transelate\n",
      "failed to transelate:  Error: Automatically detected source language is the same as target, cannot translate. Try to set the source language explicitly if you think the source language was not correctly detected, Code: 404 , X-global-transaction-id: 7c1d34ec-c33d-4c29-8a97-0c97e70d79cf\n",
      "skip this text:  Good\n",
      "error:  Error: not enough text for language id, Code: 422 , X-global-transaction-id: af48fb0d-f096-4994-aaf1-63ff2d21e057\n",
      "try transelate\n",
      "failed to transelate:  Error: Automatically detected source language is the same as target, cannot translate. Try to set the source language explicitly if you think the source language was not correctly detected, Code: 404 , X-global-transaction-id: cd5268d8-6c6f-4202-a00b-39c94da7ea9f\n",
      "skip this text:  Great\n",
      "error:  Error: unsupported text language: es, Code: 400 , X-global-transaction-id: 3be1a539-7dbf-414b-8166-449341b8eb95\n",
      "try transelate\n",
      "error:  Error: not enough text for language id, Code: 422 , X-global-transaction-id: 31a57ffe-9a30-447d-a717-2267e413b6df\n",
      "try transelate\n",
      "failed to transelate:  Error: Automatically detected source language is the same as target, cannot translate. Try to set the source language explicitly if you think the source language was not correctly detected, Code: 404 , X-global-transaction-id: 874eeb76-f430-4a02-8b8f-cfb944d01102\n",
      "skip this text:  Never again\n",
      "error:  Error: not enough text for language id, Code: 422 , X-global-transaction-id: 6e749a54-37c2-4bb9-8d75-4344e7516472\n",
      "try transelate\n",
      "failed to transelate:  Error: Automatically detected source language is the same as target, cannot translate. Try to set the source language explicitly if you think the source language was not correctly detected, Code: 404 , X-global-transaction-id: 58cdb313-9153-4e55-9edf-683be7cd0803\n",
      "skip this text:  Very good!\n",
      "error:  Error: not enough text for language id, Code: 422 , X-global-transaction-id: d1764d9b-058e-4d28-8df1-992946ad915e\n",
      "try transelate\n",
      "failed to transelate:  Error: Unable to automatically detect the source language, confidence too low, Code: 404 , X-global-transaction-id: 34b2880d-c4ee-4122-bdb8-a0e0b0b502ba\n",
      "skip this text:  Fantstic relax\n",
      "error:  Error: unsupported text language: tr, Code: 400 , X-global-transaction-id: 5e05c571-5505-41f1-b720-822e80cbebbc\n",
      "try transelate\n",
      "failed to transelate:  Error: unsupported text language: nl, Code: 400 , X-global-transaction-id: e6106fd8-db1c-498e-8904-7a6fcac1dc59\n",
      "skip this text:  ortalama bir amerikan oteli\n",
      "error:  Error: unsupported text language: es, Code: 400 , X-global-transaction-id: 29b41368-f81d-4bf1-8b90-a3d77be524a4\n",
      "try transelate\n"
     ]
    },
    {
     "name": "stderr",
     "output_type": "stream",
     "text": [
      " 12%|█▏        | 37/299 [25:06<2:27:09, 33.70s/it]"
     ]
    },
    {
     "name": "stdout",
     "output_type": "stream",
     "text": [
      "error:  Error: not enough text for language id, Code: 422 , X-global-transaction-id: fcc21274-28a7-4895-97fd-6b8231a82f1e\n",
      "try transelate\n",
      "failed to transelate:  Error: Automatically detected source language is the same as target, cannot translate. Try to set the source language explicitly if you think the source language was not correctly detected, Code: 404 , X-global-transaction-id: d0325109-27ad-40a9-ae9c-b51706e4e955\n",
      "skip this text:  Never again\n"
     ]
    },
    {
     "name": "stderr",
     "output_type": "stream",
     "text": [
      " 13%|█▎        | 38/299 [25:34<2:19:00, 31.96s/it]"
     ]
    },
    {
     "name": "stdout",
     "output_type": "stream",
     "text": [
      "error:  Error: not enough text for language id, Code: 422 , X-global-transaction-id: 11ba4bf2-b478-43a4-bbec-b173ecb3496b\n",
      "try transelate\n",
      "failed to transelate:  Error: Unable to automatically detect the source language, confidence too low, Code: 404 , X-global-transaction-id: a42cd782-148f-4cb4-80bd-0caefe9bc5b5\n",
      "skip this text:  nil location\n",
      "error:  Error: not enough text for language id, Code: 422 , X-global-transaction-id: 8d6cecf8-50d6-48b1-a311-3923cb607769\n",
      "try transelate\n",
      "failed to transelate:  Error: not enough text for language id, Code: 422 , X-global-transaction-id: 46ae2ef5-1d82-4329-84d4-a010484323f8\n",
      "skip this text:  Quiet place\n",
      "error:  Error: not enough text for language id, Code: 422 , X-global-transaction-id: 14533af3-7d64-4484-9841-732c49bb4bd3\n",
      "try transelate\n",
      "failed to transelate:  Error: Automatically detected source language is the same as target, cannot translate. Try to set the source language explicitly if you think the source language was not correctly detected, Code: 404 , X-global-transaction-id: b1cf0623-2836-47d9-91c2-6cb6dcf157b3\n",
      "skip this text:  Sound of A/C\n"
     ]
    },
    {
     "name": "stderr",
     "output_type": "stream",
     "text": [
      " 13%|█▎        | 39/299 [26:13<2:27:25, 34.02s/it]"
     ]
    },
    {
     "name": "stdout",
     "output_type": "stream",
     "text": [
      "error:  Error: unsupported text language: unknown, Code: 400 , X-global-transaction-id: 1f776715-a48d-4ee7-a952-7bfe80fd02a3\n",
      "try transelate\n",
      "failed to transelate:  Error: Unable to automatically detect the source language, confidence too low, Code: 404 , X-global-transaction-id: a54c51bb-b101-44ed-9d52-7139fd0cd432\n",
      "skip this text:  !!!!!!!!!!!!!!!!\n",
      "error:  Error: unsupported text language: unknown, Code: 400 , X-global-transaction-id: bc9c69c8-5cf3-4235-80a9-d054dfeb05fe\n",
      "try transelate\n",
      "failed to transelate:  Error: Unable to automatically detect the source language, confidence too low, Code: 404 , X-global-transaction-id: 2ede02d7-7526-49a9-ba2a-a0540f88f917\n",
      "skip this text:  !!!!!!!!!!!!!!!!\n",
      "error:  Error: unsupported text language: unknown, Code: 400 , X-global-transaction-id: 1d1181af-ef77-49a4-b242-8ce06dfa9e39\n",
      "try transelate\n",
      "failed to transelate:  Error: Unable to automatically detect the source language, confidence too low, Code: 404 , X-global-transaction-id: f607872e-0f2b-4d51-bcbb-2665be5d83a8\n",
      "skip this text:  !!!!!!!!!!!!!!!!\n",
      "error:  Error: not enough text for language id, Code: 422 , X-global-transaction-id: 6661e0af-8de1-49ff-89a3-9878bd2d7016\n",
      "try transelate\n",
      "failed to transelate:  Error: Unable to automatically detect the source language, confidence too low, Code: 404 , X-global-transaction-id: 0d07941d-db42-470d-a41b-ff2cbfab2ebb\n",
      "skip this text:  wifi.\n",
      "error:  Error: not enough text for language id, Code: 422 , X-global-transaction-id: 0716671a-90a7-4dbf-885c-4c72bc2b3d00\n",
      "try transelate\n",
      "failed to transelate:  Error: Unable to automatically detect the source language, confidence too low, Code: 404 , X-global-transaction-id: f5eda886-aeb3-4c0e-a685-c906f02ecc70\n",
      "skip this text:  , . , . .\n"
     ]
    },
    {
     "name": "stderr",
     "output_type": "stream",
     "text": [
      " 13%|█▎        | 40/299 [26:43<2:21:06, 32.69s/it]"
     ]
    },
    {
     "name": "stdout",
     "output_type": "stream",
     "text": [
      "error:  Error: unsupported text language: de, Code: 400 , X-global-transaction-id: a11be530-58cc-4c06-af20-e76a8369b7d0\n",
      "try transelate\n",
      "error:  Error: not enough text for language id, Code: 422 , X-global-transaction-id: 4fa88c94-a115-45b3-b133-54fc8ae85ac2\n",
      "try transelate\n",
      "failed to transelate:  Error: Unable to automatically detect the source language, confidence too low, Code: 404 , X-global-transaction-id: d31bc0db-e1d0-4edd-b92e-ef3f2dd12c6a\n",
      "skip this text:  10\n",
      "error:  Error: not enough text for language id, Code: 422 , X-global-transaction-id: 994a5427-9b0b-4a0d-8b92-19b46e24c32f\n",
      "try transelate\n",
      "failed to transelate:  Error: Unable to automatically detect the source language, confidence too low, Code: 404 , X-global-transaction-id: b64a1848-55e3-4a53-8312-b3255827579c\n",
      "skip this text:  10\n"
     ]
    },
    {
     "name": "stderr",
     "output_type": "stream",
     "text": [
      " 14%|█▍        | 42/299 [29:07<4:02:31, 56.62s/it]"
     ]
    },
    {
     "name": "stdout",
     "output_type": "stream",
     "text": [
      "error:  Error: not enough text for language id, Code: 422 , X-global-transaction-id: 6789d38f-c6ba-4ed3-bd0b-00aa2a8e6aae\n",
      "try transelate\n",
      "failed to transelate:  Error: Unable to automatically detect the source language, confidence too low, Code: 404 , X-global-transaction-id: 92f2f5fd-8d34-4626-b339-7bc5e3fb23a9\n",
      "skip this text:  Fabulous!\n",
      "error:  Error: not enough text for language id, Code: 422 , X-global-transaction-id: e2a1714c-c093-477c-bf32-77f9f3edb350\n",
      "try transelate\n",
      "failed to transelate:  Error: Automatically detected source language is the same as target, cannot translate. Try to set the source language explicitly if you think the source language was not correctly detected, Code: 404 , X-global-transaction-id: bc1c0720-995d-4f35-8df1-093d2a8300b2\n",
      "skip this text:  had fun!\n",
      "error:  Error: not enough text for language id, Code: 422 , X-global-transaction-id: 57be3c6b-307a-4fc9-8934-664597a2a0ca\n",
      "try transelate\n",
      "failed to transelate:  Error: Unable to automatically detect the source language, confidence too low, Code: 404 , X-global-transaction-id: a496fc25-bd06-4412-ab6e-f6e78c3f4045\n",
      "skip this text:  Excellent\n",
      "error:  Error: not enough text for language id, Code: 422 , X-global-transaction-id: 6820ae8e-46e0-4fb5-b5a0-547953e1bdc0\n",
      "try transelate\n",
      "failed to transelate:  Error: Unable to automatically detect the source language, confidence too low, Code: 404 , X-global-transaction-id: d176a41b-91cd-4296-9cea-e168b8a1c604\n",
      "skip this text:  Average\n",
      "error:  Error: not enough text for language id, Code: 422 , X-global-transaction-id: 4b2c68bd-0be6-47d2-8d16-edea3176e406\n",
      "try transelate\n",
      "failed to transelate:  Error: Automatically detected source language is the same as target, cannot translate. Try to set the source language explicitly if you think the source language was not correctly detected, Code: 404 , X-global-transaction-id: 6438e80c-a50c-493b-a89c-07a79b936a5a\n",
      "skip this text:  Great service.\n",
      "error:  Error: not enough text for language id, Code: 422 , X-global-transaction-id: bcf48a30-98c7-424f-883c-0878fbb8f10c\n",
      "try transelate\n",
      "failed to transelate:  Error: Automatically detected source language is the same as target, cannot translate. Try to set the source language explicitly if you think the source language was not correctly detected, Code: 404 , X-global-transaction-id: 75aabafb-187e-43ba-83dc-6d0371789b42\n",
      "skip this text:  Good times\n"
     ]
    },
    {
     "name": "stderr",
     "output_type": "stream",
     "text": [
      " 15%|█▍        | 44/299 [30:20<3:15:22, 45.97s/it]"
     ]
    },
    {
     "name": "stdout",
     "output_type": "stream",
     "text": [
      "error:  Error: not enough text for language id, Code: 422 , X-global-transaction-id: 3bc50d40-0b94-4396-9fb2-0fe3042448bf\n",
      "try transelate\n",
      "failed to transelate:  Error: Unable to automatically detect the source language, confidence too low, Code: 404 , X-global-transaction-id: 934e69ed-d0a4-4d85-9fe0-09271c6a0c83\n",
      "skip this text:  Excellent\n"
     ]
    },
    {
     "name": "stderr",
     "output_type": "stream",
     "text": [
      " 15%|█▌        | 45/299 [31:13<3:23:07, 47.98s/it]"
     ]
    },
    {
     "name": "stdout",
     "output_type": "stream",
     "text": [
      "error:  Error: not enough text for language id, Code: 422 , X-global-transaction-id: 2757b92f-8155-4a2a-8764-f2788959b534\n",
      "try transelate\n",
      "failed to transelate:  Error: Unable to automatically detect the source language, confidence too low, Code: 404 , X-global-transaction-id: b3ce3f4d-66b9-4164-a8d0-dcf7a563f79e\n",
      "skip this text:  None\n"
     ]
    },
    {
     "name": "stderr",
     "output_type": "stream",
     "text": [
      " 15%|█▌        | 46/299 [31:43<2:59:24, 42.55s/it]"
     ]
    },
    {
     "name": "stdout",
     "output_type": "stream",
     "text": [
      "error:  Error: not enough text for language id, Code: 422 , X-global-transaction-id: 038cc559-70c8-4d65-be2e-18bd4adad766\n",
      "try transelate\n",
      "failed to transelate:  Error: Automatically detected source language is the same as target, cannot translate. Try to set the source language explicitly if you think the source language was not correctly detected, Code: 404 , X-global-transaction-id: ddcbd870-f191-421a-bc1c-0f29c9c73e9e\n",
      "skip this text:  Great\n"
     ]
    },
    {
     "name": "stderr",
     "output_type": "stream",
     "text": [
      " 16%|█▋        | 49/299 [34:31<3:31:37, 50.79s/it]"
     ]
    },
    {
     "name": "stdout",
     "output_type": "stream",
     "text": [
      "error:  Error: not enough text for language id, Code: 422 , X-global-transaction-id: f48fa9c0-3285-4ee4-adfb-5f90cec14e94\n",
      "try transelate\n",
      "failed to transelate:  Error: Automatically detected source language is the same as target, cannot translate. Try to set the source language explicitly if you think the source language was not correctly detected, Code: 404 , X-global-transaction-id: c4210a05-6877-4bde-b30a-7b0aa62142dc\n",
      "skip this text:  Hotel location\n",
      "error:  Error: unsupported text language: ca, Code: 400 , X-global-transaction-id: 5b41d376-7513-4f61-a5a0-8d4b73abc155\n",
      "try transelate\n",
      "failed to transelate:  Error: Automatically detected source language is the same as target, cannot translate. Try to set the source language explicitly if you think the source language was not correctly detected, Code: 404 , X-global-transaction-id: 0060007d-6109-4da3-91c3-6e7852572060\n",
      "skip this text:  Convenient for Universal Studios\n",
      "error:  Error: unsupported text language: pt, Code: 400 , X-global-transaction-id: 6aaf8249-9596-4347-834b-bd077a5386a4\n",
      "try transelate\n",
      "error:  Error: unsupported text language: pt, Code: 400 , X-global-transaction-id: 17624d85-d229-452a-a91d-e2f0e7e9753e\n",
      "try transelate\n",
      "error:  Error: unsupported text language: pt, Code: 400 , X-global-transaction-id: c5237427-9032-4efe-83ba-b97a9fd04eeb\n",
      "try transelate\n"
     ]
    },
    {
     "name": "stderr",
     "output_type": "stream",
     "text": [
      " 17%|█▋        | 50/299 [35:32<3:42:56, 53.72s/it]"
     ]
    },
    {
     "name": "stdout",
     "output_type": "stream",
     "text": [
      "error:  Error: unsupported text language: pt, Code: 400 , X-global-transaction-id: b6139f27-36f0-48f0-a275-4da4db2ce6a3\n",
      "try transelate\n",
      "error:  Error: unsupported text language: es, Code: 400 , X-global-transaction-id: c5d7f43f-21a0-46e1-bc25-488e063b759c\n",
      "try transelate\n",
      "error:  Error: unsupported text language: es, Code: 400 , X-global-transaction-id: dc38c088-b1e7-4890-8aef-da8e039327e0\n",
      "try transelate\n",
      "error:  Error: not enough text for language id, Code: 422 , X-global-transaction-id: 77c6f372-5ee5-4a38-9fd8-1e9bd5b77021\n",
      "try transelate\n",
      "failed to transelate:  Error: Unable to automatically detect the source language, confidence too low, Code: 404 , X-global-transaction-id: dd2d28d4-3b74-4058-af27-0243b8f295bf\n",
      "skip this text:  ok\n",
      "error:  Error: unsupported text language: es, Code: 400 , X-global-transaction-id: d8d1bf67-9bc2-4eb0-a043-fb94346b4644\n",
      "try transelate\n",
      "error:  Error: unsupported text language: es, Code: 400 , X-global-transaction-id: 5de08e3d-6883-490a-8ef4-b6233029c83a\n",
      "try transelate\n",
      "error:  Error: unsupported text language: es, Code: 400 , X-global-transaction-id: b7a35b16-5f7b-4f53-9568-b14209bb4e44\n",
      "try transelate\n",
      "error:  Error: unsupported text language: es, Code: 400 , X-global-transaction-id: 10863e72-e335-417f-a83c-0c8016c82834\n",
      "try transelate\n",
      "error:  Error: unsupported text language: es, Code: 400 , X-global-transaction-id: af1aed43-6eff-4243-80e9-ba44b777b38f\n",
      "try transelate\n",
      "error:  Error: unsupported text language: es, Code: 400 , X-global-transaction-id: 01610bc0-77bc-498c-bc9f-ca90d6edf1c3\n",
      "try transelate\n",
      "error:  Error: not enough text for language id, Code: 422 , X-global-transaction-id: 6ce1dc76-b8a2-4329-9336-ce31c0774e1d\n",
      "try transelate\n",
      "failed to transelate:  Error: Unable to automatically detect the source language, confidence too low, Code: 404 , X-global-transaction-id: 4c0ef9a8-04b8-45a1-ba1b-d7f8199b7635\n",
      "skip this text:  2()\n",
      "error:  Error: unsupported text language: es, Code: 400 , X-global-transaction-id: b8656dc3-52fb-4218-abe6-c7e42e6339ce\n",
      "try transelate\n",
      "error:  Error: unsupported text language: es, Code: 400 , X-global-transaction-id: 46633b4e-dec8-4e4d-bf92-3d789aa466b7\n",
      "try transelate\n",
      "error:  Error: unsupported text language: es, Code: 400 , X-global-transaction-id: 99445b26-08c1-4e49-bc88-3a1b26bdabbd\n",
      "try transelate\n",
      "error:  Error: not enough text for language id, Code: 422 , X-global-transaction-id: 8b4c09ea-976b-48e6-aba0-484c8c3d1681\n",
      "try transelate\n",
      "failed to transelate:  Error: Unable to automatically detect the source language, confidence too low, Code: 404 , X-global-transaction-id: 7d2db86f-05ae-4bd4-865b-62d0eea3b13b\n",
      "skip this text:  PERFECTO.\n",
      "error:  Error: unsupported text language: es, Code: 400 , X-global-transaction-id: f91eba91-8518-46f8-b3e4-4b4d1bf6d9de\n",
      "try transelate\n",
      "error:  Error: unsupported text language: es, Code: 400 , X-global-transaction-id: 19c9c6c7-54f7-4195-b478-21201ae23f40\n",
      "try transelate\n"
     ]
    },
    {
     "name": "stderr",
     "output_type": "stream",
     "text": [
      " 17%|█▋        | 52/299 [36:40<2:47:12, 40.62s/it]"
     ]
    },
    {
     "name": "stdout",
     "output_type": "stream",
     "text": [
      "error:  Error: unsupported text language: unknown, Code: 400 , X-global-transaction-id: 9c79eacb-fe74-4ca1-a9ae-ada9ea004823\n",
      "try transelate\n",
      "failed to transelate:  Error: Unable to automatically detect the source language, confidence too low, Code: 404 , X-global-transaction-id: 384306ae-825a-402c-aecb-c65d63303662\n",
      "skip this text:  ���������������������������������������������������������������������������������������������������������������������������������������������������������������������������������������������������������������������������������������������������������������������������������������������������������������������������������������������������������������������������������������������������������������������������������������������������������������������������������������������������������������������������������������������������������������������������������������������\n",
      "error:  Error: unsupported text language: ja, Code: 400 , X-global-transaction-id: becf6e2b-0198-4024-95df-d162e7604583\n",
      "try transelate\n",
      "error:  Error: unsupported text language: ja, Code: 400 , X-global-transaction-id: 1f497b7a-7b57-43bc-b68d-ef3ac9e93eca\n",
      "try transelate\n",
      "error:  Error: unsupported text language: ja, Code: 400 , X-global-transaction-id: e7ab8e50-b1ab-4b59-a6d0-940c6c9804b4\n",
      "try transelate\n",
      "error:  Error: unsupported text language: unknown, Code: 400 , X-global-transaction-id: 53883885-a6fa-49ba-8572-2b752e87b0c9\n",
      "try transelate\n",
      "failed to transelate:  Error: Unable to automatically detect the source language, confidence too low, Code: 404 , X-global-transaction-id: 75b88633-da7a-4d83-8c2a-7d05592a6469\n",
      "skip this text:  ���������������������������������������������������������������������������������������������������������������������������������������������������������������������������������������������������������������������������������������������������������������������������������\n",
      "error:  Error: unsupported text language: ja, Code: 400 , X-global-transaction-id: 4bd12da4-46a9-4263-90f8-dd6c5afc7571\n",
      "try transelate\n",
      "error:  Error: not enough text for language id, Code: 422 , X-global-transaction-id: 7b696332-6bb2-4a8f-b126-341b17890337\n",
      "try transelate\n",
      "failed to transelate:  Error: Automatically detected source language is the same as target, cannot translate. Try to set the source language explicitly if you think the source language was not correctly detected, Code: 404 , X-global-transaction-id: a6740cf6-0522-4a76-85b7-2bccf004fd28\n",
      "skip this text:  great\n",
      "error:  Error: unsupported text language: fo, Code: 400 , X-global-transaction-id: d9660c3e-11eb-4cc7-89c0-afebec64afd8\n",
      "try transelate\n",
      "failed to transelate:  Error: Unable to automatically detect the source language, confidence too low, Code: 404 , X-global-transaction-id: 75a5aeaa-1c3f-4f24-be3b-628d5c3684cf\n",
      "skip this text:  ���������������������������������������������������������������������������������������������������������������������������������������������������������������������������������������������������������������������������������������������������������������������������������������������������������������������������������������������������������������������������������������������������������������������������������������������������������������������������������������������������������������������2���3������������������������������������������������������������������������������������������������������������fx������������������������������������������������������������������������������������������������������������������������������������������������������������������������������������������������������������������������������������������������������������������������������������������������������\n",
      "error:  Error: unsupported text language: unknown, Code: 400 , X-global-transaction-id: bc9d35ae-4b4f-4aed-a801-1020d6818f32\n",
      "try transelate\n",
      "failed to transelate:  Error: Unable to automatically detect the source language, confidence too low, Code: 404 , X-global-transaction-id: cecc232f-91e1-4d81-8b65-ea8968ee889a\n",
      "skip this text:  ������������������������������������������������������������������������������������������������������������������������������������������������������������������\n",
      "error:  Error: not enough text for language id, Code: 422 , X-global-transaction-id: aa014123-d87e-4faf-93b5-f4779dce84c3\n",
      "try transelate\n",
      "failed to transelate:  Error: Unable to automatically detect the source language, confidence too low, Code: 404 , X-global-transaction-id: 67319ccf-59d0-4011-b540-559152ad2b47\n",
      "skip this text:  23fx\n",
      "error:  Error: not enough text for language id, Code: 422 , X-global-transaction-id: bbf3904b-2427-415e-913c-96b7ff918167\n",
      "try transelate\n",
      "failed to transelate:  Error: Unable to automatically detect the source language, confidence too low, Code: 404 , X-global-transaction-id: 03a5330a-639c-4952-acdd-d43e6add76f9\n",
      "skip this text:  23fx\n",
      "error:  Error: unsupported text language: unknown, Code: 400 , X-global-transaction-id: 89e65e8b-f993-4f5a-b311-0462df1725d9\n",
      "try transelate\n",
      "failed to transelate:  Error: Unable to automatically detect the source language, confidence too low, Code: 404 , X-global-transaction-id: 70912186-38fc-44bb-b17b-187b67164d03\n",
      "skip this text:  ���������������������������������������������������������������������������������������������������������������������������������������������������������������������������������������������������������������������������������������������������������������������������������������������������������������������������������������������������������������������������������������������������������������������������������������������������������������������������������������������������������������������������������������������������������������������������������������������������������������������������������������������������������������������������������������������������������������������������������������������������������������������������������������������������������������������������������������������������������������������������������������������������������������������������������������������������������������������������������������������������������������\n",
      "error:  Error: unsupported text language: unknown, Code: 400 , X-global-transaction-id: e948c260-2734-42ad-a094-6d8384d7ea33\n",
      "try transelate\n",
      "failed to transelate:  Error: Unable to automatically detect the source language, confidence too low, Code: 404 , X-global-transaction-id: 193bf9a7-3a7a-47eb-8b4c-90b80eaa8d63\n",
      "skip this text:  ������������������������������������������������������������������������������������������������������������������������������������������������������������������������������������������������������������������������������������������������������������������������������������������������������������������������������������������������������������������������������������������������������������������������������������������������������������������������������������������������������\n",
      "error:  Error: unsupported text language: unknown, Code: 400 , X-global-transaction-id: 44785b6b-9c6d-42a0-bca6-3bc4d0327b15\n",
      "try transelate\n"
     ]
    },
    {
     "name": "stderr",
     "output_type": "stream",
     "text": [
      " 18%|█▊        | 53/299 [37:57<3:31:39, 51.62s/it]"
     ]
    },
    {
     "name": "stdout",
     "output_type": "stream",
     "text": [
      "failed to transelate:  Error: Unable to automatically detect the source language, confidence too low, Code: 404 , X-global-transaction-id: a9e3c094-9779-4b14-b5df-c59d0ad39336\n",
      "skip this text:  ������������������������������������������������������������������������������������������������������������������������������������������������������������������������������������������������������������������������������������������������������������������������������������������������������������������������������������������������������������������������������������������������������������������������������������������������������������������������������������������������������\n",
      "error:  Error: not enough text for language id, Code: 422 , X-global-transaction-id: 52b86294-17b8-4c09-b7ab-81bfb49e6740\n",
      "try transelate\n",
      "failed to transelate:  Error: Unable to automatically detect the source language, confidence too low, Code: 404 , X-global-transaction-id: 7e5e1b8e-0311-4298-a4c2-9bb8118a7975\n",
      "skip this text:  Ok\n",
      "error:  Error: not enough text for language id, Code: 422 , X-global-transaction-id: 2a88ea30-ab25-437e-8da7-c002e9a7cee6\n",
      "try transelate\n",
      "failed to transelate:  Error: Automatically detected source language is the same as target, cannot translate. Try to set the source language explicitly if you think the source language was not correctly detected, Code: 404 , X-global-transaction-id: d9a564de-aeb4-422d-b04e-a067f39138b0\n",
      "skip this text:  Comfortable\n",
      "error:  Error: not enough text for language id, Code: 422 , X-global-transaction-id: 136d083b-785d-442b-8af1-0b2417a21f52\n",
      "try transelate\n",
      "failed to transelate:  Error: Unable to automatically detect the source language, confidence too low, Code: 404 , X-global-transaction-id: 6eafc284-9519-4fcf-9e9e-014a016c6a63\n",
      "skip this text:  Good !!\n",
      "error:  Error: upstream connect error or disconnect/reset before headers. reset reason: connection termination, Code: 503 , X-global-transaction-id: e93fc124-313d-4d19-ac6f-9a4028baee31\n",
      "try transelate\n",
      "failed to transelate:  Error: Unable to automatically detect the source language, confidence too low, Code: 404 , X-global-transaction-id: 121812b7-b183-4397-b60a-f20030edc1c8\n",
      "skip this text:  xxxxxxxxxxxxxxxxxxxxxxxxxxxxxxxxxxxxxxxxxx\n"
     ]
    },
    {
     "name": "stderr",
     "output_type": "stream",
     "text": [
      " 18%|█▊        | 54/299 [38:55<3:39:06, 53.66s/it]"
     ]
    },
    {
     "name": "stdout",
     "output_type": "stream",
     "text": [
      "error:  Error: not enough text for language id, Code: 422 , X-global-transaction-id: 6742ae2b-00be-4f74-9940-d5af99c5fbda\n",
      "try transelate\n",
      "failed to transelate:  Error: Unable to automatically detect the source language, confidence too low, Code: 404 , X-global-transaction-id: e63f1d75-d8ec-436a-af22-99056a0637d0\n",
      "skip this text:  Htel trs sympa\n",
      "error:  Error: unsupported text language: it, Code: 400 , X-global-transaction-id: 56c2af19-f8f6-4f5f-86c3-e6a399b57203\n",
      "try transelate\n",
      "error:  Error: unsupported text language: it, Code: 400 , X-global-transaction-id: 6de71f98-a1e6-47e3-99c6-4411bf52f05f\n",
      "try transelate\n",
      "error:  Error: unsupported text language: it, Code: 400 , X-global-transaction-id: 2da2ede7-5358-406b-b288-07e67755264b\n",
      "try transelate\n",
      "error:  Error: unsupported text language: de, Code: 400 , X-global-transaction-id: 52f95424-7612-4372-9983-f6fd5d5cfea9\n",
      "try transelate\n",
      "error:  Error: unsupported text language: de, Code: 400 , X-global-transaction-id: 93db9f81-2a3f-4baa-990e-87fc15c8f9fe\n",
      "try transelate\n",
      "error:  Error: unsupported text language: de, Code: 400 , X-global-transaction-id: 3274f237-f32d-4948-ad1a-748f338aec8a\n",
      "try transelate\n",
      "error:  Error: unsupported text language: it, Code: 400 , X-global-transaction-id: df706cc9-bf64-47ca-b677-44e73f7e2f0a\n",
      "try transelate\n",
      "error:  Error: unsupported text language: it, Code: 400 , X-global-transaction-id: 2aa24c94-82ff-4c84-bc15-e76e0b31b1b1\n",
      "try transelate\n",
      "error:  Error: unsupported text language: it, Code: 400 , X-global-transaction-id: 02a1ee93-c9c4-4978-b403-49e7d80260b9\n",
      "try transelate\n",
      "error:  Error: unsupported text language: nl, Code: 400 , X-global-transaction-id: 63471fe2-577c-4fcf-9e7d-3aef5f73dffa\n",
      "try transelate\n",
      "error:  Error: unsupported text language: it, Code: 400 , X-global-transaction-id: a1645ca6-4439-4b3e-a138-b5f3e28a5a4a\n",
      "try transelate\n",
      "error:  Error: unsupported text language: de, Code: 400 , X-global-transaction-id: c8b06a6a-d3a4-4543-920b-ad00a0914aaf\n",
      "try transelate\n",
      "error:  Error: unsupported text language: de, Code: 400 , X-global-transaction-id: 7de8e252-e1e3-438f-a7bb-564fae62d9fc\n",
      "try transelate\n",
      "error:  Error: unsupported text language: de, Code: 400 , X-global-transaction-id: 1ac816f3-21c8-4f4a-a494-0bc7738d6a01\n",
      "try transelate\n",
      "error:  Error: unsupported text language: de, Code: 400 , X-global-transaction-id: 26662106-688c-4ba1-8af8-3b6a7bd67ab0\n",
      "try transelate\n",
      "error:  Error: unsupported text language: it, Code: 400 , X-global-transaction-id: d5e446e5-e339-4567-956a-ad3e846f1057\n",
      "try transelate\n",
      "error:  Error: unsupported text language: de, Code: 400 , X-global-transaction-id: c1c77b26-633c-46bd-94ca-844f15e003cd\n",
      "try transelate\n",
      "error:  Error: unsupported text language: it, Code: 400 , X-global-transaction-id: 89f3347b-57d7-4b56-9e72-e828c28cd7ed\n",
      "try transelate\n",
      "error:  Error: unsupported text language: it, Code: 400 , X-global-transaction-id: d0215876-d577-4ec4-8b7e-3a7f9ade4c07\n",
      "try transelate\n",
      "error:  Error: unsupported text language: it, Code: 400 , X-global-transaction-id: aeae07b7-319b-4873-884a-612df6184805\n",
      "try transelate\n",
      "error:  Error: unsupported text language: it, Code: 400 , X-global-transaction-id: 2d1f8da6-4c8c-42d1-ac76-323cc1177d7a\n",
      "try transelate\n",
      "error:  Error: unsupported text language: it, Code: 400 , X-global-transaction-id: 8d691e9f-8e75-485b-ba5a-f23fafd06546\n",
      "try transelate\n",
      "error:  Error: unsupported text language: it, Code: 400 , X-global-transaction-id: 166b39b6-0299-4ab2-a30c-2ba8fe56ff2c\n",
      "try transelate\n",
      "error:  Error: unsupported text language: it, Code: 400 , X-global-transaction-id: 7ef06b04-128f-4e4a-a090-62d4c097601f\n",
      "try transelate\n"
     ]
    },
    {
     "name": "stderr",
     "output_type": "stream",
     "text": [
      " 18%|█▊        | 55/299 [40:54<4:57:36, 73.18s/it]"
     ]
    },
    {
     "name": "stdout",
     "output_type": "stream",
     "text": [
      "error:  Error: not enough text for language id, Code: 422 , X-global-transaction-id: 6844dcc1-de11-4629-b8c4-4d0aa27fb5ae\n",
      "try transelate\n",
      "failed to transelate:  Error: Automatically detected source language is the same as target, cannot translate. Try to set the source language explicitly if you think the source language was not correctly detected, Code: 404 , X-global-transaction-id: 21db424c-db3f-4253-a878-6cc7e9e52804\n",
      "skip this text:  interesting\n"
     ]
    },
    {
     "name": "stderr",
     "output_type": "stream",
     "text": [
      " 19%|█▊        | 56/299 [41:51<4:36:59, 68.39s/it]"
     ]
    },
    {
     "name": "stdout",
     "output_type": "stream",
     "text": [
      "error:  Error: unsupported text language: sv, Code: 400 , X-global-transaction-id: 0c4691df-37d3-40a1-957f-a67c97ab1889\n",
      "try transelate\n",
      "error:  Error: unsupported text language: de, Code: 400 , X-global-transaction-id: 8ed6bd8d-b690-4899-bb3f-deeaf6bbbe74\n",
      "try transelate\n",
      "error:  Error: unsupported text language: nl, Code: 400 , X-global-transaction-id: 2561b8f6-6f79-4e0c-86e6-6038eacb47ea\n",
      "try transelate\n",
      "error:  Error: unsupported text language: de, Code: 400 , X-global-transaction-id: 92e52bac-f8f3-4d83-95b7-a5f037b363f4\n",
      "try transelate\n",
      "error:  Error: unsupported text language: de, Code: 400 , X-global-transaction-id: 3527abb4-fca3-405e-8ab4-a38e1548319a\n",
      "try transelate\n",
      "error:  Error: unsupported text language: es, Code: 400 , X-global-transaction-id: 91291281-cc2b-464d-a49f-d101f1d9d992\n",
      "try transelate\n",
      "error:  Error: unsupported text language: es, Code: 400 , X-global-transaction-id: 8d398010-a1a3-46e9-bcda-497d48ffef0f\n",
      "try transelate\n",
      "error:  Error: unsupported text language: no, Code: 400 , X-global-transaction-id: e93e5379-2cac-4098-baf4-bc519fe74365\n",
      "try transelate\n",
      "error:  Error: unsupported text language: de, Code: 400 , X-global-transaction-id: ce2ecebe-f951-42a9-bf7d-e95d6231045c\n",
      "try transelate\n"
     ]
    },
    {
     "name": "stderr",
     "output_type": "stream",
     "text": [
      " 20%|█▉        | 59/299 [43:50<2:49:30, 42.38s/it]"
     ]
    },
    {
     "name": "stdout",
     "output_type": "stream",
     "text": [
      "error:  Error: not enough text for language id, Code: 422 , X-global-transaction-id: 57d17c14-d7e8-47b3-8bf6-fbd44ad7b99d\n",
      "try transelate\n",
      "failed to transelate:  Error: Automatically detected source language is the same as target, cannot translate. Try to set the source language explicitly if you think the source language was not correctly detected, Code: 404 , X-global-transaction-id: da93b828-931c-4b64-a8d8-8241fe60fffc\n",
      "skip this text:  Great\n"
     ]
    },
    {
     "name": "stderr",
     "output_type": "stream",
     "text": [
      " 20%|██        | 60/299 [44:51<3:10:47, 47.90s/it]"
     ]
    },
    {
     "name": "stdout",
     "output_type": "stream",
     "text": [
      "error:  Error: not enough text for language id, Code: 422 , X-global-transaction-id: 839a7b5d-b0c4-4382-b11d-8e57bcef5f42\n",
      "try transelate\n",
      "failed to transelate:  Error: Unable to automatically detect the source language, confidence too low, Code: 404 , X-global-transaction-id: 0c4c7212-ade3-4223-889b-d52e949deec0\n",
      "skip this text:  great!\n",
      "error:  Error: not enough text for language id, Code: 422 , X-global-transaction-id: 4ec396a5-ca1e-45dd-9c38-27761122ad07\n",
      "try transelate\n",
      "failed to transelate:  Error: Automatically detected source language is the same as target, cannot translate. Try to set the source language explicitly if you think the source language was not correctly detected, Code: 404 , X-global-transaction-id: 75fb5d7a-a2ac-4548-924b-01e4aa5a32db\n",
      "skip this text:  not bad\n"
     ]
    },
    {
     "name": "stderr",
     "output_type": "stream",
     "text": [
      " 21%|██        | 62/299 [47:23<4:12:44, 63.99s/it]"
     ]
    },
    {
     "name": "stdout",
     "output_type": "stream",
     "text": [
      "error:  Error: not enough text for language id, Code: 422 , X-global-transaction-id: 833b8c3a-d8e8-433f-84e4-c2e1d3f2779f\n",
      "try transelate\n",
      "failed to transelate:  Error: Automatically detected source language is the same as target, cannot translate. Try to set the source language explicitly if you think the source language was not correctly detected, Code: 404 , X-global-transaction-id: ae166a95-b1f3-4583-8414-d29e51fada06\n",
      "skip this text:  Good\n"
     ]
    },
    {
     "name": "stderr",
     "output_type": "stream",
     "text": [
      " 21%|██        | 63/299 [48:07<3:47:36, 57.87s/it]"
     ]
    },
    {
     "name": "stdout",
     "output_type": "stream",
     "text": [
      "error:  Error: upstream connect error or disconnect/reset before headers. reset reason: connection termination, Code: 503 , X-global-transaction-id: 7e1c7897-09da-44ec-aaf8-125a36e4792f\n",
      "try transelate\n",
      "failed to transelate:  Error: Automatically detected source language is the same as target, cannot translate. Try to set the source language explicitly if you think the source language was not correctly detected, Code: 404 , X-global-transaction-id: 81031216-cd1a-4c24-8178-4e88166d691d\n",
      "skip this text:  It's a motel. For 30 a night I wasn't expecting much. The owner is very friendly and so was the housekeeper. My biggest problem was the bed. It was hard as a rock. I literally woke up because my hip was sore from laying on my side. And the main office smells like some kind of musky oil and it just stayed with me the whole time. I didn't like it at all. I did like that it is a smoke free, pet free property. Here is a few ideas to make the place better. New beds, pillows and blankets, new paint in the rooms (get rid of those bold colors, no-one likes them in a bed room, not calming or relaxing) and stop with the oil or whatever that smell is and I would def stay again.\n",
      "error:  ('Connection aborted.', ConnectionResetError(10054, 'An existing connection was forcibly closed by the remote host', None, 10054, None))\n",
      "try transelate\n",
      "failed to transelate:  Error: Automatically detected source language is the same as target, cannot translate. Try to set the source language explicitly if you think the source language was not correctly detected, Code: 404 , X-global-transaction-id: 8f8bf654-485c-4819-b35a-b49c2d5da24d\n",
      "skip this text:  FyiNo coffee facilty in room, no breakfast(front desk suggested goto Denny) my fault I never caught or expected their ommission,yes wifi good, cable tv good reception and selection,room spacious, ac quiet, great ceiling fan,1hr extended check out, extra charge. BUT 1 HR BEFORE CHECKOUT,front desk CALL IF STAYING XTRA DAY (not prepaid or ever discussed),then within this last hour hskeeping from 2nd floor balcony asks any walking person anywhere in parking lot, if checking out..even if patron is on opposite end of property or standing outsude their room getting breath of fresh air..btw, loudly enough to dusturb anyone from relaxing during your last -paid hour of occupancy...maybe I should have asked for prorated hour refund for this. If it is not 11am checkout time, let me be,PLEASE!! Telephonically or verbally WHERE EVER I may be !! Very discourteous behavior,Imho..hence say goodbye!\n",
      "error:  Error: not enough text for language id, Code: 422 , X-global-transaction-id: a03dce56-73ad-43e5-b3f6-1d236c7ba31d\n",
      "try transelate\n",
      "failed to transelate:  Error: Unable to automatically detect the source language, confidence too low, Code: 404 , X-global-transaction-id: 1d94be8f-5921-4906-8505-935c070c2ec3\n",
      "skip this text:  Basic\n",
      "error:  Error: not enough text for language id, Code: 422 , X-global-transaction-id: 0831d5bd-290d-48c9-87b1-da37f5d7b265\n",
      "try transelate\n",
      "failed to transelate:  Error: Unable to automatically detect the source language, confidence too low, Code: 404 , X-global-transaction-id: ccbd80b7-876f-4d2a-96df-1133e7146fb5\n",
      "skip this text:  nightmare\n",
      "error:  Error: not enough text for language id, Code: 422 , X-global-transaction-id: 162ec709-f048-4935-9de3-b4604c7b5e2e\n",
      "try transelate\n",
      "failed to transelate:  Error: Unable to automatically detect the source language, confidence too low, Code: 404 , X-global-transaction-id: ab463122-b0bd-4758-a3a1-9f10fe71383f\n",
      "skip this text:  Ok.\n"
     ]
    },
    {
     "name": "stderr",
     "output_type": "stream",
     "text": [
      " 21%|██▏       | 64/299 [49:05<3:46:41, 57.88s/it]"
     ]
    },
    {
     "name": "stdout",
     "output_type": "stream",
     "text": [
      "error:  Error: unsupported text language: de, Code: 400 , X-global-transaction-id: 38c27650-d54a-42c8-9b39-e78a1e1b48ef\n",
      "try transelate\n",
      "error:  Error: unsupported text language: de, Code: 400 , X-global-transaction-id: 846cd973-0f99-44f1-8b61-9aaac60ff8a6\n",
      "try transelate\n",
      "error:  Error: unsupported text language: es, Code: 400 , X-global-transaction-id: 2a812659-d6dc-45b7-9ffa-ddfa2aeb417a\n",
      "try transelate\n",
      "error:  Error: unsupported text language: de, Code: 400 , X-global-transaction-id: 2d26f77f-a283-4ed7-a525-d43b712844ae\n",
      "try transelate\n",
      "error:  Error: unsupported text language: da, Code: 400 , X-global-transaction-id: 56b4df20-a8dc-4e9c-9005-d166c4ce2336\n",
      "try transelate\n",
      "error:  Error: not enough text for language id, Code: 422 , X-global-transaction-id: bbb2703c-6501-467b-9b0d-b09ec6351b78\n",
      "try transelate\n",
      "failed to transelate:  Error: Unable to automatically detect the source language, confidence too low, Code: 404 , X-global-transaction-id: 3402a4fb-9b8d-4f32-a01a-eeedd5ef842c\n",
      "skip this text:  40Km 1 . . . .\n",
      "error:  Error: unsupported text language: no, Code: 400 , X-global-transaction-id: 45683e00-2651-42d1-ad97-0f634c5075fe\n",
      "try transelate\n",
      "error:  Error: not enough text for language id, Code: 422 , X-global-transaction-id: 40232fd7-c555-445d-90a2-426212321a1d\n",
      "try transelate\n",
      "error:  Error: unsupported text language: no, Code: 400 , X-global-transaction-id: ed7d466d-b33e-479d-bd87-33a6fc91a55e\n",
      "try transelate\n",
      "error:  Error: unsupported text language: es, Code: 400 , X-global-transaction-id: 3a172829-9b94-42ce-a089-d4e8a7fc0b31\n",
      "try transelate\n"
     ]
    },
    {
     "name": "stderr",
     "output_type": "stream",
     "text": [
      " 22%|██▏       | 65/299 [52:59<7:12:06, 110.80s/it]"
     ]
    },
    {
     "name": "stdout",
     "output_type": "stream",
     "text": [
      "error:  Error: not enough text for language id, Code: 422 , X-global-transaction-id: 6172ecc1-374e-4a20-81c0-e83f80cb1556\n",
      "try transelate\n",
      "failed to transelate:  Error: Automatically detected source language is the same as target, cannot translate. Try to set the source language explicitly if you think the source language was not correctly detected, Code: 404 , X-global-transaction-id: 354d44df-5124-42cb-b475-3ef854688735\n",
      "skip this text:  conferance\n",
      "error:  Error: not enough text for language id, Code: 422 , X-global-transaction-id: 541bbe60-59fb-439b-8d81-07c6dff6c726\n",
      "try transelate\n",
      "failed to transelate:  Error: Automatically detected source language is the same as target, cannot translate. Try to set the source language explicitly if you think the source language was not correctly detected, Code: 404 , X-global-transaction-id: d4b6b16a-0a15-4aa4-84ce-4969cad02df6\n",
      "skip this text:  Great\n",
      "error:  Error: not enough text for language id, Code: 422 , X-global-transaction-id: 9f27f77a-3c95-4121-b8a2-2a07aba4091f\n",
      "try transelate\n",
      "failed to transelate:  Error: Unable to automatically detect the source language, confidence too low, Code: 404 , X-global-transaction-id: a3121656-08eb-42e9-a88a-cba8a70aafc1\n",
      "skip this text:  excellent\n",
      "error:  Error: not enough text for language id, Code: 422 , X-global-transaction-id: 146c2828-f9c4-4f37-b8d8-f364309b2f4a\n",
      "try transelate\n",
      "failed to transelate:  Error: Unable to automatically detect the source language, confidence too low, Code: 404 , X-global-transaction-id: 10437e7e-5744-4bc6-9645-c1624be2fdce\n",
      "skip this text:  EXCELLENT\n"
     ]
    },
    {
     "name": "stderr",
     "output_type": "stream",
     "text": [
      " 22%|██▏       | 66/299 [54:18<6:33:06, 101.23s/it]"
     ]
    },
    {
     "name": "stdout",
     "output_type": "stream",
     "text": [
      "error:  Error: not enough text for language id, Code: 422 , X-global-transaction-id: e5f3e041-9f7a-479e-8f22-faad63b4869c\n",
      "try transelate\n",
      "failed to transelate:  Error: Automatically detected source language is the same as target, cannot translate. Try to set the source language explicitly if you think the source language was not correctly detected, Code: 404 , X-global-transaction-id: ac39f2c6-6250-409d-931c-07297862a526\n",
      "skip this text:  Awesome\n"
     ]
    },
    {
     "name": "stderr",
     "output_type": "stream",
     "text": [
      " 22%|██▏       | 67/299 [55:03<5:26:04, 84.33s/it] "
     ]
    },
    {
     "name": "stdout",
     "output_type": "stream",
     "text": [
      "error:  Error: unsupported text language: mt, Code: 400 , X-global-transaction-id: 0634b595-813f-4abb-9726-28379f05b60e\n",
      "try transelate\n"
     ]
    },
    {
     "name": "stderr",
     "output_type": "stream",
     "text": [
      " 23%|██▎       | 68/299 [55:05<3:50:00, 59.74s/it]"
     ]
    },
    {
     "name": "stdout",
     "output_type": "stream",
     "text": [
      "failed to transelate:  Error: Unable to automatically detect the source language, confidence too low, Code: 404 , X-global-transaction-id: 4e463342-eccf-46b5-8b05-cc8f110f9e29\n",
      "skip this text:  xxxxxxxxxxxxxxxxxxxxxxxxxxxxxxxxxxxxxxxxxx\n",
      "error:  Error: not enough text for language id, Code: 422 , X-global-transaction-id: 643133b4-2594-43bc-a9d4-4db775fecb2e\n",
      "try transelate\n",
      "failed to transelate:  Error: Unable to automatically detect the source language, confidence too low, Code: 404 , X-global-transaction-id: 61ff87c6-c80a-4338-aa10-ac80100e7912\n",
      "skip this text:  Ok\n"
     ]
    },
    {
     "name": "stderr",
     "output_type": "stream",
     "text": [
      " 23%|██▎       | 69/299 [55:42<3:23:02, 52.97s/it]"
     ]
    },
    {
     "name": "stdout",
     "output_type": "stream",
     "text": [
      "error:  Error: unsupported text language: pt, Code: 400 , X-global-transaction-id: fce24dce-3a16-4e0d-b9f9-5957f6f89fe5\n",
      "try transelate\n",
      "error:  Error: unsupported text language: pt, Code: 400 , X-global-transaction-id: 5c5f0c91-b10c-43d4-8dd6-44e67f195cfc\n",
      "try transelate\n",
      "error:  Error: unsupported text language: pt, Code: 400 , X-global-transaction-id: 0b278784-87e3-4f15-bf62-94932a77c7be\n",
      "try transelate\n",
      "error:  Error: unsupported text language: it, Code: 400 , X-global-transaction-id: d7520a32-8554-4ed9-b0ca-dfe665ad021d\n",
      "try transelate\n",
      "error:  Error: not enough text for language id, Code: 422 , X-global-transaction-id: a35a3a00-8d18-4a4f-8bab-810e01722323\n",
      "try transelate\n",
      "failed to transelate:  Error: Unable to automatically detect the source language, confidence too low, Code: 404 , X-global-transaction-id: 1ddcf5d7-4da7-43b7-be3f-d1fdce9138b2\n",
      "skip this text:  bene\n",
      "error:  Error: unsupported text language: it, Code: 400 , X-global-transaction-id: 85512105-3829-4cba-9186-e631717e63ac\n",
      "try transelate\n",
      "error:  Error: unsupported text language: it, Code: 400 , X-global-transaction-id: f98dd952-9d02-45f6-a99b-44285a7bb8a6\n",
      "try transelate\n",
      "error:  Error: unsupported text language: it, Code: 400 , X-global-transaction-id: d95b062d-9984-412c-9f98-8820c23e2a39\n",
      "try transelate\n",
      "error:  Error: unsupported text language: it, Code: 400 , X-global-transaction-id: 2acd1d45-b253-48f9-9fca-db69f5b5c97a\n",
      "try transelate\n",
      "error:  Error: unsupported text language: it, Code: 400 , X-global-transaction-id: 5536c7f0-c77b-4129-a7a8-921c27e6c8a4\n",
      "try transelate\n",
      "error:  Error: unsupported text language: it, Code: 400 , X-global-transaction-id: f4ad97f3-7a86-41db-9df1-617d05d49080\n",
      "try transelate\n",
      "error:  Error: not enough text for language id, Code: 422 , X-global-transaction-id: 602a9a39-df33-4ad8-822e-9e75ea9763d2\n",
      "try transelate\n",
      "failed to transelate:  Error: Unable to automatically detect the source language, confidence too low, Code: 404 , X-global-transaction-id: f941aace-b21c-41d6-850d-b2f8f47970fd\n",
      "skip this text:  OK\n",
      "error:  Error: not enough text for language id, Code: 422 , X-global-transaction-id: 2b8efee7-a1dd-4998-be42-339ee77e7b2a\n",
      "try transelate\n",
      "failed to transelate:  Error: Unable to automatically detect the source language, confidence too low, Code: 404 , X-global-transaction-id: a96258d2-c820-4f81-876b-bf341e19edd6\n",
      "skip this text:  OK\n",
      "error:  Error: unsupported text language: it, Code: 400 , X-global-transaction-id: f230c375-e158-4bb7-83d5-e1186281e826\n",
      "try transelate\n",
      "error:  Error: unsupported text language: it, Code: 400 , X-global-transaction-id: 82d5545f-6c72-4310-a7ae-eb13d2291eef\n",
      "try transelate\n",
      "error:  Error: unsupported text language: es, Code: 400 , X-global-transaction-id: ce8a9125-dbe3-48b5-8951-364d769b3938\n",
      "try transelate\n",
      "error:  Error: unsupported text language: it, Code: 400 , X-global-transaction-id: 6b31aee0-7f79-438b-90d1-d556c51f5a61\n",
      "try transelate\n"
     ]
    },
    {
     "name": "stderr",
     "output_type": "stream",
     "text": [
      " 23%|██▎       | 70/299 [57:18<4:10:52, 65.73s/it]"
     ]
    },
    {
     "name": "stdout",
     "output_type": "stream",
     "text": [
      "error:  Error: unsupported text language: no, Code: 400 , X-global-transaction-id: 00e7d195-de7d-49ee-96e9-462cc6f822d7\n",
      "try transelate\n",
      "error:  Error: unsupported text language: no, Code: 400 , X-global-transaction-id: 785e664d-de1c-4c84-b0ce-208ca86edb49\n",
      "try transelate\n",
      "error:  Error: unsupported text language: es, Code: 400 , X-global-transaction-id: f76b2781-1672-49f8-bb70-986ecb3b31c9\n",
      "try transelate\n",
      "error:  Error: unsupported text language: oc, Code: 400 , X-global-transaction-id: a1a1260a-795b-4804-9d7b-f657f942d90c\n",
      "try transelate\n",
      "error:  Error: unsupported text language: de, Code: 400 , X-global-transaction-id: 29accfb5-5955-46c6-a814-82cf93377237\n",
      "try transelate\n",
      "error:  Error: not enough text for language id, Code: 422 , X-global-transaction-id: 635cdc6f-3c02-4b89-9459-6cb0b79db4ee\n",
      "try transelate\n",
      "failed to transelate:  Error: Unable to automatically detect the source language, confidence too low, Code: 404 , X-global-transaction-id: 328795ab-30fd-476b-941e-7cf9bbcc02e5\n",
      "skip this text:  , - - . , - .\n",
      "error:  Error: unsupported text language: nl, Code: 400 , X-global-transaction-id: fd0d88fe-e0e4-49ef-ab43-57d01a39d4b0\n",
      "try transelate\n",
      "error:  Error: unsupported text language: es, Code: 400 , X-global-transaction-id: 6aad97af-f975-4690-b35f-b7bd72f00265\n",
      "try transelate\n",
      "error:  Error: unsupported text language: es, Code: 400 , X-global-transaction-id: 86048c53-7b28-4360-b810-bdfdaa3831c2\n",
      "try transelate\n",
      "error:  Error: unsupported text language: es, Code: 400 , X-global-transaction-id: d13ce8e7-0364-4351-949e-b85b4850ab2b\n",
      "try transelate\n",
      "error:  Error: unsupported text language: es, Code: 400 , X-global-transaction-id: a473a340-1b1c-470a-bed9-ed1dfeb6db72\n",
      "try transelate\n",
      "error:  Error: not enough text for language id, Code: 422 , X-global-transaction-id: eb1f37cb-e248-4b02-9cac-0a023290583d\n",
      "try transelate\n",
      "failed to transelate:  Error: Automatically detected source language is the same as target, cannot translate. Try to set the source language explicitly if you think the source language was not correctly detected, Code: 404 , X-global-transaction-id: 28a66c54-9a48-413e-a8cb-d4ee3fa9e42c\n",
      "skip this text:  Run down\n",
      "error:  Error: unsupported text language: fi, Code: 400 , X-global-transaction-id: 514b25d4-9e71-4317-b131-e1c33aede6ab\n",
      "try transelate\n",
      "error:  Error: unsupported text language: pt, Code: 400 , X-global-transaction-id: ac7d8c5c-ecca-4304-9679-a0b4f9d7bea7\n",
      "try transelate\n",
      "error:  Error: unsupported text language: es, Code: 400 , X-global-transaction-id: 35b017c7-5c91-422f-a67e-ecfaf279bded\n",
      "try transelate\n",
      "failed to transelate:  Error: Automatically detected source language is the same as target, cannot translate. Try to set the source language explicitly if you think the source language was not correctly detected, Code: 404 , X-global-transaction-id: 84666f09-2f64-4985-93bb-91c6a1626e9a\n",
      "skip this text:  100 recomendable.\n",
      "error:  Error: unsupported text language: fi, Code: 400 , X-global-transaction-id: 9edad6c7-228c-458b-9ea5-097e24558936\n",
      "try transelate\n",
      "error:  Error: unsupported text language: unknown, Code: 400 , X-global-transaction-id: 2a9087c7-bf63-4bdd-872d-0ba78d20e2e3\n",
      "try transelate\n",
      "failed to transelate:  Error: Unable to automatically detect the source language, confidence too low, Code: 404 , X-global-transaction-id: 0bd110c0-835b-438a-ab2f-d1996af4b03f\n",
      "skip this text:  26 -29. - 1 , . , - . . . , .\n"
     ]
    },
    {
     "name": "stderr",
     "output_type": "stream",
     "text": [
      " 24%|██▍       | 73/299 [1:00:17<3:05:07, 49.15s/it]"
     ]
    },
    {
     "name": "stdout",
     "output_type": "stream",
     "text": [
      "error:  Error: not enough text for language id, Code: 422 , X-global-transaction-id: d87056bb-c0c2-49f4-b5a4-f777ded4bd7e\n",
      "try transelate\n",
      "failed to transelate:  Error: Unable to automatically detect the source language, confidence too low, Code: 404 , X-global-transaction-id: df0746c0-b1cb-43bb-a09a-e66e4aa1ddaa\n",
      "skip this text:  Bad\n",
      "error:  Error: unsupported text language: ca, Code: 400 , X-global-transaction-id: 9213292f-6f83-45ff-ad07-e167ba03d802\n",
      "try transelate\n",
      "failed to transelate:  Error: Unable to automatically detect the source language, confidence too low, Code: 404 , X-global-transaction-id: 55bcf669-2b6d-4935-a146-2245826b2692\n",
      "skip this text:  EXCELLENT value!\n"
     ]
    },
    {
     "name": "stderr",
     "output_type": "stream",
     "text": [
      " 25%|██▍       | 74/299 [1:01:03<3:00:56, 48.25s/it]"
     ]
    },
    {
     "name": "stdout",
     "output_type": "stream",
     "text": [
      "error:  Error: not enough text for language id, Code: 422 , X-global-transaction-id: a55fa2b4-56f8-4bc9-8a82-eb263b01a35e\n",
      "try transelate\n",
      "failed to transelate:  Error: Automatically detected source language is the same as target, cannot translate. Try to set the source language explicitly if you think the source language was not correctly detected, Code: 404 , X-global-transaction-id: 8dc98098-98fe-4d84-94ba-2f97b0812364\n",
      "skip this text:  Cheap hotel.\n",
      "error:  Error: not enough text for language id, Code: 422 , X-global-transaction-id: 7150ea1b-cb22-41fd-8d9a-1864541b17a3\n",
      "try transelate\n",
      "failed to transelate:  Error: Unable to automatically detect the source language, confidence too low, Code: 404 , X-global-transaction-id: a4c7ca15-eaaf-43c7-8108-f519fc0f121d\n",
      "skip this text:  Awful\n",
      "error:  Error: not enough text for language id, Code: 422 , X-global-transaction-id: 939cc9e0-fd10-4040-bace-062490aa3c94\n",
      "try transelate\n",
      "failed to transelate:  Error: Unable to automatically detect the source language, confidence too low, Code: 404 , X-global-transaction-id: 2586e278-28b0-4def-ac4f-18cd78172b90\n",
      "skip this text:  Fine\n",
      "error:  Error: not enough text for language id, Code: 422 , X-global-transaction-id: a880af76-8265-4732-8b81-e922028f1025\n",
      "try transelate\n",
      "failed to transelate:  Error: Automatically detected source language is the same as target, cannot translate. Try to set the source language explicitly if you think the source language was not correctly detected, Code: 404 , X-global-transaction-id: 71dba76f-ffd8-42e0-8de0-a059e05c5f13\n",
      "skip this text:  Just ok\n",
      "error:  Error: unsupported text language: mt, Code: 400 , X-global-transaction-id: b54e6746-1430-4295-b6b4-b1e38096faf8\n",
      "try transelate\n",
      "failed to transelate:  Error: Unable to automatically detect the source language, confidence too low, Code: 404 , X-global-transaction-id: d041f670-63ce-424e-88c6-3883d420ef3d\n",
      "skip this text:  xxxxxxxxxxxxxxxxxxxxxxxxxxxxxxxxxxxxxxxxxx\n"
     ]
    },
    {
     "name": "stderr",
     "output_type": "stream",
     "text": [
      " 25%|██▌       | 76/299 [1:06:01<5:33:45, 89.80s/it] "
     ]
    },
    {
     "name": "stdout",
     "output_type": "stream",
     "text": [
      "error:  Error: not enough text for language id, Code: 422 , X-global-transaction-id: 7f8a709b-af32-4e31-8864-a785d743c311\n",
      "try transelate\n",
      "failed to transelate:  Error: Automatically detected source language is the same as target, cannot translate. Try to set the source language explicitly if you think the source language was not correctly detected, Code: 404 , X-global-transaction-id: c61f5c02-61ff-40cc-9628-4801daa7533a\n",
      "skip this text:  just meh....\n",
      "error:  Error: unsupported text language: mt, Code: 400 , X-global-transaction-id: 3c9105ee-f5f5-46f0-9bee-fe516168533e\n",
      "try transelate\n",
      "failed to transelate:  Error: Unable to automatically detect the source language, confidence too low, Code: 404 , X-global-transaction-id: d4f2de57-1401-4667-93ed-380d355c7a87\n",
      "skip this text:  xxxxxxxxxxxxxxxxxxxxxxxxxxxxxxxxxxxxxxxxxx\n",
      "error:  Error: not enough text for language id, Code: 422 , X-global-transaction-id: ca752d8e-2bbd-4e32-bda1-737ee131405a\n",
      "try transelate\n",
      "failed to transelate:  Error: Unable to automatically detect the source language, confidence too low, Code: 404 , X-global-transaction-id: 0b042d6d-9137-4420-b1c9-b420b0c3614f\n",
      "skip this text:  oo\n"
     ]
    },
    {
     "name": "stderr",
     "output_type": "stream",
     "text": [
      " 26%|██▌       | 78/299 [1:07:05<3:35:38, 58.55s/it]"
     ]
    },
    {
     "name": "stdout",
     "output_type": "stream",
     "text": [
      "error:  Error: unsupported text language: mt, Code: 400 , X-global-transaction-id: f1f87e10-804e-46a0-9685-077738283f9f\n",
      "try transelate\n",
      "failed to transelate:  Error: Unable to automatically detect the source language, confidence too low, Code: 404 , X-global-transaction-id: 12be3abf-ec67-4698-8b43-2bf6c1695c85\n",
      "skip this text:  xxxxxxxxxxxxxxxxxxxxxxxxxxxxxxxxxxxxxxxxxx\n"
     ]
    },
    {
     "name": "stderr",
     "output_type": "stream",
     "text": [
      " 26%|██▋       | 79/299 [1:07:38<3:06:04, 50.75s/it]"
     ]
    },
    {
     "name": "stdout",
     "output_type": "stream",
     "text": [
      "error:  Error: unsupported text language: de, Code: 400 , X-global-transaction-id: 9aaa906e-d3da-48b8-85e4-751d78232376\n",
      "try transelate\n",
      "error:  Error: unsupported text language: sv, Code: 400 , X-global-transaction-id: 8d534bf1-756e-4767-a326-e9626ef0a496\n",
      "try transelate\n",
      "error:  Error: unsupported text language: pt, Code: 400 , X-global-transaction-id: 36462c77-8d67-4cb6-ba55-bfeb56230ccb\n",
      "try transelate\n",
      "error:  Error: cannot analyze: downstream issue, Code: 500 , X-global-transaction-id: 4de6c4f4-70c3-4afa-84a7-b88e46283b8f\n",
      "try transelate\n",
      "error:  Error: unsupported text language: fi, Code: 400 , X-global-transaction-id: f22553c5-a967-47b3-bc63-63916e4214d2\n",
      "try transelate\n",
      "error:  Error: unsupported text language: pt, Code: 400 , X-global-transaction-id: 9176fdad-3c14-4f72-8b2a-a60e5280464e\n",
      "try transelate\n",
      "error:  Error: unsupported text language: pt, Code: 400 , X-global-transaction-id: d081429c-8650-4cbd-9c83-fc36dd9140f2\n",
      "try transelate\n",
      "error:  Error: unsupported text language: pt, Code: 400 , X-global-transaction-id: 5fb3a448-0b1d-4e2f-b262-54c4e315dc8e\n",
      "try transelate\n",
      "error:  Error: not enough text for language id, Code: 422 , X-global-transaction-id: 257442b2-9fba-4e1c-b201-d442ac8aa32e\n",
      "try transelate\n"
     ]
    },
    {
     "name": "stderr",
     "output_type": "stream",
     "text": [
      " 27%|██▋       | 80/299 [1:09:20<4:01:17, 66.11s/it]"
     ]
    },
    {
     "name": "stdout",
     "output_type": "stream",
     "text": [
      "failed to transelate:  Error: Unable to automatically detect the source language, confidence too low, Code: 404 , X-global-transaction-id: 6872660c-a5fb-461e-ac37-b71fc544df0c\n",
      "skip this text:  . , . .\n"
     ]
    },
    {
     "name": "stderr",
     "output_type": "stream",
     "text": [
      " 27%|██▋       | 81/299 [1:09:23<2:51:41, 47.26s/it]"
     ]
    },
    {
     "name": "stdout",
     "output_type": "stream",
     "text": [
      "error:  Error: not enough text for language id, Code: 422 , X-global-transaction-id: 25b4e1c5-9e67-4638-b09c-2e992fc2e5f2\n",
      "try transelate\n",
      "failed to transelate:  Error: Unable to automatically detect the source language, confidence too low, Code: 404 , X-global-transaction-id: 57891d6c-671c-4c09-a274-7a106541f1be\n",
      "skip this text:  Excellent\n"
     ]
    },
    {
     "name": "stderr",
     "output_type": "stream",
     "text": [
      " 27%|██▋       | 82/299 [1:10:11<2:51:36, 47.45s/it]"
     ]
    },
    {
     "name": "stdout",
     "output_type": "stream",
     "text": [
      "error:  Error: unsupported text language: da, Code: 400 , X-global-transaction-id: 20e56ab4-b7f4-47c5-a987-719bdc870e88\n",
      "try transelate\n",
      "error:  Error: unsupported text language: nl, Code: 400 , X-global-transaction-id: e1fe87dd-f988-4982-a9d1-e28e669d53bf\n",
      "try transelate\n",
      "error:  Error: unsupported text language: no, Code: 400 , X-global-transaction-id: 93e22806-1d2b-45b3-bd68-45277d969f4c\n",
      "try transelate\n",
      "error:  Error: unsupported text language: nl, Code: 400 , X-global-transaction-id: 9af242f8-62ed-404a-a0b2-cf5592083b8c\n",
      "try transelate\n",
      "error:  Error: unsupported text language: no, Code: 400 , X-global-transaction-id: 22e58a98-c5c4-4a07-af7b-6a9939c71777\n",
      "try transelate\n",
      "error:  Error: unsupported text language: es, Code: 400 , X-global-transaction-id: 125d7dde-2e62-4c8f-aae2-51abf09c6d74\n",
      "try transelate\n",
      "error:  Error: unsupported text language: de, Code: 400 , X-global-transaction-id: f44b0a92-da95-42ec-acfc-ae507e7f5b75\n",
      "try transelate\n",
      "error:  Error: unsupported text language: da, Code: 400 , X-global-transaction-id: 524e2e3e-340a-4d8b-8d5d-7327a532b5aa\n",
      "try transelate\n",
      "error:  Error: unsupported text language: da, Code: 400 , X-global-transaction-id: de0a28ee-5be7-4508-b0fb-186c04479661\n",
      "try transelate\n",
      "error:  Error: unsupported text language: es, Code: 400 , X-global-transaction-id: 364ef4ae-1fad-4c2f-b10e-14f055943d9f\n",
      "try transelate\n",
      "error:  Error: unsupported text language: sv, Code: 400 , X-global-transaction-id: 6c75eb2b-c1f3-4e7a-ba78-fd7164c1c298\n",
      "try transelate\n",
      "error:  Error: unsupported text language: de, Code: 400 , X-global-transaction-id: feb44371-161e-43b4-8493-ebdd1cb6da9b\n",
      "try transelate\n",
      "error:  Error: unsupported text language: no, Code: 400 , X-global-transaction-id: 1cd13244-4e9d-4173-943d-360951984469\n",
      "try transelate\n",
      "error:  Error: unsupported text language: es, Code: 400 , X-global-transaction-id: 020fc409-d868-4853-9ed0-dd1f21972f58\n",
      "try transelate\n",
      "error:  Error: unsupported text language: fi, Code: 400 , X-global-transaction-id: d456349e-686d-4599-aa74-e76c4a005ca9\n",
      "try transelate\n",
      "error:  Error: unsupported text language: de, Code: 400 , X-global-transaction-id: edb48b18-8413-459a-8ffe-6410430e407c\n",
      "try transelate\n",
      "error:  Error: unsupported text language: pt, Code: 400 , X-global-transaction-id: 5a0d8433-a830-4521-91da-531f8c853ea9\n",
      "try transelate\n",
      "error:  Error: unsupported text language: nl, Code: 400 , X-global-transaction-id: 6238f4d0-442b-44ab-894e-62ed02168e4e\n",
      "try transelate\n",
      "error:  Error: unsupported text language: no, Code: 400 , X-global-transaction-id: d2be648f-ac58-4321-9697-373b260dc206\n",
      "try transelate\n",
      "error:  Error: unsupported text language: it, Code: 400 , X-global-transaction-id: 8482679a-4209-4e3a-910e-ddb6a75410e2\n",
      "try transelate\n",
      "error:  Error: unsupported text language: it, Code: 400 , X-global-transaction-id: 035ecf18-8552-4c5e-b867-fb48511d7977\n",
      "try transelate\n",
      "error:  Error: unsupported text language: no, Code: 400 , X-global-transaction-id: f3eccdb3-e9de-4211-a7ed-dc2893ae4033\n",
      "try transelate\n",
      "error:  Error: unsupported text language: nl, Code: 400 , X-global-transaction-id: ec267285-41eb-4a76-b4d4-040d967c2229\n",
      "try transelate\n",
      "error:  Error: unsupported text language: es, Code: 400 , X-global-transaction-id: ee5247a0-a21a-4d67-8092-824d1b0131cf\n",
      "try transelate\n",
      "error:  Error: unsupported text language: sv, Code: 400 , X-global-transaction-id: f2e40650-bb5a-439c-bba6-5dc09d3c27a9\n",
      "try transelate\n",
      "error:  Error: unsupported text language: sv, Code: 400 , X-global-transaction-id: 149f16ab-4fa3-4a59-8cd4-24c5a258724d\n",
      "try transelate\n",
      "error:  Error: unsupported text language: it, Code: 400 , X-global-transaction-id: 6588cdf1-bafc-4c8f-a93b-c6eee41c7664\n",
      "try transelate\n",
      "error:  Error: unsupported text language: it, Code: 400 , X-global-transaction-id: d3bf39a9-237a-471a-8de2-45c03b896ebe\n",
      "try transelate\n"
     ]
    },
    {
     "name": "stderr",
     "output_type": "stream",
     "text": [
      " 28%|██▊       | 83/299 [1:12:07<4:04:54, 68.03s/it]"
     ]
    },
    {
     "name": "stdout",
     "output_type": "stream",
     "text": [
      "error:  Error: unsupported text language: nl, Code: 400 , X-global-transaction-id: e7c7ccd5-7c26-48bb-9b53-0f0920108f43\n",
      "try transelate\n",
      "error:  Error: unsupported text language: de, Code: 400 , X-global-transaction-id: 1d4c8122-d8c4-474f-a179-7ae0c6199ad0\n",
      "try transelate\n",
      "error:  Error: unsupported text language: de, Code: 400 , X-global-transaction-id: ef95f8a2-5c67-4423-85d7-4a7d0b225b77\n",
      "try transelate\n",
      "error:  Error: unsupported text language: tr, Code: 400 , X-global-transaction-id: 7e463079-5132-41a5-a393-51161bff868d\n",
      "try transelate\n",
      "error:  Error: unsupported text language: da, Code: 400 , X-global-transaction-id: 576877e0-1a32-49eb-aa15-b0ce3e2b1f3a\n",
      "try transelate\n",
      "error:  Error: unsupported text language: tr, Code: 400 , X-global-transaction-id: a78c5be2-0880-47de-a63f-bf0793f702b1\n",
      "try transelate\n",
      "error:  Error: unsupported text language: da, Code: 400 , X-global-transaction-id: 8d03af1d-5d15-4dbf-b913-e9feec664d62\n",
      "try transelate\n",
      "error:  Error: unsupported text language: sv, Code: 400 , X-global-transaction-id: 29f74cb5-3785-4482-8fb6-960a9f814e2b\n",
      "try transelate\n",
      "error:  Error: unsupported text language: de, Code: 400 , X-global-transaction-id: c507d1b8-8e86-4893-9228-73587ac4d38a\n",
      "try transelate\n",
      "error:  Error: not enough text for language id, Code: 422 , X-global-transaction-id: 4a4b30cb-c9dc-4dd3-b470-c96a43489044\n",
      "try transelate\n",
      "failed to transelate:  Error: Automatically detected source language is the same as target, cannot translate. Try to set the source language explicitly if you think the source language was not correctly detected, Code: 404 , X-global-transaction-id: 93564bfe-72af-43e1-a2eb-8263ee7fea98\n",
      "skip this text:  Good\n",
      "error:  Error: not enough text for language id, Code: 422 , X-global-transaction-id: 1d298835-a3e5-4466-afb8-c6aefbdb3963\n",
      "try transelate\n",
      "failed to transelate:  Error: Automatically detected source language is the same as target, cannot translate. Try to set the source language explicitly if you think the source language was not correctly detected, Code: 404 , X-global-transaction-id: 976330f9-8098-4ed2-87a3-22f800792486\n",
      "skip this text:  Good\n"
     ]
    },
    {
     "name": "stderr",
     "output_type": "stream",
     "text": [
      " 28%|██▊       | 84/299 [1:12:48<3:35:07, 60.04s/it]"
     ]
    },
    {
     "name": "stdout",
     "output_type": "stream",
     "text": [
      "error:  Error: unsupported text language: da, Code: 400 , X-global-transaction-id: b6d67e89-58c4-410e-b6b9-b9eff85e2918\n",
      "try transelate\n",
      "error:  Error: unsupported text language: sv, Code: 400 , X-global-transaction-id: 296b3ff8-5f98-47d1-97b9-0a061d0efc21\n",
      "try transelate\n",
      "error:  Error: unsupported text language: sv, Code: 400 , X-global-transaction-id: ae1958a7-ec28-4844-8aa7-6e196758aeb7\n",
      "try transelate\n",
      "error:  Error: unsupported text language: de, Code: 400 , X-global-transaction-id: a369b3cd-a580-4990-91e9-644e07e1c8e9\n",
      "try transelate\n",
      "error:  Error: unsupported text language: fi, Code: 400 , X-global-transaction-id: 2fe1c06e-f6f1-4e98-b6a2-2aaaa25a6677\n",
      "try transelate\n",
      "error:  Error: unsupported text language: de, Code: 400 , X-global-transaction-id: 17c44adb-6212-4442-908f-9d1d020e9c17\n",
      "try transelate\n",
      "error:  Error: not enough text for language id, Code: 422 , X-global-transaction-id: 2ca55b97-2a3b-4420-a30b-54db9aeaecba\n",
      "try transelate\n",
      "failed to transelate:  Error: Unable to automatically detect the source language, confidence too low, Code: 404 , X-global-transaction-id: 17a3f795-bb53-45d9-988f-6a12ae5604e7\n",
      "skip this text:  ! , ! .\n",
      "error:  Error: unsupported text language: de, Code: 400 , X-global-transaction-id: 0a695e04-9eda-41f1-aade-38e6e321179e\n",
      "try transelate\n",
      "error:  Error: unsupported text language: da, Code: 400 , X-global-transaction-id: 1573b3fd-1a57-4469-9257-67c544a31abf\n",
      "try transelate\n",
      "error:  Error: unsupported text language: sv, Code: 400 , X-global-transaction-id: fd6eea41-4559-4cec-b23e-03673cff190c\n",
      "try transelate\n",
      "error:  Error: unsupported text language: it, Code: 400 , X-global-transaction-id: 4496027f-c70a-463d-929a-ff40dc529cbe\n",
      "try transelate\n",
      "error:  Error: unsupported text language: pt, Code: 400 , X-global-transaction-id: 1ec9b8f0-b2d8-42ae-971c-015020b9a496\n",
      "try transelate\n",
      "error:  Error: unsupported text language: sv, Code: 400 , X-global-transaction-id: 008835f3-1197-4589-8426-2c884f14698d\n",
      "try transelate\n",
      "error:  Error: unsupported text language: de, Code: 400 , X-global-transaction-id: db6d0930-4352-4c83-b6e0-3d82210d95b7\n",
      "try transelate\n",
      "error:  Error: unsupported text language: pt, Code: 400 , X-global-transaction-id: 94b2b0be-d120-44f0-a370-ea3cbb4827aa\n",
      "try transelate\n",
      "error:  Error: unsupported text language: pt, Code: 400 , X-global-transaction-id: 955cbaf4-4eff-4237-80b6-64f3ab088892\n",
      "try transelate\n"
     ]
    },
    {
     "name": "stderr",
     "output_type": "stream",
     "text": [
      " 28%|██▊       | 85/299 [1:13:58<3:44:13, 62.87s/it]"
     ]
    },
    {
     "name": "stdout",
     "output_type": "stream",
     "text": [
      "error:  Error: not enough text for language id, Code: 422 , X-global-transaction-id: bc5b6480-e5a7-469d-acfa-84fcc0a370f6\n",
      "try transelate\n",
      "failed to transelate:  Error: Automatically detected source language is the same as target, cannot translate. Try to set the source language explicitly if you think the source language was not correctly detected, Code: 404 , X-global-transaction-id: 4b2d4635-c54d-4d20-8fe7-2692beac8d8f\n",
      "skip this text:  Very bad\n",
      "error:  Error: not enough text for language id, Code: 422 , X-global-transaction-id: cd226ef1-3223-4520-aa06-f071344b341d\n",
      "try transelate\n",
      "failed to transelate:  Error: Automatically detected source language is the same as target, cannot translate. Try to set the source language explicitly if you think the source language was not correctly detected, Code: 404 , X-global-transaction-id: 6b102ce0-b417-4c34-b54b-9d64220dbd04\n",
      "skip this text:  Was ok\n",
      "error:  Error: not enough text for language id, Code: 422 , X-global-transaction-id: 6a2384ab-5dc9-46d5-a1e0-f9caeb9e4906\n",
      "try transelate\n",
      "failed to transelate:  Error: Automatically detected source language is the same as target, cannot translate. Try to set the source language explicitly if you think the source language was not correctly detected, Code: 404 , X-global-transaction-id: ff4de930-1cf8-476f-9ffd-d43117863bee\n",
      "skip this text:  Amazing\n",
      "error:  Error: not enough text for language id, Code: 422 , X-global-transaction-id: ed786864-5a01-45e6-9cf7-f8c4e83b320a\n",
      "try transelate\n",
      "failed to transelate:  Error: Unable to automatically detect the source language, confidence too low, Code: 404 , X-global-transaction-id: c52ce667-9243-42b6-82f7-3d6baa95d001\n",
      "skip this text:  Great!\n",
      "error:  Error: not enough text for language id, Code: 422 , X-global-transaction-id: 9ab57c0d-a324-446c-b050-154a8130d108\n",
      "try transelate\n",
      "failed to transelate:  Error: Automatically detected source language is the same as target, cannot translate. Try to set the source language explicitly if you think the source language was not correctly detected, Code: 404 , X-global-transaction-id: c64c4119-cf4b-43ab-80f3-735480b19a29\n",
      "skip this text:  I like\n"
     ]
    },
    {
     "name": "stderr",
     "output_type": "stream",
     "text": [
      " 29%|██▉       | 86/299 [1:16:55<5:45:09, 97.23s/it]"
     ]
    },
    {
     "name": "stdout",
     "output_type": "stream",
     "text": [
      "error:  Error: unsupported text language: de, Code: 400 , X-global-transaction-id: ab03822d-443c-495d-9b05-98dfffddbd5c\n",
      "try transelate\n"
     ]
    },
    {
     "name": "stderr",
     "output_type": "stream",
     "text": [
      " 29%|██▉       | 87/299 [1:17:32<4:39:46, 79.18s/it]"
     ]
    },
    {
     "name": "stdout",
     "output_type": "stream",
     "text": [
      "error:  Error: not enough text for language id, Code: 422 , X-global-transaction-id: 7b89cdd2-99df-42dc-ba2c-f9b77d7e5ac3\n",
      "try transelate\n",
      "failed to transelate:  Error: Automatically detected source language is the same as target, cannot translate. Try to set the source language explicitly if you think the source language was not correctly detected, Code: 404 , X-global-transaction-id: 6d7cf980-bb02-435c-90bf-98ff15c69a7d\n",
      "skip this text:  Just fine\n"
     ]
    },
    {
     "name": "stderr",
     "output_type": "stream",
     "text": [
      " 31%|███       | 92/299 [1:20:02<1:53:08, 32.80s/it]"
     ]
    },
    {
     "name": "stdout",
     "output_type": "stream",
     "text": [
      "error:  Error: not enough text for language id, Code: 422 , X-global-transaction-id: ca9164ad-0c59-4dcf-8e91-c2dd649c0b7b\n",
      "try transelate\n",
      "failed to transelate:  Error: Automatically detected source language is the same as target, cannot translate. Try to set the source language explicitly if you think the source language was not correctly detected, Code: 404 , X-global-transaction-id: b6d58e6c-e1f1-4ac0-a82b-67c64756b5ea\n",
      "skip this text:  No complaints\n",
      "error:  Error: not enough text for language id, Code: 422 , X-global-transaction-id: c5e449bc-236b-46c7-9c13-28417321c623\n",
      "try transelate\n",
      "failed to transelate:  Error: Automatically detected source language is the same as target, cannot translate. Try to set the source language explicitly if you think the source language was not correctly detected, Code: 404 , X-global-transaction-id: 7aedec43-90d4-41c2-8604-8b0257288118\n",
      "skip this text:  Comfortable\n"
     ]
    },
    {
     "name": "stderr",
     "output_type": "stream",
     "text": [
      " 31%|███       | 93/299 [1:20:29<1:46:42, 31.08s/it]"
     ]
    },
    {
     "name": "stdout",
     "output_type": "stream",
     "text": [
      "error:  Error: not enough text for language id, Code: 422 , X-global-transaction-id: f144ce01-e417-4771-bac9-f9663afba0e7\n",
      "try transelate\n",
      "failed to transelate:  Error: Automatically detected source language is the same as target, cannot translate. Try to set the source language explicitly if you think the source language was not correctly detected, Code: 404 , X-global-transaction-id: ee277f8a-1052-4d8d-bcab-faeee43d5c61\n",
      "skip this text:  awesome\n",
      "error:  Error: not enough text for language id, Code: 422 , X-global-transaction-id: 7fb22b11-a7ac-4221-bca3-f0474f98ff9e\n",
      "try transelate\n",
      "failed to transelate:  Error: Unable to automatically detect the source language, confidence too low, Code: 404 , X-global-transaction-id: 0532771f-22c6-463f-addb-a7e266d60ec1\n",
      "skip this text:  Ok\n"
     ]
    },
    {
     "name": "stderr",
     "output_type": "stream",
     "text": [
      " 32%|███▏      | 95/299 [1:22:17<2:31:11, 44.47s/it]"
     ]
    },
    {
     "name": "stdout",
     "output_type": "stream",
     "text": [
      "error:  Error: not enough text for language id, Code: 422 , X-global-transaction-id: 6885dceb-25d5-4f55-ae0a-647cd09d5a23\n",
      "try transelate\n",
      "failed to transelate:  Error: Unable to automatically detect the source language, confidence too low, Code: 404 , X-global-transaction-id: cacd07c7-0bd2-48cb-94ba-ab8466094bb5\n",
      "skip this text:  pleasant\n",
      "error:  Error: unsupported text language: sk, Code: 400 , X-global-transaction-id: 696152ad-974d-4701-88fc-41c4e84529f1\n",
      "try transelate\n",
      "failed to transelate:  Error: Unable to automatically detect the source language, confidence too low, Code: 404 , X-global-transaction-id: abd3a182-6297-437c-9e09-22dd1d767a4d\n",
      "skip this text:  Smells funky.....\n"
     ]
    },
    {
     "name": "stderr",
     "output_type": "stream",
     "text": [
      " 32%|███▏      | 96/299 [1:23:20<2:49:44, 50.17s/it]"
     ]
    },
    {
     "name": "stdout",
     "output_type": "stream",
     "text": [
      "error:  Error: not enough text for language id, Code: 422 , X-global-transaction-id: 0c4d03e0-8af0-4b0c-88cb-00a79048fb22\n",
      "try transelate\n",
      "failed to transelate:  Error: Automatically detected source language is the same as target, cannot translate. Try to set the source language explicitly if you think the source language was not correctly detected, Code: 404 , X-global-transaction-id: 729972cf-f8e4-4d1a-a457-5b41b63d2773\n",
      "skip this text:  Typical\n"
     ]
    },
    {
     "name": "stderr",
     "output_type": "stream",
     "text": [
      " 33%|███▎      | 98/299 [1:25:23<2:58:18, 53.23s/it]"
     ]
    },
    {
     "name": "stdout",
     "output_type": "stream",
     "text": [
      "error:  Error: unsupported text language: ca, Code: 400 , X-global-transaction-id: 4e2b3565-f515-4f86-93c6-187b4d1e9227\n",
      "try transelate\n",
      "failed to transelate:  Error: Unable to automatically detect the source language, confidence too low, Code: 404 , X-global-transaction-id: 0c948dba-d69e-4ab8-a65d-9ecfc124bdcc\n",
      "skip this text:  Excellent value!!\n",
      "error:  Error: not enough text for language id, Code: 422 , X-global-transaction-id: 2e8206b7-6a43-40b5-a887-74b71880db7b\n",
      "try transelate\n",
      "failed to transelate:  Error: not enough text for language id, Code: 422 , X-global-transaction-id: 13e7e087-1090-434a-9957-333fbe52aa48\n",
      "skip this text:  weekend\n"
     ]
    },
    {
     "name": "stderr",
     "output_type": "stream",
     "text": [
      " 33%|███▎      | 99/299 [1:27:18<3:58:32, 71.56s/it]"
     ]
    },
    {
     "name": "stdout",
     "output_type": "stream",
     "text": [
      "error:  Error: unsupported text language: fi, Code: 400 , X-global-transaction-id: 7d683fb7-f92d-481c-be48-4fd7944ec740\n",
      "try transelate\n",
      "error:  Error: not enough text for language id, Code: 422 , X-global-transaction-id: 37192b20-fbed-494b-87f1-301e294b6832\n",
      "try transelate\n",
      "failed to transelate:  Error: Automatically detected source language is the same as target, cannot translate. Try to set the source language explicitly if you think the source language was not correctly detected, Code: 404 , X-global-transaction-id: ac86740a-4008-4b83-9fef-081d0c2ed0a0\n",
      "skip this text:  Perfect stay\n",
      "error:  Error: unsupported text language: de, Code: 400 , X-global-transaction-id: 656549a9-0431-428d-adc1-23819f4169e2\n",
      "try transelate\n",
      "error:  Error: unsupported text language: sv, Code: 400 , X-global-transaction-id: dd0e1a2e-f8c4-44d4-a48b-a9f1a441bf43\n",
      "try transelate\n"
     ]
    },
    {
     "name": "stderr",
     "output_type": "stream",
     "text": [
      " 33%|███▎      | 100/299 [1:28:01<3:29:21, 63.12s/it]"
     ]
    },
    {
     "name": "stdout",
     "output_type": "stream",
     "text": [
      "error:  Error: not enough text for language id, Code: 422 , X-global-transaction-id: dc8c8fac-acf8-48f8-9fd0-3d2a4b63e6e6\n",
      "try transelate\n",
      "failed to transelate:  Error: Automatically detected source language is the same as target, cannot translate. Try to set the source language explicitly if you think the source language was not correctly detected, Code: 404 , X-global-transaction-id: 5cff917e-9115-4882-8e5c-2e2dc670ea53\n",
      "skip this text:  Very good\n",
      "error:  Error: not enough text for language id, Code: 422 , X-global-transaction-id: f21fe07c-d0c9-4489-aae1-b71df2667db4\n",
      "try transelate\n",
      "failed to transelate:  Error: Automatically detected source language is the same as target, cannot translate. Try to set the source language explicitly if you think the source language was not correctly detected, Code: 404 , X-global-transaction-id: e0d5cd05-73cc-40c3-99ae-16571cc30a37\n",
      "skip this text:  Good\n",
      "error:  Error: not enough text for language id, Code: 422 , X-global-transaction-id: 9171f9aa-811c-43e4-911e-c61edd83a785\n",
      "try transelate\n",
      "failed to transelate:  Error: Automatically detected source language is the same as target, cannot translate. Try to set the source language explicitly if you think the source language was not correctly detected, Code: 404 , X-global-transaction-id: a8c9ba76-9713-4b9c-b8f9-01b1a8f5a615\n",
      "skip this text:  never again\n",
      "error:  Error: not enough text for language id, Code: 422 , X-global-transaction-id: 285e6058-35d3-4ccb-9a45-77f935a83cae\n",
      "try transelate\n",
      "failed to transelate:  Error: Automatically detected source language is the same as target, cannot translate. Try to set the source language explicitly if you think the source language was not correctly detected, Code: 404 , X-global-transaction-id: df26f2d3-de50-44ec-b90a-3a8d424fc983\n",
      "skip this text:  Good\n"
     ]
    },
    {
     "name": "stderr",
     "output_type": "stream",
     "text": [
      " 36%|███▌      | 107/299 [1:31:58<1:45:39, 33.02s/it]"
     ]
    },
    {
     "name": "stdout",
     "output_type": "stream",
     "text": [
      "error:  Error: not enough text for language id, Code: 422 , X-global-transaction-id: 9dfa6c17-3c3a-482c-bd63-116c916fb274\n",
      "try transelate\n",
      "failed to transelate:  Error: Unable to automatically detect the source language, confidence too low, Code: 404 , X-global-transaction-id: a1fefdaa-a8e0-4291-98a5-7eaa4e883870\n",
      "skip this text:  Ok\n"
     ]
    },
    {
     "name": "stderr",
     "output_type": "stream",
     "text": [
      " 36%|███▌      | 108/299 [1:32:43<1:57:05, 36.78s/it]"
     ]
    },
    {
     "name": "stdout",
     "output_type": "stream",
     "text": [
      "error:  Error: not enough text for language id, Code: 422 , X-global-transaction-id: c698abb6-29d5-481f-b284-d77baf60c253\n",
      "try transelate\n",
      "failed to transelate:  Error: Unable to automatically detect the source language, confidence too low, Code: 404 , X-global-transaction-id: d1a5b478-b133-4c4a-8f6f-433c7126d284\n",
      "skip this text:  .\n",
      "error:  Error: unsupported text language: sv, Code: 400 , X-global-transaction-id: ee20f40d-c93d-4817-bced-2df16347a642\n",
      "try transelate\n",
      "error:  Error: unsupported text language: de, Code: 400 , X-global-transaction-id: c30c8a64-5437-4580-8ec2-d211eede9401\n",
      "try transelate\n",
      "error:  Error: unsupported text language: de, Code: 400 , X-global-transaction-id: 7eba9659-9af2-40df-9173-738663866ff1\n",
      "try transelate\n",
      "error:  Error: unsupported text language: no, Code: 400 , X-global-transaction-id: b7170103-d3ee-4614-b64c-ea857006c90e\n",
      "try transelate\n",
      "error:  Error: unsupported text language: da, Code: 400 , X-global-transaction-id: 2dbd7f5b-23e8-427b-bd57-c2bcb2cc6eb2\n",
      "try transelate\n",
      "error:  Error: unsupported text language: da, Code: 400 , X-global-transaction-id: 8bfb41d1-04a5-47e6-a8d9-cc8d8edcc3a6\n",
      "try transelate\n",
      "error:  Error: unsupported text language: de, Code: 400 , X-global-transaction-id: 865653ff-d78b-4b09-85ac-ab30ad310d33\n",
      "try transelate\n",
      "error:  Error: unsupported text language: sv, Code: 400 , X-global-transaction-id: 12e19e87-8606-450e-8d3e-30f2175b0df7\n",
      "try transelate\n",
      "error:  Error: unsupported text language: sv, Code: 400 , X-global-transaction-id: 626b9427-d887-443b-bc68-d12d2edb131a\n",
      "try transelate\n",
      "error:  Error: unsupported text language: sv, Code: 400 , X-global-transaction-id: 5f7cde8b-5e19-468b-b1bd-000218d56e23\n",
      "try transelate\n",
      "error:  Error: unsupported text language: sv, Code: 400 , X-global-transaction-id: 5144d114-83b9-4ad1-9bc7-0ba1a38cdec0\n",
      "try transelate\n",
      "error:  Error: unsupported text language: da, Code: 400 , X-global-transaction-id: ea3339c6-c356-460c-ba10-710f95e017f9\n",
      "try transelate\n",
      "error:  Error: unsupported text language: da, Code: 400 , X-global-transaction-id: f3112509-042f-41e5-8222-c16952fdac29\n",
      "try transelate\n",
      "error:  Error: unsupported text language: da, Code: 400 , X-global-transaction-id: bc537948-06b5-4de9-936a-0d2dc75d3d87\n",
      "try transelate\n",
      "error:  Error: unsupported text language: da, Code: 400 , X-global-transaction-id: 953896ab-1a72-4fea-91b9-fb8a6e213d10\n",
      "try transelate\n",
      "error:  Error: unsupported text language: de, Code: 400 , X-global-transaction-id: e02705b8-7934-45e1-9393-e9fa16b7b257\n",
      "try transelate\n",
      "error:  Error: unsupported text language: da, Code: 400 , X-global-transaction-id: 566340c6-b8f4-40d7-a0b7-1e49974b39a5\n",
      "try transelate\n",
      "error:  Error: unsupported text language: de, Code: 400 , X-global-transaction-id: 30f05f6c-f44d-4be0-a839-7ba3fc34315e\n",
      "try transelate\n",
      "error:  Error: unsupported text language: de, Code: 400 , X-global-transaction-id: 7583a880-4695-46a1-a1eb-745fd46d6864\n",
      "try transelate\n",
      "error:  Error: unsupported text language: de, Code: 400 , X-global-transaction-id: c701a68f-1200-498a-9afd-86530ed2b24e\n",
      "try transelate\n",
      "error:  Error: unsupported text language: nn, Code: 400 , X-global-transaction-id: eadd83aa-3475-4a1b-b988-3580a6184f80\n",
      "try transelate\n",
      "error:  Error: unsupported text language: sv, Code: 400 , X-global-transaction-id: 63e6ba30-ec8a-4a55-b5ea-ddb7f2f0d443\n",
      "try transelate\n",
      "error:  Error: unsupported text language: da, Code: 400 , X-global-transaction-id: 17817964-f342-4d1d-823a-ebee6b6dbae0\n",
      "try transelate\n",
      "error:  Error: unsupported text language: nl, Code: 400 , X-global-transaction-id: 874243dd-51f6-4e13-991c-59c54430bf4a\n",
      "try transelate\n",
      "error:  Error: unsupported text language: no, Code: 400 , X-global-transaction-id: bc090081-7833-4454-b6b6-cf932e7f57a7\n",
      "try transelate\n",
      "error:  Error: unsupported text language: de, Code: 400 , X-global-transaction-id: 6cc18ed7-11f7-4366-8d34-d70273e93526\n",
      "try transelate\n"
     ]
    },
    {
     "name": "stderr",
     "output_type": "stream",
     "text": [
      " 36%|███▋      | 109/299 [1:33:56<2:30:25, 47.50s/it]"
     ]
    },
    {
     "name": "stdout",
     "output_type": "stream",
     "text": [
      "error:  Error: not enough text for language id, Code: 422 , X-global-transaction-id: e2c0cefe-7b3e-418c-a929-47a028e8f573\n",
      "try transelate\n",
      "failed to transelate:  Error: Automatically detected source language is the same as target, cannot translate. Try to set the source language explicitly if you think the source language was not correctly detected, Code: 404 , X-global-transaction-id: 484c49fc-6152-4b49-8c71-67bc88014b50\n",
      "skip this text:  Awesome\n",
      "error:  Error: not enough text for language id, Code: 422 , X-global-transaction-id: 21ab0df3-f78e-4c80-9def-0ffb4761c450\n",
      "try transelate\n",
      "failed to transelate:  Error: Automatically detected source language is the same as target, cannot translate. Try to set the source language explicitly if you think the source language was not correctly detected, Code: 404 , X-global-transaction-id: c099fb89-28c9-4b0b-99e9-90b44c56e8d9\n",
      "skip this text:  Awesome\n",
      "error:  Error: not enough text for language id, Code: 422 , X-global-transaction-id: dff0cf8b-609c-403a-a9af-44b79d9517da\n",
      "try transelate\n",
      "failed to transelate:  Error: Unable to automatically detect the source language, confidence too low, Code: 404 , X-global-transaction-id: 85755170-babc-4969-ba7b-dfe3625c964a\n",
      "skip this text:  Excellent!\n"
     ]
    },
    {
     "name": "stderr",
     "output_type": "stream",
     "text": [
      " 37%|███▋      | 110/299 [1:35:17<3:01:39, 57.67s/it]"
     ]
    },
    {
     "name": "stdout",
     "output_type": "stream",
     "text": [
      "error:  Error: unsupported text language: sv, Code: 400 , X-global-transaction-id: 617ac7ef-5cef-4a38-bfcd-f999b1a43c88\n",
      "try transelate\n"
     ]
    },
    {
     "name": "stderr",
     "output_type": "stream",
     "text": [
      " 37%|███▋      | 112/299 [1:35:34<1:39:03, 31.78s/it]"
     ]
    },
    {
     "name": "stdout",
     "output_type": "stream",
     "text": [
      "error:  Error: unsupported text language: pt, Code: 400 , X-global-transaction-id: c76e44f4-4c99-4094-9ad7-c09a5706adf1\n",
      "try transelate\n"
     ]
    },
    {
     "name": "stderr",
     "output_type": "stream",
     "text": [
      " 38%|███▊      | 113/299 [1:37:08<2:36:29, 50.48s/it]"
     ]
    },
    {
     "name": "stdout",
     "output_type": "stream",
     "text": [
      "error:  Error: not enough text for language id, Code: 422 , X-global-transaction-id: b18dee0f-7e03-420f-a843-5d9f9d694a31\n",
      "try transelate\n",
      "failed to transelate:  Error: Automatically detected source language is the same as target, cannot translate. Try to set the source language explicitly if you think the source language was not correctly detected, Code: 404 , X-global-transaction-id: 6eb920ad-77aa-4095-acc9-4120e3f55d94\n",
      "skip this text:  It was nice!!!\n"
     ]
    },
    {
     "name": "stderr",
     "output_type": "stream",
     "text": [
      " 38%|███▊      | 114/299 [1:38:03<2:39:21, 51.68s/it]"
     ]
    },
    {
     "name": "stdout",
     "output_type": "stream",
     "text": [
      "error:  Error: not enough text for language id, Code: 422 , X-global-transaction-id: cc33967d-eecc-4027-bd1e-dc1e40ea11bc\n",
      "try transelate\n",
      "failed to transelate:  Error: Unable to automatically detect the source language, confidence too low, Code: 404 , X-global-transaction-id: c576ce8b-4b3d-42e6-9683-202e78dc8193\n",
      "skip this text:  Poor!!!!\n",
      "error:  Error: not enough text for language id, Code: 422 , X-global-transaction-id: 149f4fb3-a62d-4b32-9af6-ff8210084c64\n",
      "try transelate\n",
      "failed to transelate:  Error: Automatically detected source language is the same as target, cannot translate. Try to set the source language explicitly if you think the source language was not correctly detected, Code: 404 , X-global-transaction-id: 9d618c0f-ef7b-41e2-afef-37750e64efea\n",
      "skip this text:  Needs updates\n"
     ]
    },
    {
     "name": "stderr",
     "output_type": "stream",
     "text": [
      " 38%|███▊      | 115/299 [1:39:21<3:03:32, 59.85s/it]"
     ]
    },
    {
     "name": "stdout",
     "output_type": "stream",
     "text": [
      "error:  Error: not enough text for language id, Code: 422 , X-global-transaction-id: 69d0263f-1a31-45ac-bb20-a19fc232abd9\n",
      "try transelate\n",
      "failed to transelate:  Error: Automatically detected source language is the same as target, cannot translate. Try to set the source language explicitly if you think the source language was not correctly detected, Code: 404 , X-global-transaction-id: d0902816-f59b-4140-ba90-ddf65470e8f7\n",
      "skip this text:  Was good\n"
     ]
    },
    {
     "name": "stderr",
     "output_type": "stream",
     "text": [
      " 39%|███▉      | 117/299 [1:40:15<2:03:26, 40.70s/it]"
     ]
    },
    {
     "name": "stdout",
     "output_type": "stream",
     "text": [
      "error:  Error: unsupported text language: de, Code: 400 , X-global-transaction-id: 945b03aa-0c75-4e60-b0be-70781bfacafa\n",
      "try transelate\n",
      "error:  Error: unsupported text language: de, Code: 400 , X-global-transaction-id: a6ea2d3e-2399-4c0d-824f-f7910a164b04\n",
      "try transelate\n",
      "error:  Error: unsupported text language: de, Code: 400 , X-global-transaction-id: 5b4ed7e7-7488-42fe-b9d7-4f51f8af55a3\n",
      "try transelate\n",
      "error:  Error: unsupported text language: de, Code: 400 , X-global-transaction-id: 0779e237-331c-4cac-a0ef-0edbe7600b53\n",
      "try transelate\n",
      "error:  Error: not enough text for language id, Code: 422 , X-global-transaction-id: 04607bd8-9d6b-4030-b7db-6521b85961c4\n",
      "try transelate\n",
      "failed to transelate:  Error: Unable to automatically detect the source language, confidence too low, Code: 404 , X-global-transaction-id: 6d334a44-b6f7-4115-a381-7a7175a20c79\n",
      "skip this text:  () ( 2) ...\n",
      "error:  Error: unsupported text language: de, Code: 400 , X-global-transaction-id: ce0bac28-9067-4935-a878-ba096676a990\n",
      "try transelate\n",
      "error:  Error: not enough text for language id, Code: 422 , X-global-transaction-id: 266ba975-dd85-45f8-af63-d6e39842edcf\n",
      "try transelate\n",
      "failed to transelate:  Error: Automatically detected source language is the same as target, cannot translate. Try to set the source language explicitly if you think the source language was not correctly detected, Code: 404 , X-global-transaction-id: 6ea4c232-0887-463e-aca1-50668ea6a478\n",
      "skip this text:  good\n",
      "error:  Error: unsupported text language: nl, Code: 400 , X-global-transaction-id: 3dae10b2-60b6-4bab-b86e-11ad0322aeb2\n",
      "try transelate\n",
      "error:  Error: not enough text for language id, Code: 422 , X-global-transaction-id: 16b30bd6-3c1f-44d1-ac51-7c88e4318f1a\n",
      "try transelate\n",
      "failed to transelate:  Error: Unable to automatically detect the source language, confidence too low, Code: 404 , X-global-transaction-id: 7549e0ac-7c12-44e9-917e-5135536003fe\n",
      "skip this text:  . .\n",
      "error:  Error: unsupported text language: de, Code: 400 , X-global-transaction-id: e521a2d1-cfcd-439e-88eb-73ea4c2102cf\n",
      "try transelate\n",
      "error:  Error: unsupported text language: de, Code: 400 , X-global-transaction-id: 2ffc0a5e-69f4-4359-8c2c-62c712270a1a\n",
      "try transelate\n",
      "error:  Error: unsupported text language: de, Code: 400 , X-global-transaction-id: 47034aa2-b4c4-4750-9892-507ad0308572\n",
      "try transelate\n",
      "error:  Error: unsupported text language: da, Code: 400 , X-global-transaction-id: 77286759-a9ea-49e1-821f-956ce08f6c7d\n",
      "try transelate\n",
      "error:  Error: unsupported text language: it, Code: 400 , X-global-transaction-id: 1e1a50b1-36ca-4d56-8c9f-1fb4a1912c64\n",
      "try transelate\n",
      "error:  Error: unsupported text language: sv, Code: 400 , X-global-transaction-id: 50a7da1b-937f-4442-a7a9-57e91e58e2e5\n",
      "try transelate\n",
      "error:  Error: unsupported text language: nl, Code: 400 , X-global-transaction-id: 4fd68131-78e9-4518-9a94-c0384a9a92a3\n",
      "try transelate\n"
     ]
    },
    {
     "name": "stderr",
     "output_type": "stream",
     "text": [
      " 40%|███▉      | 119/299 [1:42:24<2:36:30, 52.17s/it]"
     ]
    },
    {
     "name": "stdout",
     "output_type": "stream",
     "text": [
      "error:  Error: not enough text for language id, Code: 422 , X-global-transaction-id: 817cf71e-80b2-41c3-b1e2-352b0d525666\n",
      "try transelate\n",
      "failed to transelate:  Error: Unable to automatically detect the source language, confidence too low, Code: 404 , X-global-transaction-id: 9a4a8990-74d6-4fbc-9b1f-b025a64a21f8\n",
      "skip this text:  N/a\n"
     ]
    },
    {
     "name": "stderr",
     "output_type": "stream",
     "text": [
      " 40%|████      | 121/299 [1:42:40<1:25:58, 28.98s/it]"
     ]
    },
    {
     "name": "stdout",
     "output_type": "stream",
     "text": [
      "error:  Error: not enough text for language id, Code: 422 , X-global-transaction-id: 4d0da9f7-bb80-4714-9c5c-9557409a3ef4\n",
      "try transelate\n",
      "failed to transelate:  Error: Automatically detected source language is the same as target, cannot translate. Try to set the source language explicitly if you think the source language was not correctly detected, Code: 404 , X-global-transaction-id: 62e07d3d-078a-4361-9aeb-d4c259649f63\n",
      "skip this text:  Awesome\n"
     ]
    },
    {
     "name": "stderr",
     "output_type": "stream",
     "text": [
      " 41%|████      | 122/299 [1:43:37<1:50:13, 37.36s/it]"
     ]
    },
    {
     "name": "stdout",
     "output_type": "stream",
     "text": [
      "error:  Error: not enough text for language id, Code: 422 , X-global-transaction-id: 1dcd367c-0ea8-48d6-b6a4-69cc864ed6c6\n",
      "try transelate\n",
      "failed to transelate:  Error: Automatically detected source language is the same as target, cannot translate. Try to set the source language explicitly if you think the source language was not correctly detected, Code: 404 , X-global-transaction-id: 86cf520e-bdcd-4094-a43b-d2dd7c8ed272\n",
      "skip this text:  Great\n"
     ]
    },
    {
     "name": "stderr",
     "output_type": "stream",
     "text": [
      " 41%|████      | 123/299 [1:44:21<1:54:59, 39.20s/it]"
     ]
    },
    {
     "name": "stdout",
     "output_type": "stream",
     "text": [
      "error:  Error: unsupported text language: no, Code: 400 , X-global-transaction-id: 5dfc94bd-0924-494f-9508-4b8b5c5a2686\n",
      "try transelate\n",
      "error:  Error: unsupported text language: it, Code: 400 , X-global-transaction-id: 64174776-a1ac-4e79-a9c2-30c80e96899a\n",
      "try transelate\n",
      "error:  Error: not enough text for language id, Code: 422 , X-global-transaction-id: cdbe022c-f1c7-44f3-a86f-73af57a635ed\n",
      "try transelate\n",
      "failed to transelate:  Error: Unable to automatically detect the source language, confidence too low, Code: 404 , X-global-transaction-id: c1d61272-5999-4586-85fa-023f68f99c85\n",
      "skip this text:  !\n",
      "error:  Error: not enough text for language id, Code: 422 , X-global-transaction-id: 2d2b31e3-670b-46ab-8183-e8e170c57373\n",
      "try transelate\n",
      "failed to transelate:  Error: Unable to automatically detect the source language, confidence too low, Code: 404 , X-global-transaction-id: b840301a-1b1b-4027-9e25-28eabeae7f65\n",
      "skip this text:  !\n",
      "error:  Error: unsupported text language: de, Code: 400 , X-global-transaction-id: ed6b54cc-8595-4b3b-86e9-1e2386532353\n",
      "try transelate\n",
      "error:  Error: unsupported text language: de, Code: 400 , X-global-transaction-id: f024e5ae-a0ef-4f0a-a13e-75946f3391b6\n",
      "try transelate\n",
      "error:  Error: unsupported text language: sv, Code: 400 , X-global-transaction-id: e4d3a4b3-c381-4272-8d9b-630d074c3a87\n",
      "try transelate\n",
      "error:  Error: unsupported text language: sv, Code: 400 , X-global-transaction-id: eb70b9f1-056e-4166-b7a1-e0e49795675a\n",
      "try transelate\n",
      "error:  Error: unsupported text language: de, Code: 400 , X-global-transaction-id: 6a83537b-94bb-44fc-b3a9-b67c963700df\n",
      "try transelate\n",
      "error:  Error: unsupported text language: de, Code: 400 , X-global-transaction-id: 57f47c70-8fca-4763-ae7f-e658473c66fa\n",
      "try transelate\n",
      "error:  Error: unsupported text language: no, Code: 400 , X-global-transaction-id: 5249b4c3-a88c-42d9-8f0f-99d4558255de\n",
      "try transelate\n",
      "error:  Error: not enough text for language id, Code: 422 , X-global-transaction-id: 562634fd-d855-4899-a1d8-e92b41a33f30\n",
      "try transelate\n",
      "failed to transelate:  Error: Unable to automatically detect the source language, confidence too low, Code: 404 , X-global-transaction-id: ca385490-7dad-4dd2-82a8-263e091c0e0c\n",
      "skip this text:  2 wifi (nobu)\n"
     ]
    },
    {
     "name": "stderr",
     "output_type": "stream",
     "text": [
      " 41%|████▏     | 124/299 [1:45:19<2:10:44, 44.83s/it]"
     ]
    },
    {
     "name": "stdout",
     "output_type": "stream",
     "text": [
      "error:  Error: not enough text for language id, Code: 422 , X-global-transaction-id: 10df80db-7a0c-4551-8b4d-113eff47371d\n",
      "try transelate\n",
      "failed to transelate:  Error: not enough text for language id, Code: 422 , X-global-transaction-id: 36d10519-4ef6-4f1f-8c6f-4649366f8fa8\n",
      "skip this text:  molto bene\n",
      "error:  Error: unsupported text language: de, Code: 400 , X-global-transaction-id: 9f394bbc-7056-407a-aca1-fd5f82ebec84\n",
      "try transelate\n",
      "error:  Error: unsupported text language: de, Code: 400 , X-global-transaction-id: f9833342-413e-4035-9af3-6ec9e5f27c9c\n",
      "try transelate\n",
      "error:  Error: unsupported text language: it, Code: 400 , X-global-transaction-id: 047337ba-ddbf-4562-91fa-ac9a5b1f48b4\n",
      "try transelate\n",
      "error:  Error: unsupported text language: it, Code: 400 , X-global-transaction-id: 04eeb1f4-b046-4dcc-894a-65a2bbf5b362\n",
      "try transelate\n",
      "error:  Error: unsupported text language: it, Code: 400 , X-global-transaction-id: eec4e21a-0786-42db-8ddb-7f951ec140fa\n",
      "try transelate\n",
      "error:  Error: unsupported text language: it, Code: 400 , X-global-transaction-id: 47fe5a11-83ed-4075-9405-61c430c68b47\n",
      "try transelate\n",
      "error:  Error: unsupported text language: de, Code: 400 , X-global-transaction-id: 2d5a086b-4409-45f0-af5c-539a95452ffa\n",
      "try transelate\n",
      "error:  Error: unsupported text language: it, Code: 400 , X-global-transaction-id: e54b861c-9499-40f2-8596-79358cd7c87a\n",
      "try transelate\n",
      "error:  Error: unsupported text language: it, Code: 400 , X-global-transaction-id: b4d64bcb-ee91-4f11-bd82-f555d8aa931f\n",
      "try transelate\n",
      "error:  Error: unsupported text language: sv, Code: 400 , X-global-transaction-id: f1638d9c-b78c-49dc-b7f7-868261c2bd30\n",
      "try transelate\n",
      "error:  Error: not enough text for language id, Code: 422 , X-global-transaction-id: b18d09e9-2ff9-4fbb-88bb-3b1f72b475c5\n",
      "try transelate\n",
      "failed to transelate:  Error: Unable to automatically detect the source language, confidence too low, Code: 404 , X-global-transaction-id: c4cee1d8-ba85-4627-9450-ed6ce808bc9a\n",
      "skip this text:  Papist seinad.\n",
      "error:  Error: unsupported text language: tr, Code: 400 , X-global-transaction-id: 08ce5fab-af2f-4d0e-8b98-64b02fc7edc0\n",
      "try transelate\n",
      "error:  Error: unsupported text language: de, Code: 400 , X-global-transaction-id: 0759e8de-dbfe-454b-b010-97544be38863\n",
      "try transelate\n",
      "error:  Error: unsupported text language: it, Code: 400 , X-global-transaction-id: 60e5d2d6-1893-4af0-8b69-b329225a5839\n",
      "try transelate\n",
      "failed to transelate:  Error: Unable to automatically detect the source language, confidence too low, Code: 404 , X-global-transaction-id: 4aeff153-067b-48a2-a5b0-ce52b5452266\n",
      "skip this text:  , , . . , . UNA . , . , , ( ), , ( ), ! , , --- . . , . 100 . , . )) UNA ( Versilia, )))\n",
      "error:  Error: unsupported text language: de, Code: 400 , X-global-transaction-id: 2976ec5c-c436-4c45-bc8f-de817f395cdd\n",
      "try transelate\n",
      "error:  Error: unsupported text language: es, Code: 400 , X-global-transaction-id: 942647df-2bfb-40e4-95fd-a4fb7896ece9\n",
      "try transelate\n",
      "error:  Error: unsupported text language: no, Code: 400 , X-global-transaction-id: 1bac243f-eb76-4efd-a58c-99d65e0caa0d\n",
      "try transelate\n",
      "error:  Error: unsupported text language: it, Code: 400 , X-global-transaction-id: 97fe8415-4d40-4f38-b9f7-6d29df433940\n",
      "try transelate\n",
      "error:  Error: unsupported text language: it, Code: 400 , X-global-transaction-id: 1a897cb0-8065-40df-bccc-ef5c346d69a2\n",
      "try transelate\n",
      "error:  Error: unsupported text language: it, Code: 400 , X-global-transaction-id: 295b8eb4-52be-4bc9-9841-f8465db40b9a\n",
      "try transelate\n",
      "error:  Error: unsupported text language: it, Code: 400 , X-global-transaction-id: d581bbc8-4634-45c6-9dcf-2098034fd05d\n",
      "try transelate\n",
      "error:  Error: unsupported text language: de, Code: 400 , X-global-transaction-id: 3b9abf1f-50bd-4a5e-9574-a6faf30a4e5d\n",
      "try transelate\n",
      "error:  Error: unsupported text language: it, Code: 400 , X-global-transaction-id: 01143e4b-18df-44e5-8b83-54b4435e8d15\n",
      "try transelate\n",
      "error:  Error: unsupported text language: it, Code: 400 , X-global-transaction-id: 82ff89dc-5d3f-4f5f-8cf6-1d2c6a6ee7e3\n",
      "try transelate\n",
      "error:  Error: unsupported text language: it, Code: 400 , X-global-transaction-id: 675ae01e-63d3-4ded-9cfc-fc9b38236302\n",
      "try transelate\n",
      "error:  Error: unsupported text language: it, Code: 400 , X-global-transaction-id: f32d44e2-6c9b-4ffd-91e3-897234fc4ed1\n",
      "try transelate\n"
     ]
    },
    {
     "name": "stderr",
     "output_type": "stream",
     "text": [
      " 44%|████▍     | 131/299 [1:49:41<1:19:56, 28.55s/it]"
     ]
    },
    {
     "name": "stdout",
     "output_type": "stream",
     "text": [
      "error:  Error: not enough text for language id, Code: 422 , X-global-transaction-id: 0cba40b1-009b-45ac-b145-8567b2db5493\n",
      "try transelate\n",
      "failed to transelate:  Error: Automatically detected source language is the same as target, cannot translate. Try to set the source language explicitly if you think the source language was not correctly detected, Code: 404 , X-global-transaction-id: e889bd8d-1b15-4f96-b30e-9f8b2c9aa1b4\n",
      "skip this text:  CHECK OUT\n",
      "error:  Error: not enough text for language id, Code: 422 , X-global-transaction-id: 6203370a-7c49-4601-8ad9-0df6c8bc96f1\n",
      "try transelate\n",
      "failed to transelate:  Error: Unable to automatically detect the source language, confidence too low, Code: 404 , X-global-transaction-id: 10005bf8-d707-4da6-bc72-cd922bddbe6e\n",
      "skip this text:  sea viewlobby\n",
      "error:  Error: not enough text for language id, Code: 422 , X-global-transaction-id: 6a8cd04f-ccfd-4219-a3e5-07f60df965cf\n",
      "try transelate\n",
      "failed to transelate:  Error: Unable to automatically detect the source language, confidence too low, Code: 404 , X-global-transaction-id: fc077d8d-7bb0-4056-afd8-ec6ede3d0102\n",
      "skip this text:  WIFI\n",
      "error:  Error: unsupported text language: de, Code: 400 , X-global-transaction-id: eb552031-a815-4719-a28d-2745f7ca5340\n",
      "try transelate\n",
      "error:  Error: unsupported text language: unknown, Code: 400 , X-global-transaction-id: 3e5bd13a-f49f-4d0d-9705-0632e9b04bdf\n",
      "try transelate\n",
      "failed to transelate:  Error: Unable to automatically detect the source language, confidence too low, Code: 404 , X-global-transaction-id: ce3d4e79-03ba-4508-9dc5-e9905b468278\n",
      "skip this text:  , , , . . : , 2 - , , , . - 152 . - ) - , !\n",
      "error:  Error: unsupported text language: unknown, Code: 400 , X-global-transaction-id: af3d0a58-3a19-4345-b99e-3b0222e82dcc\n",
      "try transelate\n",
      "failed to transelate:  Error: Unable to automatically detect the source language, confidence too low, Code: 404 , X-global-transaction-id: c1ff60bb-571a-4579-a6c6-1f376a216afa\n",
      "skip this text:  , , , . . : , 2 - , , , . - 152 . - ) - , !\n",
      "error:  Error: unsupported text language: de, Code: 400 , X-global-transaction-id: 2ad26ef1-d65c-4c82-bd91-23f0fded14b7\n",
      "try transelate\n",
      "error:  Error: unsupported text language: de, Code: 400 , X-global-transaction-id: d899594c-0960-449d-9e81-104b7e879328\n",
      "try transelate\n",
      "error:  Error: not enough text for language id, Code: 422 , X-global-transaction-id: 107f3529-a6b5-4665-917d-cde9059920d0\n",
      "try transelate\n"
     ]
    },
    {
     "name": "stderr",
     "output_type": "stream",
     "text": [
      " 44%|████▍     | 132/299 [1:50:14<1:23:32, 30.01s/it]"
     ]
    },
    {
     "name": "stdout",
     "output_type": "stream",
     "text": [
      "failed to transelate:  Error: Unable to automatically detect the source language, confidence too low, Code: 404 , X-global-transaction-id: b8060d5b-35dc-433e-9fb2-f7ff0f8a132d\n",
      "skip this text:  !\n"
     ]
    },
    {
     "name": "stderr",
     "output_type": "stream",
     "text": [
      " 44%|████▍     | 133/299 [1:50:51<1:28:29, 31.99s/it]"
     ]
    },
    {
     "name": "stdout",
     "output_type": "stream",
     "text": [
      "error:  Error: not enough text for language id, Code: 422 , X-global-transaction-id: 70179284-e0f4-41c0-88e4-ffe2e455441a\n",
      "try transelate\n",
      "failed to transelate:  Error: Automatically detected source language is the same as target, cannot translate. Try to set the source language explicitly if you think the source language was not correctly detected, Code: 404 , X-global-transaction-id: ab8763ff-8579-43ff-ae9c-1b82f21e7ab5\n",
      "skip this text:  adequate\n"
     ]
    },
    {
     "name": "stderr",
     "output_type": "stream",
     "text": [
      " 45%|████▍     | 134/299 [1:51:39<1:41:09, 36.79s/it]"
     ]
    },
    {
     "name": "stdout",
     "output_type": "stream",
     "text": [
      "error:  Error: not enough text for language id, Code: 422 , X-global-transaction-id: 0e949471-36fb-49ff-95e5-d34f6528164a\n",
      "try transelate\n",
      "failed to transelate:  Error: Unable to automatically detect the source language, confidence too low, Code: 404 , X-global-transaction-id: 4681f55d-40b0-4afe-9203-39950c5d253d\n",
      "skip this text:  Awful!\n"
     ]
    },
    {
     "name": "stderr",
     "output_type": "stream",
     "text": [
      " 45%|████▌     | 135/299 [1:52:20<1:44:08, 38.10s/it]"
     ]
    },
    {
     "name": "stdout",
     "output_type": "stream",
     "text": [
      "error:  Error: unsupported text language: de, Code: 400 , X-global-transaction-id: bedb20d5-b164-4631-976a-659cf178fd91\n",
      "try transelate\n",
      "error:  Error: unsupported text language: de, Code: 400 , X-global-transaction-id: 49585203-f908-4ea6-9242-f41d757b500f\n",
      "try transelate\n",
      "error:  Error: unsupported text language: unknown, Code: 400 , X-global-transaction-id: e0151562-6947-4cf0-bc35-d08e1190972f\n",
      "try transelate\n",
      "failed to transelate:  Error: Unable to automatically detect the source language, confidence too low, Code: 404 , X-global-transaction-id: b21a0b18-5e5d-4d10-8822-5fd528c94974\n",
      "skip this text:  ������������������������������������������������������������������������������������������������������������������������������������������������������������������������������������������������������������������������������������������������������������������������������������������������������������������������������������������������������������������������������������������������\n",
      "error:  Error: not enough text for language id, Code: 422 , X-global-transaction-id: b3fc6f76-32e8-4856-bad8-0b705184e526\n",
      "try transelate\n",
      "failed to transelate:  Error: Unable to automatically detect the source language, confidence too low, Code: 404 , X-global-transaction-id: 31ddb23f-2055-46ee-ad98-4b29556ffeae\n",
      "skip this text:  OK\n",
      "error:  Error: unsupported text language: unknown, Code: 400 , X-global-transaction-id: 3febf003-3d57-4640-b75a-6c9401357fd4\n",
      "try transelate\n",
      "failed to transelate:  Error: Unable to automatically detect the source language, confidence too low, Code: 404 , X-global-transaction-id: 9727807a-960c-4460-8db3-87452931510c\n",
      "skip this text:  ���������������������������������������������������������������������������������24������������������������������������������������������������������������������������������������������������������������������������������������������\n",
      "error:  Error: not enough text for language id, Code: 422 , X-global-transaction-id: 38d9028a-32fd-437e-8ae7-1214d57e1249\n",
      "try transelate\n",
      "failed to transelate:  Error: Automatically detected source language is the same as target, cannot translate. Try to set the source language explicitly if you think the source language was not correctly detected, Code: 404 , X-global-transaction-id: c3dd6e8d-4cfe-4b40-b94a-ddd57818795a\n",
      "skip this text:  Great\n",
      "error:  Error: not enough text for language id, Code: 422 , X-global-transaction-id: efa6ae7b-1eb0-4b3b-a2ba-12ba49edf046\n",
      "try transelate\n",
      "failed to transelate:  Error: not enough text for language id, Code: 422 , X-global-transaction-id: 4c3c282e-2177-42c4-b705-c3a23050f2d7\n",
      "skip this text:  Awfull\n",
      "error:  Error: not enough text for language id, Code: 422 , X-global-transaction-id: 06fb16f6-9bb0-43bb-a2a3-865e2e66a97b\n",
      "try transelate\n",
      "failed to transelate:  Error: Unable to automatically detect the source language, confidence too low, Code: 404 , X-global-transaction-id: ba25e5de-0f7f-4f67-8cb8-b559994a3917\n",
      "skip this text:  excellent\n",
      "error:  Error: unsupported text language: de, Code: 400 , X-global-transaction-id: f749bd61-e53f-49e4-90f2-ea24e4bc6dc2\n",
      "try transelate\n",
      "error:  Error: unsupported text language: es, Code: 400 , X-global-transaction-id: c90f4879-dbf8-45d2-96fa-1e3b87bba88f\n",
      "try transelate\n",
      "error:  Error: not enough text for language id, Code: 422 , X-global-transaction-id: e121a8f8-7920-4ac8-8642-bbbd1bb36dd5\n",
      "try transelate\n",
      "failed to transelate:  Error: not enough text for language id, Code: 422 , X-global-transaction-id: 437e60d5-f509-4bb3-97d7-fe56416aee9c\n",
      "skip this text:  Awfull\n",
      "error:  Error: unsupported text language: de, Code: 400 , X-global-transaction-id: 794d7889-c0bf-41c7-848a-1dc2465b6dce\n",
      "try transelate\n",
      "error:  Error: not enough text for language id, Code: 422 , X-global-transaction-id: 972d6643-8257-4dce-bb0a-96800351409d\n",
      "try transelate\n",
      "failed to transelate:  Error: Unable to automatically detect the source language, confidence too low, Code: 404 , X-global-transaction-id: 780d43aa-f298-4ed5-b828-ec75ea46efea\n",
      "skip this text:  Convenient\n",
      "error:  Error: unsupported text language: pt, Code: 400 , X-global-transaction-id: 2df405f2-ebd8-4ad7-ab5f-1c97aafb1104\n",
      "try transelate\n",
      "error:  Error: not enough text for language id, Code: 422 , X-global-transaction-id: ae10cb1c-6068-4591-bfa1-accb31817641\n",
      "try transelate\n",
      "failed to transelate:  Error: Unable to automatically detect the source language, confidence too low, Code: 404 , X-global-transaction-id: 64fa2db4-5c75-43ce-bd36-2f07fb682e8f\n",
      "skip this text:  average\n",
      "error:  Error: unsupported text language: de, Code: 400 , X-global-transaction-id: ebae6921-a7ad-429d-a136-670291852628\n",
      "try transelate\n",
      "error:  Error: not enough text for language id, Code: 422 , X-global-transaction-id: 4f8ddcf5-6391-431a-8db1-65419d9498f7\n",
      "try transelate\n",
      "failed to transelate:  Error: Unable to automatically detect the source language, confidence too low, Code: 404 , X-global-transaction-id: 188c68d5-99d1-47e9-be4f-0c265f413da0\n",
      "skip this text:  Ok\n",
      "error:  Error: unsupported text language: nl, Code: 400 , X-global-transaction-id: 03f0bcb1-4c7f-466f-b7bb-39b3425ba50b\n",
      "try transelate\n",
      "error:  Error: unsupported text language: de, Code: 400 , X-global-transaction-id: bd3f3253-9862-41ff-ab1f-bbf797b27631\n",
      "try transelate\n",
      "error:  Error: unsupported text language: pt, Code: 400 , X-global-transaction-id: 7cf99cd9-368d-445c-a0df-e989cf029dd1\n",
      "try transelate\n",
      "error:  Error: not enough text for language id, Code: 422 , X-global-transaction-id: 6bf7e71f-46c0-4231-bcdd-12571f1a3c7a\n",
      "try transelate\n",
      "failed to transelate:  Error: Unable to automatically detect the source language, confidence too low, Code: 404 , X-global-transaction-id: ecd20719-3148-4f4b-8019-14f235c08efd\n",
      "skip this text:  hiuhj\n",
      "error:  Error: not enough text for language id, Code: 422 , X-global-transaction-id: e9cfd1fb-3f2c-4782-91cb-2e7abbfda805\n",
      "try transelate\n",
      "failed to transelate:  Error: Automatically detected source language is the same as target, cannot translate. Try to set the source language explicitly if you think the source language was not correctly detected, Code: 404 , X-global-transaction-id: 21b3f480-81f1-45d7-9c6a-86090e25986e\n",
      "skip this text:  Great\n",
      "error:  Error: unsupported text language: unknown, Code: 400 , X-global-transaction-id: 46e8f85f-ea74-4cb6-954a-05e1779a3b3c\n",
      "try transelate\n",
      "failed to transelate:  Error: Unable to automatically detect the source language, confidence too low, Code: 404 , X-global-transaction-id: 7ab26147-bc98-4fd9-a849-ac13b0cb876e\n",
      "skip this text:  ��������� ������������������ ������ ��� ������������ ������������ ������������ ������ ������ ������ ���������������. ������������ ��������������� ��������� 20��� ������ ������ ��������� ���������������������.\n",
      "error:  Error: unsupported text language: de, Code: 400 , X-global-transaction-id: b5aca258-d45a-467a-9dcc-ebccb2add8ec\n",
      "try transelate\n",
      "error:  Error: unsupported text language: unknown, Code: 400 , X-global-transaction-id: 49c939d3-f4b7-4f82-9b1d-1eec3ee57932\n",
      "try transelate\n",
      "failed to transelate:  Error: Unable to automatically detect the source language, confidence too low, Code: 404 , X-global-transaction-id: d3618c3f-09ca-4cec-934c-1b29b1331edd\n",
      "skip this text:  ���������������������������������������������������������������������������\n",
      "error:  Error: unsupported text language: de, Code: 400 , X-global-transaction-id: 345f2113-63f5-4606-8f53-89d848119a4e\n",
      "try transelate\n",
      "error:  Error: unsupported text language: micmac, Code: 400 , X-global-transaction-id: 05a60eb6-7ec5-4bd8-b9c8-da58671da5d3\n",
      "try transelate\n",
      "failed to transelate:  Error: Unable to automatically detect the source language, confidence too low, Code: 404 , X-global-transaction-id: ed9bba99-c573-4603-9dfb-cd5916762588\n",
      "skip this text:  ������������motel������������������������������������������������������������������������������������������������������\n",
      "error:  Error: unsupported text language: ja, Code: 400 , X-global-transaction-id: b6c80c3d-2278-4bd7-bc32-3ae219f66190\n",
      "try transelate\n",
      "error:  Error: unsupported text language: nl, Code: 400 , X-global-transaction-id: cf20d76f-84b8-46fe-b92e-0ad4066a38ad\n",
      "try transelate\n",
      "error:  Error: unsupported text language: zh, Code: 400 , X-global-transaction-id: b4c6f639-b7ff-4105-a71d-3d63b1b2cd43\n",
      "try transelate\n",
      "error:  Error: unsupported text language: ko, Code: 400 , X-global-transaction-id: b48f5430-4cd3-49c8-b734-14f628a40b74\n",
      "try transelate\n",
      "error:  Error: unsupported text language: ko, Code: 400 , X-global-transaction-id: 310b4615-6150-458b-98a2-e380b1781b08\n",
      "try transelate\n",
      "error:  Error: unsupported text language: pt, Code: 400 , X-global-transaction-id: cc270eb1-1dcc-4ddf-a249-d63f72e2425e\n",
      "try transelate\n",
      "error:  Error: unsupported text language: de, Code: 400 , X-global-transaction-id: 74e78a99-1f5c-43ed-9e30-6b17c30010e6\n",
      "try transelate\n"
     ]
    },
    {
     "name": "stderr",
     "output_type": "stream",
     "text": [
      " 46%|████▌     | 137/299 [2:05:23<8:29:11, 188.59s/it] "
     ]
    },
    {
     "name": "stdout",
     "output_type": "stream",
     "text": [
      "error:  Error: unsupported text language: it, Code: 400 , X-global-transaction-id: 1d5a3252-f9b5-41d4-affa-09ba864223c6\n",
      "try transelate\n",
      "error:  Error: unsupported text language: it, Code: 400 , X-global-transaction-id: e253c761-f18c-47cd-967d-5a6f6ddfd9a0\n",
      "try transelate\n",
      "failed to transelate:  Error: Unable to automatically detect the source language, confidence too low, Code: 404 , X-global-transaction-id: bbc8b162-0f2a-4137-b1ca-14262caba089\n",
      "skip this text:  normale, normale, normale !!!!!!!!!!!!!!!!!!!!!!!!!!!!!!!!!!!!!!!!!!!1\n",
      "error:  Error: unsupported text language: pt, Code: 400 , X-global-transaction-id: 7b8b39a0-eb13-452e-baa5-0ec0c71ac3a2\n",
      "try transelate\n",
      "error:  Error: unsupported text language: it, Code: 400 , X-global-transaction-id: 9c2647ec-52b5-4525-89a0-a63d9c033ff0\n",
      "try transelate\n",
      "error:  Error: unsupported text language: it, Code: 400 , X-global-transaction-id: a07565fd-5320-4cc3-b543-a55204e8848b\n",
      "try transelate\n",
      "error:  Error: unsupported text language: it, Code: 400 , X-global-transaction-id: c924cf3a-480d-4eef-abc7-e87e682050fe\n",
      "try transelate\n",
      "failed to transelate:  Error: not enough text for language id, Code: 422 , X-global-transaction-id: d8d655e7-f84a-40d7-9f35-8a06d359edf9\n",
      "skip this text:  Tutto ok\n",
      "error:  Error: unsupported text language: it, Code: 400 , X-global-transaction-id: 3b1a1437-ce33-4f00-a2cd-23eec5f55890\n",
      "try transelate\n",
      "error:  Error: unsupported text language: it, Code: 400 , X-global-transaction-id: 18b180d3-5e47-45f9-82a5-5c7b3eedec96\n",
      "try transelate\n",
      "error:  Error: unsupported text language: it, Code: 400 , X-global-transaction-id: 6af27ba9-c464-4e3a-bd97-4c837d711af2\n",
      "try transelate\n",
      "error:  Error: unsupported text language: es, Code: 400 , X-global-transaction-id: aec55a7e-93b1-460e-82c8-c17c451b84dc\n",
      "try transelate\n",
      "error:  Error: unsupported text language: no, Code: 400 , X-global-transaction-id: a349a251-99b8-4174-b2bd-be7037ebc571\n",
      "try transelate\n",
      "error:  Error: unsupported text language: it, Code: 400 , X-global-transaction-id: db29188f-07ef-4eaa-8e63-1f3f942fcb21\n",
      "try transelate\n",
      "error:  Error: unsupported text language: it, Code: 400 , X-global-transaction-id: cd33ed13-12a0-4954-a2ce-0215ec29faf1\n",
      "try transelate\n",
      "error:  Error: unsupported text language: it, Code: 400 , X-global-transaction-id: 6fe60c03-4679-4f9a-be07-4cb5ef37e33a\n",
      "try transelate\n",
      "error:  Error: unsupported text language: co, Code: 400 , X-global-transaction-id: f2a2d605-979e-4966-a29e-060af4d91886\n",
      "try transelate\n",
      "failed to transelate:  Error: Unable to automatically detect the source language, confidence too low, Code: 404 , X-global-transaction-id: fafdf917-5ad2-49ed-9915-15668db67176\n",
      "skip this text:  Week End abbastanza tranquillo\n",
      "error:  Error: unsupported text language: sv, Code: 400 , X-global-transaction-id: cde7ff10-b4af-4f31-9ee0-542436d4bf5f\n",
      "try transelate\n",
      "error:  Error: unsupported text language: it, Code: 400 , X-global-transaction-id: 776924cc-e3fa-48ce-af7c-6767d79ec988\n",
      "try transelate\n",
      "failed to transelate:  Error: not enough text for language id, Code: 422 , X-global-transaction-id: e40dec7e-29c7-4a56-9527-654cf4fbbae3\n",
      "skip this text:  Tutto perfetto\n",
      "error:  Error: unsupported text language: es, Code: 400 , X-global-transaction-id: c6f6b3db-de27-46fd-a594-11292c716c51\n",
      "try transelate\n",
      "error:  Error: unsupported text language: it, Code: 400 , X-global-transaction-id: 09fd6505-c0f7-4e51-b1d1-5e4d53a7d084\n",
      "try transelate\n",
      "error:  Error: unsupported text language: it, Code: 400 , X-global-transaction-id: 15e95d15-bfad-4941-a57c-5035966646be\n",
      "try transelate\n",
      "error:  Error: unsupported text language: it, Code: 400 , X-global-transaction-id: a971399f-3892-4da0-975c-fdc93a03b076\n",
      "try transelate\n",
      "error:  Error: not enough text for language id, Code: 422 , X-global-transaction-id: 9a5e1000-dab0-40ca-bfb6-58cc992d07c9\n",
      "try transelate\n",
      "failed to transelate:  Error: not enough text for language id, Code: 422 , X-global-transaction-id: d771187f-30c2-4472-865f-e505c27c9330\n",
      "skip this text:  mauvaise\n",
      "error:  Error: unsupported text language: it, Code: 400 , X-global-transaction-id: 1e5ba6c7-4d4a-4d75-b8b6-ab89264cc49e\n",
      "try transelate\n",
      "error:  Error: unsupported text language: it, Code: 400 , X-global-transaction-id: b2e713e3-0e49-4a11-98f3-57b8723afa33\n",
      "try transelate\n",
      "error:  Error: unsupported text language: it, Code: 400 , X-global-transaction-id: db45394f-94c6-4e25-b8d7-fd91f20bd3d0\n",
      "try transelate\n",
      "failed to transelate:  Error: not enough text for language id, Code: 422 , X-global-transaction-id: c79ca3dd-f7a7-48a7-81de-49bfec62e3fd\n",
      "skip this text:  Divinamente bene!\n",
      "error:  Error: unsupported text language: nl, Code: 400 , X-global-transaction-id: 97093ff5-625f-4f79-82a8-e9c3f0d28f21\n",
      "try transelate\n",
      "error:  Error: unsupported text language: it, Code: 400 , X-global-transaction-id: c225f1ab-f8d1-4091-acf8-94554214567b\n",
      "try transelate\n",
      "error:  Error: unsupported text language: it, Code: 400 , X-global-transaction-id: 7b867950-a377-4fde-a511-3ba869aedb08\n",
      "try transelate\n",
      "error:  Error: unsupported text language: it, Code: 400 , X-global-transaction-id: 0cbe34db-5202-45e1-a7bc-4a065c8a9655\n",
      "try transelate\n",
      "error:  Error: not enough text for language id, Code: 422 , X-global-transaction-id: da23b9db-5fbf-4ac5-9916-24d18e1f37c2\n",
      "try transelate\n",
      "failed to transelate:  Error: not enough text for language id, Code: 422 , X-global-transaction-id: 6b1d1c4b-59ee-42af-af20-63b767d2b308\n",
      "skip this text:  Lo consiglio\n",
      "error:  Error: unsupported text language: it, Code: 400 , X-global-transaction-id: ff2799fb-8269-44c0-9752-a341acb75f88\n",
      "try transelate\n",
      "error:  Error: unsupported text language: it, Code: 400 , X-global-transaction-id: ff3c91b1-0e8b-4ee9-8eb0-32c05fc604c1\n",
      "try transelate\n"
     ]
    },
    {
     "name": "stderr",
     "output_type": "stream",
     "text": [
      " 46%|████▌     | 138/299 [2:07:36<7:40:56, 171.78s/it]"
     ]
    },
    {
     "name": "stdout",
     "output_type": "stream",
     "text": [
      "error:  Error: not enough text for language id, Code: 422 , X-global-transaction-id: 874ef69e-f306-4bd0-93b8-8967a6e21af1\n",
      "try transelate\n",
      "failed to transelate:  Error: Automatically detected source language is the same as target, cannot translate. Try to set the source language explicitly if you think the source language was not correctly detected, Code: 404 , X-global-transaction-id: 64bfbcb4-5c10-4420-be3e-10ab860b6f28\n",
      "skip this text:  great\n"
     ]
    },
    {
     "name": "stderr",
     "output_type": "stream",
     "text": [
      " 46%|████▋     | 139/299 [2:08:12<5:49:18, 130.99s/it]"
     ]
    },
    {
     "name": "stdout",
     "output_type": "stream",
     "text": [
      "error:  Error: not enough text for language id, Code: 422 , X-global-transaction-id: d77aea57-2e42-4ad6-99b9-1bc1174c167e\n",
      "try transelate\n",
      "failed to transelate:  Error: Automatically detected source language is the same as target, cannot translate. Try to set the source language explicitly if you think the source language was not correctly detected, Code: 404 , X-global-transaction-id: 8d52ece4-288d-4e4b-8562-dc80e21ec55e\n",
      "skip this text:  VERY NICE\n",
      "error:  Error: not enough text for language id, Code: 422 , X-global-transaction-id: 65b7d9a5-f72a-4302-9181-dec0256c4991\n",
      "try transelate\n",
      "failed to transelate:  Error: Automatically detected source language is the same as target, cannot translate. Try to set the source language explicitly if you think the source language was not correctly detected, Code: 404 , X-global-transaction-id: 2b54c464-987b-4134-bd83-a43901e51cda\n",
      "skip this text:  Awesome\n",
      "error:  Error: not enough text for language id, Code: 422 , X-global-transaction-id: ebdd7413-5f2a-4253-a56a-60f63ace1de0\n",
      "try transelate\n",
      "failed to transelate:  Error: Automatically detected source language is the same as target, cannot translate. Try to set the source language explicitly if you think the source language was not correctly detected, Code: 404 , X-global-transaction-id: e2de791c-7ea9-4660-9496-7476e9cebd3b\n",
      "skip this text:  Great\n"
     ]
    },
    {
     "name": "stderr",
     "output_type": "stream",
     "text": [
      " 47%|████▋     | 140/299 [2:09:34<5:08:08, 116.28s/it]"
     ]
    },
    {
     "name": "stdout",
     "output_type": "stream",
     "text": [
      "error:  Error: not enough text for language id, Code: 422 , X-global-transaction-id: f729063b-c475-4e03-91ac-ad7422fe8e93\n",
      "try transelate\n",
      "failed to transelate:  Error: Automatically detected source language is the same as target, cannot translate. Try to set the source language explicitly if you think the source language was not correctly detected, Code: 404 , X-global-transaction-id: 5737e77c-529c-401c-a2ea-5d91a67d4c93\n",
      "skip this text:  It's good!\n"
     ]
    },
    {
     "name": "stderr",
     "output_type": "stream",
     "text": [
      " 47%|████▋     | 141/299 [2:10:18<4:09:17, 94.67s/it] "
     ]
    },
    {
     "name": "stdout",
     "output_type": "stream",
     "text": [
      "error:  Error: not enough text for language id, Code: 422 , X-global-transaction-id: 593d8cbd-4478-41b9-8f96-6832eedd5cb7\n",
      "try transelate\n",
      "failed to transelate:  Error: Automatically detected source language is the same as target, cannot translate. Try to set the source language explicitly if you think the source language was not correctly detected, Code: 404 , X-global-transaction-id: 155ca675-4777-4c24-b0e5-377da72fe91b\n",
      "skip this text:  great\n"
     ]
    },
    {
     "name": "stderr",
     "output_type": "stream",
     "text": [
      " 47%|████▋     | 142/299 [2:10:59<3:26:01, 78.74s/it]"
     ]
    },
    {
     "name": "stdout",
     "output_type": "stream",
     "text": [
      "error:  Error: unsupported text language: it, Code: 400 , X-global-transaction-id: 1d57fa1d-33bf-470b-90ad-34afeceb270b\n",
      "try transelate\n",
      "error:  Error: unsupported text language: pt, Code: 400 , X-global-transaction-id: 32b35925-9b5a-4eb8-abc5-9ea721e7ab0f\n",
      "try transelate\n",
      "error:  Error: unsupported text language: es, Code: 400 , X-global-transaction-id: cbdd4195-dd25-4cb4-8cd6-893dc4205767\n",
      "try transelate\n",
      "error:  Error: unsupported text language: pt, Code: 400 , X-global-transaction-id: 210a0f38-820f-49aa-8526-316a92371d17\n",
      "try transelate\n",
      "error:  Error: unsupported text language: pt, Code: 400 , X-global-transaction-id: 64d41d9a-2e54-455c-90c7-d88276dc9f3e\n",
      "try transelate\n",
      "error:  Error: unsupported text language: de, Code: 400 , X-global-transaction-id: 17edfc84-19a4-4f83-8f67-d7f3b87cc749\n",
      "try transelate\n",
      "error:  Error: not enough text for language id, Code: 422 , X-global-transaction-id: b7ab58a7-8a24-405e-a84d-b04bc6c97c81\n",
      "try transelate\n",
      "failed to transelate:  Error: Automatically detected source language is the same as target, cannot translate. Try to set the source language explicitly if you think the source language was not correctly detected, Code: 404 , X-global-transaction-id: b1ec8728-ad32-4f6f-bd9d-90ba4286c4a5\n",
      "skip this text:  Charming\n",
      "error:  Error: unsupported text language: es, Code: 400 , X-global-transaction-id: 6304614f-93ea-4473-848f-49a20d79373d\n",
      "try transelate\n",
      "error:  Error: unsupported text language: es, Code: 400 , X-global-transaction-id: 50cc23b2-8935-4687-b663-b3c0fa9213d3\n",
      "try transelate\n",
      "error:  Error: unsupported text language: es, Code: 400 , X-global-transaction-id: bac5f9ab-bcc1-4aa9-b5c0-1db2485d53e1\n",
      "try transelate\n",
      "error:  Error: unsupported text language: es, Code: 400 , X-global-transaction-id: 2e77cf4e-f495-4713-af14-2cfaa436d68c\n",
      "try transelate\n",
      "error:  Error: unsupported text language: de, Code: 400 , X-global-transaction-id: aaf1655d-8d84-45ce-8c21-6d199e5c29ff\n",
      "try transelate\n",
      "error:  Error: unsupported text language: es, Code: 400 , X-global-transaction-id: 9f8434ec-7537-4a3b-9147-5352f5ecf56d\n",
      "try transelate\n",
      "error:  Error: unsupported text language: es, Code: 400 , X-global-transaction-id: f1f19ceb-674f-4141-a7ed-b78f491640f4\n",
      "try transelate\n",
      "error:  Error: unsupported text language: es, Code: 400 , X-global-transaction-id: e1865c51-a813-48f5-a82b-297e8de2e373\n",
      "try transelate\n",
      "error:  Error: unsupported text language: es, Code: 400 , X-global-transaction-id: 02ff4500-c12d-44c3-85a5-447e211765be\n",
      "try transelate\n",
      "error:  Error: unsupported text language: es, Code: 400 , X-global-transaction-id: 5a6546d3-6f47-4eec-8e32-637540c3e2b1\n",
      "try transelate\n"
     ]
    },
    {
     "name": "stderr",
     "output_type": "stream",
     "text": [
      " 48%|████▊     | 143/299 [2:12:44<3:44:58, 86.53s/it]"
     ]
    },
    {
     "name": "stdout",
     "output_type": "stream",
     "text": [
      "error:  Error: unsupported text language: it, Code: 400 , X-global-transaction-id: a839fc2c-4275-49a8-89de-2ea2118eb66a\n",
      "try transelate\n"
     ]
    },
    {
     "name": "stderr",
     "output_type": "stream",
     "text": [
      " 49%|████▉     | 146/299 [2:14:08<2:11:28, 51.56s/it]"
     ]
    },
    {
     "name": "stdout",
     "output_type": "stream",
     "text": [
      "error:  Error: not enough text for language id, Code: 422 , X-global-transaction-id: 2afbf33b-8a65-49fc-84c0-da2820cebc43\n",
      "try transelate\n",
      "failed to transelate:  Error: not enough text for language id, Code: 422 , X-global-transaction-id: 4af01efa-0c84-47ef-a3a2-f048aa5d6581\n",
      "skip this text:  Quite place.\n",
      "error:  Error: not enough text for language id, Code: 422 , X-global-transaction-id: bf451de3-5862-484c-8d22-f92dcde60101\n",
      "try transelate\n",
      "failed to transelate:  Error: Automatically detected source language is the same as target, cannot translate. Try to set the source language explicitly if you think the source language was not correctly detected, Code: 404 , X-global-transaction-id: 34287e4d-ed75-4d76-bee7-adbe1baa15bd\n",
      "skip this text:  wonderful\n",
      "error:  Error: not enough text for language id, Code: 422 , X-global-transaction-id: 9e306c4f-8214-4ac2-8269-4ba210dd5f0e\n",
      "try transelate\n",
      "failed to transelate:  Error: Unable to automatically detect the source language, confidence too low, Code: 404 , X-global-transaction-id: 3656ba79-ff0e-4e62-8258-272f82af26b0\n",
      "skip this text:  ok\n",
      "error:  Error: not enough text for language id, Code: 422 , X-global-transaction-id: 115ac177-199b-4dc4-803c-8902c8b14130\n",
      "try transelate\n",
      "failed to transelate:  Error: Automatically detected source language is the same as target, cannot translate. Try to set the source language explicitly if you think the source language was not correctly detected, Code: 404 , X-global-transaction-id: 4297ad65-18bf-40fc-80c7-baf89bfa9021\n",
      "skip this text:  it was nice.\n"
     ]
    },
    {
     "name": "stderr",
     "output_type": "stream",
     "text": [
      " 49%|████▉     | 147/299 [2:16:04<2:59:26, 70.84s/it]"
     ]
    },
    {
     "name": "stdout",
     "output_type": "stream",
     "text": [
      "error:  Error: not enough text for language id, Code: 422 , X-global-transaction-id: ba73bb62-bc7e-455c-8bae-a0979b7398ec\n",
      "try transelate\n",
      "failed to transelate:  Error: Unable to automatically detect the source language, confidence too low, Code: 404 , X-global-transaction-id: e4aca122-f171-46b1-8379-f87d9b205b8b\n",
      "skip this text:  nice\n"
     ]
    },
    {
     "name": "stderr",
     "output_type": "stream",
     "text": [
      " 50%|█████     | 150/299 [2:18:34<2:19:24, 56.14s/it]"
     ]
    },
    {
     "name": "stdout",
     "output_type": "stream",
     "text": [
      "error:  Error: not enough text for language id, Code: 422 , X-global-transaction-id: 8b3aaa21-27e8-4285-a8eb-62616948b2c2\n",
      "try transelate\n",
      "failed to transelate:  Error: Automatically detected source language is the same as target, cannot translate. Try to set the source language explicitly if you think the source language was not correctly detected, Code: 404 , X-global-transaction-id: 4efeabdd-d49d-41ed-bcae-1928e9f58abb\n",
      "skip this text:  Good stay\n"
     ]
    },
    {
     "name": "stderr",
     "output_type": "stream",
     "text": [
      " 51%|█████     | 151/299 [2:19:45<2:29:13, 60.50s/it]"
     ]
    },
    {
     "name": "stdout",
     "output_type": "stream",
     "text": [
      "error:  Error: not enough text for language id, Code: 422 , X-global-transaction-id: 040ef33b-5cb8-4bdc-9933-c28c755b55e9\n",
      "try transelate\n",
      "failed to transelate:  Error: Unable to automatically detect the source language, confidence too low, Code: 404 , X-global-transaction-id: 0b175b52-f99d-43b9-9dd5-3194cefc2754\n",
      "skip this text:  Comfortable!\n",
      "error:  Error: not enough text for language id, Code: 422 , X-global-transaction-id: a87b40e3-5ea0-499d-8d33-3365b1023d77\n",
      "try transelate\n",
      "failed to transelate:  Error: Automatically detected source language is the same as target, cannot translate. Try to set the source language explicitly if you think the source language was not correctly detected, Code: 404 , X-global-transaction-id: 71fb5692-ea72-47a6-a3cd-ad4a12116f25\n",
      "skip this text:  Big room\n",
      "error:  Error: not enough text for language id, Code: 422 , X-global-transaction-id: 71d3943e-e91c-435c-9ae6-ccef7fd87637\n",
      "try transelate\n",
      "failed to transelate:  Error: Automatically detected source language is the same as target, cannot translate. Try to set the source language explicitly if you think the source language was not correctly detected, Code: 404 , X-global-transaction-id: 10d79706-c9d8-4a21-b500-3b2734f97146\n",
      "skip this text:  Swim meet\n",
      "error:  Error: not enough text for language id, Code: 422 , X-global-transaction-id: 457141d2-db44-41f2-a644-824e29bccb2b\n",
      "try transelate\n",
      "failed to transelate:  Error: Automatically detected source language is the same as target, cannot translate. Try to set the source language explicitly if you think the source language was not correctly detected, Code: 404 , X-global-transaction-id: d618bc88-6d66-486b-a33c-db5e56446fa9\n",
      "skip this text:  Wonderful\n"
     ]
    },
    {
     "name": "stderr",
     "output_type": "stream",
     "text": [
      " 51%|█████     | 152/299 [2:20:26<2:13:52, 54.64s/it]"
     ]
    },
    {
     "name": "stdout",
     "output_type": "stream",
     "text": [
      "error:  Error: not enough text for language id, Code: 422 , X-global-transaction-id: b3f0d7d4-1b63-4f85-a7af-56c5342e611b\n",
      "try transelate\n",
      "failed to transelate:  Error: Unable to automatically detect the source language, confidence too low, Code: 404 , X-global-transaction-id: 96ff87b7-6cac-4662-9b57-095b19b85a09\n",
      "skip this text:  Wonderful!\n",
      "error:  Error: not enough text for language id, Code: 422 , X-global-transaction-id: 985a2cfb-4da8-45ea-aae5-3e128a32ba2b\n",
      "try transelate\n",
      "failed to transelate:  Error: Automatically detected source language is the same as target, cannot translate. Try to set the source language explicitly if you think the source language was not correctly detected, Code: 404 , X-global-transaction-id: 5a7d3da8-2c7a-46bc-9aaa-eb72751e8d87\n",
      "skip this text:  Good\n",
      "error:  Error: not enough text for language id, Code: 422 , X-global-transaction-id: 44587d8d-b181-47f4-ba29-016b8f1f735a\n",
      "try transelate\n",
      "failed to transelate:  Error: Automatically detected source language is the same as target, cannot translate. Try to set the source language explicitly if you think the source language was not correctly detected, Code: 404 , X-global-transaction-id: b12c98bd-9673-4e99-8141-63a095072cee\n",
      "skip this text:  Run down\n"
     ]
    },
    {
     "name": "stderr",
     "output_type": "stream",
     "text": [
      " 51%|█████     | 153/299 [2:21:59<2:40:46, 66.07s/it]"
     ]
    },
    {
     "name": "stdout",
     "output_type": "stream",
     "text": [
      "error:  Error: not enough text for language id, Code: 422 , X-global-transaction-id: a404509d-4c68-4f36-9780-e0e5c6b6e6a5\n",
      "try transelate\n",
      "failed to transelate:  Error: Automatically detected source language is the same as target, cannot translate. Try to set the source language explicitly if you think the source language was not correctly detected, Code: 404 , X-global-transaction-id: ed33a1dc-6e1c-43a6-abd0-05beb172b1a8\n",
      "skip this text:  Very nice\n"
     ]
    },
    {
     "name": "stderr",
     "output_type": "stream",
     "text": [
      " 52%|█████▏    | 154/299 [2:22:51<2:29:17, 61.78s/it]"
     ]
    },
    {
     "name": "stdout",
     "output_type": "stream",
     "text": [
      "error:  Error: not enough text for language id, Code: 422 , X-global-transaction-id: f360f3e3-e72f-4f87-bc16-3d6d0a722ea9\n",
      "try transelate\n",
      "failed to transelate:  Error: Automatically detected source language is the same as target, cannot translate. Try to set the source language explicitly if you think the source language was not correctly detected, Code: 404 , X-global-transaction-id: 5363d957-bbc5-45f8-972f-f6b7231f145b\n",
      "skip this text:  Wonderful\n",
      "error:  Error: not enough text for language id, Code: 422 , X-global-transaction-id: 6a717417-91fd-45bb-86ea-9f7bba98da73\n",
      "try transelate\n",
      "failed to transelate:  Error: Unable to automatically detect the source language, confidence too low, Code: 404 , X-global-transaction-id: 150efed6-de24-4000-9548-edeaa23bffbf\n",
      "skip this text:  great!\n",
      "error:  Error: not enough text for language id, Code: 422 , X-global-transaction-id: 12531a1c-8fdb-4508-b8bd-8c6a43f35c9e\n",
      "try transelate\n",
      "failed to transelate:  Error: Automatically detected source language is the same as target, cannot translate. Try to set the source language explicitly if you think the source language was not correctly detected, Code: 404 , X-global-transaction-id: 33358b12-487f-4b13-9a0b-006f6b9048c0\n",
      "skip this text:  Good\n",
      "error:  Error: not enough text for language id, Code: 422 , X-global-transaction-id: a7826a61-01c7-4c87-a650-0a3a6dc733bb\n",
      "try transelate\n",
      "failed to transelate:  Error: Automatically detected source language is the same as target, cannot translate. Try to set the source language explicitly if you think the source language was not correctly detected, Code: 404 , X-global-transaction-id: 4eca25e6-bd2d-4108-b111-595d62daa3bf\n",
      "skip this text:  Perfect\n"
     ]
    },
    {
     "name": "stderr",
     "output_type": "stream",
     "text": [
      " 52%|█████▏    | 155/299 [2:27:00<4:43:13, 118.01s/it]"
     ]
    },
    {
     "name": "stdout",
     "output_type": "stream",
     "text": [
      "error:  Error: not enough text for language id, Code: 422 , X-global-transaction-id: 3244c856-06a0-4cb9-8c68-b6ec322d2070\n",
      "try transelate\n",
      "failed to transelate:  Error: Automatically detected source language is the same as target, cannot translate. Try to set the source language explicitly if you think the source language was not correctly detected, Code: 404 , X-global-transaction-id: dda1fe5d-9876-4eb5-becf-48d8ab1cfc4f\n",
      "skip this text:  Great hotel\n",
      "error:  Error: not enough text for language id, Code: 422 , X-global-transaction-id: f3ce7f66-ce60-4ebb-a4e6-b867fcfb60ec\n",
      "try transelate\n",
      "failed to transelate:  Error: Automatically detected source language is the same as target, cannot translate. Try to set the source language explicitly if you think the source language was not correctly detected, Code: 404 , X-global-transaction-id: 869aad2f-d006-4dac-9f84-a5b9c1bbbdbf\n",
      "skip this text:  Satisfied\n"
     ]
    },
    {
     "name": "stderr",
     "output_type": "stream",
     "text": [
      " 53%|█████▎    | 159/299 [2:32:24<2:54:29, 74.78s/it] "
     ]
    },
    {
     "name": "stdout",
     "output_type": "stream",
     "text": [
      "error:  Error: unsupported text language: it, Code: 400 , X-global-transaction-id: 861a48a5-4238-4f5c-8e19-c536195f06e5\n",
      "try transelate\n",
      "failed to transelate:  Error: Automatically detected source language is the same as target, cannot translate. Try to set the source language explicitly if you think the source language was not correctly detected, Code: 404 , X-global-transaction-id: cb268154-c208-48f4-84fd-9db50d6d7ec5\n",
      "skip this text:  scenic location\n"
     ]
    },
    {
     "name": "stderr",
     "output_type": "stream",
     "text": [
      " 54%|█████▎    | 160/299 [2:33:14<2:36:00, 67.34s/it]"
     ]
    },
    {
     "name": "stdout",
     "output_type": "stream",
     "text": [
      "error:  Error: unsupported text language: nl, Code: 400 , X-global-transaction-id: 67932a6c-9cac-4b08-80dd-91543ecbb3b2\n",
      "try transelate\n",
      "error:  Error: not enough text for language id, Code: 422 , X-global-transaction-id: ddcb4d1d-8790-4bdc-a2d4-6bf80fc97b3c\n",
      "try transelate\n",
      "failed to transelate:  Error: Unable to automatically detect the source language, confidence too low, Code: 404 , X-global-transaction-id: 1580e37b-9190-4c3c-b295-ddb3b7091399\n",
      "skip this text:  , . , , .\n",
      "error:  Error: not enough text for language id, Code: 422 , X-global-transaction-id: 0df67939-18c1-4738-a9b9-cff62076daa8\n",
      "try transelate\n",
      "failed to transelate:  Error: Unable to automatically detect the source language, confidence too low, Code: 404 , X-global-transaction-id: a480c879-2955-4f43-ba56-e30493a5b279\n",
      "skip this text:  .. ... ..\n",
      "error:  Error: unsupported text language: de, Code: 400 , X-global-transaction-id: a9ed1de8-fc60-45d1-ba49-5a8627e33ad4\n",
      "try transelate\n",
      "error:  Error: unsupported text language: de, Code: 400 , X-global-transaction-id: 823d9f70-1346-42d5-9642-a626b8d6753a\n",
      "try transelate\n",
      "error:  Error: unsupported text language: de, Code: 400 , X-global-transaction-id: e8578822-b75d-4b96-9896-76b9260609bc\n",
      "try transelate\n",
      "error:  Error: unsupported text language: unknown, Code: 400 , X-global-transaction-id: b7bb4a37-36da-4dc9-ae07-6c1a423aad61\n",
      "try transelate\n",
      "failed to transelate:  Error: Unable to automatically detect the source language, confidence too low, Code: 404 , X-global-transaction-id: 587cff9f-818d-4a79-b7cb-bec7176a6765\n",
      "skip this text:  - . 80,86 . , 0,33 , . )\n",
      "error:  Error: unsupported text language: no, Code: 400 , X-global-transaction-id: 4b8040d9-8239-4a95-b4f7-a3d91e6b24f7\n",
      "try transelate\n",
      "error:  Error: unsupported text language: de, Code: 400 , X-global-transaction-id: edc27ddb-5b15-4919-a7b8-ff23e7e4643b\n",
      "try transelate\n",
      "error:  Error: unsupported text language: no, Code: 400 , X-global-transaction-id: 6ccbb520-4413-485e-a0ea-4b5b228bbfa9\n",
      "try transelate\n",
      "error:  Error: unsupported text language: fi, Code: 400 , X-global-transaction-id: 597fee92-d23c-44d9-a371-42826a3745a9\n",
      "try transelate\n",
      "error:  Error: not enough text for language id, Code: 422 , X-global-transaction-id: 09a3a7fc-b620-430d-adb9-9c46bdac34c4\n",
      "try transelate\n"
     ]
    },
    {
     "name": "stderr",
     "output_type": "stream",
     "text": [
      " 54%|█████▍    | 161/299 [2:34:24<2:36:25, 68.01s/it]"
     ]
    },
    {
     "name": "stdout",
     "output_type": "stream",
     "text": [
      "failed to transelate:  Error: Unable to automatically detect the source language, confidence too low, Code: 404 , X-global-transaction-id: 8db6db53-f809-44a9-a5d9-a50f4ca0b5b1\n",
      "skip this text:  Wifi\n",
      "error:  Error: unsupported text language: de, Code: 400 , X-global-transaction-id: 694c2ea1-e0ea-4119-9c6f-aa983fec7f1c\n",
      "try transelate\n",
      "error:  Error: unsupported text language: it, Code: 400 , X-global-transaction-id: 42a16ca1-65e3-4b64-a833-1565f63ea9f9\n",
      "try transelate\n",
      "error:  Error: unsupported text language: de, Code: 400 , X-global-transaction-id: 058fdc16-cd4c-45fd-9f9f-df5b6070857f\n",
      "try transelate\n",
      "error:  Error: unsupported text language: de, Code: 400 , X-global-transaction-id: 21265b04-182b-467f-b17f-b7fa5e0bf0b4\n",
      "try transelate\n",
      "error:  Error: unsupported text language: it, Code: 400 , X-global-transaction-id: a9dfa756-cde6-4da7-acb3-8afc9c5d4847\n",
      "try transelate\n",
      "error:  Error: unsupported text language: sv, Code: 400 , X-global-transaction-id: 1ee2a16e-3c63-4d0c-b197-ca9e927c38d2\n",
      "try transelate\n",
      "error:  Error: unsupported text language: de, Code: 400 , X-global-transaction-id: 60523411-b8a5-48e9-9f64-dde1341732c6\n",
      "try transelate\n",
      "error:  Error: unsupported text language: pt, Code: 400 , X-global-transaction-id: c5356643-dab8-4353-8e34-343392075db6\n",
      "try transelate\n",
      "error:  Error: not enough text for language id, Code: 422 , X-global-transaction-id: 30a09ec6-78a5-4e08-b415-f2235c24729e\n",
      "try transelate\n",
      "failed to transelate:  Error: Automatically detected source language is the same as target, cannot translate. Try to set the source language explicitly if you think the source language was not correctly detected, Code: 404 , X-global-transaction-id: 55cd311e-2549-4611-b42b-9469a67b1f4a\n",
      "skip this text:  Agrable\n",
      "error:  Error: unsupported text language: de, Code: 400 , X-global-transaction-id: 4fbe8a04-3cc6-46dd-b5d3-bb34365a41cf\n",
      "try transelate\n",
      "error:  Error: unsupported text language: it, Code: 400 , X-global-transaction-id: 245fda22-8aaf-4a60-94c6-f755c1fe4ae0\n",
      "try transelate\n"
     ]
    },
    {
     "name": "stderr",
     "output_type": "stream",
     "text": [
      " 55%|█████▍    | 163/299 [2:38:12<3:04:17, 81.31s/it] "
     ]
    },
    {
     "name": "stdout",
     "output_type": "stream",
     "text": [
      "error:  Error: not enough text for language id, Code: 422 , X-global-transaction-id: 14e2d4cf-bdef-4728-9999-3e2cc44a91f3\n",
      "try transelate\n",
      "failed to transelate:  Error: Unable to automatically detect the source language, confidence too low, Code: 404 , X-global-transaction-id: e2262be9-3ef7-48f4-ab3f-80617f9655b4\n",
      "skip this text:  Excellent\n",
      "error:  Error: not enough text for language id, Code: 422 , X-global-transaction-id: 5a49b273-deba-44e8-814e-67001ad3ce56\n",
      "try transelate\n",
      "failed to transelate:  Error: Unable to automatically detect the source language, confidence too low, Code: 404 , X-global-transaction-id: 5752e06d-2be5-4725-aef2-605098018335\n",
      "skip this text:  Fab!!!\n",
      "error:  Error: not enough text for language id, Code: 422 , X-global-transaction-id: bbed9bf8-40a3-43a3-8113-80b7016895d4\n",
      "try transelate\n",
      "failed to transelate:  Error: Automatically detected source language is the same as target, cannot translate. Try to set the source language explicitly if you think the source language was not correctly detected, Code: 404 , X-global-transaction-id: e0fa1dff-9d99-4d9b-83d5-47edf0fcb76c\n",
      "skip this text:  Awesome\n",
      "error:  Error: not enough text for language id, Code: 422 , X-global-transaction-id: 20ecb036-e81a-407b-a63c-e096db70f706\n",
      "try transelate\n",
      "failed to transelate:  Error: Automatically detected source language is the same as target, cannot translate. Try to set the source language explicitly if you think the source language was not correctly detected, Code: 404 , X-global-transaction-id: 3c98642d-cdf9-4421-a168-4a75e5485a9c\n",
      "skip this text:  Very good\n"
     ]
    },
    {
     "name": "stderr",
     "output_type": "stream",
     "text": [
      " 56%|█████▌    | 167/299 [2:40:59<1:52:02, 50.93s/it]"
     ]
    },
    {
     "name": "stdout",
     "output_type": "stream",
     "text": [
      "error:  Error: not enough text for language id, Code: 422 , X-global-transaction-id: b71d8e54-e1ac-4ba2-99ac-458c28b9ab70\n",
      "try transelate\n",
      "failed to transelate:  Error: Automatically detected source language is the same as target, cannot translate. Try to set the source language explicitly if you think the source language was not correctly detected, Code: 404 , X-global-transaction-id: 83a141f2-3fb3-457b-a1dd-fa87c150df56\n",
      "skip this text:  A clean hotel.\n"
     ]
    },
    {
     "name": "stderr",
     "output_type": "stream",
     "text": [
      " 58%|█████▊    | 172/299 [2:45:27<1:45:37, 49.90s/it]"
     ]
    },
    {
     "name": "stdout",
     "output_type": "stream",
     "text": [
      "error:  Error: not enough text for language id, Code: 422 , X-global-transaction-id: 64c155ea-7ead-4e1b-9b87-9444a4e4b8be\n",
      "try transelate\n",
      "failed to transelate:  Error: Automatically detected source language is the same as target, cannot translate. Try to set the source language explicitly if you think the source language was not correctly detected, Code: 404 , X-global-transaction-id: dfcc40a2-dc01-4689-acf0-7dcbc41a1375\n",
      "skip this text:  Amazing\n"
     ]
    },
    {
     "name": "stderr",
     "output_type": "stream",
     "text": [
      " 59%|█████▊    | 175/299 [2:47:44<1:39:07, 47.96s/it]"
     ]
    },
    {
     "name": "stdout",
     "output_type": "stream",
     "text": [
      "error:  Error: not enough text for language id, Code: 422 , X-global-transaction-id: 6d8cab97-af47-4e3f-ae14-cb9eb9b248de\n",
      "try transelate\n",
      "failed to transelate:  Error: Unable to automatically detect the source language, confidence too low, Code: 404 , X-global-transaction-id: 6d4b57e2-dac4-403a-b25c-3363dc545cec\n",
      "skip this text:  Fantastic!\n"
     ]
    },
    {
     "name": "stderr",
     "output_type": "stream",
     "text": [
      " 59%|█████▉    | 176/299 [2:49:03<1:57:38, 57.39s/it]"
     ]
    },
    {
     "name": "stdout",
     "output_type": "stream",
     "text": [
      "error:  Error: not enough text for language id, Code: 422 , X-global-transaction-id: 6d0c9f82-dfc9-4f5b-bc48-a5737bc167d0\n",
      "try transelate\n",
      "failed to transelate:  Error: Automatically detected source language is the same as target, cannot translate. Try to set the source language explicitly if you think the source language was not correctly detected, Code: 404 , X-global-transaction-id: 66b31ea4-a632-4186-88b2-12ebf9161426\n",
      "skip this text:  Comfortable\n"
     ]
    },
    {
     "name": "stderr",
     "output_type": "stream",
     "text": [
      " 59%|█████▉    | 177/299 [2:49:38<1:42:47, 50.55s/it]"
     ]
    },
    {
     "name": "stdout",
     "output_type": "stream",
     "text": [
      "error:  Error: unsupported text language: sv, Code: 400 , X-global-transaction-id: 9f5d3d16-1195-42ad-a21c-ce198d4290b6\n",
      "try transelate\n",
      "error:  Error: unsupported text language: sv, Code: 400 , X-global-transaction-id: 4fd7eafd-a93e-486a-ad50-d4ff4f5c78e2\n",
      "try transelate\n"
     ]
    },
    {
     "name": "stderr",
     "output_type": "stream",
     "text": [
      " 60%|█████▉    | 178/299 [2:50:15<1:34:17, 46.76s/it]"
     ]
    },
    {
     "name": "stdout",
     "output_type": "stream",
     "text": [
      "error:  Error: unsupported text language: mt, Code: 400 , X-global-transaction-id: 330e0825-4c59-4160-94b1-f33093b7686e\n",
      "try transelate\n",
      "failed to transelate:  Error: Unable to automatically detect the source language, confidence too low, Code: 404 , X-global-transaction-id: 229d112e-77db-404b-bee3-2bcc753275c9\n",
      "skip this text:  xxxxxxxxxxxxxxxxxxxxxxxxxxxxxxxxxxxxxxxxxx\n",
      "error:  Error: not enough text for language id, Code: 422 , X-global-transaction-id: 4710442c-5fff-4f5e-afc1-458001905d82\n",
      "try transelate\n",
      "failed to transelate:  Error: Automatically detected source language is the same as target, cannot translate. Try to set the source language explicitly if you think the source language was not correctly detected, Code: 404 , X-global-transaction-id: d2b18940-54a3-4aad-b531-407b36c8e06e\n",
      "skip this text:  great hotel!!!\n",
      "error:  Error: not enough text for language id, Code: 422 , X-global-transaction-id: decc826f-f9b5-46f0-b4f3-72b20d1ec1a5\n",
      "try transelate\n",
      "failed to transelate:  Error: Automatically detected source language is the same as target, cannot translate. Try to set the source language explicitly if you think the source language was not correctly detected, Code: 404 , X-global-transaction-id: 323560cd-a3d8-484d-bbff-d66e0a681e6f\n",
      "skip this text:  Very nice!\n",
      "error:  Error: not enough text for language id, Code: 422 , X-global-transaction-id: a94825e7-c7d6-47e5-b42a-622eb7c8688f\n",
      "try transelate\n",
      "failed to transelate:  Error: Unable to automatically detect the source language, confidence too low, Code: 404 , X-global-transaction-id: d9f1f440-5458-43b4-a201-3d3af07cff0a\n",
      "skip this text:  Great hotel!!!\n"
     ]
    },
    {
     "name": "stderr",
     "output_type": "stream",
     "text": [
      " 60%|█████▉    | 179/299 [2:51:36<1:53:47, 56.89s/it]"
     ]
    },
    {
     "name": "stdout",
     "output_type": "stream",
     "text": [
      "error:  Error: unsupported text language: es, Code: 400 , X-global-transaction-id: 3464fb21-7e6e-47bc-a98b-f595117519de\n",
      "try transelate\n",
      "error:  Error: unsupported text language: es, Code: 400 , X-global-transaction-id: 838a3700-9c61-4676-9d5c-855f88944459\n",
      "try transelate\n"
     ]
    },
    {
     "name": "stderr",
     "output_type": "stream",
     "text": [
      " 60%|██████    | 180/299 [2:52:06<1:36:40, 48.74s/it]"
     ]
    },
    {
     "name": "stdout",
     "output_type": "stream",
     "text": [
      "error:  Error: not enough text for language id, Code: 422 , X-global-transaction-id: 293abfec-356a-4d15-ad4a-0c5b9d142628\n",
      "try transelate\n",
      "failed to transelate:  Error: Unable to automatically detect the source language, confidence too low, Code: 404 , X-global-transaction-id: 12931b6c-131f-4b24-94f0-663a965d8f41\n",
      "skip this text:  Delightful\n"
     ]
    },
    {
     "name": "stderr",
     "output_type": "stream",
     "text": [
      " 61%|██████    | 181/299 [2:54:18<2:24:56, 73.70s/it]"
     ]
    },
    {
     "name": "stdout",
     "output_type": "stream",
     "text": [
      "error:  Error: not enough text for language id, Code: 422 , X-global-transaction-id: 7eb94c78-bbd4-42ec-8446-f0cebbf0254f\n",
      "try transelate\n",
      "failed to transelate:  Error: Unable to automatically detect the source language, confidence too low, Code: 404 , X-global-transaction-id: 5b237e70-8fc7-4f8e-a3a7-7c9b1dcebf4b\n",
      "skip this text:  fANTASTIC\n"
     ]
    },
    {
     "name": "stderr",
     "output_type": "stream",
     "text": [
      " 61%|██████    | 183/299 [2:56:10<2:08:50, 66.64s/it]"
     ]
    },
    {
     "name": "stdout",
     "output_type": "stream",
     "text": [
      "error:  Error: unsupported text language: pt, Code: 400 , X-global-transaction-id: 41cb9a5e-f521-4089-a0cd-f2100e767920\n",
      "try transelate\n",
      "error:  Error: unsupported text language: de, Code: 400 , X-global-transaction-id: 8bf641ba-f805-4a35-9e97-7ab8fedf6dd7\n",
      "try transelate\n",
      "error:  Error: unsupported text language: fi, Code: 400 , X-global-transaction-id: d7dd7b38-a378-4efc-8971-f7ed8ffa7c0e\n",
      "try transelate\n",
      "error:  Error: unsupported text language: fi, Code: 400 , X-global-transaction-id: 44118755-128e-4545-a4f4-eb678f8878d0\n",
      "try transelate\n",
      "error:  Error: unsupported text language: no, Code: 400 , X-global-transaction-id: 1166331e-a5d5-463d-911b-16ec4b9ea884\n",
      "try transelate\n",
      "error:  Error: not enough text for language id, Code: 422 , X-global-transaction-id: 3a354671-50db-4850-992b-b5d030291d6f\n",
      "try transelate\n",
      "failed to transelate:  Error: Unable to automatically detect the source language, confidence too low, Code: 404 , X-global-transaction-id: 702fbec3-027f-4182-93c2-5cce18345738\n",
      "skip this text:  , . , . , .\n",
      "error:  Error: unsupported text language: sv, Code: 400 , X-global-transaction-id: 72db20ec-aa8a-423a-a7fe-1a733ba06c59\n",
      "try transelate\n",
      "error:  Error: unsupported text language: sv, Code: 400 , X-global-transaction-id: 239350af-10c7-4bd6-93eb-c243f4888933\n",
      "try transelate\n"
     ]
    },
    {
     "name": "stderr",
     "output_type": "stream",
     "text": [
      " 62%|██████▏   | 184/299 [2:57:38<2:19:32, 72.80s/it]"
     ]
    },
    {
     "name": "stdout",
     "output_type": "stream",
     "text": [
      "error:  Error: not enough text for language id, Code: 422 , X-global-transaction-id: afbed385-f78a-4766-8515-351960aaffa2\n",
      "try transelate\n",
      "failed to transelate:  Error: Automatically detected source language is the same as target, cannot translate. Try to set the source language explicitly if you think the source language was not correctly detected, Code: 404 , X-global-transaction-id: 3d254e98-62fa-49fb-b79a-df791c357e53\n",
      "skip this text:  very bad\n",
      "error:  Error: not enough text for language id, Code: 422 , X-global-transaction-id: f2d71715-b82e-452c-b66a-afa8703c5533\n",
      "try transelate\n",
      "failed to transelate:  Error: Automatically detected source language is the same as target, cannot translate. Try to set the source language explicitly if you think the source language was not correctly detected, Code: 404 , X-global-transaction-id: a679e03b-2f82-4afa-abb9-38b26343f38e\n",
      "skip this text:  Wonderful\n",
      "error:  Error: not enough text for language id, Code: 422 , X-global-transaction-id: 862aa539-cc44-47e4-8349-8ed4339ac77c\n",
      "try transelate\n",
      "failed to transelate:  Error: Automatically detected source language is the same as target, cannot translate. Try to set the source language explicitly if you think the source language was not correctly detected, Code: 404 , X-global-transaction-id: 2b0c114a-41c8-4aa5-8592-7360bfc6eaa7\n",
      "skip this text:  Good stay!!!\n",
      "error:  Error: unsupported text language: sv, Code: 400 , X-global-transaction-id: 5b859aa4-29b8-4d34-ba61-f1274d8adc58\n",
      "try transelate\n",
      "error:  Error: not enough text for language id, Code: 422 , X-global-transaction-id: fcdcbf16-152e-4869-a469-1ca9a13fb80b\n",
      "try transelate\n",
      "failed to transelate:  Error: Unable to automatically detect the source language, confidence too low, Code: 404 , X-global-transaction-id: 5390ca11-5591-4cc3-8c51-b6fa34e62c42\n",
      "skip this text:  nice, quiet\n"
     ]
    },
    {
     "name": "stderr",
     "output_type": "stream",
     "text": [
      " 62%|██████▏   | 185/299 [2:58:48<2:16:52, 72.04s/it]"
     ]
    },
    {
     "name": "stdout",
     "output_type": "stream",
     "text": [
      "error:  Error: not enough text for language id, Code: 422 , X-global-transaction-id: 1de57a74-6296-4185-b5cb-68676979ec38\n",
      "try transelate\n",
      "failed to transelate:  Error: Unable to automatically detect the source language, confidence too low, Code: 404 , X-global-transaction-id: dc5622e5-a5df-4cbf-90e4-7f302e04142d\n",
      "skip this text:  Nice\n"
     ]
    },
    {
     "name": "stderr",
     "output_type": "stream",
     "text": [
      " 63%|██████▎   | 187/299 [2:59:50<1:34:21, 50.55s/it]"
     ]
    },
    {
     "name": "stdout",
     "output_type": "stream",
     "text": [
      "error:  Error: not enough text for language id, Code: 422 , X-global-transaction-id: 2bc000b7-5f32-43c4-adde-2a022c3ec10d\n",
      "try transelate\n",
      "failed to transelate:  Error: Automatically detected source language is the same as target, cannot translate. Try to set the source language explicitly if you think the source language was not correctly detected, Code: 404 , X-global-transaction-id: d7bd8642-a498-4307-8d55-b6fa37ce8036\n",
      "skip this text:  Great\n",
      "error:  Error: not enough text for language id, Code: 422 , X-global-transaction-id: efd30e02-230d-4701-af5e-c5ebb26eb093\n",
      "try transelate\n",
      "failed to transelate:  HTTPSConnectionPool(host='api.au-syd.language-translator.watson.cloud.ibm.com', port=443): Read timed out. (read timeout=60)\n",
      "skip this text:  Great\n",
      "error:  Error: not enough text for language id, Code: 422 , X-global-transaction-id: f9a50f38-21b7-471e-8575-7f2765d6b04d\n",
      "try transelate\n",
      "failed to transelate:  ('Connection aborted.', RemoteDisconnected('Remote end closed connection without response'))\n",
      "skip this text:  Pleasant staff\n"
     ]
    },
    {
     "name": "stderr",
     "output_type": "stream",
     "text": [
      " 63%|██████▎   | 188/299 [3:02:54<2:47:54, 90.76s/it]"
     ]
    },
    {
     "name": "stdout",
     "output_type": "stream",
     "text": [
      "error:  Error: not enough text for language id, Code: 422 , X-global-transaction-id: ceff3159-9a6b-4e10-a398-5bd04191c1ba\n",
      "try transelate\n",
      "failed to transelate:  HTTPSConnectionPool(host='api.au-syd.language-translator.watson.cloud.ibm.com', port=443): Read timed out. (read timeout=60)\n",
      "skip this text:  Great\n",
      "error:  Error: not enough text for language id, Code: 422 , X-global-transaction-id: ac55497b-7cbb-473b-a4a1-398dbf327333\n",
      "try transelate\n",
      "failed to transelate:  Error: Unable to automatically detect the source language, confidence too low, Code: 404 , X-global-transaction-id: 8b89d357-7ac0-46c5-9e6a-2204bc55474e\n",
      "skip this text:  10 +\n"
     ]
    },
    {
     "name": "stderr",
     "output_type": "stream",
     "text": [
      " 63%|██████▎   | 189/299 [3:06:05<3:41:18, 120.72s/it]"
     ]
    },
    {
     "name": "stdout",
     "output_type": "stream",
     "text": [
      "error:  Error: not enough text for language id, Code: 422 , X-global-transaction-id: 47f97513-02d9-44ff-aa14-791bb17b9b13\n",
      "try transelate\n",
      "failed to transelate:  Error: Unable to automatically detect the source language, confidence too low, Code: 404 , X-global-transaction-id: 0b5301c4-c4bd-43f5-8dbf-9613b901d88e\n",
      "skip this text:  Grest\n",
      "error:  Error: not enough text for language id, Code: 422 , X-global-transaction-id: e5eeca65-ab17-4546-9639-5bafa25270f3\n",
      "try transelate\n",
      "failed to transelate:  Error: Unable to automatically detect the source language, confidence too low, Code: 404 , X-global-transaction-id: 947362c2-5c0a-4a63-aa43-07a776efe293\n",
      "skip this text:  Nice value\n",
      "error:  Error: not enough text for language id, Code: 422 , X-global-transaction-id: bdaa5caa-f14e-4ed3-a7fd-01bc9c1b2b27\n",
      "try transelate\n",
      "failed to transelate:  Error: Automatically detected source language is the same as target, cannot translate. Try to set the source language explicitly if you think the source language was not correctly detected, Code: 404 , X-global-transaction-id: 8dbe2e1e-b096-4cf9-9783-cfba6e8583d8\n",
      "skip this text:  Very nice\n"
     ]
    },
    {
     "name": "stderr",
     "output_type": "stream",
     "text": [
      " 64%|██████▍   | 191/299 [3:09:02<3:06:32, 103.64s/it]"
     ]
    },
    {
     "name": "stdout",
     "output_type": "stream",
     "text": [
      "error:  Error: not enough text for language id, Code: 422 , X-global-transaction-id: 2d9b6131-2c34-412b-a746-512df1796146\n",
      "try transelate\n",
      "failed to transelate:  Error: Automatically detected source language is the same as target, cannot translate. Try to set the source language explicitly if you think the source language was not correctly detected, Code: 404 , X-global-transaction-id: 79c29e98-9024-42ac-bc7f-8693748b18cd\n",
      "skip this text:  Nice and Clean\n",
      "error:  Error: not enough text for language id, Code: 422 , X-global-transaction-id: 974b494e-8947-429d-a1c0-68d2e62d93e8\n",
      "try transelate\n",
      "failed to transelate:  Error: Automatically detected source language is the same as target, cannot translate. Try to set the source language explicitly if you think the source language was not correctly detected, Code: 404 , X-global-transaction-id: d5198608-3db7-40f2-b90a-5c44f01305c4\n",
      "skip this text:  Great\n",
      "error:  Error: not enough text for language id, Code: 422 , X-global-transaction-id: 9c946573-1433-4b6a-a81f-4745fd4af328\n",
      "try transelate\n",
      "failed to transelate:  Error: Automatically detected source language is the same as target, cannot translate. Try to set the source language explicitly if you think the source language was not correctly detected, Code: 404 , X-global-transaction-id: d9bfc888-8750-4218-bc3a-7af026b3ccc4\n",
      "skip this text:  Not good\n",
      "error:  Error: not enough text for language id, Code: 422 , X-global-transaction-id: 1632cbaa-7166-4e27-af70-0473a354eaf0\n",
      "try transelate\n",
      "failed to transelate:  Error: Automatically detected source language is the same as target, cannot translate. Try to set the source language explicitly if you think the source language was not correctly detected, Code: 404 , X-global-transaction-id: 7ce45d0b-3105-439f-a75d-c8b1874a03ed\n",
      "skip this text:  Good\n"
     ]
    },
    {
     "name": "stderr",
     "output_type": "stream",
     "text": [
      " 65%|██████▍   | 194/299 [3:12:20<2:16:04, 77.75s/it] "
     ]
    },
    {
     "name": "stdout",
     "output_type": "stream",
     "text": [
      "error:  Error: not enough text for language id, Code: 422 , X-global-transaction-id: 18310e37-09c6-4f85-9ea0-84f7fa051fb1\n",
      "try transelate\n",
      "failed to transelate:  Error: Automatically detected source language is the same as target, cannot translate. Try to set the source language explicitly if you think the source language was not correctly detected, Code: 404 , X-global-transaction-id: 684e53b8-9d82-4d5c-b240-e99431c53822\n",
      "skip this text:  Nice room\n"
     ]
    },
    {
     "name": "stderr",
     "output_type": "stream",
     "text": [
      " 66%|██████▌   | 196/299 [3:14:00<1:49:15, 63.65s/it]"
     ]
    },
    {
     "name": "stdout",
     "output_type": "stream",
     "text": [
      "error:  Error: unsupported text language: pt, Code: 400 , X-global-transaction-id: aa3615a4-2af8-455c-9402-c168e9308c14\n",
      "try transelate\n",
      "error:  Error: unsupported text language: pt, Code: 400 , X-global-transaction-id: eb2f43a1-5bc2-431c-acee-1fe35e5d8840\n",
      "try transelate\n",
      "error:  Error: unsupported text language: pt, Code: 400 , X-global-transaction-id: ffb376f4-f20b-4276-879b-bc1fe046aaf3\n",
      "try transelate\n",
      "error:  Error: unsupported text language: pt, Code: 400 , X-global-transaction-id: b88ec074-b23d-4c9d-9f3a-ca4d8975f233\n",
      "try transelate\n",
      "error:  Error: unsupported text language: pt, Code: 400 , X-global-transaction-id: c49661c7-2858-48e0-b37c-2ad8c2788ea5\n",
      "try transelate\n",
      "error:  Error: unsupported text language: pt, Code: 400 , X-global-transaction-id: fab5ec81-f00f-4c9d-843c-47e1ee34331c\n",
      "try transelate\n",
      "error:  Error: unsupported text language: pt, Code: 400 , X-global-transaction-id: 315b27b4-fc61-4d1a-b4d0-1d2cc423b970\n",
      "try transelate\n",
      "error:  Error: unsupported text language: pt, Code: 400 , X-global-transaction-id: 271acc50-1e7f-4739-bc78-ebd870627b6b\n",
      "try transelate\n",
      "error:  Error: unsupported text language: pt, Code: 400 , X-global-transaction-id: 28dc135f-836a-455e-adf1-db0662dc2701\n",
      "try transelate\n",
      "error:  Error: unsupported text language: pt, Code: 400 , X-global-transaction-id: 6df84a5e-9b1c-48a3-9c41-323b6eb6b188\n",
      "try transelate\n",
      "error:  Error: unsupported text language: pt, Code: 400 , X-global-transaction-id: f85a1de0-3be7-4b11-9e1a-21fd2defe810\n",
      "try transelate\n",
      "error:  Error: unsupported text language: pt, Code: 400 , X-global-transaction-id: 30cc87ee-4570-484d-bb43-eb44a4a892a6\n",
      "try transelate\n",
      "error:  Error: unsupported text language: pt, Code: 400 , X-global-transaction-id: 5e58358f-7217-481a-ac5a-39189b612f7a\n",
      "try transelate\n",
      "error:  Error: unsupported text language: pt, Code: 400 , X-global-transaction-id: c6564a61-d250-4c87-a21b-9293703a05f8\n",
      "try transelate\n",
      "error:  Error: unsupported text language: pt, Code: 400 , X-global-transaction-id: b82c46cb-7fc3-4475-a0d5-9729919d970c\n",
      "try transelate\n",
      "error:  Error: unsupported text language: es, Code: 400 , X-global-transaction-id: af83b376-4c4e-4698-9f7b-36a179984fdc\n",
      "try transelate\n",
      "error:  Error: unsupported text language: pt, Code: 400 , X-global-transaction-id: c5a538fb-2d9c-4ce7-975f-539f83988154\n",
      "try transelate\n",
      "error:  Error: not enough text for language id, Code: 422 , X-global-transaction-id: 83bcbe28-6da0-4f38-9d26-d355293de95d\n",
      "try transelate\n",
      "failed to transelate:  Error: not enough text for language id, Code: 422 , X-global-transaction-id: 0bf224b8-7bdf-458b-8efe-c4b74407a1d9\n",
      "skip this text:  tima! Voltare!\n",
      "error:  Error: unsupported text language: pt, Code: 400 , X-global-transaction-id: a620a568-9ca6-462c-a3bb-b1eeb6088d75\n",
      "try transelate\n",
      "error:  Error: unsupported text language: pt, Code: 400 , X-global-transaction-id: a53087e4-fe58-4c1f-acdd-d2243aaaf2d4\n",
      "try transelate\n",
      "error:  Error: unsupported text language: pt, Code: 400 , X-global-transaction-id: b32e06b2-9b1d-4f67-971c-673b2cb616fc\n",
      "try transelate\n",
      "failed to transelate:  Error: unsupported text language: la, Code: 400 , X-global-transaction-id: 6b97be8b-3990-477a-92a6-5f4af4b4492d\n",
      "skip this text:  Excelente localizao, timo hotel!!!Recomendo.\n",
      "error:  Error: unsupported text language: pt, Code: 400 , X-global-transaction-id: 2b6a1db9-2074-4315-984b-6f37fde69b57\n",
      "try transelate\n",
      "error:  Error: unsupported text language: pt, Code: 400 , X-global-transaction-id: 74ad5626-7145-4558-afba-26af011c7f14\n",
      "try transelate\n",
      "error:  Error: unsupported text language: pt, Code: 400 , X-global-transaction-id: 2118c17b-3c9f-4e43-a72e-6483c3b188b7\n",
      "try transelate\n",
      "error:  Error: unsupported text language: pt, Code: 400 , X-global-transaction-id: 543bc952-d0a1-4761-a37b-18946d8f9b96\n",
      "try transelate\n",
      "error:  Error: unsupported text language: pt, Code: 400 , X-global-transaction-id: 891ae99a-b7b0-4761-b525-a3d3fb9b12c0\n",
      "try transelate\n",
      "error:  Error: unsupported text language: pt, Code: 400 , X-global-transaction-id: 2f971db1-61e9-4c82-b1f3-6b8f43d12ac5\n",
      "try transelate\n",
      "error:  Error: unsupported text language: pt, Code: 400 , X-global-transaction-id: 57588706-138c-4f32-8eb6-722d3cb0769f\n",
      "try transelate\n",
      "error:  Error: unsupported text language: pt, Code: 400 , X-global-transaction-id: 08ddb384-d32b-4784-80c4-e5bd3a8a0d95\n",
      "try transelate\n",
      "error:  Error: unsupported text language: es, Code: 400 , X-global-transaction-id: 76067974-bb53-41d7-80cc-e0ff3c79c5c6\n",
      "try transelate\n",
      "error:  Error: unsupported text language: pt, Code: 400 , X-global-transaction-id: c360f118-a0ff-4851-b903-2b1f35716a73\n",
      "try transelate\n",
      "error:  Error: unsupported text language: pt, Code: 400 , X-global-transaction-id: 12a7080f-60c5-4083-851e-d666fd6d34f9\n",
      "try transelate\n",
      "error:  Error: unsupported text language: pt, Code: 400 , X-global-transaction-id: a786c159-2594-43ef-918e-13f69485685c\n",
      "try transelate\n",
      "error:  Error: unsupported text language: pt, Code: 400 , X-global-transaction-id: 3ef5eef5-583a-4c95-a3d6-598f937bfff0\n",
      "try transelate\n",
      "error:  Error: unsupported text language: pt, Code: 400 , X-global-transaction-id: 52d859a3-00bc-4e2c-9b2b-7d52306de9fc\n",
      "try transelate\n",
      "error:  Error: not enough text for language id, Code: 422 , X-global-transaction-id: b65e1aa4-b8ee-4203-ac0d-021ca2193eec\n",
      "try transelate\n",
      "failed to transelate:  Error: Unable to automatically detect the source language, confidence too low, Code: 404 , X-global-transaction-id: 8006a003-2c06-4a4a-babe-5a71b8e7bbec\n",
      "skip this text:  Recomendo\n",
      "error:  Error: unsupported text language: pt, Code: 400 , X-global-transaction-id: ee845205-129b-4392-803f-d5449e3d561c\n",
      "try transelate\n",
      "failed to transelate:  Error: Unable to automatically detect the source language, confidence too low, Code: 404 , X-global-transaction-id: 16faf601-7a7a-4025-9300-21a919fd2e20\n",
      "skip this text:  Perfeita!\n",
      "error:  Error: unsupported text language: pt, Code: 400 , X-global-transaction-id: e43d4c61-c7d4-4106-9ad2-be8c34a0ffe8\n",
      "try transelate\n",
      "error:  Error: unsupported text language: pt, Code: 400 , X-global-transaction-id: 9e88b988-80ff-4333-adbb-aa483a1232c6\n",
      "try transelate\n",
      "error:  Error: unsupported text language: pt, Code: 400 , X-global-transaction-id: c1b34781-18f7-4e59-9fdb-e90124378884\n",
      "try transelate\n",
      "error:  Error: unsupported text language: pt, Code: 400 , X-global-transaction-id: 0c2c2e5e-7f88-4d8c-8883-c9b7e9c41fad\n",
      "try transelate\n",
      "error:  Error: unsupported text language: pt, Code: 400 , X-global-transaction-id: c2d6c70b-25d1-4187-bbb3-99a719bdb072\n",
      "try transelate\n",
      "error:  Error: unsupported text language: pt, Code: 400 , X-global-transaction-id: 69e32914-3418-40a0-b6b4-0945103a27f0\n",
      "try transelate\n",
      "error:  Error: not enough text for language id, Code: 422 , X-global-transaction-id: 91909b1c-f213-4142-94b2-a8b4fd621937\n",
      "try transelate\n",
      "failed to transelate:  Error: Unable to automatically detect the source language, confidence too low, Code: 404 , X-global-transaction-id: 34df10a3-c19a-47cc-858d-4e1ac2ef5a53\n",
      "skip this text:  tima.\n",
      "error:  Error: unsupported text language: pt, Code: 400 , X-global-transaction-id: 6c8e2a5f-89e4-4728-9138-b5988503d3f9\n",
      "try transelate\n",
      "failed to transelate:  ('Connection aborted.', ConnectionResetError(10054, 'An existing connection was forcibly closed by the remote host', None, 10054, None))\n",
      "skip this text:  perfeito, cafe da manha excelente com muita variedade\n",
      "error:  Error: unsupported text language: pt, Code: 400 , X-global-transaction-id: 845f6ae5-27f8-48f5-865d-18b22e9b557a\n",
      "try transelate\n",
      "error:  Error: unsupported text language: pt, Code: 400 , X-global-transaction-id: 38e1dcb9-6cd5-4e11-9120-fc927d515716\n",
      "try transelate\n",
      "error:  Error: unsupported text language: pt, Code: 400 , X-global-transaction-id: 23013a6c-fb86-4a9f-9f80-78439e1f01b4\n",
      "try transelate\n",
      "error:  Error: unsupported text language: pt, Code: 400 , X-global-transaction-id: fa022ca5-a77d-47e3-b2d2-12bc1d64fe4d\n",
      "try transelate\n",
      "error:  Error: unsupported text language: pt, Code: 400 , X-global-transaction-id: f90bcde5-6955-4d8e-be2a-1923b46dddb2\n",
      "try transelate\n",
      "error:  Error: unsupported text language: pt, Code: 400 , X-global-transaction-id: f9ec3801-8b0d-49d8-853c-9f9d314ed9dd\n",
      "try transelate\n",
      "error:  Error: unsupported text language: pt, Code: 400 , X-global-transaction-id: 52189a98-8a45-45f0-a2f4-df266d8e76fd\n",
      "try transelate\n",
      "error:  Error: unsupported text language: pt, Code: 400 , X-global-transaction-id: af937176-0d26-42db-917b-c0ff3d2ac94d\n",
      "try transelate\n"
     ]
    },
    {
     "name": "stderr",
     "output_type": "stream",
     "text": [
      " 66%|██████▌   | 197/299 [3:16:35<2:34:56, 91.14s/it]"
     ]
    },
    {
     "name": "stdout",
     "output_type": "stream",
     "text": [
      "error:  Error: not enough text for language id, Code: 422 , X-global-transaction-id: fef97d4b-2898-4c58-b2fa-b00afdb2ae91\n",
      "try transelate\n",
      "failed to transelate:  Error: Automatically detected source language is the same as target, cannot translate. Try to set the source language explicitly if you think the source language was not correctly detected, Code: 404 , X-global-transaction-id: dcd8c3db-76a9-48cc-a5bf-62f71bae7b02\n",
      "skip this text:  was fine\n",
      "error:  Error: not enough text for language id, Code: 422 , X-global-transaction-id: b8ec8944-92ec-47a5-8fc9-fb5d914b62a6\n",
      "try transelate\n",
      "failed to transelate:  Error: Automatically detected source language is the same as target, cannot translate. Try to set the source language explicitly if you think the source language was not correctly detected, Code: 404 , X-global-transaction-id: 64ffed24-cc2a-461e-bffa-1328e77a8eef\n",
      "skip this text:  Good motel.\n"
     ]
    },
    {
     "name": "stderr",
     "output_type": "stream",
     "text": [
      " 66%|██████▌   | 198/299 [3:17:30<2:15:02, 80.22s/it]"
     ]
    },
    {
     "name": "stdout",
     "output_type": "stream",
     "text": [
      "error:  Error: not enough text for language id, Code: 422 , X-global-transaction-id: 10643b27-4125-4b20-a242-d8609e8095c3\n",
      "try transelate\n",
      "failed to transelate:  Error: Automatically detected source language is the same as target, cannot translate. Try to set the source language explicitly if you think the source language was not correctly detected, Code: 404 , X-global-transaction-id: 5378f289-3379-42fd-bb14-406dbeeca686\n",
      "skip this text:  Amazing\n",
      "error:  Error: not enough text for language id, Code: 422 , X-global-transaction-id: b094d038-e95a-4bf3-89de-83245208abb4\n",
      "try transelate\n",
      "failed to transelate:  Error: Unable to automatically detect the source language, confidence too low, Code: 404 , X-global-transaction-id: 7678f543-c250-4648-8cf3-870e0af78f8b\n",
      "skip this text:  EXELENT\n",
      "error:  Error: not enough text for language id, Code: 422 , X-global-transaction-id: 5cc96f27-7dd5-447f-ba22-126bcf96a874\n",
      "try transelate\n",
      "failed to transelate:  Error: Automatically detected source language is the same as target, cannot translate. Try to set the source language explicitly if you think the source language was not correctly detected, Code: 404 , X-global-transaction-id: de3225c7-8ba6-4dff-9885-ec8525b22327\n",
      "skip this text:  Good\n"
     ]
    },
    {
     "name": "stderr",
     "output_type": "stream",
     "text": [
      " 67%|██████▋   | 199/299 [3:18:15<1:56:02, 69.62s/it]"
     ]
    },
    {
     "name": "stdout",
     "output_type": "stream",
     "text": [
      "error:  Error: unsupported text language: de, Code: 400 , X-global-transaction-id: b9bf2c0a-4c52-4797-8a8b-c8c57891acb5\n",
      "try transelate\n"
     ]
    },
    {
     "name": "stderr",
     "output_type": "stream",
     "text": [
      " 67%|██████▋   | 200/299 [3:18:54<1:39:36, 60.37s/it]"
     ]
    },
    {
     "name": "stdout",
     "output_type": "stream",
     "text": [
      "error:  Error: not enough text for language id, Code: 422 , X-global-transaction-id: 47a29121-7e67-4dd4-b52a-09375a2a035a\n",
      "try transelate\n",
      "failed to transelate:  Error: Unable to automatically detect the source language, confidence too low, Code: 404 , X-global-transaction-id: a591a66f-332c-480e-b282-a58f6f4f1325\n",
      "skip this text:  Bluffant!\n",
      "error:  Error: not enough text for language id, Code: 422 , X-global-transaction-id: f3b9f536-31a5-466e-8d77-44c960ef78ed\n",
      "try transelate\n",
      "failed to transelate:  Error: Unable to automatically detect the source language, confidence too low, Code: 404 , X-global-transaction-id: 98826aa7-c3a3-45cf-ba1c-56ea7af292f7\n",
      "skip this text:  Ras -)\n"
     ]
    },
    {
     "name": "stderr",
     "output_type": "stream",
     "text": [
      " 68%|██████▊   | 202/299 [3:21:13<1:49:07, 67.50s/it]"
     ]
    },
    {
     "name": "stdout",
     "output_type": "stream",
     "text": [
      "error:  Error: not enough text for language id, Code: 422 , X-global-transaction-id: 38cbeb5d-ad39-49ff-8171-564094b46819\n",
      "try transelate\n",
      "failed to transelate:  Error: Automatically detected source language is the same as target, cannot translate. Try to set the source language explicitly if you think the source language was not correctly detected, Code: 404 , X-global-transaction-id: 83f796b2-d971-4d99-97ab-4ea5feeba30e\n",
      "skip this text:  Peace full\n"
     ]
    },
    {
     "name": "stderr",
     "output_type": "stream",
     "text": [
      " 68%|██████▊   | 203/299 [3:21:59<1:37:43, 61.07s/it]"
     ]
    },
    {
     "name": "stdout",
     "output_type": "stream",
     "text": [
      "error:  Error: unsupported text language: sv, Code: 400 , X-global-transaction-id: 9515b837-3e4a-452e-80ad-1bbd1d9c6ace\n",
      "try transelate\n",
      "error:  Error: not enough text for language id, Code: 422 , X-global-transaction-id: b5367e85-30ee-433d-bd6a-29f5954f1b5d\n",
      "try transelate\n",
      "failed to transelate:  Error: Unable to automatically detect the source language, confidence too low, Code: 404 , X-global-transaction-id: d5b57af5-f4ba-4abd-bff2-d8b3b97a1921\n",
      "skip this text:  InnInn\n",
      "error:  Error: unsupported text language: da, Code: 400 , X-global-transaction-id: bae5431b-b751-4faa-b521-99aa7042b151\n",
      "try transelate\n",
      "error:  Error: unsupported text language: da, Code: 400 , X-global-transaction-id: c5d24d9a-dfa5-4c1e-8ac4-609a5c137d76\n",
      "try transelate\n",
      "error:  Error: unsupported text language: no, Code: 400 , X-global-transaction-id: 15ba1966-b378-4a36-95fd-54f6814bba02\n",
      "try transelate\n"
     ]
    },
    {
     "name": "stderr",
     "output_type": "stream",
     "text": [
      " 68%|██████▊   | 204/299 [3:24:04<2:06:56, 80.17s/it]"
     ]
    },
    {
     "name": "stdout",
     "output_type": "stream",
     "text": [
      "error:  Error: unsupported text language: de, Code: 400 , X-global-transaction-id: 140f538a-60cb-4766-b172-8bcc4bd39e5d\n",
      "try transelate\n",
      "error:  Error: unsupported text language: fi, Code: 400 , X-global-transaction-id: 9a1eaa1e-c8f3-409d-abaa-dae37a9f7445\n",
      "try transelate\n",
      "error:  Error: unsupported text language: da, Code: 400 , X-global-transaction-id: 146a8c02-b1d8-4cd6-b6ff-16a268687bb3\n",
      "try transelate\n",
      "failed to transelate:  Error: Automatically detected source language is the same as target, cannot translate. Try to set the source language explicitly if you think the source language was not correctly detected, Code: 404 , X-global-transaction-id: 355766d6-f8db-43b8-b3f4-bbf41f8b5ce9\n",
      "skip this text:  BBBreakfast BedRed LineHarvard square\n"
     ]
    },
    {
     "name": "stderr",
     "output_type": "stream",
     "text": [
      " 69%|██████▉   | 207/299 [3:26:43<1:35:56, 62.57s/it]"
     ]
    },
    {
     "name": "stdout",
     "output_type": "stream",
     "text": [
      "error:  Error: not enough text for language id, Code: 422 , X-global-transaction-id: a85f9827-7be1-418e-9578-3efdd0e50973\n",
      "try transelate\n",
      "failed to transelate:  Error: Automatically detected source language is the same as target, cannot translate. Try to set the source language explicitly if you think the source language was not correctly detected, Code: 404 , X-global-transaction-id: e2a4664f-496e-40d0-94c6-8be227905584\n",
      "skip this text:  Comfortable\n"
     ]
    },
    {
     "name": "stderr",
     "output_type": "stream",
     "text": [
      " 70%|███████   | 210/299 [3:27:44<48:05, 32.42s/it]  "
     ]
    },
    {
     "name": "stdout",
     "output_type": "stream",
     "text": [
      "error:  Error: not enough text for language id, Code: 422 , X-global-transaction-id: 298d8845-0d5c-48e6-8067-30b4d7072fcc\n",
      "try transelate\n",
      "failed to transelate:  Error: Unable to automatically detect the source language, confidence too low, Code: 404 , X-global-transaction-id: a084da69-285d-484a-bf72-b1f09247fc94\n",
      "skip this text:  Bad\n"
     ]
    },
    {
     "name": "stderr",
     "output_type": "stream",
     "text": [
      " 71%|███████   | 211/299 [3:28:19<48:44, 33.24s/it]"
     ]
    },
    {
     "name": "stdout",
     "output_type": "stream",
     "text": [
      "error:  Error: not enough text for language id, Code: 422 , X-global-transaction-id: b34d3e6f-b906-4603-a8ed-a1fbf2ae336b\n",
      "try transelate\n",
      "failed to transelate:  Error: Automatically detected source language is the same as target, cannot translate. Try to set the source language explicitly if you think the source language was not correctly detected, Code: 404 , X-global-transaction-id: b5924598-1f76-4a8f-85c3-4a89c8198043\n",
      "skip this text:  sporting event\n"
     ]
    },
    {
     "name": "stderr",
     "output_type": "stream",
     "text": [
      " 72%|███████▏  | 214/299 [3:30:25<56:02, 39.56s/it]"
     ]
    },
    {
     "name": "stdout",
     "output_type": "stream",
     "text": [
      "error:  Error: unsupported text language: mt, Code: 400 , X-global-transaction-id: d05ffa1b-df36-4f14-9d03-a049494d246d\n",
      "try transelate\n"
     ]
    },
    {
     "name": "stderr",
     "output_type": "stream",
     "text": [
      " 72%|███████▏  | 215/299 [3:30:27<39:30, 28.22s/it]"
     ]
    },
    {
     "name": "stdout",
     "output_type": "stream",
     "text": [
      "failed to transelate:  Error: Unable to automatically detect the source language, confidence too low, Code: 404 , X-global-transaction-id: 8655a778-cd62-46e1-89a4-f787c248a751\n",
      "skip this text:  xxxxxxxxxxxxxxxxxxxxxxxxxxxxxxxxxxxxxxxxxx\n",
      "error:  Error: not enough text for language id, Code: 422 , X-global-transaction-id: 0f30239f-aedb-41f7-926c-6a11e0ad863d\n",
      "try transelate\n",
      "failed to transelate:  Error: Unable to automatically detect the source language, confidence too low, Code: 404 , X-global-transaction-id: 18912b3a-966e-44e9-872a-99c7bdf84457\n",
      "skip this text:  Great!\n"
     ]
    },
    {
     "name": "stderr",
     "output_type": "stream",
     "text": [
      " 72%|███████▏  | 216/299 [3:31:36<55:48, 40.34s/it]"
     ]
    },
    {
     "name": "stdout",
     "output_type": "stream",
     "text": [
      "error:  Error: not enough text for language id, Code: 422 , X-global-transaction-id: fea44bab-1249-4326-8f30-36a00beb05e0\n",
      "try transelate\n",
      "failed to transelate:  Error: Automatically detected source language is the same as target, cannot translate. Try to set the source language explicitly if you think the source language was not correctly detected, Code: 404 , X-global-transaction-id: 17547863-2bc1-4447-98e4-89e8deac8fa2\n",
      "skip this text:  It was nice.\n"
     ]
    },
    {
     "name": "stderr",
     "output_type": "stream",
     "text": [
      " 73%|███████▎  | 217/299 [3:32:16<55:18, 40.47s/it]"
     ]
    },
    {
     "name": "stdout",
     "output_type": "stream",
     "text": [
      "error:  Error: not enough text for language id, Code: 422 , X-global-transaction-id: 3684e741-ad3a-4fef-8800-3d99a6233be1\n",
      "try transelate\n",
      "failed to transelate:  Error: Automatically detected source language is the same as target, cannot translate. Try to set the source language explicitly if you think the source language was not correctly detected, Code: 404 , X-global-transaction-id: e26bd86d-597b-4757-b4c8-1f0dde521694\n",
      "skip this text:  Not bad\n"
     ]
    },
    {
     "name": "stderr",
     "output_type": "stream",
     "text": [
      " 73%|███████▎  | 218/299 [3:33:17<1:02:38, 46.40s/it]"
     ]
    },
    {
     "name": "stdout",
     "output_type": "stream",
     "text": [
      "error:  Error: unsupported text language: es, Code: 400 , X-global-transaction-id: 410d3c9a-cb7b-4444-97e5-70c241b2700f\n",
      "try transelate\n",
      "error:  Error: unsupported text language: nl, Code: 400 , X-global-transaction-id: 4f05de64-a4d4-4273-b05c-722d6c3ca330\n",
      "try transelate\n",
      "error:  Error: unsupported text language: de, Code: 400 , X-global-transaction-id: a609dd4d-a6f6-483d-9445-50d0a68765c1\n",
      "try transelate\n",
      "error:  Error: unsupported text language: nl, Code: 400 , X-global-transaction-id: 08aaa6b0-72b0-4248-a608-b15aabeac75c\n",
      "try transelate\n",
      "error:  Error: not enough text for language id, Code: 422 , X-global-transaction-id: b45efd63-5930-40d3-9256-45cff11581af\n",
      "try transelate\n",
      "failed to transelate:  Error: Unable to automatically detect the source language, confidence too low, Code: 404 , X-global-transaction-id: 0e1e6e62-87cf-48b7-a272-e2bdd7f73587\n",
      "skip this text:  Trs bon Hotel\n",
      "error:  Error: unsupported text language: pt, Code: 400 , X-global-transaction-id: ac38a712-1191-43ef-8650-8268f67af297\n",
      "try transelate\n",
      "failed to transelate:  Error: not enough text for language id, Code: 422 , X-global-transaction-id: d9029406-e676-4d5a-83cc-e3d287abbf94\n",
      "skip this text:  bien passe\n",
      "error:  Error: unsupported text language: da, Code: 400 , X-global-transaction-id: cd80bc96-2e39-4cb3-8a4e-bf22209ca3ac\n",
      "try transelate\n",
      "error:  Error: unsupported text language: es, Code: 400 , X-global-transaction-id: 88985800-7557-42e9-a3ce-d25d46c46ad4\n",
      "try transelate\n"
     ]
    },
    {
     "name": "stderr",
     "output_type": "stream",
     "text": [
      " 74%|███████▎  | 220/299 [3:34:29<49:57, 37.94s/it]  "
     ]
    },
    {
     "name": "stdout",
     "output_type": "stream",
     "text": [
      "error:  Error: unsupported text language: mt, Code: 400 , X-global-transaction-id: d503112a-a87c-41b1-9355-c8df497f4ccf\n",
      "try transelate\n",
      "failed to transelate:  Error: Unable to automatically detect the source language, confidence too low, Code: 404 , X-global-transaction-id: 9733644b-e0bc-4301-9582-714d2d59cf69\n",
      "skip this text:  xxxxxxxxxxxxxxxxxxxxxxxxxxxxxxxxxxxxxxxxxx\n"
     ]
    },
    {
     "name": "stderr",
     "output_type": "stream",
     "text": [
      " 74%|███████▍  | 222/299 [3:37:18<1:23:15, 64.88s/it]"
     ]
    },
    {
     "name": "stdout",
     "output_type": "stream",
     "text": [
      "error:  Error: upstream connect error or disconnect/reset before headers. reset reason: connection termination, Code: 503 , X-global-transaction-id: 6def16a2-da58-4207-ad91-234917c4c602\n",
      "try transelate\n",
      "failed to transelate:  Error: Automatically detected source language is the same as target, cannot translate. Try to set the source language explicitly if you think the source language was not correctly detected, Code: 404 , X-global-transaction-id: f72619a2-d806-4361-ad79-aeed495669f2\n",
      "skip this text:  Shower would come on warm, not even hot. Would then turn ice cold.\n",
      "error:  Error: not enough text for language id, Code: 422 , X-global-transaction-id: 49fab327-17b0-4be5-889b-e7c298abb840\n",
      "try transelate\n",
      "failed to transelate:  Error: Unable to automatically detect the source language, confidence too low, Code: 404 , X-global-transaction-id: 8f0dfd67-5c79-4479-ba03-f8f00e0d5137\n",
      "skip this text:  ants\n"
     ]
    },
    {
     "name": "stderr",
     "output_type": "stream",
     "text": [
      " 75%|███████▍  | 223/299 [3:38:20<1:20:55, 63.89s/it]"
     ]
    },
    {
     "name": "stdout",
     "output_type": "stream",
     "text": [
      "error:  Error: unsupported text language: de, Code: 400 , X-global-transaction-id: d9419ecc-4956-45c9-a8f8-d9080f6ec405\n",
      "try transelate\n",
      "error:  Error: unsupported text language: de, Code: 400 , X-global-transaction-id: 1d900945-c102-46b7-81eb-7e77ec9d0bed\n",
      "try transelate\n",
      "error:  Error: unsupported text language: de, Code: 400 , X-global-transaction-id: 616eadb4-3899-461e-bd7b-19fb7ba7f7c2\n",
      "try transelate\n",
      "error:  Error: unsupported text language: de, Code: 400 , X-global-transaction-id: 18b1fab5-202f-403d-8e59-82eadb5923a1\n",
      "try transelate\n",
      "error:  Error: unsupported text language: unknown, Code: 400 , X-global-transaction-id: 3f22ba6f-71df-454c-aebf-367f6bf9ead1\n",
      "try transelate\n",
      "failed to transelate:  Error: Unable to automatically detect the source language, confidence too low, Code: 404 , X-global-transaction-id: 30468eb0-44ec-45ba-9773-3c0c25f6b380\n",
      "skip this text:  ! ! ! ! 210 . ! .\n",
      "error:  Error: unsupported text language: da, Code: 400 , X-global-transaction-id: af41c9d1-89be-401f-bc17-5400378850bf\n",
      "try transelate\n",
      "error:  Error: unsupported text language: no, Code: 400 , X-global-transaction-id: a99b69d0-3f47-47a6-b2f3-84ece622c0ab\n",
      "try transelate\n",
      "failed to transelate:  Error: Unable to automatically detect the source language, confidence too low, Code: 404 , X-global-transaction-id: 2279d343-2617-4568-ad1a-6c4f806d718f\n",
      "skip this text:  Servicekvalitet\n",
      "error:  Error: unsupported text language: tr, Code: 400 , X-global-transaction-id: 053190de-1a96-487e-8d5b-2e157d2e5e2f\n",
      "try transelate\n",
      "error:  Error: unsupported text language: es, Code: 400 , X-global-transaction-id: 8901cfc2-24d0-4632-b199-07cc3858e69e\n",
      "try transelate\n"
     ]
    },
    {
     "name": "stderr",
     "output_type": "stream",
     "text": [
      " 75%|███████▍  | 224/299 [3:39:15<1:16:26, 61.15s/it]"
     ]
    },
    {
     "name": "stdout",
     "output_type": "stream",
     "text": [
      "error:  Error: not enough text for language id, Code: 422 , X-global-transaction-id: 6bfb1dbd-b88c-4b0a-8dbc-00dcf3be9fd2\n",
      "try transelate\n",
      "failed to transelate:  Error: Automatically detected source language is the same as target, cannot translate. Try to set the source language explicitly if you think the source language was not correctly detected, Code: 404 , X-global-transaction-id: d84856ba-e937-45cd-8b6f-05552a48c8ac\n",
      "skip this text:  nice location\n"
     ]
    },
    {
     "name": "stderr",
     "output_type": "stream",
     "text": [
      " 75%|███████▌  | 225/299 [3:40:07<1:12:05, 58.45s/it]"
     ]
    },
    {
     "name": "stdout",
     "output_type": "stream",
     "text": [
      "error:  Error: unsupported text language: la, Code: 400 , X-global-transaction-id: 4bcf93fd-5081-46b4-b5bc-521769e1398e\n",
      "try transelate\n"
     ]
    },
    {
     "name": "stderr",
     "output_type": "stream",
     "text": [
      " 76%|███████▋  | 228/299 [3:43:31<1:20:43, 68.22s/it]"
     ]
    },
    {
     "name": "stdout",
     "output_type": "stream",
     "text": [
      "error:  Error: unsupported text language: no, Code: 400 , X-global-transaction-id: 1e2fc3a1-5c7b-4d47-b911-3b90790c697a\n",
      "try transelate\n",
      "error:  Error: unsupported text language: es, Code: 400 , X-global-transaction-id: 6bc99252-bb9b-4400-9343-fcef8cb86069\n",
      "try transelate\n",
      "error:  Error: unsupported text language: no, Code: 400 , X-global-transaction-id: cc010b04-a996-4b55-b24b-46c881d6cc0f\n",
      "try transelate\n",
      "error:  Error: unsupported text language: no, Code: 400 , X-global-transaction-id: a99c7e6e-815f-4fc4-b0a8-0cb17050e538\n",
      "try transelate\n",
      "error:  Error: unsupported text language: es, Code: 400 , X-global-transaction-id: c1523b05-d08b-41f9-a34c-9c02cb39a26a\n",
      "try transelate\n",
      "error:  Error: unsupported text language: fi, Code: 400 , X-global-transaction-id: b96d22ec-a547-4450-bd99-6aba3cecca7e\n",
      "try transelate\n",
      "error:  Error: unsupported text language: sv, Code: 400 , X-global-transaction-id: af4ac2b6-48b9-456c-b37d-231ea253ee0b\n",
      "try transelate\n",
      "error:  Error: unsupported text language: sv, Code: 400 , X-global-transaction-id: bf40e87b-5509-40f7-a828-508fe9226584\n",
      "try transelate\n",
      "error:  Error: unsupported text language: nl, Code: 400 , X-global-transaction-id: 065ea813-1a54-4677-9224-0041e70e7303\n",
      "try transelate\n",
      "error:  Error: unsupported text language: da, Code: 400 , X-global-transaction-id: 2138b0eb-874c-4509-90d6-c3c59c63c8d6\n",
      "try transelate\n",
      "error:  Error: unsupported text language: it, Code: 400 , X-global-transaction-id: bf2b8a22-d4b3-41ba-9aa8-dcc9b55a1da9\n",
      "try transelate\n",
      "error:  Error: unsupported text language: es, Code: 400 , X-global-transaction-id: ef0912e7-cff5-4449-b237-23fff6553d7e\n",
      "try transelate\n",
      "error:  Error: unsupported text language: it, Code: 400 , X-global-transaction-id: 27de03b7-fa6a-49d7-bfe9-c5f81e571b89\n",
      "try transelate\n",
      "error:  Error: unsupported text language: it, Code: 400 , X-global-transaction-id: cac1e6e7-81bd-4d2b-813a-1789d9037af8\n",
      "try transelate\n",
      "error:  Error: unsupported text language: it, Code: 400 , X-global-transaction-id: 49c029bf-0f40-4c1c-9318-df5c286c6602\n",
      "try transelate\n",
      "error:  Error: unsupported text language: sv, Code: 400 , X-global-transaction-id: 2287e66b-f4f7-4a48-9128-8237dd6e77ed\n",
      "try transelate\n",
      "error:  Error: not enough text for language id, Code: 422 , X-global-transaction-id: ea98cced-ba13-4b01-93be-9334fd4ca96e\n",
      "try transelate\n",
      "failed to transelate:  Error: Unable to automatically detect the source language, confidence too low, Code: 404 , X-global-transaction-id: 2df0fcc0-5961-4739-a438-0427b34ccea1\n",
      "skip this text:  alles tip top\n",
      "error:  Error: unsupported text language: sv, Code: 400 , X-global-transaction-id: 8224e83a-27fd-4afc-ae6a-1270f347f354\n",
      "try transelate\n",
      "error:  Error: unsupported text language: it, Code: 400 , X-global-transaction-id: 17e3cca5-341e-4e98-8870-62921041db80\n",
      "try transelate\n",
      "error:  Error: unsupported text language: it, Code: 400 , X-global-transaction-id: d076195d-4c4f-4be3-b495-a5b3ebb11b72\n",
      "try transelate\n",
      "error:  Error: unsupported text language: no, Code: 400 , X-global-transaction-id: 358f1a24-a731-4578-9f50-40596b454f5b\n",
      "try transelate\n",
      "error:  Error: unsupported text language: it, Code: 400 , X-global-transaction-id: c8aad2d0-c8a6-4681-852e-92e315045005\n",
      "try transelate\n",
      "error:  Error: unsupported text language: da, Code: 400 , X-global-transaction-id: b6c1016e-d432-4d6c-ab97-971c4cc867de\n",
      "try transelate\n",
      "error:  Error: unsupported text language: sv, Code: 400 , X-global-transaction-id: c70feffb-d762-43b7-a73d-db77331f81fb\n",
      "try transelate\n",
      "error:  Error: unsupported text language: fi, Code: 400 , X-global-transaction-id: c4147d24-e1a7-47bb-ae0a-0fd2771a30c8\n",
      "try transelate\n",
      "error:  Error: unsupported text language: es, Code: 400 , X-global-transaction-id: 996fda61-4cff-4af0-95dc-b940edc64fb9\n",
      "try transelate\n",
      "error:  Error: unsupported text language: it, Code: 400 , X-global-transaction-id: 4f041e61-62ff-4e28-ba59-fa21eb9da3b5\n",
      "try transelate\n",
      "error:  Error: unsupported text language: es, Code: 400 , X-global-transaction-id: 04e0b9a4-9e72-457a-a0ce-0243c3a86824\n",
      "try transelate\n",
      "error:  Error: unsupported text language: es, Code: 400 , X-global-transaction-id: fbb2213e-3266-49d3-9432-a972aaf08fc1\n",
      "try transelate\n",
      "error:  Error: unsupported text language: sv, Code: 400 , X-global-transaction-id: 7d3568d9-4099-4224-834c-68c80a823e1f\n",
      "try transelate\n",
      "error:  Error: unsupported text language: it, Code: 400 , X-global-transaction-id: 06d14b6e-5965-4e78-9c12-b10212226136\n",
      "try transelate\n",
      "error:  Error: unsupported text language: fi, Code: 400 , X-global-transaction-id: a2230613-48a7-4673-9111-78bdacbcba17\n",
      "try transelate\n",
      "error:  Error: unsupported text language: es, Code: 400 , X-global-transaction-id: f7e74ef6-4d0e-4dbd-9ff4-44815d1d2d8c\n",
      "try transelate\n",
      "error:  Error: unsupported text language: es, Code: 400 , X-global-transaction-id: 35ff7b66-f235-47ec-a2d4-4154b41fe34b\n",
      "try transelate\n",
      "error:  Error: unsupported text language: fi, Code: 400 , X-global-transaction-id: d44ee9c8-d401-4a0f-89fb-d84c8d238210\n",
      "try transelate\n",
      "error:  Error: unsupported text language: nl, Code: 400 , X-global-transaction-id: 981abc98-5927-4c1f-985b-a76b876165cb\n",
      "try transelate\n",
      "error:  Error: unsupported text language: no, Code: 400 , X-global-transaction-id: 809e5262-8dcd-43ed-bf60-50bcd8fa82b3\n",
      "try transelate\n"
     ]
    },
    {
     "name": "stderr",
     "output_type": "stream",
     "text": [
      " 77%|███████▋  | 229/299 [3:45:47<1:43:14, 88.49s/it]"
     ]
    },
    {
     "name": "stdout",
     "output_type": "stream",
     "text": [
      "error:  Error: not enough text for language id, Code: 422 , X-global-transaction-id: 9b6b0a7d-a168-4325-a29f-795aff541840\n",
      "try transelate\n",
      "failed to transelate:  Error: Automatically detected source language is the same as target, cannot translate. Try to set the source language explicitly if you think the source language was not correctly detected, Code: 404 , X-global-transaction-id: 7d33ad1f-062c-48a7-ab88-29fc159c6d7a\n",
      "skip this text:  Fib and quiet\n"
     ]
    },
    {
     "name": "stderr",
     "output_type": "stream",
     "text": [
      " 77%|███████▋  | 231/299 [3:47:06<1:09:28, 61.30s/it]"
     ]
    },
    {
     "name": "stdout",
     "output_type": "stream",
     "text": [
      "error:  Error: unsupported text language: it, Code: 400 , X-global-transaction-id: f3459421-e358-413b-9e98-c5c268c3aaf1\n",
      "try transelate\n",
      "error:  Error: unsupported text language: de, Code: 400 , X-global-transaction-id: cb60f04b-de7a-40d4-872c-95c9068d031b\n",
      "try transelate\n",
      "failed to transelate:  Error: Unable to automatically detect the source language, confidence too low, Code: 404 , X-global-transaction-id: 2986bb41-fd4e-4fe1-a26b-a549ad937f58\n",
      "skip this text:  Preis Leistung TOP\n",
      "error:  Error: not enough text for language id, Code: 422 , X-global-transaction-id: 9255e246-bdab-44e3-84dd-c00927f74a90\n",
      "try transelate\n",
      "failed to transelate:  Error: Unable to automatically detect the source language, confidence too low, Code: 404 , X-global-transaction-id: e76d9e5e-7c14-4076-9d50-06bef63497a2\n",
      "skip this text:  .\n",
      "error:  Error: unsupported text language: it, Code: 400 , X-global-transaction-id: 6e1cb19c-5e37-48de-ac73-120d286fd106\n",
      "try transelate\n",
      "error:  Error: unsupported text language: fi, Code: 400 , X-global-transaction-id: f3bcc153-90b4-416b-b828-584f1c4264ee\n",
      "try transelate\n",
      "error:  Error: unsupported text language: es, Code: 400 , X-global-transaction-id: f8948aa4-ab3a-495c-b2db-5791510ba279\n",
      "try transelate\n",
      "error:  Error: unsupported text language: no, Code: 400 , X-global-transaction-id: 6174a5ff-e8a7-44eb-92e3-6135b0be5765\n",
      "try transelate\n",
      "error:  Error: unsupported text language: pt, Code: 400 , X-global-transaction-id: ebd83eb1-a40e-471a-b1b8-4d4fbc20a4c7\n",
      "try transelate\n",
      "error:  Error: unsupported text language: pt, Code: 400 , X-global-transaction-id: 513f3593-e612-4962-80b4-959f506a9c62\n",
      "try transelate\n",
      "error:  Error: unsupported text language: it, Code: 400 , X-global-transaction-id: 5948fa4d-44fe-4b6b-8f10-5a297e54071b\n",
      "try transelate\n",
      "error:  Error: unsupported text language: it, Code: 400 , X-global-transaction-id: 8849bc96-86ee-41ec-8905-dcf1e2032e41\n",
      "try transelate\n",
      "error:  Error: unsupported text language: nl, Code: 400 , X-global-transaction-id: 45d40707-702b-475d-9b38-783ddff902df\n",
      "try transelate\n"
     ]
    },
    {
     "name": "stderr",
     "output_type": "stream",
     "text": [
      " 78%|███████▊  | 233/299 [3:48:38<56:09, 51.05s/it]  "
     ]
    },
    {
     "name": "stdout",
     "output_type": "stream",
     "text": [
      "error:  Error: unsupported text language: mt, Code: 400 , X-global-transaction-id: cd395655-0799-4d89-ae8c-cc13247ea0a0\n",
      "try transelate\n",
      "failed to transelate:  Error: Unable to automatically detect the source language, confidence too low, Code: 404 , X-global-transaction-id: 10876ea9-64bd-421a-8a59-47d56e93dfd7\n",
      "skip this text:  xxxxxxxxxxxxxxxxxxxxxxxxxxxxxxxxxxxxxxxxxx\n"
     ]
    },
    {
     "name": "stderr",
     "output_type": "stream",
     "text": [
      " 78%|███████▊  | 234/299 [3:48:42<39:51, 36.80s/it]"
     ]
    },
    {
     "name": "stdout",
     "output_type": "stream",
     "text": [
      "error:  Error: not enough text for language id, Code: 422 , X-global-transaction-id: 9591356a-248e-4da1-9a35-97a14f4a39fe\n",
      "try transelate\n",
      "failed to transelate:  Error: Automatically detected source language is the same as target, cannot translate. Try to set the source language explicitly if you think the source language was not correctly detected, Code: 404 , X-global-transaction-id: 2a9aa4e0-6219-4c86-8c55-66af899831a6\n",
      "skip this text:  GREAT\n",
      "error:  Error: not enough text for language id, Code: 422 , X-global-transaction-id: d658d22f-44b4-411c-8836-4c57e569b717\n",
      "try transelate\n",
      "failed to transelate:  Error: Unable to automatically detect the source language, confidence too low, Code: 404 , X-global-transaction-id: 2daf1bf6-6ab5-4d98-9851-4d8f5a3b5c8a\n",
      "skip this text:  Gud\n",
      "error:  Error: not enough text for language id, Code: 422 , X-global-transaction-id: 3b729fd5-5eb3-4d29-85f9-b7bf21619e67\n",
      "try transelate\n",
      "failed to transelate:  Error: Unable to automatically detect the source language, confidence too low, Code: 404 , X-global-transaction-id: 71e9e3ae-16dd-40ff-9211-f1d7a11059e2\n",
      "skip this text:  Excellent\n"
     ]
    },
    {
     "name": "stderr",
     "output_type": "stream",
     "text": [
      " 79%|███████▉  | 237/299 [3:50:42<39:53, 38.61s/it]"
     ]
    },
    {
     "name": "stdout",
     "output_type": "stream",
     "text": [
      "error:  Error: unsupported text language: es, Code: 400 , X-global-transaction-id: d31aff2d-ec72-487b-a200-8f3d29b6dbc1\n",
      "try transelate\n",
      "error:  Error: unsupported text language: es, Code: 400 , X-global-transaction-id: 01e0d876-ca1f-4d5e-ae04-ab9da35145f3\n",
      "try transelate\n",
      "error:  Error: unsupported text language: es, Code: 400 , X-global-transaction-id: 9f5bfb0e-6d7a-4e00-b3c5-a847ed2dbaa5\n",
      "try transelate\n",
      "error:  Error: unsupported text language: es, Code: 400 , X-global-transaction-id: 212c8053-fe38-4e15-b08a-d219e213ccf4\n",
      "try transelate\n",
      "error:  Error: unsupported text language: es, Code: 400 , X-global-transaction-id: 2812a718-2550-429b-9eb4-f1ed37c4935d\n",
      "try transelate\n",
      "error:  Error: unsupported text language: es, Code: 400 , X-global-transaction-id: f284380e-8103-45ec-936c-8e8bc8067da0\n",
      "try transelate\n",
      "error:  Error: unsupported text language: es, Code: 400 , X-global-transaction-id: 46ad460c-ca53-4ba9-9d7f-7adef342deca\n",
      "try transelate\n",
      "error:  Error: unsupported text language: es, Code: 400 , X-global-transaction-id: f82431d1-4205-4e6c-bc4e-324c13b85805\n",
      "try transelate\n",
      "error:  Error: not enough text for language id, Code: 422 , X-global-transaction-id: 9d29f24a-2e50-4c8c-8f7a-32da75b55287\n",
      "try transelate\n",
      "failed to transelate:  Error: Unable to automatically detect the source language, confidence too low, Code: 404 , X-global-transaction-id: ed0edb88-0571-4c73-9928-97fe0864430e\n",
      "skip this text:  dirty\n",
      "error:  Error: unsupported text language: es, Code: 400 , X-global-transaction-id: b82fc93f-c03b-4da8-9f25-25aadcc42770\n",
      "try transelate\n",
      "error:  Error: unsupported text language: es, Code: 400 , X-global-transaction-id: db7c78dd-b491-4776-9d32-6b7a082233d8\n",
      "try transelate\n",
      "error:  Error: unsupported text language: es, Code: 400 , X-global-transaction-id: c0dc3eb4-cb83-4499-8946-876f5d8444c4\n",
      "try transelate\n",
      "error:  Error: unsupported text language: es, Code: 400 , X-global-transaction-id: b026a672-6be3-4342-a3ea-5113d13cb729\n",
      "try transelate\n",
      "error:  Error: unsupported text language: es, Code: 400 , X-global-transaction-id: e601cd9a-3ab5-4071-b0bc-275e9d3a0470\n",
      "try transelate\n",
      "error:  Error: unsupported text language: pt, Code: 400 , X-global-transaction-id: 60eb2798-831b-469d-bb4c-589bca29078f\n",
      "try transelate\n",
      "error:  Error: unsupported text language: pt, Code: 400 , X-global-transaction-id: c39b0e83-d3a6-4a86-935e-a39fc3757010\n",
      "try transelate\n",
      "error:  Error: unsupported text language: es, Code: 400 , X-global-transaction-id: ea1bfa7f-c6fc-47fc-a4e3-ec8252a792c2\n",
      "try transelate\n",
      "error:  Error: unsupported text language: es, Code: 400 , X-global-transaction-id: c3e5012d-0d95-4968-a15f-03ed230d13f1\n",
      "try transelate\n",
      "error:  Error: unsupported text language: es, Code: 400 , X-global-transaction-id: 50d890f4-25a2-4d6d-951c-b86f4d37fa3d\n",
      "try transelate\n",
      "error:  Error: unsupported text language: sv, Code: 400 , X-global-transaction-id: 7a20a275-f6f7-47cc-bb68-a79727b6d7ca\n",
      "try transelate\n",
      "failed to transelate:  Error: unsupported text language: unknown, Code: 400 , X-global-transaction-id: 1aa17bea-25a3-473b-b677-dad746dba8e1\n",
      "skip this text:  Hotellet ��r bel��get i Little Rocks \"high crime zone\".S��nderplockade bilar p�� parkeringen och heml��sa p�� andra sidan gatan.Skicket p�� hotellet ��r under all kritik.S��g trevligt ut p�� bilderna men de m��ste vara v��ldigt gamla.Skulle inte rekommendera n��gon att bo h��r.\n",
      "error:  Error: unsupported text language: sv, Code: 400 , X-global-transaction-id: f1d86022-7b4c-4f44-b344-ccd2e118b670\n",
      "try transelate\n",
      "failed to transelate:  Error: unsupported text language: unknown, Code: 400 , X-global-transaction-id: 3fe38652-8d96-4747-ba4d-be012328d273\n",
      "skip this text:  Hotellet ��r bel��get i Little Rocks \"high crime zone\".S��nderplockade bilar p�� parkeringen och heml��sa p�� andra sidan gatan.Skicket p�� hotellet ��r under all kritik.S��g trevligt ut p�� bilderna men de m��ste vara v��ldigt gamla.Skulle inte rekommendera n��gon att bo h��r.\n",
      "error:  Error: unsupported text language: es, Code: 400 , X-global-transaction-id: fee64eaf-7461-435b-b5b1-064de9e42dd4\n",
      "try transelate\n",
      "error:  Error: unsupported text language: es, Code: 400 , X-global-transaction-id: 294c69a7-ddb5-4343-9c2e-8dd6e7be0bdf\n",
      "try transelate\n",
      "error:  Error: unsupported text language: es, Code: 400 , X-global-transaction-id: bec4f268-0925-4710-9667-1fa906ffa37a\n",
      "try transelate\n",
      "error:  Error: unsupported text language: es, Code: 400 , X-global-transaction-id: 51dbc42e-06f7-436a-9b91-4d08edcef34c\n",
      "try transelate\n",
      "error:  Error: unsupported text language: es, Code: 400 , X-global-transaction-id: b3011b94-e7ea-46d6-9ea3-0aad18fc5b74\n",
      "try transelate\n",
      "error:  Error: unsupported text language: es, Code: 400 , X-global-transaction-id: 07c121f4-4c8a-4b27-9bb4-d78637873f80\n",
      "try transelate\n",
      "error:  Error: unsupported text language: es, Code: 400 , X-global-transaction-id: 385e73cc-877b-41b5-9f39-d450324a29fe\n",
      "try transelate\n",
      "error:  Error: unsupported text language: es, Code: 400 , X-global-transaction-id: 81efbf1a-bafe-4093-b4ff-a6331df16ccb\n",
      "try transelate\n",
      "error:  Error: unsupported text language: es, Code: 400 , X-global-transaction-id: 15adc527-37d9-4451-b94b-d9aeb53cee13\n",
      "try transelate\n",
      "error:  Error: unsupported text language: es, Code: 400 , X-global-transaction-id: 3e5d96ad-6519-482b-97ce-a025bfb77fd4\n",
      "try transelate\n",
      "error:  Error: unsupported text language: es, Code: 400 , X-global-transaction-id: 8e712d76-a3a0-4623-b3d1-0ba851cd48c6\n",
      "try transelate\n",
      "error:  Error: unsupported text language: es, Code: 400 , X-global-transaction-id: b1eff05d-006a-4604-ad46-8564268b762b\n",
      "try transelate\n",
      "error:  Error: unsupported text language: es, Code: 400 , X-global-transaction-id: 1f7a4fc5-6189-4f99-8063-31e33899e27f\n",
      "try transelate\n",
      "error:  Error: unsupported text language: es, Code: 400 , X-global-transaction-id: c6a06bed-2534-49ac-a56f-f0ef705104e8\n",
      "try transelate\n",
      "error:  Error: unsupported text language: es, Code: 400 , X-global-transaction-id: 82c8eefc-d75c-4cc8-9f97-d85467ff48c6\n",
      "try transelate\n",
      "error:  Error: unsupported text language: es, Code: 400 , X-global-transaction-id: 3f40da8a-326f-4133-b01f-c44e56e681f3\n",
      "try transelate\n",
      "error:  Error: unsupported text language: es, Code: 400 , X-global-transaction-id: e6d24a27-c0ee-467f-9026-3b32f91d257b\n",
      "try transelate\n",
      "error:  Error: not enough text for language id, Code: 422 , X-global-transaction-id: 69ee36d6-094f-47dc-b523-a5229776290e\n",
      "try transelate\n",
      "failed to transelate:  Error: Automatically detected source language is the same as target, cannot translate. Try to set the source language explicitly if you think the source language was not correctly detected, Code: 404 , X-global-transaction-id: c0632a9e-b811-44a5-9bb3-8e9e688032e0\n",
      "skip this text:  needs makeover\n",
      "error:  Error: not enough text for language id, Code: 422 , X-global-transaction-id: e3bf4877-da93-4864-b3cf-3f7d6b5adac3\n",
      "try transelate\n",
      "failed to transelate:  Error: Unable to automatically detect the source language, confidence too low, Code: 404 , X-global-transaction-id: 02ecc10d-af3c-4216-9660-93cff46d9345\n",
      "skip this text:  average\n",
      "error:  Error: unsupported text language: es, Code: 400 , X-global-transaction-id: 0c7879c8-7891-4761-a4da-2cb9bf066f2f\n",
      "try transelate\n",
      "error:  Error: unsupported text language: es, Code: 400 , X-global-transaction-id: fa9d5dbf-cc98-47a5-9d3c-1bf2ded62d38\n",
      "try transelate\n",
      "error:  Error: unsupported text language: es, Code: 400 , X-global-transaction-id: 8e6ddd78-2b5d-4a1c-b04a-ec98ec09cbaa\n",
      "try transelate\n",
      "error:  Error: unsupported text language: es, Code: 400 , X-global-transaction-id: 5c6d43f7-910f-45de-92bb-a160748bb5ca\n",
      "try transelate\n",
      "error:  Error: unsupported text language: es, Code: 400 , X-global-transaction-id: aa3b6b0c-4594-4a64-b91f-1f76a090d88b\n",
      "try transelate\n",
      "error:  Error: unsupported text language: es, Code: 400 , X-global-transaction-id: 15e1a64a-9fec-4450-aebc-844cebdde2a1\n",
      "try transelate\n",
      "error:  Error: unsupported text language: es, Code: 400 , X-global-transaction-id: dbcaf8a7-7f48-4912-a839-24387ac423bb\n",
      "try transelate\n",
      "error:  Error: unsupported text language: es, Code: 400 , X-global-transaction-id: 49415f71-ce0a-4482-977d-994939de8729\n",
      "try transelate\n",
      "error:  Error: unsupported text language: es, Code: 400 , X-global-transaction-id: 7e3a9fd7-b50c-458a-ac68-354da1c88dba\n",
      "try transelate\n",
      "error:  Error: unsupported text language: es, Code: 400 , X-global-transaction-id: aa861a9b-594a-4d1d-9908-c40a8e3911e4\n",
      "try transelate\n",
      "error:  Error: unsupported text language: es, Code: 400 , X-global-transaction-id: 64a28e57-49ce-4566-848a-d7c6a43458b7\n",
      "try transelate\n",
      "error:  Error: unsupported text language: es, Code: 400 , X-global-transaction-id: 55613abf-e559-4e2f-ae4c-ef9ef2080079\n",
      "try transelate\n",
      "error:  Error: unsupported text language: es, Code: 400 , X-global-transaction-id: 67ae4f09-373b-4070-adb6-8088b3e17779\n",
      "try transelate\n",
      "error:  Error: unsupported text language: es, Code: 400 , X-global-transaction-id: 73fea9e9-c3fc-45fd-b077-f9f31f065f0b\n",
      "try transelate\n",
      "error:  Error: not enough text for language id, Code: 422 , X-global-transaction-id: 9646fec8-189d-435e-9803-02142edd9047\n",
      "try transelate\n",
      "failed to transelate:  Error: Unable to automatically detect the source language, confidence too low, Code: 404 , X-global-transaction-id: 83815b8a-8b93-41c0-b09e-7f117c8419bd\n",
      "skip this text:  roach motel\n",
      "error:  Error: unsupported text language: es, Code: 400 , X-global-transaction-id: 384e98dc-9341-4a14-ad70-b0982b3916b9\n",
      "try transelate\n",
      "error:  Error: unsupported text language: es, Code: 400 , X-global-transaction-id: ad845f98-7703-4d41-aeeb-6c859e8fd596\n",
      "try transelate\n",
      "error:  Error: unsupported text language: es, Code: 400 , X-global-transaction-id: dd35b9be-5b75-4ba7-b0c9-49e859dc535d\n",
      "try transelate\n",
      "error:  Error: unsupported text language: es, Code: 400 , X-global-transaction-id: 413c82d2-0abe-4ca2-a9b8-2d7eb1663c40\n",
      "try transelate\n",
      "error:  Error: unsupported text language: ca, Code: 400 , X-global-transaction-id: efe1c2ff-97ad-4a6c-b1ce-746cffb480f9\n",
      "try transelate\n",
      "failed to transelate:  Error: Unable to automatically detect the source language, confidence too low, Code: 404 , X-global-transaction-id: 992451c3-213c-424e-8c71-a54b2b9ecb56\n",
      "skip this text:  Mala e irrepetible\n",
      "error:  Error: unsupported text language: es, Code: 400 , X-global-transaction-id: f841e6c3-fbfb-48c6-bd68-16478721928d\n",
      "try transelate\n",
      "error:  Error: unsupported text language: es, Code: 400 , X-global-transaction-id: 23f70276-d2af-41f7-ac92-5fd804634e88\n",
      "try transelate\n",
      "error:  Error: not enough text for language id, Code: 422 , X-global-transaction-id: eb123c90-725b-4fe6-ac2e-8a8f692e8f60\n",
      "try transelate\n",
      "failed to transelate:  Error: Unable to automatically detect the source language, confidence too low, Code: 404 , X-global-transaction-id: 7b34c78a-4336-491c-9a38-f9e8d8e420c1\n",
      "skip this text:  No COMMENT\n",
      "error:  Error: unsupported text language: es, Code: 400 , X-global-transaction-id: a2457fcf-f0c2-4962-bf5a-98c1a7ae8efc\n",
      "try transelate\n",
      "error:  Error: unsupported text language: es, Code: 400 , X-global-transaction-id: b3e303aa-e5cb-4bed-973c-b3aefb7d89f5\n",
      "try transelate\n",
      "error:  Error: unsupported text language: es, Code: 400 , X-global-transaction-id: 5754f830-11c5-4226-93be-7639b5ae2b9d\n",
      "try transelate\n",
      "error:  Error: unsupported text language: es, Code: 400 , X-global-transaction-id: 887fdbc7-20a1-49c9-9f4c-e5d0692aec60\n",
      "try transelate\n",
      "error:  Error: unsupported text language: es, Code: 400 , X-global-transaction-id: ee0173c2-1a68-4bb7-9e3f-9ee35017ceca\n",
      "try transelate\n",
      "error:  Error: unsupported text language: es, Code: 400 , X-global-transaction-id: 62bbaa87-ecd6-4445-9571-113a784f75b1\n",
      "try transelate\n",
      "error:  Error: unsupported text language: es, Code: 400 , X-global-transaction-id: 0c78b2d0-2343-4481-ba42-bdeb6d19af52\n",
      "try transelate\n",
      "error:  Error: unsupported text language: es, Code: 400 , X-global-transaction-id: a76763b3-abce-4433-8f3e-7f256d0c5faa\n",
      "try transelate\n",
      "error:  Error: unsupported text language: es, Code: 400 , X-global-transaction-id: bf5ebeb4-c266-4307-943c-ae01eaabe857\n",
      "try transelate\n",
      "error:  Error: unsupported text language: es, Code: 400 , X-global-transaction-id: 3954d983-e38a-4136-b79a-de3c44284b47\n",
      "try transelate\n",
      "error:  Error: unsupported text language: es, Code: 400 , X-global-transaction-id: 3b08d426-2020-4a5b-a16e-73db3cdd6262\n",
      "try transelate\n",
      "error:  Error: unsupported text language: es, Code: 400 , X-global-transaction-id: 715324d8-a1ae-4d8f-af23-f90f810c2071\n",
      "try transelate\n",
      "error:  Error: unsupported text language: es, Code: 400 , X-global-transaction-id: 04c755a1-1d21-454b-9fd9-e0615e32734d\n",
      "try transelate\n",
      "error:  Error: unsupported text language: es, Code: 400 , X-global-transaction-id: 87065af1-e76a-4aa0-bcb0-7cdf49b4ab30\n",
      "try transelate\n",
      "error:  Error: unsupported text language: es, Code: 400 , X-global-transaction-id: 85ec3b00-c956-4506-8613-53e6f40f5fec\n",
      "try transelate\n",
      "error:  Error: unsupported text language: es, Code: 400 , X-global-transaction-id: ecaeb838-09fa-4f9b-b839-4c81d23f6c81\n",
      "try transelate\n",
      "error:  Error: unsupported text language: es, Code: 400 , X-global-transaction-id: 0bd4355e-044f-4a9e-a438-16eabd7dbc85\n",
      "try transelate\n",
      "error:  Error: unsupported text language: es, Code: 400 , X-global-transaction-id: 90e4f6b7-a1a3-4fbc-937b-36df17d13e23\n",
      "try transelate\n",
      "error:  Error: unsupported text language: es, Code: 400 , X-global-transaction-id: 5d5bead4-e477-42a0-9606-fff6d9ca93a0\n",
      "try transelate\n",
      "error:  Error: unsupported text language: es, Code: 400 , X-global-transaction-id: d624a30a-1777-42e5-8098-c6e7812caae7\n",
      "try transelate\n",
      "error:  Error: unsupported text language: es, Code: 400 , X-global-transaction-id: 9e84de72-589b-419b-bbc7-fbcedba82b3f\n",
      "try transelate\n",
      "error:  Error: unsupported text language: es, Code: 400 , X-global-transaction-id: 128bca4a-e7e5-4f62-9f30-e81054db0779\n",
      "try transelate\n",
      "error:  Error: unsupported text language: sv, Code: 400 , X-global-transaction-id: acf3755f-0c53-423d-97ec-f268f2f0691b\n",
      "try transelate\n",
      "error:  Error: unsupported text language: es, Code: 400 , X-global-transaction-id: 73fcb648-9b2f-4e48-b41c-9e0524f633bf\n",
      "try transelate\n",
      "error:  Error: unsupported text language: es, Code: 400 , X-global-transaction-id: 124136a8-80d0-4b7e-8899-25cf0f752087\n",
      "try transelate\n",
      "error:  Error: unsupported text language: es, Code: 400 , X-global-transaction-id: ab237077-d977-4c3d-8497-8d3af3af3c96\n",
      "try transelate\n",
      "error:  Error: unsupported text language: es, Code: 400 , X-global-transaction-id: 3ddbb7ab-0236-4a7e-baa0-4b12cbfdd9dd\n",
      "try transelate\n",
      "error:  Error: unsupported text language: es, Code: 400 , X-global-transaction-id: 6370b9c7-f463-4529-939d-384267b251ce\n",
      "try transelate\n",
      "error:  Error: unsupported text language: pt, Code: 400 , X-global-transaction-id: 86ff9e78-2da3-4cc5-98a3-57fed641ea37\n",
      "try transelate\n",
      "error:  Error: unsupported text language: es, Code: 400 , X-global-transaction-id: 7f3ccb06-c0b4-4b7f-8bc5-29f71810370c\n",
      "try transelate\n",
      "error:  Error: unsupported text language: es, Code: 400 , X-global-transaction-id: 5648b458-552d-453f-98eb-f39287c59d73\n",
      "try transelate\n",
      "error:  Error: unsupported text language: es, Code: 400 , X-global-transaction-id: 942c2dee-4304-4f31-861d-489bf039a671\n",
      "try transelate\n",
      "error:  Error: unsupported text language: es, Code: 400 , X-global-transaction-id: 737c2f37-e997-44da-a334-be3e5f12662d\n",
      "try transelate\n",
      "error:  Error: unsupported text language: ca, Code: 400 , X-global-transaction-id: 2737fe91-0b90-4b75-be23-3941af37fe6c\n",
      "try transelate\n",
      "failed to transelate:  Error: Unable to automatically detect the source language, confidence too low, Code: 404 , X-global-transaction-id: a43f7b76-dacb-4cf5-b86d-c38567f3522f\n",
      "skip this text:  Mala e irrepetible\n",
      "error:  Error: unsupported text language: es, Code: 400 , X-global-transaction-id: b85a184c-8174-45f4-a9f0-ad0def78bb4d\n",
      "try transelate\n",
      "error:  Error: unsupported text language: es, Code: 400 , X-global-transaction-id: 9b8a2c0f-1ece-4c50-acfb-0ce5aaecaaab\n",
      "try transelate\n"
     ]
    },
    {
     "name": "stderr",
     "output_type": "stream",
     "text": [
      " 80%|███████▉  | 238/299 [4:00:45<3:31:17, 207.82s/it]"
     ]
    },
    {
     "name": "stdout",
     "output_type": "stream",
     "text": [
      "error:  Error: unsupported text language: es, Code: 400 , X-global-transaction-id: c8fe3074-5eec-4672-b3eb-d4274eb3b4c3\n",
      "try transelate\n",
      "error:  Error: not enough text for language id, Code: 422 , X-global-transaction-id: 5a8cb77f-6a96-4c7b-8c63-8e5936a407a8\n",
      "try transelate\n",
      "failed to transelate:  Error: Unable to automatically detect the source language, confidence too low, Code: 404 , X-global-transaction-id: 64237499-519d-4cac-a28a-ff8de1773628\n",
      "skip this text:  Convenient\n",
      "error:  Error: unsupported text language: es, Code: 400 , X-global-transaction-id: 5803c2c6-8d57-4481-a538-cd39daafdd15\n",
      "try transelate\n",
      "error:  Error: unsupported text language: es, Code: 400 , X-global-transaction-id: d776cbf0-9c3c-47f4-a7d8-16e5435f9ef9\n",
      "try transelate\n"
     ]
    },
    {
     "name": "stderr",
     "output_type": "stream",
     "text": [
      " 80%|████████  | 240/299 [4:03:31<2:20:00, 142.38s/it]"
     ]
    },
    {
     "name": "stdout",
     "output_type": "stream",
     "text": [
      "error:  Error: not enough text for language id, Code: 422 , X-global-transaction-id: ec3d0131-618e-496c-a5f9-31f944dcd868\n",
      "try transelate\n",
      "failed to transelate:  Error: Automatically detected source language is the same as target, cannot translate. Try to set the source language explicitly if you think the source language was not correctly detected, Code: 404 , X-global-transaction-id: 2ca4b23b-d015-486a-a350-9581aeafadcd\n",
      "skip this text:  Satisfactory\n",
      "error:  Error: not enough text for language id, Code: 422 , X-global-transaction-id: dbd7ccbd-cba2-4edb-881b-a32473e55107\n",
      "try transelate\n",
      "failed to transelate:  Error: Unable to automatically detect the source language, confidence too low, Code: 404 , X-global-transaction-id: 29b241d5-be0c-4571-8bb3-cd51747f30c5\n",
      "skip this text:  N/a\n",
      "error:  Error: not enough text for language id, Code: 422 , X-global-transaction-id: 7a635bbd-72ea-4f59-8fd6-401fc61ca2ac\n",
      "try transelate\n",
      "failed to transelate:  Error: Automatically detected source language is the same as target, cannot translate. Try to set the source language explicitly if you think the source language was not correctly detected, Code: 404 , X-global-transaction-id: 77217517-530f-40cf-9eb7-18520acd9c15\n",
      "skip this text:  Good\n"
     ]
    },
    {
     "name": "stderr",
     "output_type": "stream",
     "text": [
      " 81%|████████▏ | 243/299 [4:05:37<1:10:17, 75.31s/it] "
     ]
    },
    {
     "name": "stdout",
     "output_type": "stream",
     "text": [
      "error:  Error: unsupported text language: sv, Code: 400 , X-global-transaction-id: bae30fc1-10a8-45a9-82d7-10ce05e29a40\n",
      "try transelate\n"
     ]
    },
    {
     "name": "stderr",
     "output_type": "stream",
     "text": [
      " 82%|████████▏ | 245/299 [4:06:05<39:27, 43.84s/it]  "
     ]
    },
    {
     "name": "stdout",
     "output_type": "stream",
     "text": [
      "error:  Error: not enough text for language id, Code: 422 , X-global-transaction-id: 323d2344-4a88-478b-b639-66410f955972\n",
      "try transelate\n",
      "failed to transelate:  Error: Automatically detected source language is the same as target, cannot translate. Try to set the source language explicitly if you think the source language was not correctly detected, Code: 404 , X-global-transaction-id: f4047624-4d2b-49ef-b7a0-47e3ca992db9\n",
      "skip this text:  Was ok\n",
      "error:  Error: not enough text for language id, Code: 422 , X-global-transaction-id: 3c1b2586-3044-4fb2-bda5-95874646d804\n",
      "try transelate\n",
      "failed to transelate:  Error: Automatically detected source language is the same as target, cannot translate. Try to set the source language explicitly if you think the source language was not correctly detected, Code: 404 , X-global-transaction-id: 3b9a9179-1f7f-4767-909e-9d9a96da3e97\n",
      "skip this text:  Nothing\n",
      "error:  Error: unsupported text language: tr, Code: 400 , X-global-transaction-id: a3924fbc-1346-44c4-aebc-06ffdcc63289\n",
      "try transelate\n",
      "failed to transelate:  Error: Unable to automatically detect the source language, confidence too low, Code: 404 , X-global-transaction-id: eb8c2cc3-43db-4d81-8ef2-91596fe7986f\n",
      "skip this text:  Tatil g��n��mde i��e ��a����rmasan��z iyiydi ...\n",
      "error:  Error: unsupported text language: tr, Code: 400 , X-global-transaction-id: faaf4a54-c081-46d9-815c-8ef84232fdc3\n",
      "try transelate\n"
     ]
    },
    {
     "name": "stderr",
     "output_type": "stream",
     "text": [
      " 83%|████████▎ | 248/299 [4:10:51<1:01:07, 71.91s/it]"
     ]
    },
    {
     "name": "stdout",
     "output_type": "stream",
     "text": [
      "error:  Error: not enough text for language id, Code: 422 , X-global-transaction-id: 85678482-483d-40ed-9d76-0ae055b42b17\n",
      "try transelate\n",
      "failed to transelate:  Error: Automatically detected source language is the same as target, cannot translate. Try to set the source language explicitly if you think the source language was not correctly detected, Code: 404 , X-global-transaction-id: fe199a06-fcf2-4070-b54f-c75df80b9374\n",
      "skip this text:  I was okay\n"
     ]
    },
    {
     "name": "stderr",
     "output_type": "stream",
     "text": [
      " 83%|████████▎ | 249/299 [4:11:34<52:39, 63.19s/it]  "
     ]
    },
    {
     "name": "stdout",
     "output_type": "stream",
     "text": [
      "error:  Error: not enough text for language id, Code: 422 , X-global-transaction-id: b0f01753-58a5-4504-aa9d-148004d3348e\n",
      "try transelate\n",
      "failed to transelate:  Error: Automatically detected source language is the same as target, cannot translate. Try to set the source language explicitly if you think the source language was not correctly detected, Code: 404 , X-global-transaction-id: bf78f756-2a07-44b4-9c22-6498480898ef\n",
      "skip this text:  Good Hotel\n"
     ]
    },
    {
     "name": "stderr",
     "output_type": "stream",
     "text": [
      " 84%|████████▎ | 250/299 [4:12:29<49:30, 60.61s/it]"
     ]
    },
    {
     "name": "stdout",
     "output_type": "stream",
     "text": [
      "error:  Error: not enough text for language id, Code: 422 , X-global-transaction-id: adfb132d-2684-4259-b7f8-f1e8febb990d\n",
      "try transelate\n",
      "failed to transelate:  Error: Automatically detected source language is the same as target, cannot translate. Try to set the source language explicitly if you think the source language was not correctly detected, Code: 404 , X-global-transaction-id: 4abb81b7-9f19-4b2e-ab4a-02d9b267e0a2\n",
      "skip this text:  Was very nice\n",
      "error:  Error: not enough text for language id, Code: 422 , X-global-transaction-id: dd7a3d1d-fe82-4423-909f-033a028e7b74\n",
      "try transelate\n",
      "failed to transelate:  Error: Unable to automatically detect the source language, confidence too low, Code: 404 , X-global-transaction-id: b011186e-844f-441d-bfa8-9524843d7202\n",
      "skip this text:  clean\n",
      "error:  Error: not enough text for language id, Code: 422 , X-global-transaction-id: 460b1a4d-45df-4ed8-b18a-638af6a0482b\n",
      "try transelate\n",
      "failed to transelate:  Error: Automatically detected source language is the same as target, cannot translate. Try to set the source language explicitly if you think the source language was not correctly detected, Code: 404 , X-global-transaction-id: 335d97fd-71db-49e8-99cc-e600ce1eb48d\n",
      "skip this text:  good\n",
      "error:  Error: not enough text for language id, Code: 422 , X-global-transaction-id: 50a31641-35f8-411f-8e40-f6918ddec4d0\n",
      "try transelate\n",
      "failed to transelate:  Error: Automatically detected source language is the same as target, cannot translate. Try to set the source language explicitly if you think the source language was not correctly detected, Code: 404 , X-global-transaction-id: ba3137e6-c9a8-47ba-8f89-2be182450d96\n",
      "skip this text:  Bed bugs\n"
     ]
    },
    {
     "name": "stderr",
     "output_type": "stream",
     "text": [
      " 84%|████████▍ | 252/299 [4:13:51<36:47, 46.97s/it]"
     ]
    },
    {
     "name": "stdout",
     "output_type": "stream",
     "text": [
      "error:  Error: not enough text for language id, Code: 422 , X-global-transaction-id: 5501dcac-9c0b-4512-b7b2-06e102264212\n",
      "try transelate\n",
      "failed to transelate:  Error: Unable to automatically detect the source language, confidence too low, Code: 404 , X-global-transaction-id: a3f63b3a-a9bd-4d7b-95d3-14ae44c374ae\n",
      "skip this text:  OK.\n",
      "error:  Error: not enough text for language id, Code: 422 , X-global-transaction-id: 3d4526ce-28b8-47ea-b5af-179cef5013aa\n",
      "try transelate\n",
      "failed to transelate:  Error: Automatically detected source language is the same as target, cannot translate. Try to set the source language explicitly if you think the source language was not correctly detected, Code: 404 , X-global-transaction-id: 817c1ac7-11b2-4434-afd6-14d6a8fbac68\n",
      "skip this text:  Great\n"
     ]
    },
    {
     "name": "stderr",
     "output_type": "stream",
     "text": [
      " 85%|████████▍ | 253/299 [4:14:27<33:31, 43.72s/it]"
     ]
    },
    {
     "name": "stdout",
     "output_type": "stream",
     "text": [
      "error:  Error: not enough text for language id, Code: 422 , X-global-transaction-id: dc768792-6a33-4528-b0b8-a24960e53d87\n",
      "try transelate\n",
      "failed to transelate:  Error: Unable to automatically detect the source language, confidence too low, Code: 404 , X-global-transaction-id: c734f135-8f65-4d38-b9f1-4bab778b3fbb\n",
      "skip this text:  No internet\n",
      "error:  Error: not enough text for language id, Code: 422 , X-global-transaction-id: f0b98b41-acb0-4842-9e62-b33f9e98b1ae\n",
      "try transelate\n",
      "failed to transelate:  Error: Unable to automatically detect the source language, confidence too low, Code: 404 , X-global-transaction-id: f47e0fff-cec6-4b9a-ba20-6eb07c95cfd8\n",
      "skip this text:  Ok\n"
     ]
    },
    {
     "name": "stderr",
     "output_type": "stream",
     "text": [
      " 85%|████████▍ | 254/299 [4:15:05<31:27, 41.94s/it]"
     ]
    },
    {
     "name": "stdout",
     "output_type": "stream",
     "text": [
      "error:  Error: not enough text for language id, Code: 422 , X-global-transaction-id: 65ab870d-7837-4ef9-aff8-be495422aafc\n",
      "try transelate\n",
      "failed to transelate:  Error: Automatically detected source language is the same as target, cannot translate. Try to set the source language explicitly if you think the source language was not correctly detected, Code: 404 , X-global-transaction-id: 5815f834-abc2-495f-9d88-b706ee2d5e30\n",
      "skip this text:  relaxing\n"
     ]
    },
    {
     "name": "stderr",
     "output_type": "stream",
     "text": [
      " 85%|████████▌ | 255/299 [4:15:41<29:25, 40.13s/it]"
     ]
    },
    {
     "name": "stdout",
     "output_type": "stream",
     "text": [
      "error:  Error: not enough text for language id, Code: 422 , X-global-transaction-id: 1f770281-e600-4a14-b0ed-b6a92e001fbb\n",
      "try transelate\n",
      "failed to transelate:  Error: Automatically detected source language is the same as target, cannot translate. Try to set the source language explicitly if you think the source language was not correctly detected, Code: 404 , X-global-transaction-id: c2c573b3-31fb-4508-84bd-c9d024e36a3d\n",
      "skip this text:  RELAXING\n",
      "error:  Error: not enough text for language id, Code: 422 , X-global-transaction-id: 70c26bf5-f2d8-461c-96ef-cf13b77c8d46\n",
      "try transelate\n",
      "failed to transelate:  Error: Unable to automatically detect the source language, confidence too low, Code: 404 , X-global-transaction-id: c27f376c-0c3e-431d-84e6-76dd526168db\n",
      "skip this text:  awful.\n",
      "error:  Error: not enough text for language id, Code: 422 , X-global-transaction-id: 3699bc35-e3a5-4d23-9605-b5f1bd8dabab\n",
      "try transelate\n",
      "failed to transelate:  Error: Automatically detected source language is the same as target, cannot translate. Try to set the source language explicitly if you think the source language was not correctly detected, Code: 404 , X-global-transaction-id: 32d4b5b5-de18-47ac-8ec5-3d1cc47767c0\n",
      "skip this text:  Great\n"
     ]
    },
    {
     "name": "stderr",
     "output_type": "stream",
     "text": [
      " 86%|████████▌ | 257/299 [4:16:37<22:37, 32.32s/it]"
     ]
    },
    {
     "name": "stdout",
     "output_type": "stream",
     "text": [
      "error:  Error: not enough text for language id, Code: 422 , X-global-transaction-id: db533942-5fed-4e73-95e6-9d77c4c736ba\n",
      "try transelate\n",
      "failed to transelate:  Error: Automatically detected source language is the same as target, cannot translate. Try to set the source language explicitly if you think the source language was not correctly detected, Code: 404 , X-global-transaction-id: 903d030c-939e-4d55-92f3-1802faeaae87\n",
      "skip this text:  Very nice\n"
     ]
    },
    {
     "name": "stderr",
     "output_type": "stream",
     "text": [
      " 86%|████████▋ | 258/299 [4:18:35<39:40, 58.07s/it]"
     ]
    },
    {
     "name": "stdout",
     "output_type": "stream",
     "text": [
      "error:  Error: not enough text for language id, Code: 422 , X-global-transaction-id: 0962a31d-19a5-40af-9be8-236f4c71b2bf\n",
      "try transelate\n",
      "failed to transelate:  Error: Automatically detected source language is the same as target, cannot translate. Try to set the source language explicitly if you think the source language was not correctly detected, Code: 404 , X-global-transaction-id: 642a97f2-9a67-4c0e-93bf-7a12b9319a52\n",
      "skip this text:  Amazing\n"
     ]
    },
    {
     "name": "stderr",
     "output_type": "stream",
     "text": [
      " 87%|████████▋ | 259/299 [4:20:11<46:13, 69.33s/it]"
     ]
    },
    {
     "name": "stdout",
     "output_type": "stream",
     "text": [
      "error:  Error: not enough text for language id, Code: 422 , X-global-transaction-id: 2ea4b7d3-e7dd-4369-a3a4-f55676c64144\n",
      "try transelate\n",
      "failed to transelate:  Error: Unable to automatically detect the source language, confidence too low, Code: 404 , X-global-transaction-id: de57b7ca-071f-4bc9-a60c-d41409cf2e72\n",
      "skip this text:  excellent\n",
      "error:  Error: not enough text for language id, Code: 422 , X-global-transaction-id: bafb8c33-0bff-4ed6-9cae-322e2fb7f7a1\n",
      "try transelate\n",
      "failed to transelate:  Error: Automatically detected source language is the same as target, cannot translate. Try to set the source language explicitly if you think the source language was not correctly detected, Code: 404 , X-global-transaction-id: aeb7d1e9-53a2-457b-b18b-b29f09fe509a\n",
      "skip this text:  Was amazing\n",
      "error:  Error: not enough text for language id, Code: 422 , X-global-transaction-id: e3e6ca51-ee41-4ebd-b834-7e7a05bad69e\n",
      "try transelate\n",
      "failed to transelate:  Error: Automatically detected source language is the same as target, cannot translate. Try to set the source language explicitly if you think the source language was not correctly detected, Code: 404 , X-global-transaction-id: 653270bd-c98b-4854-a484-cc42b5368040\n",
      "skip this text:  I like it\n"
     ]
    },
    {
     "name": "stderr",
     "output_type": "stream",
     "text": [
      " 87%|████████▋ | 260/299 [4:23:35<1:11:19, 109.73s/it]"
     ]
    },
    {
     "name": "stdout",
     "output_type": "stream",
     "text": [
      "error:  Error: unsupported text language: de, Code: 400 , X-global-transaction-id: 7dc9e4ce-dde0-40fb-86c8-a36e01245619\n",
      "try transelate\n",
      "error:  Error: unsupported text language: sv, Code: 400 , X-global-transaction-id: 48ca876a-16b7-4899-8066-e2eaeb3f9eed\n",
      "try transelate\n",
      "error:  Error: unsupported text language: nl, Code: 400 , X-global-transaction-id: 9594824a-c656-4477-9a39-860d06c6a8b1\n",
      "try transelate\n",
      "error:  Error: unsupported text language: de, Code: 400 , X-global-transaction-id: b526ac75-0e69-49c7-99ae-6a63fdae9ec9\n",
      "try transelate\n",
      "error:  Error: unsupported text language: pt, Code: 400 , X-global-transaction-id: 800b3ed3-67aa-449b-960c-101f511304f0\n",
      "try transelate\n"
     ]
    },
    {
     "name": "stderr",
     "output_type": "stream",
     "text": [
      " 88%|████████▊ | 264/299 [4:29:05<49:18, 84.54s/it]   "
     ]
    },
    {
     "name": "stdout",
     "output_type": "stream",
     "text": [
      "error:  Error: unsupported text language: es, Code: 400 , X-global-transaction-id: e2736b85-44fa-4322-9d80-7e9d721ed766\n",
      "try transelate\n",
      "error:  Error: unsupported text language: sv, Code: 400 , X-global-transaction-id: 5b4588d1-1bed-498d-bf59-d1afe6b93e2c\n",
      "try transelate\n",
      "error:  Error: unsupported text language: es, Code: 400 , X-global-transaction-id: 4a12dee5-74c9-414a-be95-06e30b1bea8e\n",
      "try transelate\n",
      "error:  Error: unsupported text language: es, Code: 400 , X-global-transaction-id: 99879e57-cfc8-484c-9071-43916b07d1a5\n",
      "try transelate\n",
      "error:  Error: not enough text for language id, Code: 422 , X-global-transaction-id: 20cee257-dd59-419f-9701-39f41f04ff8f\n",
      "try transelate\n",
      "failed to transelate:  Error: Unable to automatically detect the source language, confidence too low, Code: 404 , X-global-transaction-id: b07464c8-4990-44a2-8f27-6730936714f4\n",
      "skip this text:  Great!\n",
      "error:  Error: unsupported text language: es, Code: 400 , X-global-transaction-id: 4c23f3ad-f7fc-428f-8aeb-9bf8e1074967\n",
      "try transelate\n",
      "error:  Error: not enough text for language id, Code: 422 , X-global-transaction-id: 3b8b33e4-947e-4142-b632-98fb127a3059\n",
      "try transelate\n",
      "failed to transelate:  Error: Unable to automatically detect the source language, confidence too low, Code: 404 , X-global-transaction-id: 081bf67b-ac3f-44b2-a67f-f57264024cbb\n",
      "skip this text:  EXCELENTE\n",
      "error:  Error: unsupported text language: es, Code: 400 , X-global-transaction-id: 90ed1434-e268-462d-bf7e-eade36677ecc\n",
      "try transelate\n",
      "error:  Error: unsupported text language: es, Code: 400 , X-global-transaction-id: 5e396c24-f2f1-4a07-9639-10bf32e67d14\n",
      "try transelate\n",
      "error:  Error: unsupported text language: es, Code: 400 , X-global-transaction-id: f3f00e60-5780-4f21-82c0-5d8cdee5bf03\n",
      "try transelate\n",
      "error:  Error: not enough text for language id, Code: 422 , X-global-transaction-id: 305ed1d4-c2ac-4c55-81cc-af13e4661438\n",
      "try transelate\n",
      "failed to transelate:  Error: Unable to automatically detect the source language, confidence too low, Code: 404 , X-global-transaction-id: ffa4f5fb-f5e7-4b88-9ac8-5cd38c2658ba\n",
      "skip this text:  Excellent!\n",
      "error:  Error: not enough text for language id, Code: 422 , X-global-transaction-id: a353ee94-1cd8-4235-adc5-8818f7182c5e\n",
      "try transelate\n",
      "failed to transelate:  Error: Unable to automatically detect the source language, confidence too low, Code: 404 , X-global-transaction-id: 5027ce1d-a495-4e5c-bf17-4f2f074820e8\n",
      "skip this text:  Excellent!\n",
      "error:  Error: unsupported text language: it, Code: 400 , X-global-transaction-id: a6588456-2bad-41b6-83d0-5636449edd7f\n",
      "try transelate\n",
      "error:  Error: not enough text for language id, Code: 422 , X-global-transaction-id: 39dfb1b6-29a9-46f4-869a-ffa7fd17bf6c\n",
      "try transelate\n",
      "failed to transelate:  Error: Automatically detected source language is the same as target, cannot translate. Try to set the source language explicitly if you think the source language was not correctly detected, Code: 404 , X-global-transaction-id: 341b700d-464f-4ec9-bee2-54bb2ca91f5c\n",
      "skip this text:  Good\n"
     ]
    },
    {
     "name": "stderr",
     "output_type": "stream",
     "text": [
      " 89%|████████▊ | 265/299 [4:30:20<46:09, 81.47s/it]"
     ]
    },
    {
     "name": "stdout",
     "output_type": "stream",
     "text": [
      "error:  Error: not enough text for language id, Code: 422 , X-global-transaction-id: 16354a99-ffac-4984-9c25-9f680d342582\n",
      "try transelate\n",
      "failed to transelate:  Error: Unable to automatically detect the source language, confidence too low, Code: 404 , X-global-transaction-id: 670112e4-86c0-4b74-a072-35c995a580cb\n",
      "skip this text:  No problems!\n"
     ]
    },
    {
     "name": "stderr",
     "output_type": "stream",
     "text": [
      " 89%|████████▉ | 266/299 [4:31:06<38:58, 70.87s/it]"
     ]
    },
    {
     "name": "stdout",
     "output_type": "stream",
     "text": [
      "error:  Error: not enough text for language id, Code: 422 , X-global-transaction-id: dd18d8a4-48b5-4b16-9b76-1b9dba4645dd\n",
      "try transelate\n",
      "failed to transelate:  Error: Automatically detected source language is the same as target, cannot translate. Try to set the source language explicitly if you think the source language was not correctly detected, Code: 404 , X-global-transaction-id: ef3db574-55b8-417a-bba0-3064342a45d0\n",
      "skip this text:  Great hotel.\n",
      "error:  Error: unsupported text language: nl, Code: 400 , X-global-transaction-id: 50f41281-6adc-4cdd-ae2a-8a882c756131\n",
      "try transelate\n",
      "error:  Error: unsupported text language: de, Code: 400 , X-global-transaction-id: e2f93f20-9ff3-4d60-8c9c-4f8bceb829a0\n",
      "try transelate\n"
     ]
    },
    {
     "name": "stderr",
     "output_type": "stream",
     "text": [
      " 89%|████████▉ | 267/299 [4:31:42<32:20, 60.64s/it]"
     ]
    },
    {
     "name": "stdout",
     "output_type": "stream",
     "text": [
      "error:  Error: not enough text for language id, Code: 422 , X-global-transaction-id: 8b358288-7342-40cc-a1ac-e6e53ad38b21\n",
      "try transelate\n",
      "failed to transelate:  Error: Unable to automatically detect the source language, confidence too low, Code: 404 , X-global-transaction-id: 1e522e1e-793b-4c46-a35b-47e4a050d348\n",
      "skip this text:  Delightful!\n"
     ]
    },
    {
     "name": "stderr",
     "output_type": "stream",
     "text": [
      " 90%|████████▉ | 269/299 [4:33:24<27:45, 55.52s/it]"
     ]
    },
    {
     "name": "stdout",
     "output_type": "stream",
     "text": [
      "error:  Error: not enough text for language id, Code: 422 , X-global-transaction-id: 936ca6aa-a1fb-4665-a875-cd23555f6a75\n",
      "try transelate\n",
      "failed to transelate:  Error: Unable to automatically detect the source language, confidence too low, Code: 404 , X-global-transaction-id: 9448f512-5220-4c0f-8269-db6282f94dfc\n",
      "skip this text:  Excellent\n",
      "error:  Error: not enough text for language id, Code: 422 , X-global-transaction-id: 49bc4cc3-b219-47de-a121-790cf59b757a\n",
      "try transelate\n",
      "failed to transelate:  Error: Automatically detected source language is the same as target, cannot translate. Try to set the source language explicitly if you think the source language was not correctly detected, Code: 404 , X-global-transaction-id: 2641cac9-4389-4fa3-91ba-bec355a366c1\n",
      "skip this text:  perfect\n",
      "error:  Error: not enough text for language id, Code: 422 , X-global-transaction-id: 9ccd55a7-f311-481b-8e43-fa8cb090bf54\n",
      "try transelate\n",
      "failed to transelate:  Error: Unable to automatically detect the source language, confidence too low, Code: 404 , X-global-transaction-id: 23d1e4ba-6971-4b83-ac3a-4cda1943a5bb\n",
      "skip this text:  Great!\n"
     ]
    },
    {
     "name": "stderr",
     "output_type": "stream",
     "text": [
      " 90%|█████████ | 270/299 [4:34:37<29:25, 60.88s/it]"
     ]
    },
    {
     "name": "stdout",
     "output_type": "stream",
     "text": [
      "error:  Error: unsupported text language: es, Code: 400 , X-global-transaction-id: 42bdc263-d027-4995-9783-d788eb2da894\n",
      "try transelate\n",
      "error:  Error: unsupported text language: es, Code: 400 , X-global-transaction-id: 674d54a9-aa27-4e1a-b334-a60df13f19b0\n",
      "try transelate\n",
      "error:  Error: unsupported text language: es, Code: 400 , X-global-transaction-id: 4ab11580-2811-4972-84b4-7dda86c95329\n",
      "try transelate\n",
      "error:  Error: unsupported text language: es, Code: 400 , X-global-transaction-id: 986843e4-ba88-4cbb-95d8-13eeef2d8b11\n",
      "try transelate\n",
      "error:  Error: unsupported text language: es, Code: 400 , X-global-transaction-id: b6e92f96-2004-44f4-9d25-bf78c8548b16\n",
      "try transelate\n",
      "error:  Error: unsupported text language: es, Code: 400 , X-global-transaction-id: 21e08070-02fc-41e3-a990-389052e5195b\n",
      "try transelate\n",
      "error:  Error: unsupported text language: es, Code: 400 , X-global-transaction-id: e8607e34-ca6e-464f-be3b-9a8d523bb69d\n",
      "try transelate\n",
      "error:  Error: unsupported text language: es, Code: 400 , X-global-transaction-id: 81abc2c7-2293-45cf-acfe-28f2193f6c0f\n",
      "try transelate\n",
      "error:  Error: unsupported text language: es, Code: 400 , X-global-transaction-id: 33f0a327-e7a8-4b31-9280-b70ba5289d40\n",
      "try transelate\n",
      "error:  Error: unsupported text language: es, Code: 400 , X-global-transaction-id: b16ff6f7-439c-4be4-beba-5b1bba758fdc\n",
      "try transelate\n",
      "error:  Error: unsupported text language: es, Code: 400 , X-global-transaction-id: 1ba281a6-33e9-428f-a06f-146001194d32\n",
      "try transelate\n",
      "error:  Error: unsupported text language: es, Code: 400 , X-global-transaction-id: 70d55815-d523-4945-8caa-95c6053ac4f8\n",
      "try transelate\n",
      "error:  Error: unsupported text language: es, Code: 400 , X-global-transaction-id: 54c12ad2-58e6-4c24-9b62-8f04f83118ae\n",
      "try transelate\n",
      "error:  Error: unsupported text language: es, Code: 400 , X-global-transaction-id: 2b9522d2-4948-49eb-ae88-4de1b78779d9\n",
      "try transelate\n",
      "error:  Error: unsupported text language: es, Code: 400 , X-global-transaction-id: 917d6e5d-2ebf-4a65-91e7-6ee16f028ef9\n",
      "try transelate\n",
      "error:  Error: unsupported text language: es, Code: 400 , X-global-transaction-id: 2fc95d6f-3e8b-4b28-953e-3d02c26771cb\n",
      "try transelate\n",
      "error:  Error: unsupported text language: es, Code: 400 , X-global-transaction-id: 5d2ac2e4-1073-49f6-be23-49513655ef23\n",
      "try transelate\n",
      "error:  Error: unsupported text language: es, Code: 400 , X-global-transaction-id: 43c824a0-5b60-468b-b2a3-75cde443ccc3\n",
      "try transelate\n",
      "error:  Error: unsupported text language: es, Code: 400 , X-global-transaction-id: 935f5b51-b714-4265-ab1b-659d5d98a75a\n",
      "try transelate\n",
      "error:  Error: unsupported text language: es, Code: 400 , X-global-transaction-id: 5ceb008f-d3d7-4313-9be7-498e86375e2c\n",
      "try transelate\n",
      "error:  Error: unsupported text language: es, Code: 400 , X-global-transaction-id: 0a5aae13-743d-42a2-b0e4-eb016ea76594\n",
      "try transelate\n",
      "error:  Error: unsupported text language: es, Code: 400 , X-global-transaction-id: 34feb5c4-16db-4013-91a5-69bd4a75e2e6\n",
      "try transelate\n",
      "error:  Error: unsupported text language: es, Code: 400 , X-global-transaction-id: 727f778e-cb12-4956-a224-6679285ada83\n",
      "try transelate\n",
      "error:  Error: unsupported text language: es, Code: 400 , X-global-transaction-id: 12508c9f-05bd-453f-802d-67131a576236\n",
      "try transelate\n",
      "error:  Error: unsupported text language: es, Code: 400 , X-global-transaction-id: 10155eb0-0a52-4fcf-a3d4-8125ff6ea2bf\n",
      "try transelate\n",
      "error:  Error: unsupported text language: es, Code: 400 , X-global-transaction-id: 4fea25fc-bc4b-4de8-a6c0-24d6cb7d7f46\n",
      "try transelate\n",
      "error:  Error: unsupported text language: es, Code: 400 , X-global-transaction-id: a593061a-0cae-4170-ba3a-4c6e9eb7fcac\n",
      "try transelate\n",
      "error:  Error: unsupported text language: es, Code: 400 , X-global-transaction-id: 56f8dd3e-8f59-4ca6-8845-29b4b7e72394\n",
      "try transelate\n",
      "error:  Error: unsupported text language: es, Code: 400 , X-global-transaction-id: c4e85f5a-e2ae-4ec9-9a77-883a619991f7\n",
      "try transelate\n",
      "error:  Error: unsupported text language: es, Code: 400 , X-global-transaction-id: 49aa2edb-3b81-41b9-8a32-083c87bf6352\n",
      "try transelate\n",
      "error:  Error: unsupported text language: es, Code: 400 , X-global-transaction-id: dc25faa6-2154-42c6-818d-8236c39a50bf\n",
      "try transelate\n",
      "error:  Error: unsupported text language: es, Code: 400 , X-global-transaction-id: 214d2156-2ac9-447c-a1cf-f8443003932f\n",
      "try transelate\n",
      "error:  Error: unsupported text language: ca, Code: 400 , X-global-transaction-id: 487d695e-2277-43bc-b95b-e9b4684a29ca\n",
      "try transelate\n",
      "error:  Error: unsupported text language: es, Code: 400 , X-global-transaction-id: 7e2d6158-d0fd-401d-b151-637ab28d1bcb\n",
      "try transelate\n",
      "error:  Error: unsupported text language: es, Code: 400 , X-global-transaction-id: 158f5f6e-0ab7-4417-910c-40af261c3d5f\n",
      "try transelate\n",
      "error:  Error: unsupported text language: es, Code: 400 , X-global-transaction-id: b0af948e-f1d9-4b92-b165-93871b7d496e\n",
      "try transelate\n",
      "error:  Error: unsupported text language: es, Code: 400 , X-global-transaction-id: d549bd8e-8354-409d-b62e-4947e798bacd\n",
      "try transelate\n",
      "error:  Error: unsupported text language: es, Code: 400 , X-global-transaction-id: 34f79454-788c-4d43-bf14-63a41c44bf26\n",
      "try transelate\n",
      "error:  Error: unsupported text language: es, Code: 400 , X-global-transaction-id: e6a131f5-c080-48b5-b2ea-e97833925d21\n",
      "try transelate\n",
      "error:  Error: unsupported text language: es, Code: 400 , X-global-transaction-id: dcbc44f4-3414-4ce9-9e83-de9de67e04c9\n",
      "try transelate\n",
      "error:  Error: unsupported text language: es, Code: 400 , X-global-transaction-id: 3b5b8b11-e150-49f9-a8b0-6402249dbb79\n",
      "try transelate\n",
      "error:  Error: unsupported text language: es, Code: 400 , X-global-transaction-id: 7d9ba56c-7664-425b-b227-8d394c913003\n",
      "try transelate\n",
      "error:  Error: unsupported text language: es, Code: 400 , X-global-transaction-id: c3641800-a111-45d6-b5f4-36d9fbb53603\n",
      "try transelate\n",
      "error:  Error: unsupported text language: es, Code: 400 , X-global-transaction-id: 33c1e3c0-53e6-4c25-b977-6ca9e68ead48\n",
      "try transelate\n",
      "error:  Error: unsupported text language: es, Code: 400 , X-global-transaction-id: 4f7d8993-0bf0-4618-b496-12d682a11324\n",
      "try transelate\n",
      "error:  Error: unsupported text language: es, Code: 400 , X-global-transaction-id: 792f2184-8556-44be-9304-1ee595a39763\n",
      "try transelate\n",
      "error:  Error: unsupported text language: es, Code: 400 , X-global-transaction-id: 9851bf4d-9edd-4aaf-9a0c-5515bce1b1f8\n",
      "try transelate\n",
      "error:  Error: unsupported text language: es, Code: 400 , X-global-transaction-id: 183845b5-d0a0-4abf-9221-f0813f11016e\n",
      "try transelate\n",
      "error:  Error: not enough text for language id, Code: 422 , X-global-transaction-id: 1d43dca8-ecb1-4591-af57-4866268b500a\n",
      "try transelate\n",
      "failed to transelate:  Error: Unable to automatically detect the source language, confidence too low, Code: 404 , X-global-transaction-id: 0cd4ed14-5949-409c-b4a7-414a7e6b2d0d\n",
      "skip this text:  hotel.com\n",
      "error:  Error: unsupported text language: es, Code: 400 , X-global-transaction-id: f4fa2275-705c-4e2d-bbbe-0677a5bb54f6\n",
      "try transelate\n"
     ]
    },
    {
     "name": "stderr",
     "output_type": "stream",
     "text": [
      " 91%|█████████ | 271/299 [4:38:53<55:40, 119.32s/it]"
     ]
    },
    {
     "name": "stdout",
     "output_type": "stream",
     "text": [
      "error:  Error: not enough text for language id, Code: 422 , X-global-transaction-id: 32d3ab37-3674-4a38-84e0-78739840151c\n",
      "try transelate\n",
      "failed to transelate:  Error: Automatically detected source language is the same as target, cannot translate. Try to set the source language explicitly if you think the source language was not correctly detected, Code: 404 , X-global-transaction-id: 0edc3d85-7bae-433e-b6ff-06a27aa30d7c\n",
      "skip this text:  Great hotel\n"
     ]
    },
    {
     "name": "stderr",
     "output_type": "stream",
     "text": [
      " 91%|█████████ | 272/299 [4:42:53<1:09:58, 155.51s/it]"
     ]
    },
    {
     "name": "stdout",
     "output_type": "stream",
     "text": [
      "error:  Error: unsupported text language: it, Code: 400 , X-global-transaction-id: d72ed617-f734-4412-a1a4-4d06af613e66\n",
      "try transelate\n",
      "failed to transelate:  Error: Unable to automatically detect the source language, confidence too low, Code: 404 , X-global-transaction-id: dd4aec73-bf04-4f29-8632-c77581c69891\n",
      "skip this text:  sorta free wifi?\n",
      "error:  Error: unsupported text language: it, Code: 400 , X-global-transaction-id: 53f3e60f-4a52-46e4-a449-30b5fa36faac\n",
      "try transelate\n",
      "failed to transelate:  Error: Unable to automatically detect the source language, confidence too low, Code: 404 , X-global-transaction-id: c6bd12da-85f3-4a7a-af8d-756ccc261d63\n",
      "skip this text:  Sorta free wifi?\n"
     ]
    },
    {
     "name": "stderr",
     "output_type": "stream",
     "text": [
      " 91%|█████████▏| 273/299 [4:45:30<1:07:37, 156.05s/it]"
     ]
    },
    {
     "name": "stdout",
     "output_type": "stream",
     "text": [
      "error:  Error: unsupported text language: no, Code: 400 , X-global-transaction-id: 6e1c1abe-fd45-45cd-9cc0-6ea41df62d39\n",
      "try transelate\n",
      "error:  Error: unsupported text language: es, Code: 400 , X-global-transaction-id: cd13ec6c-166c-4af7-a44a-dc53e3844f90\n",
      "try transelate\n",
      "error:  Error: unsupported text language: it, Code: 400 , X-global-transaction-id: 5c3a3138-2b84-4035-be7c-a2369ad8cea9\n",
      "try transelate\n",
      "error:  Error: unsupported text language: es, Code: 400 , X-global-transaction-id: 3537cd1f-dd5c-4a60-bdad-f091b8ae34f5\n",
      "try transelate\n",
      "failed to transelate:  Error: unsupported text language: es, Code: 400 , X-global-transaction-id: db69eb03-47ae-4bd4-b35e-f296163018ef\n",
      "skip this text:  Estupendo hotel muy tranquilo\n",
      "error:  Error: unsupported text language: it, Code: 400 , X-global-transaction-id: 9610f63c-4efc-4b8c-b21c-b7fc8c12ba07\n",
      "try transelate\n",
      "error:  Error: unsupported text language: es, Code: 400 , X-global-transaction-id: e3517573-dc3a-4420-b8e1-d88b7cbae2d3\n",
      "try transelate\n",
      "error:  Error: unsupported text language: it, Code: 400 , X-global-transaction-id: 6de8224b-ece5-4bb0-80fe-ea5f5f63ea6e\n",
      "try transelate\n",
      "error:  Error: unsupported text language: de, Code: 400 , X-global-transaction-id: f3d7310a-ba47-4300-9bd9-6c99fe0121b9\n",
      "try transelate\n",
      "error:  Error: unsupported text language: it, Code: 400 , X-global-transaction-id: 7ee6135a-854a-4974-91ac-2407859fe65e\n",
      "try transelate\n",
      "error:  Error: unsupported text language: es, Code: 400 , X-global-transaction-id: cba54660-2660-423a-8ee4-85974212cf19\n",
      "try transelate\n",
      "error:  Error: unsupported text language: es, Code: 400 , X-global-transaction-id: 37ca4cf5-306e-494e-aa2e-e195e815a760\n",
      "try transelate\n",
      "error:  Error: unsupported text language: de, Code: 400 , X-global-transaction-id: 170c29a4-2b7f-4463-8261-ed98ff7b71a0\n",
      "try transelate\n",
      "error:  Error: unsupported text language: it, Code: 400 , X-global-transaction-id: 369042f7-cc50-4346-9f3e-bb9829e2bfac\n",
      "try transelate\n",
      "error:  Error: unsupported text language: de, Code: 400 , X-global-transaction-id: 53d50fe5-c1b0-43d5-a358-7aad5fd00744\n",
      "try transelate\n",
      "error:  Error: unsupported text language: es, Code: 400 , X-global-transaction-id: 5dc6cf5c-aa34-45f7-8fda-65019ef84c43\n",
      "try transelate\n",
      "error:  Error: unsupported text language: it, Code: 400 , X-global-transaction-id: 641c5b6e-9c97-48d5-beb9-1bf2ace91eec\n",
      "try transelate\n",
      "error:  Error: unsupported text language: es, Code: 400 , X-global-transaction-id: 1badb61a-7df3-4dd7-b834-8169463d4284\n",
      "try transelate\n"
     ]
    },
    {
     "name": "stderr",
     "output_type": "stream",
     "text": [
      " 92%|█████████▏| 274/299 [4:46:31<53:09, 127.57s/it]  "
     ]
    },
    {
     "name": "stdout",
     "output_type": "stream",
     "text": [
      "error:  Error: not enough text for language id, Code: 422 , X-global-transaction-id: e52dca16-bcc0-4b5d-8dc8-45964ac88867\n",
      "try transelate\n",
      "failed to transelate:  Error: Automatically detected source language is the same as target, cannot translate. Try to set the source language explicitly if you think the source language was not correctly detected, Code: 404 , X-global-transaction-id: ad55738e-853f-40cf-8497-0009fe9d3156\n",
      "skip this text:  Just work\n",
      "error:  Error: not enough text for language id, Code: 422 , X-global-transaction-id: eb8728d2-249a-4686-8b8d-d81bddf368ef\n",
      "try transelate\n",
      "failed to transelate:  Error: Unable to automatically detect the source language, confidence too low, Code: 404 , X-global-transaction-id: 08c71750-50cc-4ec9-86ef-03627d0ecc3b\n",
      "skip this text:  rude\n",
      "error:  Error: not enough text for language id, Code: 422 , X-global-transaction-id: d89e218e-7328-42c2-98b4-934454e0cb9c\n",
      "try transelate\n",
      "failed to transelate:  Error: Automatically detected source language is the same as target, cannot translate. Try to set the source language explicitly if you think the source language was not correctly detected, Code: 404 , X-global-transaction-id: 8df23a7b-172b-4157-ac38-336652e7afee\n",
      "skip this text:  Nice stay .\n"
     ]
    },
    {
     "name": "stderr",
     "output_type": "stream",
     "text": [
      " 92%|█████████▏| 275/299 [4:48:41<51:16, 128.17s/it]"
     ]
    },
    {
     "name": "stdout",
     "output_type": "stream",
     "text": [
      "error:  Error: unsupported text language: it, Code: 400 , X-global-transaction-id: 3dea579f-305e-4263-814c-4a5788b1811b\n",
      "try transelate\n",
      "failed to transelate:  Error: Unable to automatically detect the source language, confidence too low, Code: 404 , X-global-transaction-id: 42ba85d2-232c-4e99-b7c3-343ca347d40e\n",
      "skip this text:  MarathonOrlando\n",
      "error:  Error: unsupported text language: sv, Code: 400 , X-global-transaction-id: 49e05754-226a-4066-bc43-84b8871ebe84\n",
      "try transelate\n",
      "error:  Error: unsupported text language: es, Code: 400 , X-global-transaction-id: 59985880-c4c0-4193-b5b4-42bee90d3216\n",
      "try transelate\n",
      "error:  Error: not enough text for language id, Code: 422 , X-global-transaction-id: 99947778-1fdc-4120-98a5-417f6937691d\n",
      "try transelate\n",
      "failed to transelate:  Error: Automatically detected source language is the same as target, cannot translate. Try to set the source language explicitly if you think the source language was not correctly detected, Code: 404 , X-global-transaction-id: f5838c84-fff8-41c8-ab19-abf29a5ae8a9\n",
      "skip this text:  very nice\n",
      "error:  Error: not enough text for language id, Code: 422 , X-global-transaction-id: c1cbcaf9-28fb-403c-be6a-7171a4cf6fb6\n",
      "try transelate\n",
      "failed to transelate:  Error: Automatically detected source language is the same as target, cannot translate. Try to set the source language explicitly if you think the source language was not correctly detected, Code: 404 , X-global-transaction-id: 1fe10075-6c35-4c74-a6ec-5d0d61a5ce93\n",
      "skip this text:  very nice\n",
      "error:  Error: unsupported text language: es, Code: 400 , X-global-transaction-id: 866de860-d71e-45cb-a9dc-c724706d3c29\n",
      "try transelate\n",
      "failed to transelate:  Error: unsupported text language: es, Code: 400 , X-global-transaction-id: 6f76d4de-27e5-451b-99f7-11dffc68c1f1\n",
      "skip this text:  buenisimo todo!\n",
      "error:  Error: unsupported text language: de, Code: 400 , X-global-transaction-id: 7c746033-3e95-48e2-a8d6-93bfa80d3848\n",
      "try transelate\n",
      "error:  Error: unsupported text language: de, Code: 400 , X-global-transaction-id: 63402885-fcd3-4117-b3e8-a57ef0b2497c\n",
      "try transelate\n"
     ]
    },
    {
     "name": "stderr",
     "output_type": "stream",
     "text": [
      " 93%|█████████▎| 278/299 [4:51:35<27:05, 77.39s/it] "
     ]
    },
    {
     "name": "stdout",
     "output_type": "stream",
     "text": [
      "error:  Error: unsupported text language: unknown, Code: 400 , X-global-transaction-id: 9c195312-2a71-4741-bb41-d834057eb7ad\n",
      "try transelate\n",
      "failed to transelate:  Error: Unable to automatically detect the source language, confidence too low, Code: 404 , X-global-transaction-id: 5a2deac5-670b-4ba8-8175-2fd6c41814ff\n",
      "skip this text:  �������� �������� ���������� ���������� ������ �������� ������������ ....������ ���� ���������� ������ �������� ������������������ ������������ ������ ��������������\n",
      "error:  Error: not enough text for language id, Code: 422 , X-global-transaction-id: a5293fe9-a3f7-4870-91a5-a717667826d0\n",
      "try transelate\n",
      "failed to transelate:  Error: Automatically detected source language is the same as target, cannot translate. Try to set the source language explicitly if you think the source language was not correctly detected, Code: 404 , X-global-transaction-id: 41b6b871-7170-4f83-8184-b9d0ef173c40\n",
      "skip this text:  Free wifi.\n",
      "error:  Error: unsupported text language: es, Code: 400 , X-global-transaction-id: 031de664-f395-4e52-b2ee-04fd0bd16021\n",
      "try transelate\n"
     ]
    },
    {
     "name": "stderr",
     "output_type": "stream",
     "text": [
      " 94%|█████████▎| 280/299 [4:53:18<20:50, 65.82s/it]"
     ]
    },
    {
     "name": "stdout",
     "output_type": "stream",
     "text": [
      "error:  Error: unsupported text language: la, Code: 400 , X-global-transaction-id: 2cde4978-11d8-4600-8d2f-b057eeba823c\n",
      "try transelate\n",
      "failed to transelate:  Error: Unable to automatically detect the source language, confidence too low, Code: 404 , X-global-transaction-id: b13d05a8-0aa8-4de2-9fa0-7fdff2e6a972\n",
      "skip this text:  Quiet convenient.\n",
      "error:  Error: not enough text for language id, Code: 422 , X-global-transaction-id: eac5c751-f1da-4ec7-b334-6eec73fab4aa\n",
      "try transelate\n",
      "failed to transelate:  Error: Unable to automatically detect the source language, confidence too low, Code: 404 , X-global-transaction-id: fe8642f1-b044-4fde-b05c-1c9efdba15e2\n",
      "skip this text:  okay\n"
     ]
    },
    {
     "name": "stderr",
     "output_type": "stream",
     "text": [
      " 94%|█████████▍| 281/299 [4:54:18<19:13, 64.07s/it]"
     ]
    },
    {
     "name": "stdout",
     "output_type": "stream",
     "text": [
      "error:  Error: not enough text for language id, Code: 422 , X-global-transaction-id: aa582188-67b2-4b74-9896-ce4bc4347e1d\n",
      "try transelate\n",
      "failed to transelate:  Error: Automatically detected source language is the same as target, cannot translate. Try to set the source language explicitly if you think the source language was not correctly detected, Code: 404 , X-global-transaction-id: e0df59eb-4220-49d5-83ed-d86bac73f133\n",
      "skip this text:  very good\n"
     ]
    },
    {
     "name": "stderr",
     "output_type": "stream",
     "text": [
      " 94%|█████████▍| 282/299 [4:55:08<16:57, 59.88s/it]"
     ]
    },
    {
     "name": "stdout",
     "output_type": "stream",
     "text": [
      "error:  Error: unsupported text language: de, Code: 400 , X-global-transaction-id: 2e43177a-c029-4eb0-861b-3447ceeaf691\n",
      "try transelate\n",
      "error:  Error: unsupported text language: it, Code: 400 , X-global-transaction-id: d8a7c0fc-c2b6-4c0b-abc5-6184023d7bc4\n",
      "try transelate\n",
      "error:  Error: unsupported text language: de, Code: 400 , X-global-transaction-id: 710add34-df6c-42c5-9ef6-0a22c678a710\n",
      "try transelate\n",
      "error:  Error: unsupported text language: de, Code: 400 , X-global-transaction-id: c8bce7a5-e936-4ad2-91e9-9858cefd727b\n",
      "try transelate\n",
      "error:  Error: unsupported text language: de, Code: 400 , X-global-transaction-id: e2ace4f0-e5af-40e3-bd11-ec9c43d31353\n",
      "try transelate\n",
      "error:  Error: unsupported text language: de, Code: 400 , X-global-transaction-id: a35994a0-7542-4b5d-a195-3a34c88b177e\n",
      "try transelate\n",
      "error:  Error: unsupported text language: de, Code: 400 , X-global-transaction-id: dcbf2a5d-96c1-4c89-a3be-5bcad00dfd6c\n",
      "try transelate\n",
      "error:  Error: unsupported text language: pt, Code: 400 , X-global-transaction-id: f4948da6-4049-41b6-bd8f-02cc5425dd11\n",
      "try transelate\n",
      "error:  Error: unsupported text language: de, Code: 400 , X-global-transaction-id: 7c8c61fe-47da-48b0-880f-99cae386ac5a\n",
      "try transelate\n",
      "error:  Error: unsupported text language: de, Code: 400 , X-global-transaction-id: 06bdc47d-14b6-4ad7-bb2d-2966cf1c1ab6\n",
      "try transelate\n",
      "error:  Error: unsupported text language: de, Code: 400 , X-global-transaction-id: d93f30de-43d6-42b8-b888-938e585151be\n",
      "try transelate\n",
      "error:  Error: unsupported text language: de, Code: 400 , X-global-transaction-id: 83695786-d96b-49e5-bc76-7d4e28dc98f8\n",
      "try transelate\n",
      "error:  Error: unsupported text language: es, Code: 400 , X-global-transaction-id: e43a83e1-2a4d-4e16-aa49-f3c1ed5ba600\n",
      "try transelate\n",
      "error:  Error: unsupported text language: de, Code: 400 , X-global-transaction-id: 21664cf6-76a0-468d-bef7-140b7451d5c4\n",
      "try transelate\n",
      "error:  Error: unsupported text language: pt, Code: 400 , X-global-transaction-id: e29ed18a-fb74-4c99-8acc-9b109b83d828\n",
      "try transelate\n",
      "error:  Error: unsupported text language: de, Code: 400 , X-global-transaction-id: 4fbf6cb7-db12-4c8b-944d-23a44ae17f00\n",
      "try transelate\n",
      "error:  Error: unsupported text language: pt, Code: 400 , X-global-transaction-id: 0f05f934-c31f-4581-a31a-5b3d92b1c09a\n",
      "try transelate\n",
      "error:  Error: unsupported text language: es, Code: 400 , X-global-transaction-id: af2e4048-72de-4f8e-b293-ba1830e264dc\n",
      "try transelate\n",
      "error:  Error: unsupported text language: de, Code: 400 , X-global-transaction-id: 8b254763-7d7d-4c9e-85c0-9c977e330822\n",
      "try transelate\n",
      "error:  Error: unsupported text language: pt, Code: 400 , X-global-transaction-id: 3b1faf51-c7c5-4823-a528-dba2579ac6b9\n",
      "try transelate\n",
      "error:  Error: unsupported text language: pt, Code: 400 , X-global-transaction-id: 6c7e4648-9fb9-4dcf-8ea9-70155c132fd8\n",
      "try transelate\n",
      "error:  Error: unsupported text language: pt, Code: 400 , X-global-transaction-id: fde69a62-58e3-48bd-aaaa-1401f744cc0a\n",
      "try transelate\n",
      "error:  Error: unsupported text language: no, Code: 400 , X-global-transaction-id: a54b9806-8907-421a-8b8f-8029dae98c80\n",
      "try transelate\n",
      "error:  Error: unsupported text language: pt, Code: 400 , X-global-transaction-id: 1093c1fb-a5c9-4e9a-bb4c-3516eae76f0b\n",
      "try transelate\n",
      "error:  Error: unsupported text language: pt, Code: 400 , X-global-transaction-id: 4843d52e-48c1-4aa7-9b53-2ac026365de9\n",
      "try transelate\n",
      "error:  Error: unsupported text language: nl, Code: 400 , X-global-transaction-id: 26b34362-8e7c-4781-92de-7f8d6fa228e2\n",
      "try transelate\n",
      "error:  Error: unsupported text language: de, Code: 400 , X-global-transaction-id: 14e0b57a-6806-4475-868d-7e72ee81a457\n",
      "try transelate\n",
      "error:  Error: unsupported text language: es, Code: 400 , X-global-transaction-id: 0b8f215e-7dab-4e1c-bb38-f3a80eda9936\n",
      "try transelate\n",
      "error:  Error: unsupported text language: de, Code: 400 , X-global-transaction-id: 2ef976e4-2a82-421e-84b2-04b5e6aaaeb7\n",
      "try transelate\n",
      "error:  Error: unsupported text language: it, Code: 400 , X-global-transaction-id: a849f565-45e2-437a-b428-8cc2d8c6ac37\n",
      "try transelate\n",
      "error:  Error: unsupported text language: de, Code: 400 , X-global-transaction-id: d9593e6e-1031-4261-98e2-9ba86d40603f\n",
      "try transelate\n",
      "error:  Error: unsupported text language: nl, Code: 400 , X-global-transaction-id: 256e7aec-2503-4ab9-ad1a-4c7c06b0a211\n",
      "try transelate\n",
      "error:  Error: unsupported text language: de, Code: 400 , X-global-transaction-id: 49ebf183-09cf-4f36-b044-8cb7b2374d46\n",
      "try transelate\n",
      "error:  Error: unsupported text language: da, Code: 400 , X-global-transaction-id: 57013c97-44e8-4e28-ab54-cc78f133cf43\n",
      "try transelate\n",
      "error:  Error: not enough text for language id, Code: 422 , X-global-transaction-id: cb9561db-fe8d-4cce-8cee-ca683fc322d5\n",
      "try transelate\n",
      "failed to transelate:  Error: not enough text for language id, Code: 422 , X-global-transaction-id: 55a99021-226e-4689-bb73-7c199323e104\n",
      "skip this text:  gut\n",
      "error:  Error: unsupported text language: af, Code: 400 , X-global-transaction-id: 0a7a885f-bfec-4b37-ad7e-e15fc8632a87\n",
      "try transelate\n",
      "failed to transelate:  Error: Automatically detected source language is the same as target, cannot translate. Try to set the source language explicitly if you think the source language was not correctly detected, Code: 404 , X-global-transaction-id: cebb2cee-9b51-46d3-91aa-d31a67c582a2\n",
      "skip this text:  , , , TWINS BEDS,, ,\n",
      "error:  Error: unsupported text language: da, Code: 400 , X-global-transaction-id: d1392751-29c1-4728-8dce-9f77e326e363\n",
      "try transelate\n",
      "error:  Error: unsupported text language: da, Code: 400 , X-global-transaction-id: 833fd5d1-a7f4-4f46-8f41-bc47970d191f\n",
      "try transelate\n",
      "error:  Error: unsupported text language: pt, Code: 400 , X-global-transaction-id: 092a601c-99bf-4b66-8a76-df5e19635df0\n",
      "try transelate\n",
      "error:  Error: not enough text for language id, Code: 422 , X-global-transaction-id: 27c7e772-3c2a-442b-a993-253b0ae1a5f0\n",
      "try transelate\n",
      "failed to transelate:  Error: Unable to automatically detect the source language, confidence too low, Code: 404 , X-global-transaction-id: 6b66e2d2-6898-4687-8e5c-e1c9feb91fe3\n",
      "skip this text:  ()pizza..OK\n",
      "error:  Error: unsupported text language: nl, Code: 400 , X-global-transaction-id: 28e6d94d-42de-4325-bf4d-dc5bfd08e278\n",
      "try transelate\n",
      "error:  Error: unsupported text language: de, Code: 400 , X-global-transaction-id: 565ab9e9-7ec9-4d91-8ef5-3a57c3c5b0a5\n",
      "try transelate\n",
      "error:  Error: unsupported text language: da, Code: 400 , X-global-transaction-id: 040e1f5f-8a57-460c-9f63-aa4a7c18b17c\n",
      "try transelate\n",
      "error:  Error: unsupported text language: de, Code: 400 , X-global-transaction-id: 791ce52f-aeea-43a0-a58e-6872805323b1\n",
      "try transelate\n",
      "error:  Error: unsupported text language: de, Code: 400 , X-global-transaction-id: ea34bfca-6186-41f1-b0d1-e1c064416eb1\n",
      "try transelate\n",
      "error:  Error: unsupported text language: pt, Code: 400 , X-global-transaction-id: 80167e71-7ecd-43e9-9b6f-bf4684644757\n",
      "try transelate\n",
      "error:  Error: unsupported text language: es, Code: 400 , X-global-transaction-id: ef43cfde-9ec1-4393-a161-4f3c93385b31\n",
      "try transelate\n",
      "error:  Error: not enough text for language id, Code: 422 , X-global-transaction-id: d14f240e-a23a-4167-a9f2-291fa83787cb\n",
      "try transelate\n",
      "failed to transelate:  Error: Unable to automatically detect the source language, confidence too low, Code: 404 , X-global-transaction-id: 5687a162-4200-40b7-9a65-6a943becf5aa\n",
      "skip this text:  12\n",
      "error:  Error: not enough text for language id, Code: 422 , X-global-transaction-id: 460f7290-e074-4e46-9bbe-90ed74746c9b\n",
      "try transelate\n"
     ]
    },
    {
     "name": "stderr",
     "output_type": "stream",
     "text": [
      " 95%|█████████▍| 283/299 [4:57:48<23:57, 89.83s/it]"
     ]
    },
    {
     "name": "stdout",
     "output_type": "stream",
     "text": [
      "failed to transelate:  Error: Unable to automatically detect the source language, confidence too low, Code: 404 , X-global-transaction-id: 0304765c-43f8-4f16-8316-04c7ab20f4ac\n",
      "skip this text:  ...\n",
      "error:  Error: not enough text for language id, Code: 422 , X-global-transaction-id: f213b761-79f8-49f2-837b-9df78e3ff8f1\n",
      "try transelate\n",
      "failed to transelate:  Error: Automatically detected source language is the same as target, cannot translate. Try to set the source language explicitly if you think the source language was not correctly detected, Code: 404 , X-global-transaction-id: 741d0295-7b4d-4e9b-ad4b-66d9f0066c8e\n",
      "skip this text:  Very good\n"
     ]
    },
    {
     "name": "stderr",
     "output_type": "stream",
     "text": [
      " 95%|█████████▍| 284/299 [4:58:46<20:03, 80.25s/it]"
     ]
    },
    {
     "name": "stdout",
     "output_type": "stream",
     "text": [
      "error:  Error: not enough text for language id, Code: 422 , X-global-transaction-id: 60289dc4-cf48-40bd-ad3c-92f188bfa860\n",
      "try transelate\n",
      "failed to transelate:  Error: Automatically detected source language is the same as target, cannot translate. Try to set the source language explicitly if you think the source language was not correctly detected, Code: 404 , X-global-transaction-id: 2b1a3e70-eb7e-419c-a684-3f3a2a6740d9\n",
      "skip this text:  nice and clean\n",
      "error:  Error: not enough text for language id, Code: 422 , X-global-transaction-id: 6762bc53-86ca-45b6-b338-382d6b44bb79\n",
      "try transelate\n",
      "failed to transelate:  Error: Automatically detected source language is the same as target, cannot translate. Try to set the source language explicitly if you think the source language was not correctly detected, Code: 404 , X-global-transaction-id: 005903b9-d8fe-46f2-9462-3f727e2e6aed\n",
      "skip this text:  Comfortable.\n"
     ]
    },
    {
     "name": "stderr",
     "output_type": "stream",
     "text": [
      " 95%|█████████▌| 285/299 [4:59:34<16:28, 70.59s/it]"
     ]
    },
    {
     "name": "stdout",
     "output_type": "stream",
     "text": [
      "error:  Error: unsupported text language: es, Code: 400 , X-global-transaction-id: be330d87-cf56-46d0-a6dc-60a70073df6b\n",
      "try transelate\n",
      "error:  Error: unsupported text language: es, Code: 400 , X-global-transaction-id: 8c527e18-e7e8-4e0f-ada5-d3897a8203a2\n",
      "try transelate\n",
      "error:  Error: unsupported text language: es, Code: 400 , X-global-transaction-id: 3fea68e4-4ea2-4d33-baa5-6fe35cde7ee7\n",
      "try transelate\n",
      "error:  Error: unsupported text language: es, Code: 400 , X-global-transaction-id: d9537243-a6b0-4cb1-9ad4-4541a682454d\n",
      "try transelate\n",
      "error:  Error: unsupported text language: es, Code: 400 , X-global-transaction-id: 94d8f5b9-2b6a-4c51-a1f6-588a856759f4\n",
      "try transelate\n",
      "error:  Error: unsupported text language: es, Code: 400 , X-global-transaction-id: a4454e7c-47bf-4d7f-8e2e-c37d8242e666\n",
      "try transelate\n",
      "error:  Error: not enough text for language id, Code: 422 , X-global-transaction-id: e548626a-9b20-4f2c-ac68-415ae0c7e6ab\n",
      "try transelate\n",
      "failed to transelate:  Error: Unable to automatically detect the source language, confidence too low, Code: 404 , X-global-transaction-id: afb31811-d4e7-46f9-aa3e-578f709627d7\n",
      "skip this text:  Excelente\n",
      "error:  Error: unsupported text language: es, Code: 400 , X-global-transaction-id: 791c02a6-5b02-49a7-b561-fc6b0810c0fb\n",
      "try transelate\n",
      "error:  Error: unsupported text language: es, Code: 400 , X-global-transaction-id: 0adab709-37cc-4673-bf06-10dd947bb954\n",
      "try transelate\n",
      "error:  Error: unsupported text language: es, Code: 400 , X-global-transaction-id: f3fe9805-34ba-4a22-91d7-4bb3b5280dd9\n",
      "try transelate\n",
      "error:  Error: unsupported text language: es, Code: 400 , X-global-transaction-id: 4823e2c5-e50e-4505-8181-b3dfa93e5625\n",
      "try transelate\n",
      "error:  Error: unsupported text language: es, Code: 400 , X-global-transaction-id: 65c278ff-ec88-478b-9b4f-98234701618d\n",
      "try transelate\n",
      "error:  Error: unsupported text language: es, Code: 400 , X-global-transaction-id: 363f45d4-da58-44cd-85c1-325002151595\n",
      "try transelate\n",
      "error:  Error: unsupported text language: es, Code: 400 , X-global-transaction-id: 6b39d9af-5bda-414c-af77-d1d2f9e3f81b\n",
      "try transelate\n",
      "error:  Error: unsupported text language: es, Code: 400 , X-global-transaction-id: fb5d9f2e-3e18-4d2e-82a9-b173b2ea61d4\n",
      "try transelate\n",
      "error:  Error: unsupported text language: es, Code: 400 , X-global-transaction-id: eed043f9-d4f2-46d5-b88d-c9683c25bc3f\n",
      "try transelate\n",
      "error:  Error: unsupported text language: es, Code: 400 , X-global-transaction-id: 4d3d7f85-c349-4ed6-958c-2785273d57bb\n",
      "try transelate\n",
      "error:  Error: unsupported text language: es, Code: 400 , X-global-transaction-id: 2573e944-fcae-4b41-9b73-67ef0b64f66e\n",
      "try transelate\n",
      "error:  Error: unsupported text language: es, Code: 400 , X-global-transaction-id: b3378877-c719-494a-9be4-01a03c3ceee5\n",
      "try transelate\n",
      "error:  Error: unsupported text language: es, Code: 400 , X-global-transaction-id: 659aff5c-640c-4462-884a-0866a5ee89b5\n",
      "try transelate\n",
      "error:  Error: unsupported text language: es, Code: 400 , X-global-transaction-id: 26dc2e05-6093-472f-83aa-b6cbcde174e5\n",
      "try transelate\n",
      "error:  Error: unsupported text language: es, Code: 400 , X-global-transaction-id: add25682-83bd-4c31-b194-0abe5d5b40d3\n",
      "try transelate\n",
      "error:  Error: not enough text for language id, Code: 422 , X-global-transaction-id: 4e2e34b6-09f8-499e-8d78-d0ba8c23b750\n",
      "try transelate\n",
      "failed to transelate:  Error: not enough text for language id, Code: 422 , X-global-transaction-id: 0500c2a3-71d6-4bd5-b206-5fae0c41f78b\n",
      "skip this text:  MUY BIEN\n",
      "error:  Error: unsupported text language: es, Code: 400 , X-global-transaction-id: c282e564-1313-40ba-b2e1-8f70e2f28bbb\n",
      "try transelate\n",
      "error:  Error: unsupported text language: es, Code: 400 , X-global-transaction-id: bfeb311b-4cdc-41f5-8b87-8f492f539f11\n",
      "try transelate\n",
      "error:  Error: unsupported text language: es, Code: 400 , X-global-transaction-id: cef7ee98-7d45-4674-b7c8-b5f291b74d3b\n",
      "try transelate\n",
      "error:  Error: unsupported text language: es, Code: 400 , X-global-transaction-id: ba722fbe-6727-402a-9633-3776c05543b3\n",
      "try transelate\n",
      "error:  Error: unsupported text language: es, Code: 400 , X-global-transaction-id: 6b7a3cbc-d070-4d4c-ae5b-ec43dc1bc6c5\n",
      "try transelate\n",
      "error:  Error: unsupported text language: ro, Code: 400 , X-global-transaction-id: b98cf756-103b-4330-9798-32ec76105d1f\n",
      "try transelate\n",
      "error:  Error: unsupported text language: es, Code: 400 , X-global-transaction-id: c5c59c5f-0c7a-4ff0-a58b-f978c87f3154\n",
      "try transelate\n",
      "error:  Error: unsupported text language: es, Code: 400 , X-global-transaction-id: e8cd7f59-80a6-4a03-9bf7-0b75ba845276\n",
      "try transelate\n",
      "error:  Error: unsupported text language: es, Code: 400 , X-global-transaction-id: d42243ec-7128-4ca5-a4cf-dcc18bf2b274\n",
      "try transelate\n",
      "error:  Error: not enough text for language id, Code: 422 , X-global-transaction-id: 2c7f8351-de74-479c-afd4-9e883d5ffdf5\n",
      "try transelate\n",
      "failed to transelate:  Error: not enough text for language id, Code: 422 , X-global-transaction-id: 88f3e450-bcb1-4c7d-92b5-9d89b2ba6f57\n",
      "skip this text:  Bueno\n",
      "error:  Error: unsupported text language: es, Code: 400 , X-global-transaction-id: c651f79d-713f-4a83-9b88-7a564f00180a\n",
      "try transelate\n",
      "failed to transelate:  Error: not enough text for language id, Code: 422 , X-global-transaction-id: 75aa691d-3624-4ab1-b80c-ca5c3513f2ea\n",
      "skip this text:  todo bien\n",
      "error:  Error: unsupported text language: es, Code: 400 , X-global-transaction-id: c99131e7-63a0-46ab-a82e-ab93b0bc113a\n",
      "try transelate\n"
     ]
    },
    {
     "name": "stderr",
     "output_type": "stream",
     "text": [
      " 96%|█████████▋| 288/299 [5:02:24<10:00, 54.59s/it]"
     ]
    },
    {
     "name": "stdout",
     "output_type": "stream",
     "text": [
      "error:  Error: unsupported text language: unknown, Code: 400 , X-global-transaction-id: 31b667a8-724d-44cf-ae0b-e56b7088ce10\n",
      "try transelate\n",
      "failed to transelate:  Error: Unable to automatically detect the source language, confidence too low, Code: 404 , X-global-transaction-id: ee6105d0-6789-4f4b-97d4-9d1d9e4287a8\n",
      "skip this text:  ������������ ���� ��������, ������������ �������������������� ���� �������� ����������,���� ���� ��������-�������������� ��������.�������� ������������,2 ����������������.�� ���������������� ������-���� ������������)���� ������������,����������������������\n",
      "error:  Error: unsupported text language: pt, Code: 400 , X-global-transaction-id: 4a89931d-84fa-4145-9942-66d3f7029de1\n",
      "try transelate\n",
      "error:  Error: not enough text for language id, Code: 422 , X-global-transaction-id: 3dc4875e-167f-47ec-a26d-cfe34a8ee247\n",
      "try transelate\n",
      "failed to transelate:  Error: Automatically detected source language is the same as target, cannot translate. Try to set the source language explicitly if you think the source language was not correctly detected, Code: 404 , X-global-transaction-id: 639c7765-a277-400f-afbd-fb1eee812a9f\n",
      "skip this text:  Good\n",
      "error:  Error: unsupported text language: es, Code: 400 , X-global-transaction-id: 600b168e-4400-4ff8-8607-75389bebaed5\n",
      "try transelate\n",
      "error:  Error: unsupported text language: unknown, Code: 400 , X-global-transaction-id: 8e5b52d5-b48a-4195-8eeb-90af6a252d6b\n",
      "try transelate\n",
      "failed to transelate:  Error: Unable to automatically detect the source language, confidence too low, Code: 404 , X-global-transaction-id: 3d469e0b-b1a3-4272-817c-17e1b84d893d\n",
      "skip this text:  10+ ������������������������\n",
      "error:  Error: unsupported text language: es, Code: 400 , X-global-transaction-id: 51baa8a8-8397-47d8-911c-fe9c2914b236\n",
      "try transelate\n",
      "error:  Error: unsupported text language: pt, Code: 400 , X-global-transaction-id: 93bc0453-c9e7-42f5-bee4-db03fa842060\n",
      "try transelate\n",
      "error:  Error: unsupported text language: es, Code: 400 , X-global-transaction-id: acd42b26-bf40-4da0-b7ea-168578ab4f18\n",
      "try transelate\n",
      "error:  Error: unsupported text language: ru, Code: 400 , X-global-transaction-id: e3b38b47-4eee-4f2e-bdfb-367798cfc7af\n",
      "try transelate\n",
      "error:  Error: unsupported text language, Code: 400 , X-global-transaction-id: e3aa2a69-379e-416c-97ca-37f1049341b3\n",
      "try transelate\n",
      "failed to transelate:  Error: Unable to automatically detect the source language, confidence too low, Code: 404 , X-global-transaction-id: 948b353f-578f-4b7d-8380-c64562cd106a\n",
      "skip this text:  10+ ❤️❤️❤️❤️\n",
      "error:  Error: unsupported text language: pt, Code: 400 , X-global-transaction-id: 75bc55fa-e6aa-4b2f-b875-ba4c895af331\n",
      "try transelate\n",
      "error:  Error: unsupported text language: es, Code: 400 , X-global-transaction-id: 2d3834f9-b782-435b-ba96-c14c132d07cb\n",
      "try transelate\n",
      "error:  Error: unsupported text language: pt, Code: 400 , X-global-transaction-id: 158316f9-2deb-413d-b485-12a1889925e2\n",
      "try transelate\n",
      "error:  Error: unsupported text language: pt, Code: 400 , X-global-transaction-id: 9b625551-f9a0-41b9-b15b-7dd27b45e083\n",
      "try transelate\n",
      "error:  Error: unsupported text language: pt, Code: 400 , X-global-transaction-id: b79ddfae-2ea8-4b5f-8004-a034bf6b30e9\n",
      "try transelate\n",
      "error:  Error: unsupported text language: es, Code: 400 , X-global-transaction-id: 1a10bc51-a2d4-448f-a4aa-3a0cff7fc9f8\n",
      "try transelate\n",
      "error:  Error: unsupported text language: es, Code: 400 , X-global-transaction-id: 68d36e29-50d1-4bd3-9498-83c26f4b1be4\n",
      "try transelate\n"
     ]
    },
    {
     "name": "stderr",
     "output_type": "stream",
     "text": [
      " 97%|█████████▋| 289/299 [5:03:56<10:58, 65.83s/it]"
     ]
    },
    {
     "name": "stdout",
     "output_type": "stream",
     "text": [
      "error:  Error: not enough text for language id, Code: 422 , X-global-transaction-id: a3d7238e-b7bc-491f-af22-143c0dd2ce28\n",
      "try transelate\n",
      "failed to transelate:  Error: Automatically detected source language is the same as target, cannot translate. Try to set the source language explicitly if you think the source language was not correctly detected, Code: 404 , X-global-transaction-id: 935d4d9b-5b92-42f4-909f-943c21f9ba79\n",
      "skip this text:  Great\n"
     ]
    },
    {
     "name": "stderr",
     "output_type": "stream",
     "text": [
      " 97%|█████████▋| 290/299 [5:04:44<09:04, 60.49s/it]"
     ]
    },
    {
     "name": "stdout",
     "output_type": "stream",
     "text": [
      "error:  Error: not enough text for language id, Code: 422 , X-global-transaction-id: 90993eca-c062-4e19-80f2-6cd1fe374fe2\n",
      "try transelate\n",
      "failed to transelate:  Error: Unable to automatically detect the source language, confidence too low, Code: 404 , X-global-transaction-id: e66e90e2-8840-45d8-a2c4-8ed9308c3b44\n",
      "skip this text:  , , ,\n",
      "error:  Error: not enough text for language id, Code: 422 , X-global-transaction-id: a4b992bc-251d-40a4-be73-74347d9161f5\n",
      "try transelate\n",
      "failed to transelate:  Error: Unable to automatically detect the source language, confidence too low, Code: 404 , X-global-transaction-id: 9e1275a5-e1b4-45cc-92ff-578c06184532\n",
      "skip this text:  Ras\n",
      "error:  Error: not enough text for language id, Code: 422 , X-global-transaction-id: 544b880e-052b-4c65-be10-c35fa7d83d5c\n",
      "try transelate\n",
      "failed to transelate:  Error: Unable to automatically detect the source language, confidence too low, Code: 404 , X-global-transaction-id: c6aa19f1-2d2a-48ce-baa4-7f85b83e7e32\n",
      "skip this text:  Ras\n",
      "error:  Error: unsupported text language: da, Code: 400 , X-global-transaction-id: 0507f4f4-51d9-4f3a-ad2e-d93326ae2b35\n",
      "try transelate\n",
      "error:  Error: unsupported text language: de, Code: 400 , X-global-transaction-id: 42c6716c-a988-45ba-82fe-2eed6c29e97b\n",
      "try transelate\n"
     ]
    },
    {
     "name": "stderr",
     "output_type": "stream",
     "text": [
      " 97%|█████████▋| 291/299 [5:05:24<07:13, 54.23s/it]"
     ]
    },
    {
     "name": "stdout",
     "output_type": "stream",
     "text": [
      "error:  Error: not enough text for language id, Code: 422 , X-global-transaction-id: 97a33846-8452-42c6-af1a-17485015a7fb\n",
      "try transelate\n",
      "failed to transelate:  Error: Automatically detected source language is the same as target, cannot translate. Try to set the source language explicitly if you think the source language was not correctly detected, Code: 404 , X-global-transaction-id: 3b176ea9-93d8-4733-a890-613c9bf39431\n",
      "skip this text:  Not impressed.\n"
     ]
    },
    {
     "name": "stderr",
     "output_type": "stream",
     "text": [
      " 98%|█████████▊| 292/299 [5:06:13<06:10, 52.86s/it]"
     ]
    },
    {
     "name": "stdout",
     "output_type": "stream",
     "text": [
      "error:  Error: not enough text for language id, Code: 422 , X-global-transaction-id: 956c03cb-6952-4f1b-a78c-f268e51f0842\n",
      "try transelate\n",
      "failed to transelate:  Error: Automatically detected source language is the same as target, cannot translate. Try to set the source language explicitly if you think the source language was not correctly detected, Code: 404 , X-global-transaction-id: 0929a0ae-7a4b-4620-ad83-95d716519f91\n",
      "skip this text:  very good\n",
      "error:  Error: not enough text for language id, Code: 422 , X-global-transaction-id: 17144f38-5f44-48bb-90ca-86a680ccddd3\n",
      "try transelate\n",
      "failed to transelate:  Error: Automatically detected source language is the same as target, cannot translate. Try to set the source language explicitly if you think the source language was not correctly detected, Code: 404 , X-global-transaction-id: ab27cbab-9f49-476a-9e6c-3a9f62c6b626\n",
      "skip this text:  very nice\n",
      "error:  Error: not enough text for language id, Code: 422 , X-global-transaction-id: d907b248-c5d1-4bfb-ad9b-2ff7c4ecdf22\n",
      "try transelate\n",
      "failed to transelate:  Error: Unable to automatically detect the source language, confidence too low, Code: 404 , X-global-transaction-id: 98270f04-d790-4a46-8fc9-d768f455a42e\n",
      "skip this text:  Brilliant\n",
      "error:  Error: not enough text for language id, Code: 422 , X-global-transaction-id: 159ef366-f671-4d65-a374-118182003e19\n",
      "try transelate\n",
      "failed to transelate:  Error: Unable to automatically detect the source language, confidence too low, Code: 404 , X-global-transaction-id: a02953e8-09ac-4599-aaea-0c84bc826ec6\n",
      "skip this text:  Super place,\n"
     ]
    },
    {
     "name": "stderr",
     "output_type": "stream",
     "text": [
      " 98%|█████████▊| 293/299 [5:06:55<04:57, 49.52s/it]"
     ]
    },
    {
     "name": "stdout",
     "output_type": "stream",
     "text": [
      "error:  Error: unsupported text language: no, Code: 400 , X-global-transaction-id: 4fa191ac-6f3a-4b38-a55d-427309d21f79\n",
      "try transelate\n",
      "error:  Error: unsupported text language: es, Code: 400 , X-global-transaction-id: 498b5e6d-e3db-4234-ac4b-c408f97b0fdc\n",
      "try transelate\n"
     ]
    },
    {
     "name": "stderr",
     "output_type": "stream",
     "text": [
      " 98%|█████████▊| 294/299 [5:07:25<03:37, 43.57s/it]"
     ]
    },
    {
     "name": "stdout",
     "output_type": "stream",
     "text": [
      "error:  Error: unsupported text language: mt, Code: 400 , X-global-transaction-id: da6cd605-d065-4099-a83f-04fb4856d768\n",
      "try transelate\n"
     ]
    },
    {
     "name": "stderr",
     "output_type": "stream",
     "text": [
      " 99%|█████████▊| 295/299 [5:07:26<02:03, 30.85s/it]"
     ]
    },
    {
     "name": "stdout",
     "output_type": "stream",
     "text": [
      "failed to transelate:  Error: Unable to automatically detect the source language, confidence too low, Code: 404 , X-global-transaction-id: daddadef-de85-48f8-a4fc-cce597ac4ea4\n",
      "skip this text:  xxxxxxxxxxxxxxxxxxxxxxxxxxxxxxxxxxxxxxxxxx\n",
      "error:  Error: not enough text for language id, Code: 422 , X-global-transaction-id: d7bad9d3-83fd-4664-ad1a-8a6e40cfc496\n",
      "try transelate\n",
      "failed to transelate:  Error: Automatically detected source language is the same as target, cannot translate. Try to set the source language explicitly if you think the source language was not correctly detected, Code: 404 , X-global-transaction-id: 580e5e5b-1c8b-4e56-8302-d8fbf62b1873\n",
      "skip this text:  Awesome\n"
     ]
    },
    {
     "name": "stderr",
     "output_type": "stream",
     "text": [
      " 99%|█████████▉| 296/299 [5:08:23<01:56, 38.73s/it]"
     ]
    },
    {
     "name": "stdout",
     "output_type": "stream",
     "text": [
      "error:  Error: not enough text for language id, Code: 422 , X-global-transaction-id: 30ab34b9-36b5-4bcb-888e-af9c4683c83e\n",
      "try transelate\n",
      "failed to transelate:  Error: Automatically detected source language is the same as target, cannot translate. Try to set the source language explicitly if you think the source language was not correctly detected, Code: 404 , X-global-transaction-id: a72ae174-d5e9-431e-9ef1-eb27a0f0ab24\n",
      "skip this text:  Good stay\n",
      "error:  Error: not enough text for language id, Code: 422 , X-global-transaction-id: 12ac1e68-7aae-4852-aa68-a24f317a648d\n",
      "try transelate\n",
      "failed to transelate:  Error: Automatically detected source language is the same as target, cannot translate. Try to set the source language explicitly if you think the source language was not correctly detected, Code: 404 , X-global-transaction-id: 8c32554b-a945-493e-8f47-fa7bf1ddcb2a\n",
      "skip this text:  Excellent stay\n"
     ]
    },
    {
     "name": "stderr",
     "output_type": "stream",
     "text": [
      "100%|█████████▉| 298/299 [5:09:46<00:39, 39.91s/it]"
     ]
    },
    {
     "name": "stdout",
     "output_type": "stream",
     "text": [
      "error:  Error: unsupported text language: es, Code: 400 , X-global-transaction-id: f6531585-203b-4af4-8d53-0b8d21bd1e75\n",
      "try transelate\n",
      "error:  Error: unsupported text language: es, Code: 400 , X-global-transaction-id: 31fdddf7-6f34-49dd-9fd4-ef0ab1ac1ca0\n",
      "try transelate\n"
     ]
    },
    {
     "name": "stderr",
     "output_type": "stream",
     "text": [
      "100%|██████████| 299/299 [5:10:50<00:00, 62.38s/it]\n"
     ]
    }
   ],
   "source": [
    "# dataset = dataset[~dataset['reviews.text'].isnull()]\n",
    "# hotel_names = dataset.name.unique()\n",
    "# hotel_review = dict()\n",
    "# for hotel in tqdm(hotel_names):\n",
    "#     reviews = dataset[dataset.name == hotel]['reviews.text'].values\n",
    "#     rates = []\n",
    "#     for review in reviews:\n",
    "#         try:\n",
    "#             emotion = get_single_emotion(review)\n",
    "#             rates.append(emotion)\n",
    "#         except Exception as e:\n",
    "#             print(\"error: \", e)\n",
    "#             print(\"try transelate\")\n",
    "#             try:\n",
    "#                 trans = get_transelation(review)\n",
    "#                 emotion = get_single_emotion(trans)\n",
    "#                 rates.append(emotion)\n",
    "#             except Exception as e:\n",
    "#                 print(\"failed to transelate: \", e)\n",
    "#                 print('skip this text: ', review)\n",
    "#     hotel_review[hotel] = rates\n",
    "\n",
    "# json.dump(hotel_review, open(\"h_r.json\", 'w'))"
   ]
  },
  {
   "cell_type": "code",
   "execution_count": 26,
   "metadata": {},
   "outputs": [],
   "source": [
    "# norm_hotel_reviews = dict()\n",
    "# emotions = {'sadness': 0, 'joy': 0, 'fear': 0, 'disgust': 0, 'anger': 0}\n",
    "# i = 0\n",
    "# for name, reviews in hotel_review.items():\n",
    "#     total_emotions = {'sadness': [], 'joy': [], 'fear': [], 'disgust': [], 'anger': []}\n",
    "#     for rev in reviews:\n",
    "#         for k, v in rev.items():\n",
    "#             total_emotions[k].append(v)\n",
    "#     # print(total_emotions)\n",
    "#     if len(total_emotions[\"sadness\"]) > 0:\n",
    "#         norm_hotel_reviews[name] = {\n",
    "#             'sadness': sum(total_emotions[\"sadness\"]) / len(total_emotions[\"sadness\"]),\n",
    "#             'joy': sum(total_emotions[\"joy\"]) / len(total_emotions[\"joy\"]),\n",
    "#             'fear': sum(total_emotions[\"fear\"]) / len(total_emotions[\"fear\"]),\n",
    "#             'disgust': sum(total_emotions[\"disgust\"]) / len(total_emotions[\"disgust\"]), \n",
    "#             'anger': sum(total_emotions[\"anger\"]) / len(total_emotions[\"anger\"])\n",
    "#             }\n",
    "#     else:\n",
    "#         norm_hotel_reviews[name] = {'sadness': 0, 'joy': 0, 'fear': 0, 'disgust': 0, 'anger': 0}\n",
    "\n",
    "# # print(norm_hotel_reviews)"
   ]
  },
  {
   "cell_type": "code",
   "execution_count": null,
   "metadata": {},
   "outputs": [],
   "source": [
    "# json.dump(norm_hotel_reviews, open(\"n_h_r.json\", 'w'))"
   ]
  },
  {
   "cell_type": "code",
   "execution_count": 1,
   "metadata": {},
   "outputs": [
    {
     "name": "stdout",
     "output_type": "stream",
     "text": [
      "{\n",
      "  \"name\" : \"dlsCKY5\",\n",
      "  \"cluster_name\" : \"elasticsearch\",\n",
      "  \"cluster_uuid\" : \"b3uWzlZ7SmmXn26EOY0E6w\",\n",
      "  \"version\" : {\n",
      "    \"number\" : \"6.8.23\",\n",
      "    \"build_flavor\" : \"default\",\n",
      "    \"build_type\" : \"deb\",\n",
      "    \"build_hash\" : \"4f67856\",\n",
      "    \"build_date\" : \"2022-01-06T21:30:50.087716Z\",\n",
      "    \"build_snapshot\" : false,\n",
      "    \"lucene_version\" : \"7.7.3\",\n",
      "    \"minimum_wire_compatibility_version\" : \"5.6.0\",\n",
      "    \"minimum_index_compatibility_version\" : \"5.0.0\"\n",
      "  },\n",
      "  \"tagline\" : \"You Know, for Search\"\n",
      "}\n",
      "\n"
     ]
    }
   ],
   "source": [
    "import requests\n",
    "\n",
    "url = \"http://localhost:9200\"\n",
    "\n",
    "payload={}\n",
    "headers = {}\n",
    "\n",
    "response = requests.request(\"GET\", url, headers=headers, data=payload)\n",
    "\n",
    "print(response.text)"
   ]
  },
  {
   "cell_type": "code",
   "execution_count": 9,
   "metadata": {},
   "outputs": [
    {
     "name": "stdout",
     "output_type": "stream",
     "text": [
      "{\"_index\":\"logs\",\"_type\":\"my_app\",\"_id\":\"3C6Bp38BEHVcE57FUlc9\",\"_version\":1,\"result\":\"created\",\"_shards\":{\"total\":2,\"successful\":1,\"failed\":0},\"_seq_no\":0,\"_primary_term\":1}\n"
     ]
    }
   ],
   "source": [
    "import requests\n",
    "import json\n",
    "\n",
    "url = \"http://localhost:9200/logs/my_app\"\n",
    "\n",
    "payload = json.dumps({\n",
    "  \"timestamp\": \"2018-01-24 12:34:56\",\n",
    "  \"message\": \"User logged in\",\n",
    "  \"user_id\": 3,\n",
    "  \"admin\": False\n",
    "})\n",
    "headers = {\n",
    "  'Content-Type': 'application/json'\n",
    "}\n",
    "\n",
    "response = requests.request(\"POST\", url, headers=headers, data=payload)\n",
    "\n",
    "print(response.text)"
   ]
  },
  {
   "cell_type": "code",
   "execution_count": 11,
   "metadata": {},
   "outputs": [
    {
     "name": "stdout",
     "output_type": "stream",
     "text": [
      "{\"took\":59,\"timed_out\":false,\"_shards\":{\"total\":5,\"successful\":5,\"skipped\":0,\"failed\":0},\"hits\":{\"total\":3,\"max_score\":0.2876821,\"hits\":[{\"_index\":\"logs\",\"_type\":\"my_app\",\"_id\":\"3C6Bp38BEHVcE57FUlc9\",\"_score\":0.2876821,\"_source\":{\"timestamp\": \"2018-01-24 12:34:56\", \"message\": \"User logged in\", \"user_id\": 3, \"admin\": false}},{\"_index\":\"logs\",\"_type\":\"my_app\",\"_id\":\"2i5gp38BEHVcE57FAled\",\"_score\":0.18232156,\"_source\":\n",
      "{\n",
      "\"timestamp\": \"2018-01-24 12:34:56\",\n",
      "\"message\": \"User logged in\",\n",
      "\"user_id\": 4,\n",
      "\"admin\": false\n",
      "}\n",
      "},{\"_index\":\"logs\",\"_type\":\"my_app\",\"_id\":\"2y5lp38BEHVcE57FaVcW\",\"_score\":0.18232156,\"_source\":{\"timestamp\": \"2018-01-24 12:34:56\", \"message\": \"User logged in\", \"user_id\": 4, \"admin\": false}}]}}\n"
     ]
    }
   ],
   "source": [
    "import requests\n",
    "import json\n",
    "\n",
    "url = \"http://localhost:9200/_search?q=logged@pretty\"\n",
    "\n",
    "payload={}\n",
    "headers = {\n",
    "  'Content-Type': 'application/json'\n",
    "}\n",
    "\n",
    "response = requests.request(\"GET\", url, headers=headers, data=payload)\n",
    "\n",
    "print(response.text)\n"
   ]
  },
  {
   "cell_type": "code",
   "execution_count": 6,
   "metadata": {},
   "outputs": [],
   "source": [
    "hotels_raws = dataset.drop_duplicates(subset='name', keep='first')\n",
    "hotels_raws = hotels_raws[[\"address\", \"categories\", \"city\", \"country\", \"latitude\", \"longitude\", \"name\", \"postalCode\", \"province\"]]"
   ]
  },
  {
   "cell_type": "code",
   "execution_count": 8,
   "metadata": {},
   "outputs": [],
   "source": [
    "import json\n",
    "n_h_r = json.load(open('n_h_r.json', 'r'))\n",
    "reviews = []\n",
    "for name in hotels_raws[\"name\"]:\n",
    "    reviews.append(n_h_r[name])"
   ]
  },
  {
   "cell_type": "code",
   "execution_count": 9,
   "metadata": {},
   "outputs": [],
   "source": [
    "hotels_raws['reviews.tone'] = reviews"
   ]
  },
  {
   "cell_type": "code",
   "execution_count": 10,
   "metadata": {},
   "outputs": [],
   "source": [
    "hotels_raws.to_csv(\"hotel_dataset.csv\")"
   ]
  },
  {
   "cell_type": "code",
   "execution_count": null,
   "metadata": {},
   "outputs": [],
   "source": []
  }
 ],
 "metadata": {
  "interpreter": {
   "hash": "4a3f025bb084ce6aa803859429c654d07f6bc83b6eefeda0efd32a020284209b"
  },
  "kernelspec": {
   "display_name": "Python 3.8.8 ('n2n')",
   "language": "python",
   "name": "python3"
  },
  "language_info": {
   "codemirror_mode": {
    "name": "ipython",
    "version": 3
   },
   "file_extension": ".py",
   "mimetype": "text/x-python",
   "name": "python",
   "nbconvert_exporter": "python",
   "pygments_lexer": "ipython3",
   "version": "3.7.11"
  },
  "orig_nbformat": 4
 },
 "nbformat": 4,
 "nbformat_minor": 2
}
